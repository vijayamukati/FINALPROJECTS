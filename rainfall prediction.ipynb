{
 "cells": [
  {
   "cell_type": "code",
   "execution_count": 51,
   "id": "1277d2ff",
   "metadata": {},
   "outputs": [],
   "source": [
    "import pandas as pd\n",
    "import numpy as np\n",
    "from numpy import array\n",
    "from sklearn.preprocessing import StandardScaler\n",
    "from sklearn.model_selection import GridSearchCV\n",
    "from sklearn.preprocessing import LabelEncoder,OrdinalEncoder\n",
    "from sklearn.model_selection import  train_test_split, cross_val_score\n",
    "from sklearn.linear_model import LogisticRegression \n",
    "from sklearn.neighbors import KNeighborsClassifier\n",
    "from sklearn.ensemble import RandomForestClassifier\n",
    "from sklearn.tree import DecisionTreeClassifier\n",
    "from sklearn.svm import SVC \n",
    "from sklearn.model_selection import GridSearchCV\n",
    "from sklearn.preprocessing import power_transform\n",
    "from sklearn.model_selection import  train_test_split, cross_val_score\n",
    "from sklearn.metrics import accuracy_score,confusion_matrix,roc_curve,roc_auc_score,classification_report\n",
    "from sklearn.metrics import plot_roc_curve\n",
    "import matplotlib.pyplot as plt\n",
    "import seaborn as sns\n",
    "import pickle\n",
    "import warnings\n",
    "warnings.filterwarnings('ignore')"
   ]
  },
  {
   "cell_type": "code",
   "execution_count": 52,
   "id": "9e88e3b2",
   "metadata": {},
   "outputs": [
    {
     "data": {
      "text/html": [
       "<div>\n",
       "<style scoped>\n",
       "    .dataframe tbody tr th:only-of-type {\n",
       "        vertical-align: middle;\n",
       "    }\n",
       "\n",
       "    .dataframe tbody tr th {\n",
       "        vertical-align: top;\n",
       "    }\n",
       "\n",
       "    .dataframe thead th {\n",
       "        text-align: right;\n",
       "    }\n",
       "</style>\n",
       "<table border=\"1\" class=\"dataframe\">\n",
       "  <thead>\n",
       "    <tr style=\"text-align: right;\">\n",
       "      <th></th>\n",
       "      <th>Date</th>\n",
       "      <th>Location</th>\n",
       "      <th>MinTemp</th>\n",
       "      <th>MaxTemp</th>\n",
       "      <th>Rainfall</th>\n",
       "      <th>Evaporation</th>\n",
       "      <th>Sunshine</th>\n",
       "      <th>WindGustDir</th>\n",
       "      <th>WindGustSpeed</th>\n",
       "      <th>WindDir9am</th>\n",
       "      <th>...</th>\n",
       "      <th>Humidity9am</th>\n",
       "      <th>Humidity3pm</th>\n",
       "      <th>Pressure9am</th>\n",
       "      <th>Pressure3pm</th>\n",
       "      <th>Cloud9am</th>\n",
       "      <th>Cloud3pm</th>\n",
       "      <th>Temp9am</th>\n",
       "      <th>Temp3pm</th>\n",
       "      <th>RainToday</th>\n",
       "      <th>RainTomorrow</th>\n",
       "    </tr>\n",
       "  </thead>\n",
       "  <tbody>\n",
       "    <tr>\n",
       "      <th>0</th>\n",
       "      <td>2008-12-01</td>\n",
       "      <td>Albury</td>\n",
       "      <td>13.4</td>\n",
       "      <td>22.9</td>\n",
       "      <td>0.6</td>\n",
       "      <td>NaN</td>\n",
       "      <td>NaN</td>\n",
       "      <td>W</td>\n",
       "      <td>44.0</td>\n",
       "      <td>W</td>\n",
       "      <td>...</td>\n",
       "      <td>71.0</td>\n",
       "      <td>22.0</td>\n",
       "      <td>1007.7</td>\n",
       "      <td>1007.1</td>\n",
       "      <td>8.0</td>\n",
       "      <td>NaN</td>\n",
       "      <td>16.9</td>\n",
       "      <td>21.8</td>\n",
       "      <td>No</td>\n",
       "      <td>No</td>\n",
       "    </tr>\n",
       "    <tr>\n",
       "      <th>1</th>\n",
       "      <td>2008-12-02</td>\n",
       "      <td>Albury</td>\n",
       "      <td>7.4</td>\n",
       "      <td>25.1</td>\n",
       "      <td>0.0</td>\n",
       "      <td>NaN</td>\n",
       "      <td>NaN</td>\n",
       "      <td>WNW</td>\n",
       "      <td>44.0</td>\n",
       "      <td>NNW</td>\n",
       "      <td>...</td>\n",
       "      <td>44.0</td>\n",
       "      <td>25.0</td>\n",
       "      <td>1010.6</td>\n",
       "      <td>1007.8</td>\n",
       "      <td>NaN</td>\n",
       "      <td>NaN</td>\n",
       "      <td>17.2</td>\n",
       "      <td>24.3</td>\n",
       "      <td>No</td>\n",
       "      <td>No</td>\n",
       "    </tr>\n",
       "    <tr>\n",
       "      <th>2</th>\n",
       "      <td>2008-12-03</td>\n",
       "      <td>Albury</td>\n",
       "      <td>12.9</td>\n",
       "      <td>25.7</td>\n",
       "      <td>0.0</td>\n",
       "      <td>NaN</td>\n",
       "      <td>NaN</td>\n",
       "      <td>WSW</td>\n",
       "      <td>46.0</td>\n",
       "      <td>W</td>\n",
       "      <td>...</td>\n",
       "      <td>38.0</td>\n",
       "      <td>30.0</td>\n",
       "      <td>1007.6</td>\n",
       "      <td>1008.7</td>\n",
       "      <td>NaN</td>\n",
       "      <td>2.0</td>\n",
       "      <td>21.0</td>\n",
       "      <td>23.2</td>\n",
       "      <td>No</td>\n",
       "      <td>No</td>\n",
       "    </tr>\n",
       "    <tr>\n",
       "      <th>3</th>\n",
       "      <td>2008-12-04</td>\n",
       "      <td>Albury</td>\n",
       "      <td>9.2</td>\n",
       "      <td>28.0</td>\n",
       "      <td>0.0</td>\n",
       "      <td>NaN</td>\n",
       "      <td>NaN</td>\n",
       "      <td>NE</td>\n",
       "      <td>24.0</td>\n",
       "      <td>SE</td>\n",
       "      <td>...</td>\n",
       "      <td>45.0</td>\n",
       "      <td>16.0</td>\n",
       "      <td>1017.6</td>\n",
       "      <td>1012.8</td>\n",
       "      <td>NaN</td>\n",
       "      <td>NaN</td>\n",
       "      <td>18.1</td>\n",
       "      <td>26.5</td>\n",
       "      <td>No</td>\n",
       "      <td>No</td>\n",
       "    </tr>\n",
       "    <tr>\n",
       "      <th>4</th>\n",
       "      <td>2008-12-05</td>\n",
       "      <td>Albury</td>\n",
       "      <td>17.5</td>\n",
       "      <td>32.3</td>\n",
       "      <td>1.0</td>\n",
       "      <td>NaN</td>\n",
       "      <td>NaN</td>\n",
       "      <td>W</td>\n",
       "      <td>41.0</td>\n",
       "      <td>ENE</td>\n",
       "      <td>...</td>\n",
       "      <td>82.0</td>\n",
       "      <td>33.0</td>\n",
       "      <td>1010.8</td>\n",
       "      <td>1006.0</td>\n",
       "      <td>7.0</td>\n",
       "      <td>8.0</td>\n",
       "      <td>17.8</td>\n",
       "      <td>29.7</td>\n",
       "      <td>No</td>\n",
       "      <td>No</td>\n",
       "    </tr>\n",
       "    <tr>\n",
       "      <th>...</th>\n",
       "      <td>...</td>\n",
       "      <td>...</td>\n",
       "      <td>...</td>\n",
       "      <td>...</td>\n",
       "      <td>...</td>\n",
       "      <td>...</td>\n",
       "      <td>...</td>\n",
       "      <td>...</td>\n",
       "      <td>...</td>\n",
       "      <td>...</td>\n",
       "      <td>...</td>\n",
       "      <td>...</td>\n",
       "      <td>...</td>\n",
       "      <td>...</td>\n",
       "      <td>...</td>\n",
       "      <td>...</td>\n",
       "      <td>...</td>\n",
       "      <td>...</td>\n",
       "      <td>...</td>\n",
       "      <td>...</td>\n",
       "      <td>...</td>\n",
       "    </tr>\n",
       "    <tr>\n",
       "      <th>8420</th>\n",
       "      <td>2017-06-21</td>\n",
       "      <td>Uluru</td>\n",
       "      <td>2.8</td>\n",
       "      <td>23.4</td>\n",
       "      <td>0.0</td>\n",
       "      <td>NaN</td>\n",
       "      <td>NaN</td>\n",
       "      <td>E</td>\n",
       "      <td>31.0</td>\n",
       "      <td>SE</td>\n",
       "      <td>...</td>\n",
       "      <td>51.0</td>\n",
       "      <td>24.0</td>\n",
       "      <td>1024.6</td>\n",
       "      <td>1020.3</td>\n",
       "      <td>NaN</td>\n",
       "      <td>NaN</td>\n",
       "      <td>10.1</td>\n",
       "      <td>22.4</td>\n",
       "      <td>No</td>\n",
       "      <td>No</td>\n",
       "    </tr>\n",
       "    <tr>\n",
       "      <th>8421</th>\n",
       "      <td>2017-06-22</td>\n",
       "      <td>Uluru</td>\n",
       "      <td>3.6</td>\n",
       "      <td>25.3</td>\n",
       "      <td>0.0</td>\n",
       "      <td>NaN</td>\n",
       "      <td>NaN</td>\n",
       "      <td>NNW</td>\n",
       "      <td>22.0</td>\n",
       "      <td>SE</td>\n",
       "      <td>...</td>\n",
       "      <td>56.0</td>\n",
       "      <td>21.0</td>\n",
       "      <td>1023.5</td>\n",
       "      <td>1019.1</td>\n",
       "      <td>NaN</td>\n",
       "      <td>NaN</td>\n",
       "      <td>10.9</td>\n",
       "      <td>24.5</td>\n",
       "      <td>No</td>\n",
       "      <td>No</td>\n",
       "    </tr>\n",
       "    <tr>\n",
       "      <th>8422</th>\n",
       "      <td>2017-06-23</td>\n",
       "      <td>Uluru</td>\n",
       "      <td>5.4</td>\n",
       "      <td>26.9</td>\n",
       "      <td>0.0</td>\n",
       "      <td>NaN</td>\n",
       "      <td>NaN</td>\n",
       "      <td>N</td>\n",
       "      <td>37.0</td>\n",
       "      <td>SE</td>\n",
       "      <td>...</td>\n",
       "      <td>53.0</td>\n",
       "      <td>24.0</td>\n",
       "      <td>1021.0</td>\n",
       "      <td>1016.8</td>\n",
       "      <td>NaN</td>\n",
       "      <td>NaN</td>\n",
       "      <td>12.5</td>\n",
       "      <td>26.1</td>\n",
       "      <td>No</td>\n",
       "      <td>No</td>\n",
       "    </tr>\n",
       "    <tr>\n",
       "      <th>8423</th>\n",
       "      <td>2017-06-24</td>\n",
       "      <td>Uluru</td>\n",
       "      <td>7.8</td>\n",
       "      <td>27.0</td>\n",
       "      <td>0.0</td>\n",
       "      <td>NaN</td>\n",
       "      <td>NaN</td>\n",
       "      <td>SE</td>\n",
       "      <td>28.0</td>\n",
       "      <td>SSE</td>\n",
       "      <td>...</td>\n",
       "      <td>51.0</td>\n",
       "      <td>24.0</td>\n",
       "      <td>1019.4</td>\n",
       "      <td>1016.5</td>\n",
       "      <td>3.0</td>\n",
       "      <td>2.0</td>\n",
       "      <td>15.1</td>\n",
       "      <td>26.0</td>\n",
       "      <td>No</td>\n",
       "      <td>No</td>\n",
       "    </tr>\n",
       "    <tr>\n",
       "      <th>8424</th>\n",
       "      <td>2017-06-25</td>\n",
       "      <td>Uluru</td>\n",
       "      <td>14.9</td>\n",
       "      <td>NaN</td>\n",
       "      <td>0.0</td>\n",
       "      <td>NaN</td>\n",
       "      <td>NaN</td>\n",
       "      <td>NaN</td>\n",
       "      <td>NaN</td>\n",
       "      <td>ESE</td>\n",
       "      <td>...</td>\n",
       "      <td>62.0</td>\n",
       "      <td>36.0</td>\n",
       "      <td>1020.2</td>\n",
       "      <td>1017.9</td>\n",
       "      <td>8.0</td>\n",
       "      <td>8.0</td>\n",
       "      <td>15.0</td>\n",
       "      <td>20.9</td>\n",
       "      <td>No</td>\n",
       "      <td>NaN</td>\n",
       "    </tr>\n",
       "  </tbody>\n",
       "</table>\n",
       "<p>8425 rows × 23 columns</p>\n",
       "</div>"
      ],
      "text/plain": [
       "            Date Location  MinTemp  MaxTemp  Rainfall  Evaporation  Sunshine  \\\n",
       "0     2008-12-01   Albury     13.4     22.9       0.6          NaN       NaN   \n",
       "1     2008-12-02   Albury      7.4     25.1       0.0          NaN       NaN   \n",
       "2     2008-12-03   Albury     12.9     25.7       0.0          NaN       NaN   \n",
       "3     2008-12-04   Albury      9.2     28.0       0.0          NaN       NaN   \n",
       "4     2008-12-05   Albury     17.5     32.3       1.0          NaN       NaN   \n",
       "...          ...      ...      ...      ...       ...          ...       ...   \n",
       "8420  2017-06-21    Uluru      2.8     23.4       0.0          NaN       NaN   \n",
       "8421  2017-06-22    Uluru      3.6     25.3       0.0          NaN       NaN   \n",
       "8422  2017-06-23    Uluru      5.4     26.9       0.0          NaN       NaN   \n",
       "8423  2017-06-24    Uluru      7.8     27.0       0.0          NaN       NaN   \n",
       "8424  2017-06-25    Uluru     14.9      NaN       0.0          NaN       NaN   \n",
       "\n",
       "     WindGustDir  WindGustSpeed WindDir9am  ... Humidity9am  Humidity3pm  \\\n",
       "0              W           44.0          W  ...        71.0         22.0   \n",
       "1            WNW           44.0        NNW  ...        44.0         25.0   \n",
       "2            WSW           46.0          W  ...        38.0         30.0   \n",
       "3             NE           24.0         SE  ...        45.0         16.0   \n",
       "4              W           41.0        ENE  ...        82.0         33.0   \n",
       "...          ...            ...        ...  ...         ...          ...   \n",
       "8420           E           31.0         SE  ...        51.0         24.0   \n",
       "8421         NNW           22.0         SE  ...        56.0         21.0   \n",
       "8422           N           37.0         SE  ...        53.0         24.0   \n",
       "8423          SE           28.0        SSE  ...        51.0         24.0   \n",
       "8424         NaN            NaN        ESE  ...        62.0         36.0   \n",
       "\n",
       "      Pressure9am  Pressure3pm  Cloud9am  Cloud3pm  Temp9am  Temp3pm  \\\n",
       "0          1007.7       1007.1       8.0       NaN     16.9     21.8   \n",
       "1          1010.6       1007.8       NaN       NaN     17.2     24.3   \n",
       "2          1007.6       1008.7       NaN       2.0     21.0     23.2   \n",
       "3          1017.6       1012.8       NaN       NaN     18.1     26.5   \n",
       "4          1010.8       1006.0       7.0       8.0     17.8     29.7   \n",
       "...           ...          ...       ...       ...      ...      ...   \n",
       "8420       1024.6       1020.3       NaN       NaN     10.1     22.4   \n",
       "8421       1023.5       1019.1       NaN       NaN     10.9     24.5   \n",
       "8422       1021.0       1016.8       NaN       NaN     12.5     26.1   \n",
       "8423       1019.4       1016.5       3.0       2.0     15.1     26.0   \n",
       "8424       1020.2       1017.9       8.0       8.0     15.0     20.9   \n",
       "\n",
       "      RainToday  RainTomorrow  \n",
       "0            No            No  \n",
       "1            No            No  \n",
       "2            No            No  \n",
       "3            No            No  \n",
       "4            No            No  \n",
       "...         ...           ...  \n",
       "8420         No            No  \n",
       "8421         No            No  \n",
       "8422         No            No  \n",
       "8423         No            No  \n",
       "8424         No           NaN  \n",
       "\n",
       "[8425 rows x 23 columns]"
      ]
     },
     "execution_count": 52,
     "metadata": {},
     "output_type": "execute_result"
    }
   ],
   "source": [
    "df=pd.read_csv('https://raw.githubusercontent.com/dsrscientist/dataset3/main/weatherAUS.csv')\n",
    "df"
   ]
  },
  {
   "cell_type": "code",
   "execution_count": 53,
   "id": "d226f377",
   "metadata": {},
   "outputs": [
    {
     "name": "stdout",
     "output_type": "stream",
     "text": [
      "<class 'pandas.core.frame.DataFrame'>\n",
      "RangeIndex: 8425 entries, 0 to 8424\n",
      "Data columns (total 23 columns):\n",
      " #   Column         Non-Null Count  Dtype  \n",
      "---  ------         --------------  -----  \n",
      " 0   Date           8425 non-null   object \n",
      " 1   Location       8425 non-null   object \n",
      " 2   MinTemp        8350 non-null   float64\n",
      " 3   MaxTemp        8365 non-null   float64\n",
      " 4   Rainfall       8185 non-null   float64\n",
      " 5   Evaporation    4913 non-null   float64\n",
      " 6   Sunshine       4431 non-null   float64\n",
      " 7   WindGustDir    7434 non-null   object \n",
      " 8   WindGustSpeed  7434 non-null   float64\n",
      " 9   WindDir9am     7596 non-null   object \n",
      " 10  WindDir3pm     8117 non-null   object \n",
      " 11  WindSpeed9am   8349 non-null   float64\n",
      " 12  WindSpeed3pm   8318 non-null   float64\n",
      " 13  Humidity9am    8366 non-null   float64\n",
      " 14  Humidity3pm    8323 non-null   float64\n",
      " 15  Pressure9am    7116 non-null   float64\n",
      " 16  Pressure3pm    7113 non-null   float64\n",
      " 17  Cloud9am       6004 non-null   float64\n",
      " 18  Cloud3pm       5970 non-null   float64\n",
      " 19  Temp9am        8369 non-null   float64\n",
      " 20  Temp3pm        8329 non-null   float64\n",
      " 21  RainToday      8185 non-null   object \n",
      " 22  RainTomorrow   8186 non-null   object \n",
      "dtypes: float64(16), object(7)\n",
      "memory usage: 1.5+ MB\n"
     ]
    }
   ],
   "source": [
    "df.info()"
   ]
  },
  {
   "cell_type": "code",
   "execution_count": 54,
   "id": "b437c90f",
   "metadata": {},
   "outputs": [
    {
     "data": {
      "text/plain": [
       "(8425, 23)"
      ]
     },
     "execution_count": 54,
     "metadata": {},
     "output_type": "execute_result"
    }
   ],
   "source": [
    "df.shape"
   ]
  },
  {
   "cell_type": "code",
   "execution_count": 55,
   "id": "141f4226",
   "metadata": {},
   "outputs": [
    {
     "data": {
      "text/plain": [
       "Date                0\n",
       "Location            0\n",
       "MinTemp            75\n",
       "MaxTemp            60\n",
       "Rainfall          240\n",
       "Evaporation      3512\n",
       "Sunshine         3994\n",
       "WindGustDir       991\n",
       "WindGustSpeed     991\n",
       "WindDir9am        829\n",
       "WindDir3pm        308\n",
       "WindSpeed9am       76\n",
       "WindSpeed3pm      107\n",
       "Humidity9am        59\n",
       "Humidity3pm       102\n",
       "Pressure9am      1309\n",
       "Pressure3pm      1312\n",
       "Cloud9am         2421\n",
       "Cloud3pm         2455\n",
       "Temp9am            56\n",
       "Temp3pm            96\n",
       "RainToday         240\n",
       "RainTomorrow      239\n",
       "dtype: int64"
      ]
     },
     "execution_count": 55,
     "metadata": {},
     "output_type": "execute_result"
    }
   ],
   "source": [
    "df.isnull().sum()"
   ]
  },
  {
   "cell_type": "code",
   "execution_count": 56,
   "id": "bfc8ba3a",
   "metadata": {},
   "outputs": [
    {
     "data": {
      "text/plain": [
       "19472"
      ]
     },
     "execution_count": 56,
     "metadata": {},
     "output_type": "execute_result"
    }
   ],
   "source": [
    "df.isnull().sum().sum()"
   ]
  },
  {
   "cell_type": "code",
   "execution_count": 57,
   "id": "24777a57",
   "metadata": {},
   "outputs": [
    {
     "data": {
      "text/plain": [
       "Date                0\n",
       "Location            0\n",
       "MinTemp            75\n",
       "MaxTemp            60\n",
       "Rainfall          240\n",
       "Evaporation      3512\n",
       "Sunshine         3994\n",
       "WindGustDir       991\n",
       "WindGustSpeed     991\n",
       "WindDir9am        829\n",
       "WindDir3pm        308\n",
       "WindSpeed9am       76\n",
       "WindSpeed3pm      107\n",
       "Humidity9am        59\n",
       "Humidity3pm       102\n",
       "Pressure9am      1309\n",
       "Pressure3pm      1312\n",
       "Cloud9am         2421\n",
       "Cloud3pm         2455\n",
       "Temp9am            56\n",
       "Temp3pm            96\n",
       "RainToday         240\n",
       "RainTomorrow      239\n",
       "dtype: int64"
      ]
     },
     "execution_count": 57,
     "metadata": {},
     "output_type": "execute_result"
    }
   ],
   "source": [
    "df.isnull().sum()"
   ]
  },
  {
   "cell_type": "code",
   "execution_count": 58,
   "id": "d61ba503",
   "metadata": {},
   "outputs": [
    {
     "data": {
      "text/html": [
       "<div>\n",
       "<style scoped>\n",
       "    .dataframe tbody tr th:only-of-type {\n",
       "        vertical-align: middle;\n",
       "    }\n",
       "\n",
       "    .dataframe tbody tr th {\n",
       "        vertical-align: top;\n",
       "    }\n",
       "\n",
       "    .dataframe thead th {\n",
       "        text-align: right;\n",
       "    }\n",
       "</style>\n",
       "<table border=\"1\" class=\"dataframe\">\n",
       "  <thead>\n",
       "    <tr style=\"text-align: right;\">\n",
       "      <th></th>\n",
       "      <th>MinTemp</th>\n",
       "      <th>MaxTemp</th>\n",
       "      <th>Rainfall</th>\n",
       "      <th>Evaporation</th>\n",
       "      <th>Sunshine</th>\n",
       "      <th>WindGustSpeed</th>\n",
       "      <th>WindSpeed9am</th>\n",
       "      <th>WindSpeed3pm</th>\n",
       "      <th>Humidity9am</th>\n",
       "      <th>Humidity3pm</th>\n",
       "      <th>Pressure9am</th>\n",
       "      <th>Pressure3pm</th>\n",
       "      <th>Cloud9am</th>\n",
       "      <th>Cloud3pm</th>\n",
       "      <th>Temp9am</th>\n",
       "      <th>Temp3pm</th>\n",
       "    </tr>\n",
       "  </thead>\n",
       "  <tbody>\n",
       "    <tr>\n",
       "      <th>count</th>\n",
       "      <td>8350.000000</td>\n",
       "      <td>8365.000000</td>\n",
       "      <td>8185.000000</td>\n",
       "      <td>4913.000000</td>\n",
       "      <td>4431.000000</td>\n",
       "      <td>7434.000000</td>\n",
       "      <td>8349.000000</td>\n",
       "      <td>8318.000000</td>\n",
       "      <td>8366.000000</td>\n",
       "      <td>8323.000000</td>\n",
       "      <td>7116.000000</td>\n",
       "      <td>7113.000000</td>\n",
       "      <td>6004.000000</td>\n",
       "      <td>5970.000000</td>\n",
       "      <td>8369.000000</td>\n",
       "      <td>8329.000000</td>\n",
       "    </tr>\n",
       "    <tr>\n",
       "      <th>mean</th>\n",
       "      <td>13.193305</td>\n",
       "      <td>23.859976</td>\n",
       "      <td>2.805913</td>\n",
       "      <td>5.389395</td>\n",
       "      <td>7.632205</td>\n",
       "      <td>40.174469</td>\n",
       "      <td>13.847646</td>\n",
       "      <td>18.533662</td>\n",
       "      <td>67.822496</td>\n",
       "      <td>51.249790</td>\n",
       "      <td>1017.640233</td>\n",
       "      <td>1015.236075</td>\n",
       "      <td>4.566622</td>\n",
       "      <td>4.503183</td>\n",
       "      <td>17.762015</td>\n",
       "      <td>22.442934</td>\n",
       "    </tr>\n",
       "    <tr>\n",
       "      <th>std</th>\n",
       "      <td>5.403596</td>\n",
       "      <td>6.136408</td>\n",
       "      <td>10.459379</td>\n",
       "      <td>5.044484</td>\n",
       "      <td>3.896235</td>\n",
       "      <td>14.665721</td>\n",
       "      <td>10.174579</td>\n",
       "      <td>9.766986</td>\n",
       "      <td>16.833283</td>\n",
       "      <td>18.423774</td>\n",
       "      <td>6.828699</td>\n",
       "      <td>6.766681</td>\n",
       "      <td>2.877658</td>\n",
       "      <td>2.731659</td>\n",
       "      <td>5.627035</td>\n",
       "      <td>5.980020</td>\n",
       "    </tr>\n",
       "    <tr>\n",
       "      <th>min</th>\n",
       "      <td>-2.000000</td>\n",
       "      <td>8.200000</td>\n",
       "      <td>0.000000</td>\n",
       "      <td>0.000000</td>\n",
       "      <td>0.000000</td>\n",
       "      <td>7.000000</td>\n",
       "      <td>0.000000</td>\n",
       "      <td>0.000000</td>\n",
       "      <td>10.000000</td>\n",
       "      <td>6.000000</td>\n",
       "      <td>989.800000</td>\n",
       "      <td>982.900000</td>\n",
       "      <td>0.000000</td>\n",
       "      <td>0.000000</td>\n",
       "      <td>1.900000</td>\n",
       "      <td>7.300000</td>\n",
       "    </tr>\n",
       "    <tr>\n",
       "      <th>25%</th>\n",
       "      <td>9.200000</td>\n",
       "      <td>19.300000</td>\n",
       "      <td>0.000000</td>\n",
       "      <td>2.600000</td>\n",
       "      <td>4.750000</td>\n",
       "      <td>30.000000</td>\n",
       "      <td>6.000000</td>\n",
       "      <td>11.000000</td>\n",
       "      <td>56.000000</td>\n",
       "      <td>39.000000</td>\n",
       "      <td>1013.000000</td>\n",
       "      <td>1010.400000</td>\n",
       "      <td>1.000000</td>\n",
       "      <td>2.000000</td>\n",
       "      <td>13.800000</td>\n",
       "      <td>18.000000</td>\n",
       "    </tr>\n",
       "    <tr>\n",
       "      <th>50%</th>\n",
       "      <td>13.300000</td>\n",
       "      <td>23.300000</td>\n",
       "      <td>0.000000</td>\n",
       "      <td>4.600000</td>\n",
       "      <td>8.700000</td>\n",
       "      <td>39.000000</td>\n",
       "      <td>13.000000</td>\n",
       "      <td>19.000000</td>\n",
       "      <td>68.000000</td>\n",
       "      <td>51.000000</td>\n",
       "      <td>1017.700000</td>\n",
       "      <td>1015.300000</td>\n",
       "      <td>5.000000</td>\n",
       "      <td>5.000000</td>\n",
       "      <td>17.800000</td>\n",
       "      <td>21.900000</td>\n",
       "    </tr>\n",
       "    <tr>\n",
       "      <th>75%</th>\n",
       "      <td>17.400000</td>\n",
       "      <td>28.000000</td>\n",
       "      <td>1.000000</td>\n",
       "      <td>7.000000</td>\n",
       "      <td>10.700000</td>\n",
       "      <td>50.000000</td>\n",
       "      <td>20.000000</td>\n",
       "      <td>24.000000</td>\n",
       "      <td>80.000000</td>\n",
       "      <td>63.000000</td>\n",
       "      <td>1022.300000</td>\n",
       "      <td>1019.800000</td>\n",
       "      <td>7.000000</td>\n",
       "      <td>7.000000</td>\n",
       "      <td>21.900000</td>\n",
       "      <td>26.400000</td>\n",
       "    </tr>\n",
       "    <tr>\n",
       "      <th>max</th>\n",
       "      <td>28.500000</td>\n",
       "      <td>45.500000</td>\n",
       "      <td>371.000000</td>\n",
       "      <td>145.000000</td>\n",
       "      <td>13.900000</td>\n",
       "      <td>107.000000</td>\n",
       "      <td>63.000000</td>\n",
       "      <td>83.000000</td>\n",
       "      <td>100.000000</td>\n",
       "      <td>99.000000</td>\n",
       "      <td>1039.000000</td>\n",
       "      <td>1036.000000</td>\n",
       "      <td>8.000000</td>\n",
       "      <td>8.000000</td>\n",
       "      <td>39.400000</td>\n",
       "      <td>44.100000</td>\n",
       "    </tr>\n",
       "  </tbody>\n",
       "</table>\n",
       "</div>"
      ],
      "text/plain": [
       "           MinTemp      MaxTemp     Rainfall  Evaporation     Sunshine  \\\n",
       "count  8350.000000  8365.000000  8185.000000  4913.000000  4431.000000   \n",
       "mean     13.193305    23.859976     2.805913     5.389395     7.632205   \n",
       "std       5.403596     6.136408    10.459379     5.044484     3.896235   \n",
       "min      -2.000000     8.200000     0.000000     0.000000     0.000000   \n",
       "25%       9.200000    19.300000     0.000000     2.600000     4.750000   \n",
       "50%      13.300000    23.300000     0.000000     4.600000     8.700000   \n",
       "75%      17.400000    28.000000     1.000000     7.000000    10.700000   \n",
       "max      28.500000    45.500000   371.000000   145.000000    13.900000   \n",
       "\n",
       "       WindGustSpeed  WindSpeed9am  WindSpeed3pm  Humidity9am  Humidity3pm  \\\n",
       "count    7434.000000   8349.000000   8318.000000  8366.000000  8323.000000   \n",
       "mean       40.174469     13.847646     18.533662    67.822496    51.249790   \n",
       "std        14.665721     10.174579      9.766986    16.833283    18.423774   \n",
       "min         7.000000      0.000000      0.000000    10.000000     6.000000   \n",
       "25%        30.000000      6.000000     11.000000    56.000000    39.000000   \n",
       "50%        39.000000     13.000000     19.000000    68.000000    51.000000   \n",
       "75%        50.000000     20.000000     24.000000    80.000000    63.000000   \n",
       "max       107.000000     63.000000     83.000000   100.000000    99.000000   \n",
       "\n",
       "       Pressure9am  Pressure3pm     Cloud9am     Cloud3pm      Temp9am  \\\n",
       "count  7116.000000  7113.000000  6004.000000  5970.000000  8369.000000   \n",
       "mean   1017.640233  1015.236075     4.566622     4.503183    17.762015   \n",
       "std       6.828699     6.766681     2.877658     2.731659     5.627035   \n",
       "min     989.800000   982.900000     0.000000     0.000000     1.900000   \n",
       "25%    1013.000000  1010.400000     1.000000     2.000000    13.800000   \n",
       "50%    1017.700000  1015.300000     5.000000     5.000000    17.800000   \n",
       "75%    1022.300000  1019.800000     7.000000     7.000000    21.900000   \n",
       "max    1039.000000  1036.000000     8.000000     8.000000    39.400000   \n",
       "\n",
       "           Temp3pm  \n",
       "count  8329.000000  \n",
       "mean     22.442934  \n",
       "std       5.980020  \n",
       "min       7.300000  \n",
       "25%      18.000000  \n",
       "50%      21.900000  \n",
       "75%      26.400000  \n",
       "max      44.100000  "
      ]
     },
     "execution_count": 58,
     "metadata": {},
     "output_type": "execute_result"
    }
   ],
   "source": [
    "#we can clearly see that there are no null values.so we can continue with the data\n",
    "\n",
    "df.describe()"
   ]
  },
  {
   "cell_type": "code",
   "execution_count": 59,
   "id": "30fba50e",
   "metadata": {},
   "outputs": [
    {
     "data": {
      "text/plain": [
       "Index(['Date', 'Location', 'MinTemp', 'MaxTemp', 'Rainfall', 'Evaporation',\n",
       "       'Sunshine', 'WindGustDir', 'WindGustSpeed', 'WindDir9am', 'WindDir3pm',\n",
       "       'WindSpeed9am', 'WindSpeed3pm', 'Humidity9am', 'Humidity3pm',\n",
       "       'Pressure9am', 'Pressure3pm', 'Cloud9am', 'Cloud3pm', 'Temp9am',\n",
       "       'Temp3pm', 'RainToday', 'RainTomorrow'],\n",
       "      dtype='object')"
      ]
     },
     "execution_count": 59,
     "metadata": {},
     "output_type": "execute_result"
    }
   ],
   "source": [
    "df.columns"
   ]
  },
  {
   "cell_type": "code",
   "execution_count": 60,
   "id": "6ba6f42f",
   "metadata": {
    "scrolled": true
   },
   "outputs": [
    {
     "data": {
      "text/plain": [
       "Date              object\n",
       "Location          object\n",
       "MinTemp          float64\n",
       "MaxTemp          float64\n",
       "Rainfall         float64\n",
       "Evaporation      float64\n",
       "Sunshine         float64\n",
       "WindGustDir       object\n",
       "WindGustSpeed    float64\n",
       "WindDir9am        object\n",
       "WindDir3pm        object\n",
       "WindSpeed9am     float64\n",
       "WindSpeed3pm     float64\n",
       "Humidity9am      float64\n",
       "Humidity3pm      float64\n",
       "Pressure9am      float64\n",
       "Pressure3pm      float64\n",
       "Cloud9am         float64\n",
       "Cloud3pm         float64\n",
       "Temp9am          float64\n",
       "Temp3pm          float64\n",
       "RainToday         object\n",
       "RainTomorrow      object\n",
       "dtype: object"
      ]
     },
     "execution_count": 60,
     "metadata": {},
     "output_type": "execute_result"
    }
   ],
   "source": [
    "df.dtypes"
   ]
  },
  {
   "cell_type": "code",
   "execution_count": 61,
   "id": "2cdd6bb2",
   "metadata": {},
   "outputs": [],
   "source": [
    "#we will fill the null values by .fillna method bymean or mode\n",
    "df['MinTemp'].fillna(df['MinTemp'].mode()[0],inplace=True )\n",
    "df['MaxTemp'].fillna(df['MaxTemp'].mode()[0],inplace=True )\n",
    "df['Temp9am'].fillna(df['Temp9am'].mode()[0],inplace=True )\n",
    "df['Temp3pm'].fillna(df['Temp3pm'].mode()[0],inplace=True )\n",
    "df['Humidity9am'].fillna(df['Humidity9am'].mode()[0],inplace=True )\n",
    "df['Humidity3pm'].fillna(df['Humidity3pm'].mode()[0],inplace=True )\n",
    "df['Rainfall']=df['Rainfall'].fillna(0)\n",
    "df['Pressure9am'].fillna(df['Pressure9am'].median(),inplace=True )\n",
    "df['Pressure3pm'].fillna(df['Pressure3pm'].median(),inplace=True )\n",
    "df['WindSpeed9am'].fillna(df['WindSpeed9am'].median(),inplace=True )\n",
    "df['WindSpeed3pm'].fillna(df['WindSpeed3pm'].median(),inplace=True )\n",
    "df['WindGustSpeed'].fillna(df['WindGustSpeed'].median(),inplace=True)\n",
    "df['Evaporation'].fillna(df['Evaporation'].median(),inplace=True)\n",
    "df['Sunshine'].fillna(df['Sunshine'].median(),inplace=True)\n",
    "df['WindGustDir'].fillna(df['WindGustDir'].mode()[0],inplace=True)\n",
    "df['WindDir9am'].fillna(df['WindDir9am'].mode()[0],inplace=True)\n",
    "df['WindDir3pm'].fillna(df['WindDir3pm'].mode()[0],inplace=True)\n",
    "df['Cloud9am'].fillna(df['Cloud9am'].median(),inplace=True)\n",
    "df['Cloud3pm'].fillna(df['Cloud3pm'].median(),inplace=True)\n",
    "df['RainToday'].fillna(df['RainToday'].mode()[0],inplace=True)\n",
    "df['RainTomorrow'].fillna(df['RainTomorrow'].mode()[0],inplace=True)\n"
   ]
  },
  {
   "cell_type": "code",
   "execution_count": 62,
   "id": "de8beb2a",
   "metadata": {},
   "outputs": [
    {
     "data": {
      "text/html": [
       "<div>\n",
       "<style scoped>\n",
       "    .dataframe tbody tr th:only-of-type {\n",
       "        vertical-align: middle;\n",
       "    }\n",
       "\n",
       "    .dataframe tbody tr th {\n",
       "        vertical-align: top;\n",
       "    }\n",
       "\n",
       "    .dataframe thead th {\n",
       "        text-align: right;\n",
       "    }\n",
       "</style>\n",
       "<table border=\"1\" class=\"dataframe\">\n",
       "  <thead>\n",
       "    <tr style=\"text-align: right;\">\n",
       "      <th></th>\n",
       "      <th>MinTemp</th>\n",
       "      <th>MaxTemp</th>\n",
       "      <th>Rainfall</th>\n",
       "      <th>Evaporation</th>\n",
       "      <th>Sunshine</th>\n",
       "      <th>WindGustSpeed</th>\n",
       "      <th>WindSpeed9am</th>\n",
       "      <th>WindSpeed3pm</th>\n",
       "      <th>Humidity9am</th>\n",
       "      <th>Humidity3pm</th>\n",
       "      <th>Pressure9am</th>\n",
       "      <th>Pressure3pm</th>\n",
       "      <th>Cloud9am</th>\n",
       "      <th>Cloud3pm</th>\n",
       "      <th>Temp9am</th>\n",
       "      <th>Temp3pm</th>\n",
       "    </tr>\n",
       "  </thead>\n",
       "  <tbody>\n",
       "    <tr>\n",
       "      <th>MinTemp</th>\n",
       "      <td>1.000000</td>\n",
       "      <td>0.716554</td>\n",
       "      <td>0.085226</td>\n",
       "      <td>0.263077</td>\n",
       "      <td>0.031242</td>\n",
       "      <td>0.230313</td>\n",
       "      <td>0.137219</td>\n",
       "      <td>0.178676</td>\n",
       "      <td>-0.131170</td>\n",
       "      <td>0.077566</td>\n",
       "      <td>-0.429389</td>\n",
       "      <td>-0.422953</td>\n",
       "      <td>0.078357</td>\n",
       "      <td>0.022112</td>\n",
       "      <td>0.886777</td>\n",
       "      <td>0.687180</td>\n",
       "    </tr>\n",
       "    <tr>\n",
       "      <th>MaxTemp</th>\n",
       "      <td>0.716554</td>\n",
       "      <td>1.000000</td>\n",
       "      <td>-0.086542</td>\n",
       "      <td>0.326572</td>\n",
       "      <td>0.355659</td>\n",
       "      <td>0.139978</td>\n",
       "      <td>0.016198</td>\n",
       "      <td>0.089431</td>\n",
       "      <td>-0.391472</td>\n",
       "      <td>-0.422893</td>\n",
       "      <td>-0.324840</td>\n",
       "      <td>-0.402087</td>\n",
       "      <td>-0.254793</td>\n",
       "      <td>-0.253004</td>\n",
       "      <td>0.864741</td>\n",
       "      <td>0.973412</td>\n",
       "    </tr>\n",
       "    <tr>\n",
       "      <th>Rainfall</th>\n",
       "      <td>0.085226</td>\n",
       "      <td>-0.086542</td>\n",
       "      <td>1.000000</td>\n",
       "      <td>0.020252</td>\n",
       "      <td>-0.166957</td>\n",
       "      <td>0.082628</td>\n",
       "      <td>0.048726</td>\n",
       "      <td>0.021594</td>\n",
       "      <td>0.227291</td>\n",
       "      <td>0.234625</td>\n",
       "      <td>-0.069595</td>\n",
       "      <td>-0.031261</td>\n",
       "      <td>0.176615</td>\n",
       "      <td>0.142066</td>\n",
       "      <td>-0.007002</td>\n",
       "      <td>-0.089931</td>\n",
       "    </tr>\n",
       "    <tr>\n",
       "      <th>Evaporation</th>\n",
       "      <td>0.263077</td>\n",
       "      <td>0.326572</td>\n",
       "      <td>0.020252</td>\n",
       "      <td>1.000000</td>\n",
       "      <td>0.217816</td>\n",
       "      <td>0.147367</td>\n",
       "      <td>0.133320</td>\n",
       "      <td>0.121595</td>\n",
       "      <td>-0.235317</td>\n",
       "      <td>-0.170088</td>\n",
       "      <td>-0.177701</td>\n",
       "      <td>-0.189711</td>\n",
       "      <td>-0.078895</td>\n",
       "      <td>-0.119121</td>\n",
       "      <td>0.316614</td>\n",
       "      <td>0.318278</td>\n",
       "    </tr>\n",
       "    <tr>\n",
       "      <th>Sunshine</th>\n",
       "      <td>0.031242</td>\n",
       "      <td>0.355659</td>\n",
       "      <td>-0.166957</td>\n",
       "      <td>0.217816</td>\n",
       "      <td>1.000000</td>\n",
       "      <td>-0.034623</td>\n",
       "      <td>-0.068995</td>\n",
       "      <td>-0.004683</td>\n",
       "      <td>-0.316184</td>\n",
       "      <td>-0.420418</td>\n",
       "      <td>0.025163</td>\n",
       "      <td>-0.032167</td>\n",
       "      <td>-0.489100</td>\n",
       "      <td>-0.511608</td>\n",
       "      <td>0.219135</td>\n",
       "      <td>0.375341</td>\n",
       "    </tr>\n",
       "    <tr>\n",
       "      <th>WindGustSpeed</th>\n",
       "      <td>0.230313</td>\n",
       "      <td>0.139978</td>\n",
       "      <td>0.082628</td>\n",
       "      <td>0.147367</td>\n",
       "      <td>-0.034623</td>\n",
       "      <td>1.000000</td>\n",
       "      <td>0.606090</td>\n",
       "      <td>0.639042</td>\n",
       "      <td>-0.271896</td>\n",
       "      <td>-0.093647</td>\n",
       "      <td>-0.407139</td>\n",
       "      <td>-0.372553</td>\n",
       "      <td>0.019763</td>\n",
       "      <td>0.070237</td>\n",
       "      <td>0.202291</td>\n",
       "      <td>0.102218</td>\n",
       "    </tr>\n",
       "    <tr>\n",
       "      <th>WindSpeed9am</th>\n",
       "      <td>0.137219</td>\n",
       "      <td>0.016198</td>\n",
       "      <td>0.048726</td>\n",
       "      <td>0.133320</td>\n",
       "      <td>-0.068995</td>\n",
       "      <td>0.606090</td>\n",
       "      <td>1.000000</td>\n",
       "      <td>0.560340</td>\n",
       "      <td>-0.358553</td>\n",
       "      <td>-0.111581</td>\n",
       "      <td>-0.175584</td>\n",
       "      <td>-0.139429</td>\n",
       "      <td>-0.006931</td>\n",
       "      <td>0.047359</td>\n",
       "      <td>0.109860</td>\n",
       "      <td>0.000140</td>\n",
       "    </tr>\n",
       "    <tr>\n",
       "      <th>WindSpeed3pm</th>\n",
       "      <td>0.178676</td>\n",
       "      <td>0.089431</td>\n",
       "      <td>0.021594</td>\n",
       "      <td>0.121595</td>\n",
       "      <td>-0.004683</td>\n",
       "      <td>0.639042</td>\n",
       "      <td>0.560340</td>\n",
       "      <td>1.000000</td>\n",
       "      <td>-0.251098</td>\n",
       "      <td>-0.091026</td>\n",
       "      <td>-0.252752</td>\n",
       "      <td>-0.208694</td>\n",
       "      <td>-0.000171</td>\n",
       "      <td>-0.001803</td>\n",
       "      <td>0.184253</td>\n",
       "      <td>0.065625</td>\n",
       "    </tr>\n",
       "    <tr>\n",
       "      <th>Humidity9am</th>\n",
       "      <td>-0.131170</td>\n",
       "      <td>-0.391472</td>\n",
       "      <td>0.227291</td>\n",
       "      <td>-0.235317</td>\n",
       "      <td>-0.316184</td>\n",
       "      <td>-0.271896</td>\n",
       "      <td>-0.358553</td>\n",
       "      <td>-0.251098</td>\n",
       "      <td>1.000000</td>\n",
       "      <td>0.633913</td>\n",
       "      <td>0.142547</td>\n",
       "      <td>0.173575</td>\n",
       "      <td>0.399331</td>\n",
       "      <td>0.295328</td>\n",
       "      <td>-0.378946</td>\n",
       "      <td>-0.383237</td>\n",
       "    </tr>\n",
       "    <tr>\n",
       "      <th>Humidity3pm</th>\n",
       "      <td>0.077566</td>\n",
       "      <td>-0.422893</td>\n",
       "      <td>0.234625</td>\n",
       "      <td>-0.170088</td>\n",
       "      <td>-0.420418</td>\n",
       "      <td>-0.093647</td>\n",
       "      <td>-0.111581</td>\n",
       "      <td>-0.091026</td>\n",
       "      <td>0.633913</td>\n",
       "      <td>1.000000</td>\n",
       "      <td>0.001619</td>\n",
       "      <td>0.070234</td>\n",
       "      <td>0.408086</td>\n",
       "      <td>0.421099</td>\n",
       "      <td>-0.132231</td>\n",
       "      <td>-0.491816</td>\n",
       "    </tr>\n",
       "    <tr>\n",
       "      <th>Pressure9am</th>\n",
       "      <td>-0.429389</td>\n",
       "      <td>-0.324840</td>\n",
       "      <td>-0.069595</td>\n",
       "      <td>-0.177701</td>\n",
       "      <td>0.025163</td>\n",
       "      <td>-0.407139</td>\n",
       "      <td>-0.175584</td>\n",
       "      <td>-0.252752</td>\n",
       "      <td>0.142547</td>\n",
       "      <td>0.001619</td>\n",
       "      <td>1.000000</td>\n",
       "      <td>0.961435</td>\n",
       "      <td>-0.069128</td>\n",
       "      <td>-0.078967</td>\n",
       "      <td>-0.410268</td>\n",
       "      <td>-0.282895</td>\n",
       "    </tr>\n",
       "    <tr>\n",
       "      <th>Pressure3pm</th>\n",
       "      <td>-0.422953</td>\n",
       "      <td>-0.402087</td>\n",
       "      <td>-0.031261</td>\n",
       "      <td>-0.189711</td>\n",
       "      <td>-0.032167</td>\n",
       "      <td>-0.372553</td>\n",
       "      <td>-0.139429</td>\n",
       "      <td>-0.208694</td>\n",
       "      <td>0.173575</td>\n",
       "      <td>0.070234</td>\n",
       "      <td>0.961435</td>\n",
       "      <td>1.000000</td>\n",
       "      <td>-0.011209</td>\n",
       "      <td>-0.025561</td>\n",
       "      <td>-0.438727</td>\n",
       "      <td>-0.369086</td>\n",
       "    </tr>\n",
       "    <tr>\n",
       "      <th>Cloud9am</th>\n",
       "      <td>0.078357</td>\n",
       "      <td>-0.254793</td>\n",
       "      <td>0.176615</td>\n",
       "      <td>-0.078895</td>\n",
       "      <td>-0.489100</td>\n",
       "      <td>0.019763</td>\n",
       "      <td>-0.006931</td>\n",
       "      <td>-0.000171</td>\n",
       "      <td>0.399331</td>\n",
       "      <td>0.408086</td>\n",
       "      <td>-0.069128</td>\n",
       "      <td>-0.011209</td>\n",
       "      <td>1.000000</td>\n",
       "      <td>0.579788</td>\n",
       "      <td>-0.147042</td>\n",
       "      <td>-0.266689</td>\n",
       "    </tr>\n",
       "    <tr>\n",
       "      <th>Cloud3pm</th>\n",
       "      <td>0.022112</td>\n",
       "      <td>-0.253004</td>\n",
       "      <td>0.142066</td>\n",
       "      <td>-0.119121</td>\n",
       "      <td>-0.511608</td>\n",
       "      <td>0.070237</td>\n",
       "      <td>0.047359</td>\n",
       "      <td>-0.001803</td>\n",
       "      <td>0.295328</td>\n",
       "      <td>0.421099</td>\n",
       "      <td>-0.078967</td>\n",
       "      <td>-0.025561</td>\n",
       "      <td>0.579788</td>\n",
       "      <td>1.000000</td>\n",
       "      <td>-0.142185</td>\n",
       "      <td>-0.292379</td>\n",
       "    </tr>\n",
       "    <tr>\n",
       "      <th>Temp9am</th>\n",
       "      <td>0.886777</td>\n",
       "      <td>0.864741</td>\n",
       "      <td>-0.007002</td>\n",
       "      <td>0.316614</td>\n",
       "      <td>0.219135</td>\n",
       "      <td>0.202291</td>\n",
       "      <td>0.109860</td>\n",
       "      <td>0.184253</td>\n",
       "      <td>-0.378946</td>\n",
       "      <td>-0.132231</td>\n",
       "      <td>-0.410268</td>\n",
       "      <td>-0.438727</td>\n",
       "      <td>-0.147042</td>\n",
       "      <td>-0.142185</td>\n",
       "      <td>1.000000</td>\n",
       "      <td>0.835241</td>\n",
       "    </tr>\n",
       "    <tr>\n",
       "      <th>Temp3pm</th>\n",
       "      <td>0.687180</td>\n",
       "      <td>0.973412</td>\n",
       "      <td>-0.089931</td>\n",
       "      <td>0.318278</td>\n",
       "      <td>0.375341</td>\n",
       "      <td>0.102218</td>\n",
       "      <td>0.000140</td>\n",
       "      <td>0.065625</td>\n",
       "      <td>-0.383237</td>\n",
       "      <td>-0.491816</td>\n",
       "      <td>-0.282895</td>\n",
       "      <td>-0.369086</td>\n",
       "      <td>-0.266689</td>\n",
       "      <td>-0.292379</td>\n",
       "      <td>0.835241</td>\n",
       "      <td>1.000000</td>\n",
       "    </tr>\n",
       "  </tbody>\n",
       "</table>\n",
       "</div>"
      ],
      "text/plain": [
       "                MinTemp   MaxTemp  Rainfall  Evaporation  Sunshine  \\\n",
       "MinTemp        1.000000  0.716554  0.085226     0.263077  0.031242   \n",
       "MaxTemp        0.716554  1.000000 -0.086542     0.326572  0.355659   \n",
       "Rainfall       0.085226 -0.086542  1.000000     0.020252 -0.166957   \n",
       "Evaporation    0.263077  0.326572  0.020252     1.000000  0.217816   \n",
       "Sunshine       0.031242  0.355659 -0.166957     0.217816  1.000000   \n",
       "WindGustSpeed  0.230313  0.139978  0.082628     0.147367 -0.034623   \n",
       "WindSpeed9am   0.137219  0.016198  0.048726     0.133320 -0.068995   \n",
       "WindSpeed3pm   0.178676  0.089431  0.021594     0.121595 -0.004683   \n",
       "Humidity9am   -0.131170 -0.391472  0.227291    -0.235317 -0.316184   \n",
       "Humidity3pm    0.077566 -0.422893  0.234625    -0.170088 -0.420418   \n",
       "Pressure9am   -0.429389 -0.324840 -0.069595    -0.177701  0.025163   \n",
       "Pressure3pm   -0.422953 -0.402087 -0.031261    -0.189711 -0.032167   \n",
       "Cloud9am       0.078357 -0.254793  0.176615    -0.078895 -0.489100   \n",
       "Cloud3pm       0.022112 -0.253004  0.142066    -0.119121 -0.511608   \n",
       "Temp9am        0.886777  0.864741 -0.007002     0.316614  0.219135   \n",
       "Temp3pm        0.687180  0.973412 -0.089931     0.318278  0.375341   \n",
       "\n",
       "               WindGustSpeed  WindSpeed9am  WindSpeed3pm  Humidity9am  \\\n",
       "MinTemp             0.230313      0.137219      0.178676    -0.131170   \n",
       "MaxTemp             0.139978      0.016198      0.089431    -0.391472   \n",
       "Rainfall            0.082628      0.048726      0.021594     0.227291   \n",
       "Evaporation         0.147367      0.133320      0.121595    -0.235317   \n",
       "Sunshine           -0.034623     -0.068995     -0.004683    -0.316184   \n",
       "WindGustSpeed       1.000000      0.606090      0.639042    -0.271896   \n",
       "WindSpeed9am        0.606090      1.000000      0.560340    -0.358553   \n",
       "WindSpeed3pm        0.639042      0.560340      1.000000    -0.251098   \n",
       "Humidity9am        -0.271896     -0.358553     -0.251098     1.000000   \n",
       "Humidity3pm        -0.093647     -0.111581     -0.091026     0.633913   \n",
       "Pressure9am        -0.407139     -0.175584     -0.252752     0.142547   \n",
       "Pressure3pm        -0.372553     -0.139429     -0.208694     0.173575   \n",
       "Cloud9am            0.019763     -0.006931     -0.000171     0.399331   \n",
       "Cloud3pm            0.070237      0.047359     -0.001803     0.295328   \n",
       "Temp9am             0.202291      0.109860      0.184253    -0.378946   \n",
       "Temp3pm             0.102218      0.000140      0.065625    -0.383237   \n",
       "\n",
       "               Humidity3pm  Pressure9am  Pressure3pm  Cloud9am  Cloud3pm  \\\n",
       "MinTemp           0.077566    -0.429389    -0.422953  0.078357  0.022112   \n",
       "MaxTemp          -0.422893    -0.324840    -0.402087 -0.254793 -0.253004   \n",
       "Rainfall          0.234625    -0.069595    -0.031261  0.176615  0.142066   \n",
       "Evaporation      -0.170088    -0.177701    -0.189711 -0.078895 -0.119121   \n",
       "Sunshine         -0.420418     0.025163    -0.032167 -0.489100 -0.511608   \n",
       "WindGustSpeed    -0.093647    -0.407139    -0.372553  0.019763  0.070237   \n",
       "WindSpeed9am     -0.111581    -0.175584    -0.139429 -0.006931  0.047359   \n",
       "WindSpeed3pm     -0.091026    -0.252752    -0.208694 -0.000171 -0.001803   \n",
       "Humidity9am       0.633913     0.142547     0.173575  0.399331  0.295328   \n",
       "Humidity3pm       1.000000     0.001619     0.070234  0.408086  0.421099   \n",
       "Pressure9am       0.001619     1.000000     0.961435 -0.069128 -0.078967   \n",
       "Pressure3pm       0.070234     0.961435     1.000000 -0.011209 -0.025561   \n",
       "Cloud9am          0.408086    -0.069128    -0.011209  1.000000  0.579788   \n",
       "Cloud3pm          0.421099    -0.078967    -0.025561  0.579788  1.000000   \n",
       "Temp9am          -0.132231    -0.410268    -0.438727 -0.147042 -0.142185   \n",
       "Temp3pm          -0.491816    -0.282895    -0.369086 -0.266689 -0.292379   \n",
       "\n",
       "                Temp9am   Temp3pm  \n",
       "MinTemp        0.886777  0.687180  \n",
       "MaxTemp        0.864741  0.973412  \n",
       "Rainfall      -0.007002 -0.089931  \n",
       "Evaporation    0.316614  0.318278  \n",
       "Sunshine       0.219135  0.375341  \n",
       "WindGustSpeed  0.202291  0.102218  \n",
       "WindSpeed9am   0.109860  0.000140  \n",
       "WindSpeed3pm   0.184253  0.065625  \n",
       "Humidity9am   -0.378946 -0.383237  \n",
       "Humidity3pm   -0.132231 -0.491816  \n",
       "Pressure9am   -0.410268 -0.282895  \n",
       "Pressure3pm   -0.438727 -0.369086  \n",
       "Cloud9am      -0.147042 -0.266689  \n",
       "Cloud3pm      -0.142185 -0.292379  \n",
       "Temp9am        1.000000  0.835241  \n",
       "Temp3pm        0.835241  1.000000  "
      ]
     },
     "execution_count": 62,
     "metadata": {},
     "output_type": "execute_result"
    }
   ],
   "source": [
    "df.corr()"
   ]
  },
  {
   "cell_type": "code",
   "execution_count": 63,
   "id": "c95de70d",
   "metadata": {},
   "outputs": [
    {
     "data": {
      "image/png": "[encoded data removed]",
      "text/plain": [
       "<Figure size 720x576 with 2 Axes>"
      ]
     },
     "metadata": {
      "needs_background": "light"
     },
     "output_type": "display_data"
    }
   ],
   "source": [
    "plt.figure(figsize=(10, 8))\n",
    "sns.heatmap(df.corr(), annot = True)\n",
    "plt.title('Correlations between factors',fontsize=20)\n",
    "plt.savefig('correlation_between _factors.jpg')\n",
    "plt.show()"
   ]
  },
  {
   "cell_type": "code",
   "execution_count": 64,
   "id": "8994c3b2",
   "metadata": {},
   "outputs": [],
   "source": [
    "#using label encoder for categorical target (churn) for encoding \n",
    "le=LabelEncoder()\n",
    "df['RainToday']=le.fit_transform(df['RainToday'])"
   ]
  },
  {
   "cell_type": "code",
   "execution_count": 65,
   "id": "9c192c35",
   "metadata": {},
   "outputs": [
    {
     "data": {
      "text/plain": [
       "array(['No', 'Yes'], dtype=object)"
      ]
     },
     "execution_count": 65,
     "metadata": {},
     "output_type": "execute_result"
    }
   ],
   "source": [
    "le.inverse_transform([0,1])"
   ]
  },
  {
   "cell_type": "code",
   "execution_count": 66,
   "id": "0c8ac8bb",
   "metadata": {},
   "outputs": [],
   "source": [
    "le=LabelEncoder()\n",
    "df['RainTomorrow']=le.fit_transform(df['RainTomorrow'])"
   ]
  },
  {
   "cell_type": "code",
   "execution_count": 67,
   "id": "f7d93a8d",
   "metadata": {},
   "outputs": [
    {
     "data": {
      "text/plain": [
       "array(['No', 'Yes'], dtype=object)"
      ]
     },
     "execution_count": 67,
     "metadata": {},
     "output_type": "execute_result"
    }
   ],
   "source": [
    "le.inverse_transform([0,1])"
   ]
  },
  {
   "cell_type": "code",
   "execution_count": 68,
   "id": "1ac61235",
   "metadata": {},
   "outputs": [
    {
     "data": {
      "text/html": [
       "<div>\n",
       "<style scoped>\n",
       "    .dataframe tbody tr th:only-of-type {\n",
       "        vertical-align: middle;\n",
       "    }\n",
       "\n",
       "    .dataframe tbody tr th {\n",
       "        vertical-align: top;\n",
       "    }\n",
       "\n",
       "    .dataframe thead th {\n",
       "        text-align: right;\n",
       "    }\n",
       "</style>\n",
       "<table border=\"1\" class=\"dataframe\">\n",
       "  <thead>\n",
       "    <tr style=\"text-align: right;\">\n",
       "      <th></th>\n",
       "      <th>Date</th>\n",
       "      <th>Location</th>\n",
       "      <th>MinTemp</th>\n",
       "      <th>MaxTemp</th>\n",
       "      <th>Rainfall</th>\n",
       "      <th>Evaporation</th>\n",
       "      <th>Sunshine</th>\n",
       "      <th>WindGustDir</th>\n",
       "      <th>WindGustSpeed</th>\n",
       "      <th>WindDir9am</th>\n",
       "      <th>...</th>\n",
       "      <th>Humidity9am</th>\n",
       "      <th>Humidity3pm</th>\n",
       "      <th>Pressure9am</th>\n",
       "      <th>Pressure3pm</th>\n",
       "      <th>Cloud9am</th>\n",
       "      <th>Cloud3pm</th>\n",
       "      <th>Temp9am</th>\n",
       "      <th>Temp3pm</th>\n",
       "      <th>RainToday</th>\n",
       "      <th>RainTomorrow</th>\n",
       "    </tr>\n",
       "  </thead>\n",
       "  <tbody>\n",
       "    <tr>\n",
       "      <th>0</th>\n",
       "      <td>0.0</td>\n",
       "      <td>1.0</td>\n",
       "      <td>13.4</td>\n",
       "      <td>22.9</td>\n",
       "      <td>0.6</td>\n",
       "      <td>4.6</td>\n",
       "      <td>8.7</td>\n",
       "      <td>13.0</td>\n",
       "      <td>44.0</td>\n",
       "      <td>13.0</td>\n",
       "      <td>...</td>\n",
       "      <td>71.0</td>\n",
       "      <td>22.0</td>\n",
       "      <td>1007.7</td>\n",
       "      <td>1007.1</td>\n",
       "      <td>8.0</td>\n",
       "      <td>5.0</td>\n",
       "      <td>16.9</td>\n",
       "      <td>21.8</td>\n",
       "      <td>0</td>\n",
       "      <td>0</td>\n",
       "    </tr>\n",
       "    <tr>\n",
       "      <th>1</th>\n",
       "      <td>1.0</td>\n",
       "      <td>1.0</td>\n",
       "      <td>7.4</td>\n",
       "      <td>25.1</td>\n",
       "      <td>0.0</td>\n",
       "      <td>4.6</td>\n",
       "      <td>8.7</td>\n",
       "      <td>14.0</td>\n",
       "      <td>44.0</td>\n",
       "      <td>6.0</td>\n",
       "      <td>...</td>\n",
       "      <td>44.0</td>\n",
       "      <td>25.0</td>\n",
       "      <td>1010.6</td>\n",
       "      <td>1007.8</td>\n",
       "      <td>5.0</td>\n",
       "      <td>5.0</td>\n",
       "      <td>17.2</td>\n",
       "      <td>24.3</td>\n",
       "      <td>0</td>\n",
       "      <td>0</td>\n",
       "    </tr>\n",
       "    <tr>\n",
       "      <th>2</th>\n",
       "      <td>2.0</td>\n",
       "      <td>1.0</td>\n",
       "      <td>12.9</td>\n",
       "      <td>25.7</td>\n",
       "      <td>0.0</td>\n",
       "      <td>4.6</td>\n",
       "      <td>8.7</td>\n",
       "      <td>15.0</td>\n",
       "      <td>46.0</td>\n",
       "      <td>13.0</td>\n",
       "      <td>...</td>\n",
       "      <td>38.0</td>\n",
       "      <td>30.0</td>\n",
       "      <td>1007.6</td>\n",
       "      <td>1008.7</td>\n",
       "      <td>5.0</td>\n",
       "      <td>2.0</td>\n",
       "      <td>21.0</td>\n",
       "      <td>23.2</td>\n",
       "      <td>0</td>\n",
       "      <td>0</td>\n",
       "    </tr>\n",
       "    <tr>\n",
       "      <th>3</th>\n",
       "      <td>3.0</td>\n",
       "      <td>1.0</td>\n",
       "      <td>9.2</td>\n",
       "      <td>28.0</td>\n",
       "      <td>0.0</td>\n",
       "      <td>4.6</td>\n",
       "      <td>8.7</td>\n",
       "      <td>4.0</td>\n",
       "      <td>24.0</td>\n",
       "      <td>9.0</td>\n",
       "      <td>...</td>\n",
       "      <td>45.0</td>\n",
       "      <td>16.0</td>\n",
       "      <td>1017.6</td>\n",
       "      <td>1012.8</td>\n",
       "      <td>5.0</td>\n",
       "      <td>5.0</td>\n",
       "      <td>18.1</td>\n",
       "      <td>26.5</td>\n",
       "      <td>0</td>\n",
       "      <td>0</td>\n",
       "    </tr>\n",
       "    <tr>\n",
       "      <th>4</th>\n",
       "      <td>4.0</td>\n",
       "      <td>1.0</td>\n",
       "      <td>17.5</td>\n",
       "      <td>32.3</td>\n",
       "      <td>1.0</td>\n",
       "      <td>4.6</td>\n",
       "      <td>8.7</td>\n",
       "      <td>13.0</td>\n",
       "      <td>41.0</td>\n",
       "      <td>1.0</td>\n",
       "      <td>...</td>\n",
       "      <td>82.0</td>\n",
       "      <td>33.0</td>\n",
       "      <td>1010.8</td>\n",
       "      <td>1006.0</td>\n",
       "      <td>7.0</td>\n",
       "      <td>8.0</td>\n",
       "      <td>17.8</td>\n",
       "      <td>29.7</td>\n",
       "      <td>0</td>\n",
       "      <td>0</td>\n",
       "    </tr>\n",
       "    <tr>\n",
       "      <th>...</th>\n",
       "      <td>...</td>\n",
       "      <td>...</td>\n",
       "      <td>...</td>\n",
       "      <td>...</td>\n",
       "      <td>...</td>\n",
       "      <td>...</td>\n",
       "      <td>...</td>\n",
       "      <td>...</td>\n",
       "      <td>...</td>\n",
       "      <td>...</td>\n",
       "      <td>...</td>\n",
       "      <td>...</td>\n",
       "      <td>...</td>\n",
       "      <td>...</td>\n",
       "      <td>...</td>\n",
       "      <td>...</td>\n",
       "      <td>...</td>\n",
       "      <td>...</td>\n",
       "      <td>...</td>\n",
       "      <td>...</td>\n",
       "      <td>...</td>\n",
       "    </tr>\n",
       "    <tr>\n",
       "      <th>8420</th>\n",
       "      <td>2999.0</td>\n",
       "      <td>9.0</td>\n",
       "      <td>2.8</td>\n",
       "      <td>23.4</td>\n",
       "      <td>0.0</td>\n",
       "      <td>4.6</td>\n",
       "      <td>8.7</td>\n",
       "      <td>0.0</td>\n",
       "      <td>31.0</td>\n",
       "      <td>9.0</td>\n",
       "      <td>...</td>\n",
       "      <td>51.0</td>\n",
       "      <td>24.0</td>\n",
       "      <td>1024.6</td>\n",
       "      <td>1020.3</td>\n",
       "      <td>5.0</td>\n",
       "      <td>5.0</td>\n",
       "      <td>10.1</td>\n",
       "      <td>22.4</td>\n",
       "      <td>0</td>\n",
       "      <td>0</td>\n",
       "    </tr>\n",
       "    <tr>\n",
       "      <th>8421</th>\n",
       "      <td>3000.0</td>\n",
       "      <td>9.0</td>\n",
       "      <td>3.6</td>\n",
       "      <td>25.3</td>\n",
       "      <td>0.0</td>\n",
       "      <td>4.6</td>\n",
       "      <td>8.7</td>\n",
       "      <td>6.0</td>\n",
       "      <td>22.0</td>\n",
       "      <td>9.0</td>\n",
       "      <td>...</td>\n",
       "      <td>56.0</td>\n",
       "      <td>21.0</td>\n",
       "      <td>1023.5</td>\n",
       "      <td>1019.1</td>\n",
       "      <td>5.0</td>\n",
       "      <td>5.0</td>\n",
       "      <td>10.9</td>\n",
       "      <td>24.5</td>\n",
       "      <td>0</td>\n",
       "      <td>0</td>\n",
       "    </tr>\n",
       "    <tr>\n",
       "      <th>8422</th>\n",
       "      <td>3001.0</td>\n",
       "      <td>9.0</td>\n",
       "      <td>5.4</td>\n",
       "      <td>26.9</td>\n",
       "      <td>0.0</td>\n",
       "      <td>4.6</td>\n",
       "      <td>8.7</td>\n",
       "      <td>3.0</td>\n",
       "      <td>37.0</td>\n",
       "      <td>9.0</td>\n",
       "      <td>...</td>\n",
       "      <td>53.0</td>\n",
       "      <td>24.0</td>\n",
       "      <td>1021.0</td>\n",
       "      <td>1016.8</td>\n",
       "      <td>5.0</td>\n",
       "      <td>5.0</td>\n",
       "      <td>12.5</td>\n",
       "      <td>26.1</td>\n",
       "      <td>0</td>\n",
       "      <td>0</td>\n",
       "    </tr>\n",
       "    <tr>\n",
       "      <th>8423</th>\n",
       "      <td>3002.0</td>\n",
       "      <td>9.0</td>\n",
       "      <td>7.8</td>\n",
       "      <td>27.0</td>\n",
       "      <td>0.0</td>\n",
       "      <td>4.6</td>\n",
       "      <td>8.7</td>\n",
       "      <td>9.0</td>\n",
       "      <td>28.0</td>\n",
       "      <td>10.0</td>\n",
       "      <td>...</td>\n",
       "      <td>51.0</td>\n",
       "      <td>24.0</td>\n",
       "      <td>1019.4</td>\n",
       "      <td>1016.5</td>\n",
       "      <td>3.0</td>\n",
       "      <td>2.0</td>\n",
       "      <td>15.1</td>\n",
       "      <td>26.0</td>\n",
       "      <td>0</td>\n",
       "      <td>0</td>\n",
       "    </tr>\n",
       "    <tr>\n",
       "      <th>8424</th>\n",
       "      <td>3003.0</td>\n",
       "      <td>9.0</td>\n",
       "      <td>14.9</td>\n",
       "      <td>19.0</td>\n",
       "      <td>0.0</td>\n",
       "      <td>4.6</td>\n",
       "      <td>8.7</td>\n",
       "      <td>3.0</td>\n",
       "      <td>39.0</td>\n",
       "      <td>2.0</td>\n",
       "      <td>...</td>\n",
       "      <td>62.0</td>\n",
       "      <td>36.0</td>\n",
       "      <td>1020.2</td>\n",
       "      <td>1017.9</td>\n",
       "      <td>8.0</td>\n",
       "      <td>8.0</td>\n",
       "      <td>15.0</td>\n",
       "      <td>20.9</td>\n",
       "      <td>0</td>\n",
       "      <td>0</td>\n",
       "    </tr>\n",
       "  </tbody>\n",
       "</table>\n",
       "<p>8425 rows × 23 columns</p>\n",
       "</div>"
      ],
      "text/plain": [
       "        Date  Location  MinTemp  MaxTemp  Rainfall  Evaporation  Sunshine  \\\n",
       "0        0.0       1.0     13.4     22.9       0.6          4.6       8.7   \n",
       "1        1.0       1.0      7.4     25.1       0.0          4.6       8.7   \n",
       "2        2.0       1.0     12.9     25.7       0.0          4.6       8.7   \n",
       "3        3.0       1.0      9.2     28.0       0.0          4.6       8.7   \n",
       "4        4.0       1.0     17.5     32.3       1.0          4.6       8.7   \n",
       "...      ...       ...      ...      ...       ...          ...       ...   \n",
       "8420  2999.0       9.0      2.8     23.4       0.0          4.6       8.7   \n",
       "8421  3000.0       9.0      3.6     25.3       0.0          4.6       8.7   \n",
       "8422  3001.0       9.0      5.4     26.9       0.0          4.6       8.7   \n",
       "8423  3002.0       9.0      7.8     27.0       0.0          4.6       8.7   \n",
       "8424  3003.0       9.0     14.9     19.0       0.0          4.6       8.7   \n",
       "\n",
       "      WindGustDir  WindGustSpeed  WindDir9am  ...  Humidity9am  Humidity3pm  \\\n",
       "0            13.0           44.0        13.0  ...         71.0         22.0   \n",
       "1            14.0           44.0         6.0  ...         44.0         25.0   \n",
       "2            15.0           46.0        13.0  ...         38.0         30.0   \n",
       "3             4.0           24.0         9.0  ...         45.0         16.0   \n",
       "4            13.0           41.0         1.0  ...         82.0         33.0   \n",
       "...           ...            ...         ...  ...          ...          ...   \n",
       "8420          0.0           31.0         9.0  ...         51.0         24.0   \n",
       "8421          6.0           22.0         9.0  ...         56.0         21.0   \n",
       "8422          3.0           37.0         9.0  ...         53.0         24.0   \n",
       "8423          9.0           28.0        10.0  ...         51.0         24.0   \n",
       "8424          3.0           39.0         2.0  ...         62.0         36.0   \n",
       "\n",
       "      Pressure9am  Pressure3pm  Cloud9am  Cloud3pm  Temp9am  Temp3pm  \\\n",
       "0          1007.7       1007.1       8.0       5.0     16.9     21.8   \n",
       "1          1010.6       1007.8       5.0       5.0     17.2     24.3   \n",
       "2          1007.6       1008.7       5.0       2.0     21.0     23.2   \n",
       "3          1017.6       1012.8       5.0       5.0     18.1     26.5   \n",
       "4          1010.8       1006.0       7.0       8.0     17.8     29.7   \n",
       "...           ...          ...       ...       ...      ...      ...   \n",
       "8420       1024.6       1020.3       5.0       5.0     10.1     22.4   \n",
       "8421       1023.5       1019.1       5.0       5.0     10.9     24.5   \n",
       "8422       1021.0       1016.8       5.0       5.0     12.5     26.1   \n",
       "8423       1019.4       1016.5       3.0       2.0     15.1     26.0   \n",
       "8424       1020.2       1017.9       8.0       8.0     15.0     20.9   \n",
       "\n",
       "      RainToday  RainTomorrow  \n",
       "0             0             0  \n",
       "1             0             0  \n",
       "2             0             0  \n",
       "3             0             0  \n",
       "4             0             0  \n",
       "...         ...           ...  \n",
       "8420          0             0  \n",
       "8421          0             0  \n",
       "8422          0             0  \n",
       "8423          0             0  \n",
       "8424          0             0  \n",
       "\n",
       "[8425 rows x 23 columns]"
      ]
     },
     "execution_count": 68,
     "metadata": {},
     "output_type": "execute_result"
    }
   ],
   "source": [
    "enc=OrdinalEncoder()\n",
    "for i in df.columns:\n",
    "    if df[i].dtypes==\"object\":\n",
    "        df[i]=enc.fit_transform(df[i].values.reshape(-1,1))\n",
    "df"
   ]
  },
  {
   "cell_type": "code",
   "execution_count": 69,
   "id": "f6d91c20",
   "metadata": {},
   "outputs": [
    {
     "data": {
      "text/html": [
       "<div>\n",
       "<style scoped>\n",
       "    .dataframe tbody tr th:only-of-type {\n",
       "        vertical-align: middle;\n",
       "    }\n",
       "\n",
       "    .dataframe tbody tr th {\n",
       "        vertical-align: top;\n",
       "    }\n",
       "\n",
       "    .dataframe thead th {\n",
       "        text-align: right;\n",
       "    }\n",
       "</style>\n",
       "<table border=\"1\" class=\"dataframe\">\n",
       "  <thead>\n",
       "    <tr style=\"text-align: right;\">\n",
       "      <th></th>\n",
       "      <th>Date</th>\n",
       "      <th>Location</th>\n",
       "      <th>MinTemp</th>\n",
       "      <th>MaxTemp</th>\n",
       "      <th>Rainfall</th>\n",
       "      <th>Evaporation</th>\n",
       "      <th>Sunshine</th>\n",
       "      <th>WindGustDir</th>\n",
       "      <th>WindGustSpeed</th>\n",
       "      <th>WindDir9am</th>\n",
       "      <th>...</th>\n",
       "      <th>Humidity9am</th>\n",
       "      <th>Humidity3pm</th>\n",
       "      <th>Pressure9am</th>\n",
       "      <th>Pressure3pm</th>\n",
       "      <th>Cloud9am</th>\n",
       "      <th>Cloud3pm</th>\n",
       "      <th>Temp9am</th>\n",
       "      <th>Temp3pm</th>\n",
       "      <th>RainToday</th>\n",
       "      <th>RainTomorrow</th>\n",
       "    </tr>\n",
       "  </thead>\n",
       "  <tbody>\n",
       "    <tr>\n",
       "      <th>0</th>\n",
       "      <td>0.0</td>\n",
       "      <td>1.0</td>\n",
       "      <td>13.4</td>\n",
       "      <td>22.9</td>\n",
       "      <td>0.6</td>\n",
       "      <td>4.6</td>\n",
       "      <td>8.7</td>\n",
       "      <td>13.0</td>\n",
       "      <td>44.0</td>\n",
       "      <td>13.0</td>\n",
       "      <td>...</td>\n",
       "      <td>71.0</td>\n",
       "      <td>22.0</td>\n",
       "      <td>1007.7</td>\n",
       "      <td>1007.1</td>\n",
       "      <td>8.0</td>\n",
       "      <td>5.0</td>\n",
       "      <td>16.9</td>\n",
       "      <td>21.8</td>\n",
       "      <td>0</td>\n",
       "      <td>0</td>\n",
       "    </tr>\n",
       "    <tr>\n",
       "      <th>1</th>\n",
       "      <td>1.0</td>\n",
       "      <td>1.0</td>\n",
       "      <td>7.4</td>\n",
       "      <td>25.1</td>\n",
       "      <td>0.0</td>\n",
       "      <td>4.6</td>\n",
       "      <td>8.7</td>\n",
       "      <td>14.0</td>\n",
       "      <td>44.0</td>\n",
       "      <td>6.0</td>\n",
       "      <td>...</td>\n",
       "      <td>44.0</td>\n",
       "      <td>25.0</td>\n",
       "      <td>1010.6</td>\n",
       "      <td>1007.8</td>\n",
       "      <td>5.0</td>\n",
       "      <td>5.0</td>\n",
       "      <td>17.2</td>\n",
       "      <td>24.3</td>\n",
       "      <td>0</td>\n",
       "      <td>0</td>\n",
       "    </tr>\n",
       "    <tr>\n",
       "      <th>2</th>\n",
       "      <td>2.0</td>\n",
       "      <td>1.0</td>\n",
       "      <td>12.9</td>\n",
       "      <td>25.7</td>\n",
       "      <td>0.0</td>\n",
       "      <td>4.6</td>\n",
       "      <td>8.7</td>\n",
       "      <td>15.0</td>\n",
       "      <td>46.0</td>\n",
       "      <td>13.0</td>\n",
       "      <td>...</td>\n",
       "      <td>38.0</td>\n",
       "      <td>30.0</td>\n",
       "      <td>1007.6</td>\n",
       "      <td>1008.7</td>\n",
       "      <td>5.0</td>\n",
       "      <td>2.0</td>\n",
       "      <td>21.0</td>\n",
       "      <td>23.2</td>\n",
       "      <td>0</td>\n",
       "      <td>0</td>\n",
       "    </tr>\n",
       "    <tr>\n",
       "      <th>3</th>\n",
       "      <td>3.0</td>\n",
       "      <td>1.0</td>\n",
       "      <td>9.2</td>\n",
       "      <td>28.0</td>\n",
       "      <td>0.0</td>\n",
       "      <td>4.6</td>\n",
       "      <td>8.7</td>\n",
       "      <td>4.0</td>\n",
       "      <td>24.0</td>\n",
       "      <td>9.0</td>\n",
       "      <td>...</td>\n",
       "      <td>45.0</td>\n",
       "      <td>16.0</td>\n",
       "      <td>1017.6</td>\n",
       "      <td>1012.8</td>\n",
       "      <td>5.0</td>\n",
       "      <td>5.0</td>\n",
       "      <td>18.1</td>\n",
       "      <td>26.5</td>\n",
       "      <td>0</td>\n",
       "      <td>0</td>\n",
       "    </tr>\n",
       "    <tr>\n",
       "      <th>4</th>\n",
       "      <td>4.0</td>\n",
       "      <td>1.0</td>\n",
       "      <td>17.5</td>\n",
       "      <td>32.3</td>\n",
       "      <td>1.0</td>\n",
       "      <td>4.6</td>\n",
       "      <td>8.7</td>\n",
       "      <td>13.0</td>\n",
       "      <td>41.0</td>\n",
       "      <td>1.0</td>\n",
       "      <td>...</td>\n",
       "      <td>82.0</td>\n",
       "      <td>33.0</td>\n",
       "      <td>1010.8</td>\n",
       "      <td>1006.0</td>\n",
       "      <td>7.0</td>\n",
       "      <td>8.0</td>\n",
       "      <td>17.8</td>\n",
       "      <td>29.7</td>\n",
       "      <td>0</td>\n",
       "      <td>0</td>\n",
       "    </tr>\n",
       "    <tr>\n",
       "      <th>...</th>\n",
       "      <td>...</td>\n",
       "      <td>...</td>\n",
       "      <td>...</td>\n",
       "      <td>...</td>\n",
       "      <td>...</td>\n",
       "      <td>...</td>\n",
       "      <td>...</td>\n",
       "      <td>...</td>\n",
       "      <td>...</td>\n",
       "      <td>...</td>\n",
       "      <td>...</td>\n",
       "      <td>...</td>\n",
       "      <td>...</td>\n",
       "      <td>...</td>\n",
       "      <td>...</td>\n",
       "      <td>...</td>\n",
       "      <td>...</td>\n",
       "      <td>...</td>\n",
       "      <td>...</td>\n",
       "      <td>...</td>\n",
       "      <td>...</td>\n",
       "    </tr>\n",
       "    <tr>\n",
       "      <th>8420</th>\n",
       "      <td>2999.0</td>\n",
       "      <td>9.0</td>\n",
       "      <td>2.8</td>\n",
       "      <td>23.4</td>\n",
       "      <td>0.0</td>\n",
       "      <td>4.6</td>\n",
       "      <td>8.7</td>\n",
       "      <td>0.0</td>\n",
       "      <td>31.0</td>\n",
       "      <td>9.0</td>\n",
       "      <td>...</td>\n",
       "      <td>51.0</td>\n",
       "      <td>24.0</td>\n",
       "      <td>1024.6</td>\n",
       "      <td>1020.3</td>\n",
       "      <td>5.0</td>\n",
       "      <td>5.0</td>\n",
       "      <td>10.1</td>\n",
       "      <td>22.4</td>\n",
       "      <td>0</td>\n",
       "      <td>0</td>\n",
       "    </tr>\n",
       "    <tr>\n",
       "      <th>8421</th>\n",
       "      <td>3000.0</td>\n",
       "      <td>9.0</td>\n",
       "      <td>3.6</td>\n",
       "      <td>25.3</td>\n",
       "      <td>0.0</td>\n",
       "      <td>4.6</td>\n",
       "      <td>8.7</td>\n",
       "      <td>6.0</td>\n",
       "      <td>22.0</td>\n",
       "      <td>9.0</td>\n",
       "      <td>...</td>\n",
       "      <td>56.0</td>\n",
       "      <td>21.0</td>\n",
       "      <td>1023.5</td>\n",
       "      <td>1019.1</td>\n",
       "      <td>5.0</td>\n",
       "      <td>5.0</td>\n",
       "      <td>10.9</td>\n",
       "      <td>24.5</td>\n",
       "      <td>0</td>\n",
       "      <td>0</td>\n",
       "    </tr>\n",
       "    <tr>\n",
       "      <th>8422</th>\n",
       "      <td>3001.0</td>\n",
       "      <td>9.0</td>\n",
       "      <td>5.4</td>\n",
       "      <td>26.9</td>\n",
       "      <td>0.0</td>\n",
       "      <td>4.6</td>\n",
       "      <td>8.7</td>\n",
       "      <td>3.0</td>\n",
       "      <td>37.0</td>\n",
       "      <td>9.0</td>\n",
       "      <td>...</td>\n",
       "      <td>53.0</td>\n",
       "      <td>24.0</td>\n",
       "      <td>1021.0</td>\n",
       "      <td>1016.8</td>\n",
       "      <td>5.0</td>\n",
       "      <td>5.0</td>\n",
       "      <td>12.5</td>\n",
       "      <td>26.1</td>\n",
       "      <td>0</td>\n",
       "      <td>0</td>\n",
       "    </tr>\n",
       "    <tr>\n",
       "      <th>8423</th>\n",
       "      <td>3002.0</td>\n",
       "      <td>9.0</td>\n",
       "      <td>7.8</td>\n",
       "      <td>27.0</td>\n",
       "      <td>0.0</td>\n",
       "      <td>4.6</td>\n",
       "      <td>8.7</td>\n",
       "      <td>9.0</td>\n",
       "      <td>28.0</td>\n",
       "      <td>10.0</td>\n",
       "      <td>...</td>\n",
       "      <td>51.0</td>\n",
       "      <td>24.0</td>\n",
       "      <td>1019.4</td>\n",
       "      <td>1016.5</td>\n",
       "      <td>3.0</td>\n",
       "      <td>2.0</td>\n",
       "      <td>15.1</td>\n",
       "      <td>26.0</td>\n",
       "      <td>0</td>\n",
       "      <td>0</td>\n",
       "    </tr>\n",
       "    <tr>\n",
       "      <th>8424</th>\n",
       "      <td>3003.0</td>\n",
       "      <td>9.0</td>\n",
       "      <td>14.9</td>\n",
       "      <td>19.0</td>\n",
       "      <td>0.0</td>\n",
       "      <td>4.6</td>\n",
       "      <td>8.7</td>\n",
       "      <td>3.0</td>\n",
       "      <td>39.0</td>\n",
       "      <td>2.0</td>\n",
       "      <td>...</td>\n",
       "      <td>62.0</td>\n",
       "      <td>36.0</td>\n",
       "      <td>1020.2</td>\n",
       "      <td>1017.9</td>\n",
       "      <td>8.0</td>\n",
       "      <td>8.0</td>\n",
       "      <td>15.0</td>\n",
       "      <td>20.9</td>\n",
       "      <td>0</td>\n",
       "      <td>0</td>\n",
       "    </tr>\n",
       "  </tbody>\n",
       "</table>\n",
       "<p>8425 rows × 23 columns</p>\n",
       "</div>"
      ],
      "text/plain": [
       "        Date  Location  MinTemp  MaxTemp  Rainfall  Evaporation  Sunshine  \\\n",
       "0        0.0       1.0     13.4     22.9       0.6          4.6       8.7   \n",
       "1        1.0       1.0      7.4     25.1       0.0          4.6       8.7   \n",
       "2        2.0       1.0     12.9     25.7       0.0          4.6       8.7   \n",
       "3        3.0       1.0      9.2     28.0       0.0          4.6       8.7   \n",
       "4        4.0       1.0     17.5     32.3       1.0          4.6       8.7   \n",
       "...      ...       ...      ...      ...       ...          ...       ...   \n",
       "8420  2999.0       9.0      2.8     23.4       0.0          4.6       8.7   \n",
       "8421  3000.0       9.0      3.6     25.3       0.0          4.6       8.7   \n",
       "8422  3001.0       9.0      5.4     26.9       0.0          4.6       8.7   \n",
       "8423  3002.0       9.0      7.8     27.0       0.0          4.6       8.7   \n",
       "8424  3003.0       9.0     14.9     19.0       0.0          4.6       8.7   \n",
       "\n",
       "      WindGustDir  WindGustSpeed  WindDir9am  ...  Humidity9am  Humidity3pm  \\\n",
       "0            13.0           44.0        13.0  ...         71.0         22.0   \n",
       "1            14.0           44.0         6.0  ...         44.0         25.0   \n",
       "2            15.0           46.0        13.0  ...         38.0         30.0   \n",
       "3             4.0           24.0         9.0  ...         45.0         16.0   \n",
       "4            13.0           41.0         1.0  ...         82.0         33.0   \n",
       "...           ...            ...         ...  ...          ...          ...   \n",
       "8420          0.0           31.0         9.0  ...         51.0         24.0   \n",
       "8421          6.0           22.0         9.0  ...         56.0         21.0   \n",
       "8422          3.0           37.0         9.0  ...         53.0         24.0   \n",
       "8423          9.0           28.0        10.0  ...         51.0         24.0   \n",
       "8424          3.0           39.0         2.0  ...         62.0         36.0   \n",
       "\n",
       "      Pressure9am  Pressure3pm  Cloud9am  Cloud3pm  Temp9am  Temp3pm  \\\n",
       "0          1007.7       1007.1       8.0       5.0     16.9     21.8   \n",
       "1          1010.6       1007.8       5.0       5.0     17.2     24.3   \n",
       "2          1007.6       1008.7       5.0       2.0     21.0     23.2   \n",
       "3          1017.6       1012.8       5.0       5.0     18.1     26.5   \n",
       "4          1010.8       1006.0       7.0       8.0     17.8     29.7   \n",
       "...           ...          ...       ...       ...      ...      ...   \n",
       "8420       1024.6       1020.3       5.0       5.0     10.1     22.4   \n",
       "8421       1023.5       1019.1       5.0       5.0     10.9     24.5   \n",
       "8422       1021.0       1016.8       5.0       5.0     12.5     26.1   \n",
       "8423       1019.4       1016.5       3.0       2.0     15.1     26.0   \n",
       "8424       1020.2       1017.9       8.0       8.0     15.0     20.9   \n",
       "\n",
       "      RainToday  RainTomorrow  \n",
       "0             0             0  \n",
       "1             0             0  \n",
       "2             0             0  \n",
       "3             0             0  \n",
       "4             0             0  \n",
       "...         ...           ...  \n",
       "8420          0             0  \n",
       "8421          0             0  \n",
       "8422          0             0  \n",
       "8423          0             0  \n",
       "8424          0             0  \n",
       "\n",
       "[8425 rows x 23 columns]"
      ]
     },
     "execution_count": 69,
     "metadata": {},
     "output_type": "execute_result"
    }
   ],
   "source": [
    "df"
   ]
  },
  {
   "cell_type": "code",
   "execution_count": 70,
   "id": "d573469c",
   "metadata": {},
   "outputs": [
    {
     "data": {
      "text/plain": [
       "0    6435\n",
       "1    1990\n",
       "Name: RainToday, dtype: int64"
      ]
     },
     "execution_count": 70,
     "metadata": {},
     "output_type": "execute_result"
    },
    {
     "data": {
      "image/png": "[encoded data removed]",
      "text/plain": [
       "<Figure size 432x288 with 1 Axes>"
      ]
     },
     "metadata": {
      "needs_background": "light"
     },
     "output_type": "display_data"
    }
   ],
   "source": [
    "#now we see the count of loan status\n",
    "sns.countplot(df['RainToday'])\n",
    "df['RainToday'].value_counts()"
   ]
  },
  {
   "cell_type": "code",
   "execution_count": 71,
   "id": "667e5330",
   "metadata": {},
   "outputs": [
    {
     "name": "stdout",
     "output_type": "stream",
     "text": [
      "RainToday        1.000000\n",
      "Rainfall         0.464941\n",
      "Humidity9am      0.373285\n",
      "Humidity3pm      0.358895\n",
      "RainTomorrow     0.312929\n",
      "Cloud9am         0.272066\n",
      "Cloud3pm         0.233150\n",
      "WindDir9am       0.157324\n",
      "WindGustDir      0.125188\n",
      "WindDir3pm       0.100125\n",
      "WindGustSpeed    0.076890\n",
      "MinTemp          0.065191\n",
      "WindSpeed9am     0.035575\n",
      "WindSpeed3pm     0.015211\n",
      "Location         0.003071\n",
      "Date            -0.011365\n",
      "Pressure3pm     -0.033976\n",
      "Evaporation     -0.090225\n",
      "Temp9am         -0.096325\n",
      "Pressure9am     -0.104390\n",
      "MaxTemp         -0.222793\n",
      "Sunshine        -0.228963\n",
      "Temp3pm         -0.233437\n",
      "Name: RainToday, dtype: float64\n"
     ]
    }
   ],
   "source": [
    "#loan application approved more no of times than it is rejected.....\n",
    "\n",
    "correlations = df.corr()['RainToday'].sort_values(ascending=False)\n",
    "print(correlations)"
   ]
  },
  {
   "cell_type": "code",
   "execution_count": 72,
   "id": "9366938a",
   "metadata": {},
   "outputs": [
    {
     "data": {
      "text/plain": [
       "<AxesSubplot:>"
      ]
     },
     "execution_count": 72,
     "metadata": {},
     "output_type": "execute_result"
    },
    {
     "data": {
      "image/png": "[encoded data removed]",
      "text/plain": [
       "<Figure size 432x288 with 1 Axes>"
      ]
     },
     "metadata": {
      "needs_background": "light"
     },
     "output_type": "display_data"
    }
   ],
   "source": [
    "#the attributes share positive as well as negaative correlation with the target\n",
    "\n",
    "correlations.plot(kind='bar')"
   ]
  },
  {
   "cell_type": "code",
   "execution_count": 73,
   "id": "1d5e55b5",
   "metadata": {},
   "outputs": [
    {
     "data": {
      "text/plain": [
       "<AxesSubplot:xlabel='RainToday', ylabel='Humidity9am'>"
      ]
     },
     "execution_count": 73,
     "metadata": {},
     "output_type": "execute_result"
    },
    {
     "data": {
      "image/png": "[encoded data removed]",
      "text/plain": [
       "<Figure size 432x288 with 1 Axes>"
      ]
     },
     "metadata": {
      "needs_background": "light"
     },
     "output_type": "display_data"
    }
   ],
   "source": [
    "sns.stripplot(x='RainToday',y='Humidity9am', data=df)"
   ]
  },
  {
   "cell_type": "code",
   "execution_count": null,
   "id": "3f1db71a",
   "metadata": {},
   "outputs": [],
   "source": [
    "#when humidity is above 40% then their is max chance of rain"
   ]
  },
  {
   "cell_type": "code",
   "execution_count": 74,
   "id": "e477740d",
   "metadata": {},
   "outputs": [
    {
     "data": {
      "text/plain": [
       "<AxesSubplot:xlabel='RainToday', ylabel='Humidity3pm'>"
      ]
     },
     "execution_count": 74,
     "metadata": {},
     "output_type": "execute_result"
    },
    {
     "data": {
      "image/png": "[encoded data removed]",
      "text/plain": [
       "<Figure size 432x288 with 1 Axes>"
      ]
     },
     "metadata": {
      "needs_background": "light"
     },
     "output_type": "display_data"
    }
   ],
   "source": [
    "sns.stripplot(x='RainToday',y='Humidity3pm', data=df)"
   ]
  },
  {
   "cell_type": "code",
   "execution_count": null,
   "id": "ba9430a0",
   "metadata": {},
   "outputs": [],
   "source": [
    "#in this time zone when humidity is above 30% then their is max chances of rainfall"
   ]
  },
  {
   "cell_type": "code",
   "execution_count": 77,
   "id": "155dc168",
   "metadata": {},
   "outputs": [
    {
     "data": {
      "text/plain": [
       "<AxesSubplot:xlabel='RainToday', ylabel='MinTemp'>"
      ]
     },
     "execution_count": 77,
     "metadata": {},
     "output_type": "execute_result"
    },
    {
     "data": {
      "image/png": "[encoded data removed]",
      "text/plain": [
       "<Figure size 432x288 with 1 Axes>"
      ]
     },
     "metadata": {
      "needs_background": "light"
     },
     "output_type": "display_data"
    }
   ],
   "source": [
    "sns.stripplot(x='RainToday',y='MinTemp', data=df)"
   ]
  },
  {
   "cell_type": "code",
   "execution_count": null,
   "id": "62dc32d3",
   "metadata": {},
   "outputs": [],
   "source": [
    "#when min temp is between 5-20 then their are high chances of rain"
   ]
  },
  {
   "cell_type": "code",
   "execution_count": 160,
   "id": "deb118df",
   "metadata": {},
   "outputs": [
    {
     "data": {
      "text/plain": [
       "<AxesSubplot:xlabel='RainToday', ylabel='MaxTemp'>"
      ]
     },
     "execution_count": 160,
     "metadata": {},
     "output_type": "execute_result"
    },
    {
     "data": {
      "image/png": "[encoded data removed]",
      "text/plain": [
       "<Figure size 432x288 with 1 Axes>"
      ]
     },
     "metadata": {
      "needs_background": "light"
     },
     "output_type": "display_data"
    }
   ],
   "source": [
    "sns.stripplot(x='RainToday',y='MaxTemp', data=df)"
   ]
  },
  {
   "cell_type": "code",
   "execution_count": null,
   "id": "3d227fba",
   "metadata": {},
   "outputs": [],
   "source": [
    "#when max temp is between 12-30 then their are max chances of rain"
   ]
  },
  {
   "cell_type": "code",
   "execution_count": 163,
   "id": "fdbc726d",
   "metadata": {},
   "outputs": [
    {
     "data": {
      "text/plain": [
       "<AxesSubplot:xlabel='RainToday', ylabel='WindGustSpeed'>"
      ]
     },
     "execution_count": 163,
     "metadata": {},
     "output_type": "execute_result"
    },
    {
     "data": {
      "image/png": "[encoded data removed]",
      "text/plain": [
       "<Figure size 432x288 with 1 Axes>"
      ]
     },
     "metadata": {
      "needs_background": "light"
     },
     "output_type": "display_data"
    }
   ],
   "source": [
    "sns.stripplot(x='RainToday',y='WindGustSpeed', data=df)"
   ]
  },
  {
   "cell_type": "code",
   "execution_count": null,
   "id": "7d2c3888",
   "metadata": {},
   "outputs": [],
   "source": [
    "#when wind gust speed is between 20 -60 then there are max chances of rainfall"
   ]
  },
  {
   "cell_type": "code",
   "execution_count": 162,
   "id": "c132e232",
   "metadata": {},
   "outputs": [
    {
     "data": {
      "text/plain": [
       "<AxesSubplot:xlabel='Humidity9am', ylabel='Cloud9am'>"
      ]
     },
     "execution_count": 162,
     "metadata": {},
     "output_type": "execute_result"
    },
    {
     "data": {
      "image/png": "[encoded data removed]",
      "text/plain": [
       "<Figure size 432x288 with 1 Axes>"
      ]
     },
     "metadata": {
      "needs_background": "light"
     },
     "output_type": "display_data"
    }
   ],
   "source": [
    "sns.lineplot(y='Cloud9am',x='Humidity9am', data=df)"
   ]
  },
  {
   "cell_type": "code",
   "execution_count": null,
   "id": "2b55614b",
   "metadata": {},
   "outputs": [],
   "source": [
    "#when their are clouds then we can expect humidity but not more as the temp is low at morning"
   ]
  },
  {
   "cell_type": "code",
   "execution_count": 120,
   "id": "bae02037",
   "metadata": {},
   "outputs": [
    {
     "data": {
      "text/plain": [
       "<AxesSubplot:xlabel='Humidity3pm', ylabel='Cloud3pm'>"
      ]
     },
     "execution_count": 120,
     "metadata": {},
     "output_type": "execute_result"
    },
    {
     "data": {
      "image/png": "[encoded data removed]",
      "text/plain": [
       "<Figure size 432x288 with 1 Axes>"
      ]
     },
     "metadata": {
      "needs_background": "light"
     },
     "output_type": "display_data"
    }
   ],
   "source": [
    "sns.lineplot(y='Cloud3pm',x='Humidity3pm', data=df)"
   ]
  },
  {
   "cell_type": "code",
   "execution_count": null,
   "id": "b2cfc727",
   "metadata": {},
   "outputs": [],
   "source": [
    "#but at this time the same clouds can createmore humidity"
   ]
  },
  {
   "cell_type": "code",
   "execution_count": 123,
   "id": "b3a84c7d",
   "metadata": {},
   "outputs": [
    {
     "data": {
      "text/plain": [
       "<AxesSubplot:xlabel='RainToday', ylabel='Humidity3pm'>"
      ]
     },
     "execution_count": 123,
     "metadata": {},
     "output_type": "execute_result"
    },
    {
     "data": {
      "image/png": "[encoded data removed]",
      "text/plain": [
       "<Figure size 432x288 with 1 Axes>"
      ]
     },
     "metadata": {
      "needs_background": "light"
     },
     "output_type": "display_data"
    }
   ],
   "source": [
    "sns.scatterplot(x=\"RainToday\", y=\"Humidity3pm\", hue=\"MaxTemp\", data=df)"
   ]
  },
  {
   "cell_type": "code",
   "execution_count": null,
   "id": "2208393b",
   "metadata": {},
   "outputs": [],
   "source": [
    "#so we can say by this plot that humidity is more at peak day time and the chances of rainfall are more at that time "
   ]
  },
  {
   "cell_type": "code",
   "execution_count": 124,
   "id": "79f326d2",
   "metadata": {},
   "outputs": [
    {
     "data": {
      "text/plain": [
       "<AxesSubplot:xlabel='RainToday', ylabel='Humidity9am'>"
      ]
     },
     "execution_count": 124,
     "metadata": {},
     "output_type": "execute_result"
    },
    {
     "data": {
      "image/png": "[encoded data removed]",
      "text/plain": [
       "<Figure size 432x288 with 1 Axes>"
      ]
     },
     "metadata": {
      "needs_background": "light"
     },
     "output_type": "display_data"
    }
   ],
   "source": [
    "sns.scatterplot(x=\"RainToday\", y=\"Humidity9am\", hue=\"MinTemp\", data=df)"
   ]
  },
  {
   "cell_type": "code",
   "execution_count": null,
   "id": "7fe60ad7",
   "metadata": {},
   "outputs": [],
   "source": [
    "#in this plot it is clear that when temp is low humidityis higher"
   ]
  },
  {
   "cell_type": "code",
   "execution_count": 125,
   "id": "f680fd8f",
   "metadata": {},
   "outputs": [],
   "source": [
    "#dropping target column and unwanted columns:\n",
    "X = df.drop(columns=['RainToday','RainTomorrow'])\n",
    "y = df['RainToday']"
   ]
  },
  {
   "cell_type": "code",
   "execution_count": 127,
   "id": "9be2f749",
   "metadata": {},
   "outputs": [
    {
     "data": {
      "text/plain": [
       "Date              0.386560\n",
       "Location         -0.050456\n",
       "MinTemp          -0.084104\n",
       "MaxTemp           0.391512\n",
       "Rainfall         13.200523\n",
       "Evaporation      14.064000\n",
       "Sunshine         -1.189333\n",
       "WindGustDir       0.119640\n",
       "WindGustSpeed     0.786153\n",
       "WindDir9am        0.172792\n",
       "WindDir3pm       -0.119847\n",
       "WindSpeed9am      0.962761\n",
       "WindSpeed3pm      0.492365\n",
       "Humidity9am      -0.262767\n",
       "Humidity3pm       0.110858\n",
       "Pressure9am      -0.028521\n",
       "Pressure3pm      -0.015018\n",
       "Cloud9am         -0.514801\n",
       "Cloud3pm         -0.457713\n",
       "Temp9am          -0.005160\n",
       "Temp3pm           0.412119\n",
       "RainToday         1.242362\n",
       "RainTomorrow      1.241588\n",
       "dtype: float64"
      ]
     },
     "execution_count": 127,
     "metadata": {},
     "output_type": "execute_result"
    }
   ],
   "source": [
    "df.skew()"
   ]
  },
  {
   "cell_type": "code",
   "execution_count": 128,
   "id": "1a7d4ff1",
   "metadata": {},
   "outputs": [],
   "source": [
    "#now we remove skewness by power transform...\n",
    "\n",
    "x_new=power_transform(X)"
   ]
  },
  {
   "cell_type": "code",
   "execution_count": 130,
   "id": "8d4ab944",
   "metadata": {},
   "outputs": [
    {
     "data": {
      "text/plain": [
       "4     1.028215\n",
       "5     0.012404\n",
       "8     0.010481\n",
       "15    0.002744\n",
       "16    0.002018\n",
       "20   -0.009349\n",
       "3    -0.010224\n",
       "12   -0.037960\n",
       "14   -0.040070\n",
       "19   -0.048325\n",
       "13   -0.068790\n",
       "11   -0.078875\n",
       "2    -0.101517\n",
       "9    -0.155025\n",
       "0    -0.166431\n",
       "1    -0.186657\n",
       "7    -0.187177\n",
       "6    -0.229385\n",
       "10   -0.248689\n",
       "18   -0.288661\n",
       "17   -0.344988\n",
       "dtype: float64"
      ]
     },
     "execution_count": 130,
     "metadata": {},
     "output_type": "execute_result"
    }
   ],
   "source": [
    "pd.DataFrame(x_new).skew().sort_values(ascending=False)"
   ]
  },
  {
   "cell_type": "code",
   "execution_count": 131,
   "id": "7743e376",
   "metadata": {},
   "outputs": [],
   "source": [
    "#Data scaling Z=(X-mean)/std:\n",
    "\n",
    "scaler=StandardScaler()\n",
    "X_scaled=scaler.fit_transform(X)"
   ]
  },
  {
   "cell_type": "code",
   "execution_count": 132,
   "id": "23235fa5",
   "metadata": {},
   "outputs": [
    {
     "data": {
      "text/plain": [
       "21"
      ]
     },
     "execution_count": 132,
     "metadata": {},
     "output_type": "execute_result"
    }
   ],
   "source": [
    "X_scaled.shape[1]"
   ]
  },
  {
   "cell_type": "code",
   "execution_count": 133,
   "id": "7743a95a",
   "metadata": {},
   "outputs": [
    {
     "data": {
      "text/plain": [
       "0    76.38 %\n",
       "1    23.62 %\n",
       "Name: RainToday, dtype: object"
      ]
     },
     "execution_count": 133,
     "metadata": {},
     "output_type": "execute_result"
    }
   ],
   "source": [
    "round(y.value_counts(normalize=True) * 100, 2).astype('str') + ' %'"
   ]
  },
  {
   "cell_type": "code",
   "execution_count": 134,
   "id": "58e32227",
   "metadata": {},
   "outputs": [],
   "source": [
    "from imblearn.over_sampling import RandomOverSampler\n",
    "ros = RandomOverSampler(random_state=42)"
   ]
  },
  {
   "cell_type": "code",
   "execution_count": 135,
   "id": "a60cf835",
   "metadata": {},
   "outputs": [
    {
     "data": {
      "text/plain": [
       "RandomOverSampler(random_state=42)"
      ]
     },
     "execution_count": 135,
     "metadata": {},
     "output_type": "execute_result"
    }
   ],
   "source": [
    "ros.fit(X, y)"
   ]
  },
  {
   "cell_type": "code",
   "execution_count": 136,
   "id": "356589e9",
   "metadata": {},
   "outputs": [],
   "source": [
    "RandomOverSampler(random_state=42)\n",
    "X_resampled, y_resampled = ros.fit_resample(X, y)"
   ]
  },
  {
   "cell_type": "code",
   "execution_count": 137,
   "id": "0d437d37",
   "metadata": {},
   "outputs": [
    {
     "data": {
      "text/plain": [
       "0    50.0 %\n",
       "1    50.0 %\n",
       "Name: RainToday, dtype: object"
      ]
     },
     "execution_count": 137,
     "metadata": {},
     "output_type": "execute_result"
    }
   ],
   "source": [
    "round(y_resampled.value_counts(normalize=True) * 100, 2).astype('str') + ' %'"
   ]
  },
  {
   "cell_type": "code",
   "execution_count": 138,
   "id": "070741d6",
   "metadata": {},
   "outputs": [
    {
     "name": "stdout",
     "output_type": "stream",
     "text": [
      "At random state0,the training accuracy is:-0.979673590504451\n",
      "At random state0,the testing accuracy is:-0.9762611275964391\n",
      "\n",
      "\n",
      "At random state1,the training accuracy is:-0.9787833827893175\n",
      "At random state1,the testing accuracy is:-0.9762611275964391\n",
      "\n",
      "\n",
      "At random state2,the training accuracy is:-0.9795252225519288\n",
      "At random state2,the testing accuracy is:-0.9833827893175074\n",
      "\n",
      "\n",
      "At random state3,the training accuracy is:-0.9799703264094956\n",
      "At random state3,the testing accuracy is:-0.9744807121661722\n",
      "\n",
      "\n",
      "At random state4,the training accuracy is:-0.9805637982195846\n",
      "At random state4,the testing accuracy is:-0.9792284866468842\n",
      "\n",
      "\n",
      "At random state5,the training accuracy is:-0.9790801186943621\n",
      "At random state5,the testing accuracy is:-0.9816023738872404\n",
      "\n",
      "\n",
      "At random state6,the training accuracy is:-0.9799703264094956\n",
      "At random state6,the testing accuracy is:-0.9792284866468842\n",
      "\n",
      "\n",
      "At random state7,the training accuracy is:-0.9810089020771513\n",
      "At random state7,the testing accuracy is:-0.9780415430267062\n",
      "\n",
      "\n",
      "At random state8,the training accuracy is:-0.9802670623145401\n",
      "At random state8,the testing accuracy is:-0.9750741839762611\n",
      "\n",
      "\n",
      "At random state9,the training accuracy is:-0.9795252225519288\n",
      "At random state9,the testing accuracy is:-0.9798219584569733\n",
      "\n",
      "\n",
      "At random state10,the training accuracy is:-0.9786350148367953\n",
      "At random state10,the testing accuracy is:-0.9833827893175074\n",
      "\n",
      "\n",
      "At random state11,the training accuracy is:-0.9804154302670623\n",
      "At random state11,the testing accuracy is:-0.9792284866468842\n",
      "\n",
      "\n",
      "At random state12,the training accuracy is:-0.9799703264094956\n",
      "At random state12,the testing accuracy is:-0.9786350148367953\n",
      "\n",
      "\n",
      "At random state13,the training accuracy is:-0.9789317507418398\n",
      "At random state13,the testing accuracy is:-0.9780415430267062\n",
      "\n",
      "\n",
      "At random state14,the training accuracy is:-0.9786350148367953\n",
      "At random state14,the testing accuracy is:-0.9827893175074184\n",
      "\n",
      "\n",
      "At random state15,the training accuracy is:-0.9787833827893175\n",
      "At random state15,the testing accuracy is:-0.9798219584569733\n",
      "\n",
      "\n",
      "At random state16,the training accuracy is:-0.9799703264094956\n",
      "At random state16,the testing accuracy is:-0.9821958456973294\n",
      "\n",
      "\n",
      "At random state17,the training accuracy is:-0.9792284866468842\n",
      "At random state17,the testing accuracy is:-0.9857566765578635\n",
      "\n",
      "\n",
      "At random state18,the training accuracy is:-0.9795252225519288\n",
      "At random state18,the testing accuracy is:-0.9816023738872404\n",
      "\n",
      "\n",
      "At random state19,the training accuracy is:-0.9789317507418398\n",
      "At random state19,the testing accuracy is:-0.9857566765578635\n",
      "\n",
      "\n",
      "At random state20,the training accuracy is:-0.9798219584569733\n",
      "At random state20,the testing accuracy is:-0.9727002967359051\n",
      "\n",
      "\n",
      "At random state21,the training accuracy is:-0.9792284866468842\n",
      "At random state21,the testing accuracy is:-0.9786350148367953\n",
      "\n",
      "\n",
      "At random state22,the training accuracy is:-0.9805637982195846\n",
      "At random state22,the testing accuracy is:-0.9774480712166173\n",
      "\n",
      "\n",
      "At random state23,the training accuracy is:-0.9789317507418398\n",
      "At random state23,the testing accuracy is:-0.9750741839762611\n",
      "\n",
      "\n",
      "At random state24,the training accuracy is:-0.9799703264094956\n",
      "At random state24,the testing accuracy is:-0.9792284866468842\n",
      "\n",
      "\n",
      "At random state25,the training accuracy is:-0.9799703264094956\n",
      "At random state25,the testing accuracy is:-0.9804154302670623\n",
      "\n",
      "\n",
      "At random state26,the training accuracy is:-0.9787833827893175\n",
      "At random state26,the testing accuracy is:-0.9810089020771513\n",
      "\n",
      "\n",
      "At random state27,the training accuracy is:-0.9793768545994065\n",
      "At random state27,the testing accuracy is:-0.9750741839762611\n",
      "\n",
      "\n",
      "At random state28,the training accuracy is:-0.9786350148367953\n",
      "At random state28,the testing accuracy is:-0.9816023738872404\n",
      "\n",
      "\n",
      "At random state29,the training accuracy is:-0.9798219584569733\n",
      "At random state29,the testing accuracy is:-0.9792284866468842\n",
      "\n",
      "\n",
      "At random state30,the training accuracy is:-0.9799703264094956\n",
      "At random state30,the testing accuracy is:-0.9798219584569733\n",
      "\n",
      "\n",
      "At random state31,the training accuracy is:-0.9798219584569733\n",
      "At random state31,the testing accuracy is:-0.9786350148367953\n",
      "\n",
      "\n",
      "At random state32,the training accuracy is:-0.9792284866468842\n",
      "At random state32,the testing accuracy is:-0.9750741839762611\n",
      "\n",
      "\n",
      "At random state33,the training accuracy is:-0.9804154302670623\n",
      "At random state33,the testing accuracy is:-0.96973293768546\n",
      "\n",
      "\n",
      "At random state34,the training accuracy is:-0.9802670623145401\n",
      "At random state34,the testing accuracy is:-0.9774480712166173\n",
      "\n",
      "\n",
      "At random state35,the training accuracy is:-0.9781899109792285\n",
      "At random state35,the testing accuracy is:-0.9762611275964391\n",
      "\n",
      "\n",
      "At random state36,the training accuracy is:-0.9810089020771513\n",
      "At random state36,the testing accuracy is:-0.973293768545994\n",
      "\n",
      "\n",
      "At random state37,the training accuracy is:-0.9799703264094956\n",
      "At random state37,the testing accuracy is:-0.9768545994065282\n",
      "\n",
      "\n",
      "At random state38,the training accuracy is:-0.9787833827893175\n",
      "At random state38,the testing accuracy is:-0.9792284866468842\n",
      "\n",
      "\n",
      "At random state39,the training accuracy is:-0.9775964391691395\n",
      "At random state39,the testing accuracy is:-0.9875370919881306\n",
      "\n",
      "\n",
      "At random state40,the training accuracy is:-0.9793768545994065\n",
      "At random state40,the testing accuracy is:-0.9833827893175074\n",
      "\n",
      "\n",
      "At random state41,the training accuracy is:-0.9795252225519288\n",
      "At random state41,the testing accuracy is:-0.9762611275964391\n",
      "\n",
      "\n",
      "At random state42,the training accuracy is:-0.9789317507418398\n",
      "At random state42,the testing accuracy is:-0.9816023738872404\n",
      "\n",
      "\n",
      "At random state43,the training accuracy is:-0.9798219584569733\n",
      "At random state43,the testing accuracy is:-0.9774480712166173\n",
      "\n",
      "\n",
      "At random state44,the training accuracy is:-0.978486646884273\n",
      "At random state44,the testing accuracy is:-0.9869436201780415\n",
      "\n",
      "\n",
      "At random state45,the training accuracy is:-0.9789317507418398\n",
      "At random state45,the testing accuracy is:-0.9774480712166173\n",
      "\n",
      "\n",
      "At random state46,the training accuracy is:-0.9805637982195846\n",
      "At random state46,the testing accuracy is:-0.9816023738872404\n",
      "\n",
      "\n",
      "At random state47,the training accuracy is:-0.9802670623145401\n",
      "At random state47,the testing accuracy is:-0.9762611275964391\n",
      "\n",
      "\n",
      "At random state48,the training accuracy is:-0.9799703264094956\n",
      "At random state48,the testing accuracy is:-0.9780415430267062\n",
      "\n",
      "\n",
      "At random state49,the training accuracy is:-0.9793768545994065\n",
      "At random state49,the testing accuracy is:-0.9786350148367953\n",
      "\n",
      "\n",
      "At random state50,the training accuracy is:-0.9783382789317507\n",
      "At random state50,the testing accuracy is:-0.9839762611275964\n",
      "\n",
      "\n",
      "At random state51,the training accuracy is:-0.9799703264094956\n",
      "At random state51,the testing accuracy is:-0.9821958456973294\n",
      "\n",
      "\n",
      "At random state52,the training accuracy is:-0.980860534124629\n",
      "At random state52,the testing accuracy is:-0.972106824925816\n",
      "\n",
      "\n",
      "At random state53,the training accuracy is:-0.9801186943620178\n",
      "At random state53,the testing accuracy is:-0.9786350148367953\n",
      "\n",
      "\n",
      "At random state54,the training accuracy is:-0.9799703264094956\n",
      "At random state54,the testing accuracy is:-0.9786350148367953\n",
      "\n",
      "\n",
      "At random state55,the training accuracy is:-0.9787833827893175\n",
      "At random state55,the testing accuracy is:-0.9827893175074184\n",
      "\n",
      "\n",
      "At random state56,the training accuracy is:-0.9795252225519288\n",
      "At random state56,the testing accuracy is:-0.9738872403560831\n",
      "\n",
      "\n",
      "At random state57,the training accuracy is:-0.9795252225519288\n",
      "At random state57,the testing accuracy is:-0.9727002967359051\n",
      "\n",
      "\n",
      "At random state58,the training accuracy is:-0.9793768545994065\n",
      "At random state58,the testing accuracy is:-0.9875370919881306\n",
      "\n",
      "\n",
      "At random state59,the training accuracy is:-0.9787833827893175\n",
      "At random state59,the testing accuracy is:-0.9798219584569733\n",
      "\n",
      "\n",
      "At random state60,the training accuracy is:-0.9790801186943621\n",
      "At random state60,the testing accuracy is:-0.9839762611275964\n",
      "\n",
      "\n",
      "At random state61,the training accuracy is:-0.9795252225519288\n",
      "At random state61,the testing accuracy is:-0.9845697329376855\n",
      "\n",
      "\n",
      "At random state62,the training accuracy is:-0.9790801186943621\n",
      "At random state62,the testing accuracy is:-0.9804154302670623\n",
      "\n",
      "\n",
      "At random state63,the training accuracy is:-0.979673590504451\n",
      "At random state63,the testing accuracy is:-0.9821958456973294\n",
      "\n",
      "\n",
      "At random state64,the training accuracy is:-0.9778931750741839\n",
      "At random state64,the testing accuracy is:-0.9821958456973294\n",
      "\n",
      "\n",
      "At random state65,the training accuracy is:-0.9802670623145401\n",
      "At random state65,the testing accuracy is:-0.9792284866468842\n",
      "\n",
      "\n",
      "At random state66,the training accuracy is:-0.9798219584569733\n",
      "At random state66,the testing accuracy is:-0.9798219584569733\n",
      "\n",
      "\n",
      "At random state67,the training accuracy is:-0.979673590504451\n",
      "At random state67,the testing accuracy is:-0.971513353115727\n",
      "\n",
      "\n",
      "At random state68,the training accuracy is:-0.9793768545994065\n",
      "At random state68,the testing accuracy is:-0.973293768545994\n",
      "\n",
      "\n",
      "At random state69,the training accuracy is:-0.9801186943620178\n",
      "At random state69,the testing accuracy is:-0.9810089020771513\n",
      "\n",
      "\n",
      "At random state70,the training accuracy is:-0.9792284866468842\n",
      "At random state70,the testing accuracy is:-0.9756676557863502\n",
      "\n",
      "\n",
      "At random state71,the training accuracy is:-0.9798219584569733\n",
      "At random state71,the testing accuracy is:-0.9798219584569733\n",
      "\n",
      "\n",
      "At random state72,the training accuracy is:-0.9804154302670623\n",
      "At random state72,the testing accuracy is:-0.9685459940652819\n",
      "\n",
      "\n",
      "At random state73,the training accuracy is:-0.9795252225519288\n",
      "At random state73,the testing accuracy is:-0.9780415430267062\n",
      "\n",
      "\n",
      "At random state74,the training accuracy is:-0.979673590504451\n",
      "At random state74,the testing accuracy is:-0.9786350148367953\n",
      "\n",
      "\n",
      "At random state75,the training accuracy is:-0.9793768545994065\n",
      "At random state75,the testing accuracy is:-0.9756676557863502\n",
      "\n",
      "\n",
      "At random state76,the training accuracy is:-0.9802670623145401\n",
      "At random state76,the testing accuracy is:-0.9744807121661722\n",
      "\n",
      "\n",
      "At random state77,the training accuracy is:-0.9790801186943621\n",
      "At random state77,the testing accuracy is:-0.9810089020771513\n",
      "\n",
      "\n",
      "At random state78,the training accuracy is:-0.9787833827893175\n",
      "At random state78,the testing accuracy is:-0.9863501483679525\n",
      "\n",
      "\n",
      "At random state79,the training accuracy is:-0.9793768545994065\n",
      "At random state79,the testing accuracy is:-0.9703264094955489\n",
      "\n",
      "\n",
      "At random state80,the training accuracy is:-0.9798219584569733\n",
      "At random state80,the testing accuracy is:-0.9792284866468842\n",
      "\n",
      "\n",
      "At random state81,the training accuracy is:-0.9795252225519288\n",
      "At random state81,the testing accuracy is:-0.9762611275964391\n",
      "\n",
      "\n",
      "At random state82,the training accuracy is:-0.9802670623145401\n",
      "At random state82,the testing accuracy is:-0.973293768545994\n",
      "\n",
      "\n",
      "At random state83,the training accuracy is:-0.979673590504451\n",
      "At random state83,the testing accuracy is:-0.9821958456973294\n",
      "\n",
      "\n",
      "At random state84,the training accuracy is:-0.9810089020771513\n",
      "At random state84,the testing accuracy is:-0.9703264094955489\n",
      "\n",
      "\n",
      "At random state85,the training accuracy is:-0.9793768545994065\n",
      "At random state85,the testing accuracy is:-0.9810089020771513\n",
      "\n",
      "\n",
      "At random state86,the training accuracy is:-0.9798219584569733\n",
      "At random state86,the testing accuracy is:-0.9780415430267062\n",
      "\n",
      "\n",
      "At random state87,the training accuracy is:-0.9805637982195846\n",
      "At random state87,the testing accuracy is:-0.973293768545994\n",
      "\n",
      "\n",
      "At random state88,the training accuracy is:-0.9793768545994065\n",
      "At random state88,the testing accuracy is:-0.9774480712166173\n",
      "\n",
      "\n",
      "At random state89,the training accuracy is:-0.9798219584569733\n",
      "At random state89,the testing accuracy is:-0.9780415430267062\n",
      "\n",
      "\n",
      "At random state90,the training accuracy is:-0.9795252225519288\n",
      "At random state90,the testing accuracy is:-0.9786350148367953\n",
      "\n",
      "\n",
      "At random state91,the training accuracy is:-0.9790801186943621\n",
      "At random state91,the testing accuracy is:-0.9798219584569733\n",
      "\n",
      "\n",
      "At random state92,the training accuracy is:-0.9786350148367953\n",
      "At random state92,the testing accuracy is:-0.9816023738872404\n",
      "\n",
      "\n",
      "At random state93,the training accuracy is:-0.9787833827893175\n",
      "At random state93,the testing accuracy is:-0.9816023738872404\n",
      "\n",
      "\n",
      "At random state94,the training accuracy is:-0.9799703264094956\n",
      "At random state94,the testing accuracy is:-0.9762611275964391\n",
      "\n",
      "\n",
      "At random state95,the training accuracy is:-0.9799703264094956\n",
      "At random state95,the testing accuracy is:-0.9768545994065282\n",
      "\n",
      "\n",
      "At random state96,the training accuracy is:-0.9795252225519288\n",
      "At random state96,the testing accuracy is:-0.9786350148367953\n",
      "\n",
      "\n",
      "At random state97,the training accuracy is:-0.9793768545994065\n",
      "At random state97,the testing accuracy is:-0.9827893175074184\n",
      "\n",
      "\n",
      "At random state98,the training accuracy is:-0.9802670623145401\n",
      "At random state98,the testing accuracy is:-0.9691394658753709\n",
      "\n",
      "\n",
      "At random state99,the training accuracy is:-0.9795252225519288\n",
      "At random state99,the testing accuracy is:-0.9774480712166173\n",
      "\n",
      "\n"
     ]
    }
   ],
   "source": [
    "#now train and test split  and training and fitting test model at random state 0 so that we can find best random state:\n",
    "for i in range(0,100):\n",
    "    X_train,X_test,y_train,y_test =train_test_split(X_scaled,y,test_size=0.2,random_state=i)\n",
    "    reg=LogisticRegression()\n",
    "    reg.fit(X_train,y_train)\n",
    "    pred_train = reg.predict(X_train)\n",
    "    y_pred= reg.predict(X_test)\n",
    "    print(f\"At random state{i},the training accuracy is:-{accuracy_score(y_train,pred_train)}\")\n",
    "    print(f\"At random state{i},the testing accuracy is:-{accuracy_score(y_test,y_pred)}\")\n",
    "    print(\"\\n\")"
   ]
  },
  {
   "cell_type": "code",
   "execution_count": 139,
   "id": "5405a226",
   "metadata": {},
   "outputs": [],
   "source": [
    "#so as we can interpret random state 8 is giving best train and test accuracy,so we train our model at random state 42:\n",
    "\n",
    "X_train,X_test,y_train,y_test = train_test_split(X,y,test_size=0.2,random_state=45)"
   ]
  },
  {
   "cell_type": "code",
   "execution_count": 140,
   "id": "cad4c342",
   "metadata": {},
   "outputs": [
    {
     "data": {
      "text/plain": [
       "(6740, 21)"
      ]
     },
     "execution_count": 140,
     "metadata": {},
     "output_type": "execute_result"
    }
   ],
   "source": [
    "X_train.shape"
   ]
  },
  {
   "cell_type": "code",
   "execution_count": 141,
   "id": "afdbf8c5",
   "metadata": {},
   "outputs": [
    {
     "data": {
      "text/plain": [
       "(6740,)"
      ]
     },
     "execution_count": 141,
     "metadata": {},
     "output_type": "execute_result"
    }
   ],
   "source": [
    "y_train.shape"
   ]
  },
  {
   "cell_type": "code",
   "execution_count": 142,
   "id": "35f755e8",
   "metadata": {},
   "outputs": [
    {
     "data": {
      "text/plain": [
       "(1685, 21)"
      ]
     },
     "execution_count": 142,
     "metadata": {},
     "output_type": "execute_result"
    }
   ],
   "source": [
    "X_test.shape"
   ]
  },
  {
   "cell_type": "code",
   "execution_count": 143,
   "id": "e3099ce6",
   "metadata": {},
   "outputs": [
    {
     "data": {
      "text/plain": [
       "(1685,)"
      ]
     },
     "execution_count": 143,
     "metadata": {},
     "output_type": "execute_result"
    }
   ],
   "source": [
    "y_test.shape"
   ]
  },
  {
   "cell_type": "code",
   "execution_count": 144,
   "id": "023a838e",
   "metadata": {},
   "outputs": [
    {
     "name": "stdout",
     "output_type": "stream",
     "text": [
      "accuracy score: 98.63501483679525\n",
      "cross val score: 97.56676557863501\n",
      "              precision    recall  f1-score   support\n",
      "\n",
      "           0       0.99      0.99      0.99      1275\n",
      "           1       0.98      0.96      0.97       410\n",
      "\n",
      "    accuracy                           0.99      1685\n",
      "   macro avg       0.98      0.98      0.98      1685\n",
      "weighted avg       0.99      0.99      0.99      1685\n",
      "\n"
     ]
    }
   ],
   "source": [
    "#now fitting our data to Machine learning models :\n",
    "\n",
    "reg=LogisticRegression()\n",
    "reg.fit(X_train,y_train)\n",
    "y_pred= reg.predict(X_test)   \n",
    "reg.score(X_train,y_train)\n",
    "reg_score=accuracy_score(y_test,y_pred)\n",
    "print('accuracy score:',reg_score*100)\n",
    "\n",
    "regscore=cross_val_score(reg,X,y,cv=5)\n",
    "lr=regscore.mean()\n",
    "print('cross val score:',lr*100)\n",
    "print(classification_report(y_test,y_pred))"
   ]
  },
  {
   "cell_type": "code",
   "execution_count": 145,
   "id": "cedf4649",
   "metadata": {},
   "outputs": [
    {
     "name": "stdout",
     "output_type": "stream",
     "text": [
      "accuracy score: 75.78635014836796\n",
      "cross val score: 76.46290801186943\n",
      "              precision    recall  f1-score   support\n",
      "\n",
      "           0       0.76      1.00      0.86      1275\n",
      "           1       1.00      0.00      0.01       410\n",
      "\n",
      "    accuracy                           0.76      1685\n",
      "   macro avg       0.88      0.50      0.44      1685\n",
      "weighted avg       0.82      0.76      0.65      1685\n",
      "\n"
     ]
    }
   ],
   "source": [
    "svm= SVC()  \n",
    "svm.fit(X_train, y_train)  \n",
    "svm.score(X_train,y_train)\n",
    "y_pred=svm.predict(X_test)\n",
    "svm_score=accuracy_score(y_test,y_pred)\n",
    "print('accuracy score:',svm_score*100)\n",
    "\n",
    "svmscore=cross_val_score(svm,X,y,cv=5)\n",
    "sv=svmscore.mean()\n",
    "print('cross val score:',sv*100)\n",
    "print(classification_report(y_test,y_pred))"
   ]
  },
  {
   "cell_type": "code",
   "execution_count": 146,
   "id": "2390ccad",
   "metadata": {},
   "outputs": [
    {
     "name": "stdout",
     "output_type": "stream",
     "text": [
      "accuracy score: 83.91691394658753\n",
      "cross val score: 76.87833827893175\n",
      "              precision    recall  f1-score   support\n",
      "\n",
      "           0       0.85      0.96      0.90      1275\n",
      "           1       0.78      0.48      0.59       410\n",
      "\n",
      "    accuracy                           0.84      1685\n",
      "   macro avg       0.81      0.72      0.74      1685\n",
      "weighted avg       0.83      0.84      0.82      1685\n",
      "\n"
     ]
    }
   ],
   "source": [
    "knc= KNeighborsClassifier()  \n",
    "knc.fit(X_train, y_train)  \n",
    "knc.score(X_train,y_train)\n",
    "y_pred=knc.predict(X_test)\n",
    "knc_score=accuracy_score(y_test,y_pred)\n",
    "print('accuracy score:',knc_score*100)\n",
    "\n",
    "kncscore=cross_val_score(knc,X,y,cv=5)\n",
    "kn=kncscore.mean()\n",
    "print('cross val score:',kn*100)\n",
    "print(classification_report(y_test,y_pred))"
   ]
  },
  {
   "cell_type": "code",
   "execution_count": 147,
   "id": "e0647794",
   "metadata": {},
   "outputs": [
    {
     "name": "stdout",
     "output_type": "stream",
     "text": [
      "accuracy score: 100.0\n",
      "cross val score: 100.0\n",
      "              precision    recall  f1-score   support\n",
      "\n",
      "           0       1.00      1.00      1.00      1275\n",
      "           1       1.00      1.00      1.00       410\n",
      "\n",
      "    accuracy                           1.00      1685\n",
      "   macro avg       1.00      1.00      1.00      1685\n",
      "weighted avg       1.00      1.00      1.00      1685\n",
      "\n"
     ]
    }
   ],
   "source": [
    "dt= DecisionTreeClassifier()\n",
    "dt.fit(X_train,y_train)\n",
    "dt.score(X_train,y_train)\n",
    "y_pred=dt.predict(X_test)\n",
    "dts=accuracy_score(y_test,y_pred)\n",
    "print('accuracy score:',dts*100)\n",
    "\n",
    "dtscore=cross_val_score(dt,X,y,cv=5)\n",
    "dtc=dtscore.mean()\n",
    "print('cross val score:',dtc*100)\n",
    "print(classification_report(y_test,y_pred))"
   ]
  },
  {
   "cell_type": "code",
   "execution_count": 148,
   "id": "6e09e7af",
   "metadata": {},
   "outputs": [
    {
     "name": "stdout",
     "output_type": "stream",
     "text": [
      "accuracy score: 100.0\n",
      "cross val score: 100.0\n",
      "              precision    recall  f1-score   support\n",
      "\n",
      "           0       1.00      1.00      1.00      1275\n",
      "           1       1.00      1.00      1.00       410\n",
      "\n",
      "    accuracy                           1.00      1685\n",
      "   macro avg       1.00      1.00      1.00      1685\n",
      "weighted avg       1.00      1.00      1.00      1685\n",
      "\n"
     ]
    }
   ],
   "source": [
    "rf = RandomForestClassifier()\n",
    "rf.fit(X_train, y_train)\n",
    "rf.score(X_train,y_train)\n",
    "y_pred=rf.predict(X_test)\n",
    "rfs=accuracy_score(y_test,y_pred)\n",
    "print('accuracy score:',rfs*100)\n",
    "\n",
    "rfscore=cross_val_score(rf,X,y,cv=5)\n",
    "rfc=rfscore.mean()\n",
    "print('cross val score:',rfc*100)\n",
    "print(classification_report(y_test,y_pred))"
   ]
  },
  {
   "cell_type": "code",
   "execution_count": 149,
   "id": "13564bc5",
   "metadata": {},
   "outputs": [
    {
     "name": "stdout",
     "output_type": "stream",
     "text": [
      "{'bootstrap': True, 'criterion': 'gini', 'max_depth': 4, 'max_features': 'log2', 'min_samples_leaf': 1}\n"
     ]
    }
   ],
   "source": [
    "#so according to dataset  decisiontreeclassifier and Randomforestclassifier is getting best accuracy of 100%\n",
    "#we will go ahead with RandomForestClassifier\n",
    "#now we do gridsearcv hyperparametertuning on this algorithm\n",
    "\n",
    "grid_parameters ={'criterion':['gini','entropy'],'max_features':[\"auto\",\"sqrt\",\"log2\"],'max_depth':[4,5,6,7,8],'bootstrap': [True],\n",
    " 'min_samples_leaf':[1]}\n",
    "clf=GridSearchCV(rf,grid_parameters)\n",
    "clf.fit(X_train,y_train)\n",
    "print(clf.best_params_)"
   ]
  },
  {
   "cell_type": "code",
   "execution_count": 150,
   "id": "fb5a8847",
   "metadata": {},
   "outputs": [
    {
     "name": "stdout",
     "output_type": "stream",
     "text": [
      "accuracy score: 100.0\n",
      "cross val score: 100.0\n",
      "              precision    recall  f1-score   support\n",
      "\n",
      "           0       1.00      1.00      1.00      1275\n",
      "           1       1.00      1.00      1.00       410\n",
      "\n",
      "    accuracy                           1.00      1685\n",
      "   macro avg       1.00      1.00      1.00      1685\n",
      "weighted avg       1.00      1.00      1.00      1685\n",
      "\n"
     ]
    }
   ],
   "source": [
    "rf = RandomForestClassifier(bootstrap= True, criterion='gini',max_depth= 4, max_features= 'auto', min_samples_leaf= 1)\n",
    "rf.fit(X_train, y_train)\n",
    "rf.score(X_train,y_train)\n",
    "y_pred=rf.predict(X_test)\n",
    "rfs=accuracy_score(y_test,y_pred)\n",
    "print('accuracy score:',rfs*100)\n",
    "\n",
    "rfscore=cross_val_score(rf,X,y,cv=5)\n",
    "rfc=rfscore.mean()\n",
    "print('cross val score:',rfc*100)\n",
    "print(classification_report(y_test,y_pred))"
   ]
  },
  {
   "cell_type": "code",
   "execution_count": 151,
   "id": "5b4bee6b",
   "metadata": {},
   "outputs": [
    {
     "data": {
      "text/plain": [
       "1.0"
      ]
     },
     "execution_count": 151,
     "metadata": {},
     "output_type": "execute_result"
    }
   ],
   "source": [
    "#model accuracy\n",
    "accuracy=accuracy_score(y_pred,y_test)\n",
    "accuracy"
   ]
  },
  {
   "cell_type": "code",
   "execution_count": 152,
   "id": "14d8e98c",
   "metadata": {},
   "outputs": [
    {
     "data": {
      "text/plain": [
       "array([[1275,    0],\n",
       "       [   0,  410]], dtype=int64)"
      ]
     },
     "execution_count": 152,
     "metadata": {},
     "output_type": "execute_result"
    }
   ],
   "source": [
    "#confusion matrix\n",
    "conf_mat=confusion_matrix(y_test,y_pred)\n",
    "conf_mat"
   ]
  },
  {
   "cell_type": "code",
   "execution_count": 153,
   "id": "a0126476",
   "metadata": {},
   "outputs": [
    {
     "name": "stdout",
     "output_type": "stream",
     "text": [
      "              precision    recall  f1-score   support\n",
      "\n",
      "           0       1.00      1.00      1.00      1275\n",
      "           1       1.00      1.00      1.00       410\n",
      "\n",
      "    accuracy                           1.00      1685\n",
      "   macro avg       1.00      1.00      1.00      1685\n",
      "weighted avg       1.00      1.00      1.00      1685\n",
      "\n"
     ]
    }
   ],
   "source": [
    "print(classification_report(y_test,y_pred))"
   ]
  },
  {
   "cell_type": "code",
   "execution_count": 154,
   "id": "a9f46ae2",
   "metadata": {},
   "outputs": [
    {
     "data": {
      "image/png": "[encoded data removed]",
      "text/plain": [
       "<Figure size 432x288 with 1 Axes>"
      ]
     },
     "metadata": {
      "needs_background": "light"
     },
     "output_type": "display_data"
    }
   ],
   "source": [
    "plt.scatter(y_test,y_pred)\n",
    "plt.title(\"Prediction Using random forest classifier\")\n",
    "plt.xlabel(\"Real Quality\")\n",
    "plt.ylabel(\"Predicted\")\n",
    "plt.show()"
   ]
  },
  {
   "cell_type": "code",
   "execution_count": 155,
   "id": "1a8f8e5e",
   "metadata": {},
   "outputs": [
    {
     "data": {
      "text/plain": [
       "sklearn.model_selection._search.GridSearchCV"
      ]
     },
     "execution_count": 155,
     "metadata": {},
     "output_type": "execute_result"
    }
   ],
   "source": [
    "type(clf)"
   ]
  },
  {
   "cell_type": "code",
   "execution_count": 156,
   "id": "d5fd4552",
   "metadata": {},
   "outputs": [
    {
     "data": {
      "text/plain": [
       "RandomForestClassifier(max_depth=4, max_features='log2')"
      ]
     },
     "execution_count": 156,
     "metadata": {},
     "output_type": "execute_result"
    }
   ],
   "source": [
    "clf.best_estimator_"
   ]
  },
  {
   "cell_type": "code",
   "execution_count": 157,
   "id": "1164c76b",
   "metadata": {},
   "outputs": [
    {
     "data": {
      "image/png": "[encoded data removed]",
      "text/plain": [
       "<Figure size 432x288 with 1 Axes>"
      ]
     },
     "metadata": {
      "needs_background": "light"
     },
     "output_type": "display_data"
    }
   ],
   "source": [
    "from sklearn.metrics import plot_roc_curve\n",
    "plot_roc_curve(clf.best_estimator_,X_test,y_test)\n",
    "plt.title(\"ROC_AUC PLOT\")\n",
    "plt.show()   "
   ]
  },
  {
   "cell_type": "code",
   "execution_count": 158,
   "id": "12b40988",
   "metadata": {},
   "outputs": [],
   "source": [
    "#CONCLUSION\n",
    "#In this project, we build various models like logistic regression, knn classifier, support vector classifier, decision tree classifier, random forest classifier.\n",
    "\n",
    "#A hyperparameter tuned Random Forest classifier gives the highest accuracy score of 100% and cross val score of 100%.and f1 score of 100%\n",
    "\n",
    "#saving the model to local file system"
   ]
  },
  {
   "cell_type": "code",
   "execution_count": 159,
   "id": "edf480ac",
   "metadata": {},
   "outputs": [],
   "source": [
    "filename='rainfall prediction_model.pickle'\n",
    "pickle.dump(rf,open(filename,'wb'))"
   ]
  },
  {
   "cell_type": "code",
   "execution_count": 172,
   "id": "1d0ebb25",
   "metadata": {},
   "outputs": [],
   "source": [
    "from sklearn.linear_model import LinearRegression\n",
    "from sklearn.tree import DecisionTreeRegressor\n",
    "from sklearn.ensemble import RandomForestRegressor\n",
    "from sklearn.metrics import r2_score, mean_squared_error,mean_absolute_error"
   ]
  },
  {
   "cell_type": "code",
   "execution_count": 173,
   "id": "2e9ace1a",
   "metadata": {},
   "outputs": [],
   "source": [
    "#dropping target column and unwanted columns:\n",
    "X = df.drop(columns=['RainToday','RainTomorrow'])\n",
    "y = df['RainTomorrow']"
   ]
  },
  {
   "cell_type": "code",
   "execution_count": 174,
   "id": "bbdab89d",
   "metadata": {},
   "outputs": [
    {
     "data": {
      "text/plain": [
       "21"
      ]
     },
     "execution_count": 174,
     "metadata": {},
     "output_type": "execute_result"
    }
   ],
   "source": [
    "#Data scaling Z=(X-mean)/std\n",
    "\n",
    "scaler=StandardScaler()\n",
    "X_scaled=scaler.fit_transform(X)\n",
    "\n",
    "X_scaled.shape[1]"
   ]
  },
  {
   "cell_type": "code",
   "execution_count": 175,
   "id": "ffdadebd",
   "metadata": {},
   "outputs": [
    {
     "name": "stdout",
     "output_type": "stream",
     "text": [
      "At random state0,the training accuracy is:-0.936400975594757\n",
      "At random state0,the testing accuracy is:-0.5610532211165551\n",
      "\n",
      "\n",
      "At random state1,the training accuracy is:-0.9344981684134323\n",
      "At random state1,the testing accuracy is:-0.5508788980328474\n",
      "\n",
      "\n",
      "At random state2,the training accuracy is:-0.9362417930921484\n",
      "At random state2,the testing accuracy is:-0.5612441056369981\n",
      "\n",
      "\n",
      "At random state3,the training accuracy is:-0.9360268396631453\n",
      "At random state3,the testing accuracy is:-0.5313746818762797\n",
      "\n",
      "\n",
      "At random state4,the training accuracy is:-0.9355572404475418\n",
      "At random state4,the testing accuracy is:-0.5331923353939751\n",
      "\n",
      "\n",
      "At random state5,the training accuracy is:-0.9361866802490246\n",
      "At random state5,the testing accuracy is:-0.5399619090392618\n",
      "\n",
      "\n",
      "At random state6,the training accuracy is:-0.9368608552365133\n",
      "At random state6,the testing accuracy is:-0.5385636828446296\n",
      "\n",
      "\n",
      "At random state7,the training accuracy is:-0.9371694957401562\n",
      "At random state7,the testing accuracy is:-0.5171155504618385\n",
      "\n",
      "\n",
      "At random state8,the training accuracy is:-0.9360468371292898\n",
      "At random state8,the testing accuracy is:-0.531632995181142\n",
      "\n",
      "\n",
      "At random state9,the training accuracy is:-0.9350602951866895\n",
      "At random state9,the testing accuracy is:-0.5405993713493713\n",
      "\n",
      "\n",
      "At random state10,the training accuracy is:-0.9366207296453695\n",
      "At random state10,the testing accuracy is:-0.5212438394221144\n",
      "\n",
      "\n",
      "At random state11,the training accuracy is:-0.9356555376945526\n",
      "At random state11,the testing accuracy is:-0.5814775503306624\n",
      "\n",
      "\n",
      "At random state12,the training accuracy is:-0.9346101536551028\n",
      "At random state12,the testing accuracy is:-0.5424430575316552\n",
      "\n",
      "\n",
      "At random state13,the training accuracy is:-0.9351269407219231\n",
      "At random state13,the testing accuracy is:-0.508812274097574\n",
      "\n",
      "\n",
      "At random state14,the training accuracy is:-0.9354443882967178\n",
      "At random state14,the testing accuracy is:-0.5997211808212191\n",
      "\n",
      "\n",
      "At random state15,the training accuracy is:-0.9374520338073021\n",
      "At random state15,the testing accuracy is:-0.5270918781277598\n",
      "\n",
      "\n",
      "At random state16,the training accuracy is:-0.9342483767539986\n",
      "At random state16,the testing accuracy is:-0.5322927414087475\n",
      "\n",
      "\n",
      "At random state17,the training accuracy is:-0.9345760517656325\n",
      "At random state17,the testing accuracy is:-0.5506252902904047\n",
      "\n",
      "\n",
      "At random state18,the training accuracy is:-0.9365470171434466\n",
      "At random state18,the testing accuracy is:-0.5432342706804301\n",
      "\n",
      "\n",
      "At random state19,the training accuracy is:-0.934794597762646\n",
      "At random state19,the testing accuracy is:-0.5806626155737478\n",
      "\n",
      "\n",
      "At random state20,the training accuracy is:-0.9347100347190821\n",
      "At random state20,the testing accuracy is:-0.5813047547671\n",
      "\n",
      "\n",
      "At random state21,the training accuracy is:-0.9359588010830114\n",
      "At random state21,the testing accuracy is:-0.5145298524305555\n",
      "\n",
      "\n",
      "At random state22,the training accuracy is:-0.9345126860965606\n",
      "At random state22,the testing accuracy is:-0.5716427228495684\n",
      "\n",
      "\n",
      "At random state23,the training accuracy is:-0.934872864575637\n",
      "At random state23,the testing accuracy is:-0.5739868763863682\n",
      "\n",
      "\n",
      "At random state24,the training accuracy is:-0.9369632842149529\n",
      "At random state24,the testing accuracy is:-0.5162380941225164\n",
      "\n",
      "\n",
      "At random state25,the training accuracy is:-0.9371029737456725\n",
      "At random state25,the testing accuracy is:-0.5359428044747081\n",
      "\n",
      "\n",
      "At random state26,the training accuracy is:-0.9353155189996082\n",
      "At random state26,the testing accuracy is:-0.5772629888962546\n",
      "\n",
      "\n",
      "At random state27,the training accuracy is:-0.9363044056608123\n",
      "At random state27,the testing accuracy is:-0.5429975648981633\n",
      "\n",
      "\n",
      "At random state28,the training accuracy is:-0.9357067225454866\n",
      "At random state28,the testing accuracy is:-0.5386538383447932\n",
      "\n",
      "\n",
      "At random state29,the training accuracy is:-0.9340867578992941\n",
      "At random state29,the testing accuracy is:-0.5608046916146916\n",
      "\n",
      "\n",
      "At random state30,the training accuracy is:-0.936399338273972\n",
      "At random state30,the testing accuracy is:-0.5457595709630414\n",
      "\n",
      "\n",
      "At random state31,the training accuracy is:-0.9359946886446886\n",
      "At random state31,the testing accuracy is:-0.5251962222049535\n",
      "\n",
      "\n",
      "At random state32,the training accuracy is:-0.938154570826871\n",
      "At random state32,the testing accuracy is:-0.5097242527472527\n",
      "\n",
      "\n",
      "At random state33,the training accuracy is:-0.9359048881361817\n",
      "At random state33,the testing accuracy is:-0.5405765544747083\n",
      "\n",
      "\n",
      "At random state34,the training accuracy is:-0.9362155815555906\n",
      "At random state34,the testing accuracy is:-0.551156566328207\n",
      "\n",
      "\n",
      "At random state35,the training accuracy is:-0.935667573172516\n",
      "At random state35,the testing accuracy is:-0.5170232233796296\n",
      "\n",
      "\n",
      "At random state36,the training accuracy is:-0.9359369826502364\n",
      "At random state36,the testing accuracy is:-0.5676071701415281\n",
      "\n",
      "\n",
      "At random state37,the training accuracy is:-0.9368977167869396\n",
      "At random state37,the testing accuracy is:-0.5497516034653999\n",
      "\n",
      "\n",
      "At random state38,the training accuracy is:-0.9374064971723814\n",
      "At random state38,the testing accuracy is:-0.5447944398037818\n",
      "\n",
      "\n",
      "At random state39,the training accuracy is:-0.9335377516899827\n",
      "At random state39,the testing accuracy is:-0.592634753789991\n",
      "\n",
      "\n",
      "At random state40,the training accuracy is:-0.9368431696994953\n",
      "At random state40,the testing accuracy is:-0.5510851409755861\n",
      "\n",
      "\n",
      "At random state41,the training accuracy is:-0.9354638143278102\n",
      "At random state41,the testing accuracy is:-0.5517807408497695\n",
      "\n",
      "\n",
      "At random state42,the training accuracy is:-0.9352124163290895\n",
      "At random state42,the testing accuracy is:-0.5835002030794225\n",
      "\n",
      "\n",
      "At random state43,the training accuracy is:-0.9362803884740561\n",
      "At random state43,the testing accuracy is:-0.5604616815990296\n",
      "\n",
      "\n",
      "At random state44,the training accuracy is:-0.9348579099205181\n",
      "At random state44,the testing accuracy is:-0.5419776925368687\n",
      "\n",
      "\n",
      "At random state45,the training accuracy is:-0.9356667655642024\n",
      "At random state45,the testing accuracy is:-0.5520799529206212\n",
      "\n",
      "\n",
      "At random state46,the training accuracy is:-0.9360827063506624\n",
      "At random state46,the testing accuracy is:-0.5006568342628308\n",
      "\n",
      "\n",
      "At random state47,the training accuracy is:-0.9356671391029723\n",
      "At random state47,the testing accuracy is:-0.559878137610492\n",
      "\n",
      "\n",
      "At random state48,the training accuracy is:-0.9364392423785074\n",
      "At random state48,the testing accuracy is:-0.5598129615360545\n",
      "\n",
      "\n",
      "At random state49,the training accuracy is:-0.9382836495192234\n",
      "At random state49,the testing accuracy is:-0.5026077826503632\n",
      "\n",
      "\n",
      "At random state50,the training accuracy is:-0.9380756887377211\n",
      "At random state50,the testing accuracy is:-0.5114131846792555\n",
      "\n",
      "\n",
      "At random state51,the training accuracy is:-0.9368710012764622\n",
      "At random state51,the testing accuracy is:-0.5311155513631269\n",
      "\n",
      "\n",
      "At random state52,the training accuracy is:-0.934520114702586\n",
      "At random state52,the testing accuracy is:-0.5654885278685279\n",
      "\n",
      "\n",
      "At random state53,the training accuracy is:-0.9369961137660614\n",
      "At random state53,the testing accuracy is:-0.5193066734221193\n",
      "\n",
      "\n",
      "At random state54,the training accuracy is:-0.9360709799781253\n",
      "At random state54,the testing accuracy is:-0.5336253797922881\n",
      "\n",
      "\n",
      "At random state55,the training accuracy is:-0.9345135678448566\n",
      "At random state55,the testing accuracy is:-0.5562531414256766\n",
      "\n",
      "\n",
      "At random state56,the training accuracy is:-0.9370490444350367\n",
      "At random state56,the testing accuracy is:-0.5157376078431372\n",
      "\n",
      "\n",
      "At random state57,the training accuracy is:-0.9360917342025978\n",
      "At random state57,the testing accuracy is:-0.5414810126459146\n",
      "\n",
      "\n",
      "At random state58,the training accuracy is:-0.9349601739279757\n",
      "At random state58,the testing accuracy is:-0.5565430918577425\n",
      "\n",
      "\n",
      "At random state59,the training accuracy is:-0.936072702142967\n",
      "At random state59,the testing accuracy is:-0.5486724975024975\n",
      "\n",
      "\n",
      "At random state60,the training accuracy is:-0.9359313438649495\n",
      "At random state60,the testing accuracy is:-0.508667131558642\n",
      "\n",
      "\n",
      "At random state61,the training accuracy is:-0.935659406836142\n",
      "At random state61,the testing accuracy is:-0.5610468864367817\n",
      "\n",
      "\n",
      "At random state62,the training accuracy is:-0.9349011639327215\n",
      "At random state62,the testing accuracy is:-0.5676222405758871\n",
      "\n",
      "\n",
      "At random state63,the training accuracy is:-0.9359527986048316\n",
      "At random state63,the testing accuracy is:-0.5831898754391567\n",
      "\n",
      "\n",
      "At random state64,the training accuracy is:-0.9353254298145981\n",
      "At random state64,the testing accuracy is:-0.5389768577456444\n",
      "\n",
      "\n",
      "At random state65,the training accuracy is:-0.9361460349751631\n",
      "At random state65,the testing accuracy is:-0.5364835882133532\n",
      "\n",
      "\n",
      "At random state66,the training accuracy is:-0.9341422165418105\n",
      "At random state66,the testing accuracy is:-0.5416446019894728\n",
      "\n",
      "\n",
      "At random state67,the training accuracy is:-0.9355044305156093\n",
      "At random state67,the testing accuracy is:-0.5518025974957635\n",
      "\n",
      "\n",
      "At random state68,the training accuracy is:-0.9355502160946665\n",
      "At random state68,the testing accuracy is:-0.5430492740315638\n",
      "\n",
      "\n",
      "At random state69,the training accuracy is:-0.9355891820204999\n",
      "At random state69,the testing accuracy is:-0.5308976135868615\n",
      "\n",
      "\n",
      "At random state70,the training accuracy is:-0.9353057958908564\n",
      "At random state70,the testing accuracy is:-0.5620469707685053\n",
      "\n",
      "\n",
      "At random state71,the training accuracy is:-0.9353216643255675\n",
      "At random state71,the testing accuracy is:-0.5436820344672455\n",
      "\n",
      "\n",
      "At random state72,the training accuracy is:-0.9347070902947185\n",
      "At random state72,the testing accuracy is:-0.5575987497068591\n",
      "\n",
      "\n",
      "At random state73,the training accuracy is:-0.935146811292166\n",
      "At random state73,the testing accuracy is:-0.5499878140917136\n",
      "\n",
      "\n",
      "At random state74,the training accuracy is:-0.9356172731484746\n",
      "At random state74,the testing accuracy is:-0.5719114681262569\n",
      "\n",
      "\n",
      "At random state75,the training accuracy is:-0.9366371778430074\n",
      "At random state75,the testing accuracy is:-0.5073007559252283\n",
      "\n",
      "\n",
      "At random state76,the training accuracy is:-0.936963183146091\n",
      "At random state76,the testing accuracy is:-0.5302971607178868\n",
      "\n",
      "\n",
      "At random state77,the training accuracy is:-0.9371771029191803\n",
      "At random state77,the testing accuracy is:-0.5209857143154832\n",
      "\n",
      "\n",
      "At random state78,the training accuracy is:-0.937148434581712\n",
      "At random state78,the testing accuracy is:-0.5451115447254098\n",
      "\n",
      "\n",
      "At random state79,the training accuracy is:-0.9366748997040495\n",
      "At random state79,the testing accuracy is:-0.514035462983244\n",
      "\n",
      "\n",
      "At random state80,the training accuracy is:-0.9350693477856884\n",
      "At random state80,the testing accuracy is:-0.5587185822538809\n",
      "\n",
      "\n",
      "At random state81,the training accuracy is:-0.9357806086946082\n",
      "At random state81,the testing accuracy is:-0.5716435589291244\n",
      "\n",
      "\n",
      "At random state82,the training accuracy is:-0.9359250858206432\n",
      "At random state82,the testing accuracy is:-0.544823325101831\n",
      "\n",
      "\n",
      "At random state83,the training accuracy is:-0.9360348126281413\n",
      "At random state83,the testing accuracy is:-0.5542763623433715\n",
      "\n",
      "\n",
      "At random state84,the training accuracy is:-0.9362636988470621\n",
      "At random state84,the testing accuracy is:-0.548463078976906\n",
      "\n",
      "\n",
      "At random state85,the training accuracy is:-0.933956374848393\n",
      "At random state85,the testing accuracy is:-0.5509048437794091\n",
      "\n",
      "\n",
      "At random state86,the training accuracy is:-0.9357199536923155\n",
      "At random state86,the testing accuracy is:-0.5313158021414346\n",
      "\n",
      "\n",
      "At random state87,the training accuracy is:-0.9355940444053993\n",
      "At random state87,the testing accuracy is:-0.5316505552418597\n",
      "\n",
      "\n",
      "At random state88,the training accuracy is:-0.9376414089843019\n",
      "At random state88,the testing accuracy is:-0.5259265710299403\n",
      "\n",
      "\n",
      "At random state89,the training accuracy is:-0.9342694051663589\n",
      "At random state89,the testing accuracy is:-0.5659095238898069\n",
      "\n",
      "\n",
      "At random state90,the training accuracy is:-0.9352520005365214\n",
      "At random state90,the testing accuracy is:-0.5389004686054875\n",
      "\n",
      "\n",
      "At random state91,the training accuracy is:-0.9352089066993071\n",
      "At random state91,the testing accuracy is:-0.53215547212625\n",
      "\n",
      "\n",
      "At random state92,the training accuracy is:-0.9369134894407671\n",
      "At random state92,the testing accuracy is:-0.536830683100683\n",
      "\n",
      "\n",
      "At random state93,the training accuracy is:-0.9356352673796102\n",
      "At random state93,the testing accuracy is:-0.5606533320876456\n",
      "\n",
      "\n",
      "At random state94,the training accuracy is:-0.9363680385145091\n",
      "At random state94,the testing accuracy is:-0.5421487393588693\n",
      "\n",
      "\n",
      "At random state95,the training accuracy is:-0.935890934365355\n",
      "At random state95,the testing accuracy is:-0.536681513003237\n",
      "\n",
      "\n",
      "At random state96,the training accuracy is:-0.9357126972284369\n",
      "At random state96,the testing accuracy is:-0.5357687139743654\n",
      "\n",
      "\n",
      "At random state97,the training accuracy is:-0.9360724503358004\n",
      "At random state97,the testing accuracy is:-0.5354071648455941\n",
      "\n",
      "\n",
      "At random state98,the training accuracy is:-0.9357966558833426\n",
      "At random state98,the testing accuracy is:-0.5448146246948271\n",
      "\n",
      "\n",
      "At random state99,the training accuracy is:-0.9360361965486808\n",
      "At random state99,the testing accuracy is:-0.5402192923372644\n",
      "\n",
      "\n"
     ]
    }
   ],
   "source": [
    "rf = RandomForestRegressor()\n",
    "for i in range(0,100):\n",
    "    X_train,X_test,y_train,y_test =train_test_split(X_scaled,y,test_size=0.2,random_state=i)\n",
    "    rf.fit(X_train,y_train)\n",
    "    pred_train = rf.predict(X_train)\n",
    "    pred_test= rf.predict(X_test)\n",
    "    print(f\"At random state{i},the training accuracy is:-{r2_score(y_train,pred_train)}\")\n",
    "    print(f\"At random state{i},the testing accuracy is:-{r2_score(y_test,pred_test)}\")\n",
    "    print(\"\\n\")"
   ]
  },
  {
   "cell_type": "code",
   "execution_count": 177,
   "id": "018d8831",
   "metadata": {},
   "outputs": [
    {
     "name": "stdout",
     "output_type": "stream",
     "text": [
      "R2 score: 58.34981292077441\n",
      "cross val score: 42.22054276913205\n"
     ]
    }
   ],
   "source": [
    "#so as we can interpret random state 42 is giving best train and test accuracy,so we train our model at random state 42:\n",
    "\n",
    "X_train,X_test,y_train,y_test = train_test_split(X,y,test_size=0.2,random_state=42)\n",
    "\n",
    "rf=RandomForestRegressor()\n",
    "rf.fit(X_train,y_train)\n",
    "rf.score(X_train,y_train)\n",
    "y_pred=rf.predict(X_test)\n",
    "rfs=r2_score(y_test,y_pred)\n",
    "print('R2 score:',rfs*100)\n",
    "\n",
    "rfscore=cross_val_score(rf,X,y,cv=5)\n",
    "rfc=rfscore.mean()\n",
    "print('cross val score:',rfc*100)"
   ]
  },
  {
   "cell_type": "code",
   "execution_count": 178,
   "id": "a126c882",
   "metadata": {},
   "outputs": [
    {
     "data": {
      "text/plain": [
       "7384    0\n",
       "1739    0\n",
       "5133    0\n",
       "1406    0\n",
       "1561    0\n",
       "Name: RainTomorrow, dtype: int32"
      ]
     },
     "execution_count": 178,
     "metadata": {},
     "output_type": "execute_result"
    }
   ],
   "source": [
    "y_pred=rf.predict(X_test)\n",
    "y_train.head()"
   ]
  },
  {
   "cell_type": "code",
   "execution_count": 179,
   "id": "4f7b7d04",
   "metadata": {},
   "outputs": [
    {
     "data": {
      "text/plain": [
       "0.9342216987364969"
      ]
     },
     "execution_count": 179,
     "metadata": {},
     "output_type": "execute_result"
    }
   ],
   "source": [
    "#Adjusted R2 score\n",
    "rf.score(X_train,y_train)"
   ]
  },
  {
   "cell_type": "code",
   "execution_count": 180,
   "id": "140785eb",
   "metadata": {},
   "outputs": [
    {
     "data": {
      "text/plain": [
       "0.5834981292077441"
      ]
     },
     "execution_count": 180,
     "metadata": {},
     "output_type": "execute_result"
    }
   ],
   "source": [
    "rf.score(X_test,y_test)"
   ]
  },
  {
   "cell_type": "code",
   "execution_count": 182,
   "id": "804bbdda",
   "metadata": {},
   "outputs": [
    {
     "data": {
      "text/plain": [
       "array([0.12, 0.35, 0.14, ..., 0.47, 0.02, 0.12])"
      ]
     },
     "execution_count": 182,
     "metadata": {},
     "output_type": "execute_result"
    }
   ],
   "source": [
    "#lets plot and visualize\n",
    "y_pred=rf.predict(X_test)\n",
    "y_pred"
   ]
  },
  {
   "cell_type": "code",
   "execution_count": 183,
   "id": "eed9a933",
   "metadata": {},
   "outputs": [
    {
     "data": {
      "image/png": "[encoded data removed]",
      "text/plain": [
       "<Figure size 432x288 with 1 Axes>"
      ]
     },
     "metadata": {
      "needs_background": "light"
     },
     "output_type": "display_data"
    }
   ],
   "source": [
    "plt.scatter(y_test,y_pred,color='r')\n",
    "plt.xlabel='actual PRICE'\n",
    "plt.ylabel='Predicted PRICE'\n",
    "plt.title='Actual vs model predicted '\n",
    "plt.show()"
   ]
  },
  {
   "cell_type": "code",
   "execution_count": 184,
   "id": "5ae6c201",
   "metadata": {},
   "outputs": [
    {
     "name": "stdout",
     "output_type": "stream",
     "text": [
      "MAE: 0.17316320474777447\n",
      "MSE: 0.07151323442136498\n",
      "RMSE: 0.26741958496221807\n"
     ]
    }
   ],
   "source": [
    "print('MAE:', mean_absolute_error(y_test, y_pred))\n",
    "print('MSE:', mean_squared_error(y_test, y_pred))\n",
    "print('RMSE:', np.sqrt(mean_squared_error(y_test, y_pred)))"
   ]
  },
  {
   "cell_type": "code",
   "execution_count": 185,
   "id": "bce3cba1",
   "metadata": {},
   "outputs": [
    {
     "name": "stdout",
     "output_type": "stream",
     "text": [
      "R2 score: 20.501585660541465\n",
      "cross val score: -15.043884586127913\n"
     ]
    }
   ],
   "source": [
    "dt=DecisionTreeRegressor()\n",
    "dt.fit(X_train,y_train)\n",
    "dt.score(X_train,y_train)\n",
    "y_pred=dt.predict(X_test)\n",
    "dtr=r2_score(y_test,y_pred)\n",
    "print('R2 score:',dtr*100)\n",
    "\n",
    "dtscore=cross_val_score(dt,X,y,cv=5)\n",
    "dtr=dtscore.mean()\n",
    "print('cross val score:',dtr*100)"
   ]
  },
  {
   "cell_type": "code",
   "execution_count": 186,
   "id": "bdfbca7f",
   "metadata": {},
   "outputs": [
    {
     "name": "stdout",
     "output_type": "stream",
     "text": [
      "MAE: 0.13649851632047477\n",
      "MSE: 0.13649851632047477\n",
      "RMSE: 0.3694570561248963\n"
     ]
    }
   ],
   "source": [
    "print('MAE:', mean_absolute_error(y_test, y_pred))\n",
    "print('MSE:', mean_squared_error(y_test, y_pred))\n",
    "print('RMSE:', np.sqrt(mean_squared_error(y_test, y_pred)))"
   ]
  },
  {
   "cell_type": "code",
   "execution_count": 187,
   "id": "81873b36",
   "metadata": {},
   "outputs": [
    {
     "name": "stdout",
     "output_type": "stream",
     "text": [
      "R2 score: 62.73815995684049\n",
      "cross val score: 47.05833158104499\n"
     ]
    }
   ],
   "source": [
    "from sklearn.ensemble import ExtraTreesRegressor\n",
    "\n",
    "model = ExtraTreesRegressor()\n",
    "model.fit(X_train,y_train)\n",
    "model.score(X_train,y_train)\n",
    "y_pred=model.predict(X_test)\n",
    "modelr=r2_score(y_test,y_pred)\n",
    "print('R2 score:',modelr*100)\n",
    "modelscore=cross_val_score(model,X,y,cv=5)\n",
    "modelr=modelscore.mean()\n",
    "print('cross val score:',modelr*100)"
   ]
  },
  {
   "cell_type": "code",
   "execution_count": 188,
   "id": "1f2d7f39",
   "metadata": {},
   "outputs": [
    {
     "name": "stdout",
     "output_type": "stream",
     "text": [
      "MAE: 0.13770326409495548\n",
      "MSE: 0.06397845697329377\n",
      "RMSE: 0.2529396310847586\n"
     ]
    }
   ],
   "source": [
    "print('MAE:', mean_absolute_error(y_test, y_pred))\n",
    "print('MSE:', mean_squared_error(y_test, y_pred))\n",
    "print('RMSE:', np.sqrt(mean_squared_error(y_test, y_pred)))"
   ]
  },
  {
   "cell_type": "code",
   "execution_count": 189,
   "id": "f650c186",
   "metadata": {},
   "outputs": [],
   "source": [
    "import xgboost as xgb\n",
    "from xgboost import XGBRegressor\n",
    "xg=XGBRegressor()"
   ]
  },
  {
   "cell_type": "code",
   "execution_count": 190,
   "id": "f646e235",
   "metadata": {},
   "outputs": [
    {
     "name": "stdout",
     "output_type": "stream",
     "text": [
      "R2 score: 56.23440863289788\n",
      "cross val score: -15.043884586127913\n"
     ]
    }
   ],
   "source": [
    "xg.fit(X_train,y_train)\n",
    "xg.score(X_train,y_train)\n",
    "y_pred=xg.predict(X_test)\n",
    "xg_score=r2_score(y_test,y_pred)\n",
    "print('R2 score:',xg_score*100)\n",
    "xgscore=cross_val_score(xg,X,y,cv=5)\n",
    "xgr=dtscore.mean()\n",
    "print('cross val score:',xgr*100)"
   ]
  },
  {
   "cell_type": "code",
   "execution_count": 191,
   "id": "830eab4a",
   "metadata": {},
   "outputs": [
    {
     "name": "stdout",
     "output_type": "stream",
     "text": [
      "MAE: 0.17315560375516115\n",
      "MSE: 0.07514537663592734\n",
      "RMSE: 0.27412657046686906\n"
     ]
    }
   ],
   "source": [
    "print('MAE:', mean_absolute_error(y_test, y_pred))\n",
    "print('MSE:', mean_squared_error(y_test, y_pred))\n",
    "print('RMSE:', np.sqrt(mean_squared_error(y_test, y_pred)))"
   ]
  },
  {
   "cell_type": "code",
   "execution_count": 192,
   "id": "3cca4b84",
   "metadata": {},
   "outputs": [
    {
     "name": "stdout",
     "output_type": "stream",
     "text": [
      "R2 score: 28.728440276428525\n",
      "cross val score: 25.237844695709217\n"
     ]
    }
   ],
   "source": [
    "from sklearn.ensemble import AdaBoostRegressor\n",
    "ada=AdaBoostRegressor()\n",
    "ada.fit(X_train,y_train)\n",
    "ada.score(X_train,y_train)\n",
    "y_pred=ada.predict(X_test)\n",
    "ada_score=r2_score(y_test,y_pred)\n",
    "print('R2 score:',ada_score*100)\n",
    "\n",
    "adascore=cross_val_score(ada,X,y,cv=5)\n",
    "adab=adascore.mean()\n",
    "print('cross val score:',adab*100)"
   ]
  },
  {
   "cell_type": "code",
   "execution_count": 193,
   "id": "85de9c0e",
   "metadata": {},
   "outputs": [
    {
     "name": "stdout",
     "output_type": "stream",
     "text": [
      "MAE: 0.287974033696485\n",
      "MSE: 0.12237303396484164\n",
      "RMSE: 0.349818572927227\n"
     ]
    }
   ],
   "source": [
    "print('MAE:', mean_absolute_error(y_test, y_pred))\n",
    "print('MSE:', mean_squared_error(y_test, y_pred))\n",
    "print('RMSE:', np.sqrt(mean_squared_error(y_test, y_pred)))"
   ]
  },
  {
   "cell_type": "code",
   "execution_count": 203,
   "id": "fff2c232",
   "metadata": {},
   "outputs": [],
   "source": [
    "#as observed the extra tress regressor works well with this dataset...so we hypertune parameters of final model extratressRegressor using gridsearchCV\n",
    "\n",
    "parameters ={'n_estimators':[100], 'criterion':['squared_error'], \n",
    "             'max_depth':[None], 'min_samples_split':[2], 'min_samples_leaf':[1],\n",
    "             'max_features':[1.0], 'max_leaf_nodes':[None], \n",
    "              'bootstrap':[False], 'n_jobs':[None]}"
   ]
  },
  {
   "cell_type": "code",
   "execution_count": 204,
   "id": "2b2438e7",
   "metadata": {},
   "outputs": [
    {
     "name": "stdout",
     "output_type": "stream",
     "text": [
      "{'bootstrap': False, 'criterion': 'squared_error', 'max_depth': None, 'max_features': 1.0, 'max_leaf_nodes': None, 'min_samples_leaf': 1, 'min_samples_split': 2, 'n_estimators': 100, 'n_jobs': None}\n"
     ]
    }
   ],
   "source": [
    "model = ExtraTreesRegressor()\n",
    "gcv=GridSearchCV(model,parameters)\n",
    "gcv.fit(X_train,y_train)\n",
    "print(gcv.best_params_)"
   ]
  },
  {
   "cell_type": "code",
   "execution_count": 205,
   "id": "ab246f40",
   "metadata": {},
   "outputs": [
    {
     "name": "stdout",
     "output_type": "stream",
     "text": [
      "R2 score: 62.61020207428194\n",
      "cross val score: 46.87997628383337\n"
     ]
    }
   ],
   "source": [
    "model = ExtraTreesRegressor(bootstrap= False, criterion='squared_error', max_depth= None, max_features=1.0,\n",
    "                            max_leaf_nodes=None, min_samples_leaf= 1, min_samples_split= 2,\n",
    "                            n_estimators=100, n_jobs=None)\n",
    "model.fit(X_train,y_train)\n",
    "model.score(X_train,y_train)\n",
    "y_pred=model.predict(X_test)\n",
    "modelr=r2_score(y_test,y_pred)\n",
    "print('R2 score:',modelr*100)\n",
    "modelscore=cross_val_score(model,X,y,cv=5)\n",
    "modelr=modelscore.mean()\n",
    "print('cross val score:',modelr*100)"
   ]
  },
  {
   "cell_type": "code",
   "execution_count": 206,
   "id": "b326cf0c",
   "metadata": {},
   "outputs": [
    {
     "name": "stdout",
     "output_type": "stream",
     "text": [
      "MAE: 0.13855786350148366\n",
      "MSE: 0.06419816023738872\n",
      "RMSE: 0.2533735586784634\n"
     ]
    }
   ],
   "source": [
    "print('MAE:', mean_absolute_error(y_test, y_pred))\n",
    "print('MSE:',mean_squared_error(y_test, y_pred))\n",
    "print('RMSE:', np.sqrt(mean_squared_error(y_test, y_pred)))"
   ]
  },
  {
   "cell_type": "code",
   "execution_count": null,
   "id": "e74563c5",
   "metadata": {},
   "outputs": [],
   "source": [
    "#the best model is extra tree Regressor with 62% accuracy\n",
    "#MAE: 0.13855786350148366\n",
    "#MSE: 0.06419816023738872\n",
    "#RMSE: 0.2533735586784634"
   ]
  },
  {
   "cell_type": "code",
   "execution_count": 207,
   "id": "490d7d4b",
   "metadata": {},
   "outputs": [],
   "source": [
    "#saving the model to local file system\n",
    "filename='rainfall prediction_model.pickle'\n",
    "pickle.dump(model,open(filename,'wb'))"
   ]
  },
  {
   "cell_type": "code",
   "execution_count": null,
   "id": "772fcb0f",
   "metadata": {},
   "outputs": [],
   "source": []
  }
 ],
 "metadata": {
  "kernelspec": {
   "display_name": "Python 3 (ipykernel)",
   "language": "python",
   "name": "python3"
  },
  "language_info": {
   "codemirror_mode": {
    "name": "ipython",
    "version": 3
   },
   "file_extension": ".py",
   "mimetype": "text/x-python",
   "name": "python",
   "nbconvert_exporter": "python",
   "pygments_lexer": "ipython3",
   "version": "3.9.7"
  }
 },
 "nbformat": 4,
 "nbformat_minor": 5
}
