{
 "cells": [
  {
   "cell_type": "code",
   "execution_count": 86,
   "id": "ae5f6ad1",
   "metadata": {},
   "outputs": [],
   "source": [
    "import pandas as pd\n",
    "import numpy as np\n",
    "from numpy import array\n",
    "from sklearn.preprocessing import StandardScaler\n",
    "from sklearn.model_selection import GridSearchCV\n",
    "from sklearn.preprocessing import power_transform,LabelEncoder,OrdinalEncoder,OneHotEncoder\n",
    "from statsmodels.stats.outliers_influence import variance_inflation_factor\n",
    "from sklearn.model_selection import  train_test_split, cross_val_score\n",
    "from sklearn.metrics import r2_score, mean_squared_error,mean_absolute_error\n",
    "from sklearn.linear_model import LogisticRegression \n",
    "from sklearn.neighbors import KNeighborsClassifier\n",
    "from sklearn.ensemble import RandomForestClassifier\n",
    "from sklearn.tree import DecisionTreeClassifier\n",
    "from sklearn.model_selection import GridSearchCV\n",
    "from sklearn.preprocessing import power_transform\n",
    "from sklearn.metrics import accuracy_score,confusion_matrix,roc_curve,roc_auc_score,classification_report\n",
    "from sklearn.metrics import plot_roc_curve\n",
    "import matplotlib.pyplot as plt\n",
    "import seaborn as sns\n",
    "import pickle\n",
    "import warnings\n",
    "warnings.filterwarnings('ignore')"
   ]
  },
  {
   "cell_type": "code",
   "execution_count": 87,
   "id": "6982a401",
   "metadata": {},
   "outputs": [
    {
     "data": {
      "text/html": [
       "<div>\n",
       "<style scoped>\n",
       "    .dataframe tbody tr th:only-of-type {\n",
       "        vertical-align: middle;\n",
       "    }\n",
       "\n",
       "    .dataframe tbody tr th {\n",
       "        vertical-align: top;\n",
       "    }\n",
       "\n",
       "    .dataframe thead th {\n",
       "        text-align: right;\n",
       "    }\n",
       "</style>\n",
       "<table border=\"1\" class=\"dataframe\">\n",
       "  <thead>\n",
       "    <tr style=\"text-align: right;\">\n",
       "      <th></th>\n",
       "      <th>country</th>\n",
       "      <th>country_long</th>\n",
       "      <th>name</th>\n",
       "      <th>gppd_idnr</th>\n",
       "      <th>capacity_mw</th>\n",
       "      <th>latitude</th>\n",
       "      <th>longitude</th>\n",
       "      <th>primary_fuel</th>\n",
       "      <th>other_fuel1</th>\n",
       "      <th>other_fuel2</th>\n",
       "      <th>...</th>\n",
       "      <th>year_of_capacity_data</th>\n",
       "      <th>generation_gwh_2013</th>\n",
       "      <th>generation_gwh_2014</th>\n",
       "      <th>generation_gwh_2015</th>\n",
       "      <th>generation_gwh_2016</th>\n",
       "      <th>generation_gwh_2017</th>\n",
       "      <th>generation_gwh_2018</th>\n",
       "      <th>generation_gwh_2019</th>\n",
       "      <th>generation_data_source</th>\n",
       "      <th>estimated_generation_gwh</th>\n",
       "    </tr>\n",
       "  </thead>\n",
       "  <tbody>\n",
       "    <tr>\n",
       "      <th>0</th>\n",
       "      <td>IND</td>\n",
       "      <td>India</td>\n",
       "      <td>ACME Solar Tower</td>\n",
       "      <td>WRI1020239</td>\n",
       "      <td>2.5</td>\n",
       "      <td>28.1839</td>\n",
       "      <td>73.2407</td>\n",
       "      <td>Solar</td>\n",
       "      <td>NaN</td>\n",
       "      <td>NaN</td>\n",
       "      <td>...</td>\n",
       "      <td>NaN</td>\n",
       "      <td>NaN</td>\n",
       "      <td>NaN</td>\n",
       "      <td>NaN</td>\n",
       "      <td>NaN</td>\n",
       "      <td>NaN</td>\n",
       "      <td>NaN</td>\n",
       "      <td>NaN</td>\n",
       "      <td>NaN</td>\n",
       "      <td>NaN</td>\n",
       "    </tr>\n",
       "    <tr>\n",
       "      <th>1</th>\n",
       "      <td>IND</td>\n",
       "      <td>India</td>\n",
       "      <td>ADITYA CEMENT WORKS</td>\n",
       "      <td>WRI1019881</td>\n",
       "      <td>98.0</td>\n",
       "      <td>24.7663</td>\n",
       "      <td>74.6090</td>\n",
       "      <td>Coal</td>\n",
       "      <td>NaN</td>\n",
       "      <td>NaN</td>\n",
       "      <td>...</td>\n",
       "      <td>NaN</td>\n",
       "      <td>NaN</td>\n",
       "      <td>NaN</td>\n",
       "      <td>NaN</td>\n",
       "      <td>NaN</td>\n",
       "      <td>NaN</td>\n",
       "      <td>NaN</td>\n",
       "      <td>NaN</td>\n",
       "      <td>NaN</td>\n",
       "      <td>NaN</td>\n",
       "    </tr>\n",
       "    <tr>\n",
       "      <th>2</th>\n",
       "      <td>IND</td>\n",
       "      <td>India</td>\n",
       "      <td>AES Saurashtra Windfarms</td>\n",
       "      <td>WRI1026669</td>\n",
       "      <td>39.2</td>\n",
       "      <td>21.9038</td>\n",
       "      <td>69.3732</td>\n",
       "      <td>Wind</td>\n",
       "      <td>NaN</td>\n",
       "      <td>NaN</td>\n",
       "      <td>...</td>\n",
       "      <td>NaN</td>\n",
       "      <td>NaN</td>\n",
       "      <td>NaN</td>\n",
       "      <td>NaN</td>\n",
       "      <td>NaN</td>\n",
       "      <td>NaN</td>\n",
       "      <td>NaN</td>\n",
       "      <td>NaN</td>\n",
       "      <td>NaN</td>\n",
       "      <td>NaN</td>\n",
       "    </tr>\n",
       "    <tr>\n",
       "      <th>3</th>\n",
       "      <td>IND</td>\n",
       "      <td>India</td>\n",
       "      <td>AGARTALA GT</td>\n",
       "      <td>IND0000001</td>\n",
       "      <td>135.0</td>\n",
       "      <td>23.8712</td>\n",
       "      <td>91.3602</td>\n",
       "      <td>Gas</td>\n",
       "      <td>NaN</td>\n",
       "      <td>NaN</td>\n",
       "      <td>...</td>\n",
       "      <td>2019.0</td>\n",
       "      <td>NaN</td>\n",
       "      <td>617.789264</td>\n",
       "      <td>843.747</td>\n",
       "      <td>886.004428</td>\n",
       "      <td>663.774500</td>\n",
       "      <td>626.239128</td>\n",
       "      <td>NaN</td>\n",
       "      <td>Central Electricity Authority</td>\n",
       "      <td>NaN</td>\n",
       "    </tr>\n",
       "    <tr>\n",
       "      <th>4</th>\n",
       "      <td>IND</td>\n",
       "      <td>India</td>\n",
       "      <td>AKALTARA TPP</td>\n",
       "      <td>IND0000002</td>\n",
       "      <td>1800.0</td>\n",
       "      <td>21.9603</td>\n",
       "      <td>82.4091</td>\n",
       "      <td>Coal</td>\n",
       "      <td>Oil</td>\n",
       "      <td>NaN</td>\n",
       "      <td>...</td>\n",
       "      <td>2019.0</td>\n",
       "      <td>NaN</td>\n",
       "      <td>3035.550000</td>\n",
       "      <td>5916.370</td>\n",
       "      <td>6243.000000</td>\n",
       "      <td>5385.579736</td>\n",
       "      <td>7279.000000</td>\n",
       "      <td>NaN</td>\n",
       "      <td>Central Electricity Authority</td>\n",
       "      <td>NaN</td>\n",
       "    </tr>\n",
       "  </tbody>\n",
       "</table>\n",
       "<p>5 rows × 27 columns</p>\n",
       "</div>"
      ],
      "text/plain": [
       "  country country_long                      name   gppd_idnr  capacity_mw  \\\n",
       "0     IND        India          ACME Solar Tower  WRI1020239          2.5   \n",
       "1     IND        India       ADITYA CEMENT WORKS  WRI1019881         98.0   \n",
       "2     IND        India  AES Saurashtra Windfarms  WRI1026669         39.2   \n",
       "3     IND        India               AGARTALA GT  IND0000001        135.0   \n",
       "4     IND        India              AKALTARA TPP  IND0000002       1800.0   \n",
       "\n",
       "   latitude  longitude primary_fuel other_fuel1 other_fuel2  ...  \\\n",
       "0   28.1839    73.2407        Solar         NaN         NaN  ...   \n",
       "1   24.7663    74.6090         Coal         NaN         NaN  ...   \n",
       "2   21.9038    69.3732         Wind         NaN         NaN  ...   \n",
       "3   23.8712    91.3602          Gas         NaN         NaN  ...   \n",
       "4   21.9603    82.4091         Coal         Oil         NaN  ...   \n",
       "\n",
       "   year_of_capacity_data  generation_gwh_2013 generation_gwh_2014  \\\n",
       "0                    NaN                  NaN                 NaN   \n",
       "1                    NaN                  NaN                 NaN   \n",
       "2                    NaN                  NaN                 NaN   \n",
       "3                 2019.0                  NaN          617.789264   \n",
       "4                 2019.0                  NaN         3035.550000   \n",
       "\n",
       "  generation_gwh_2015 generation_gwh_2016 generation_gwh_2017  \\\n",
       "0                 NaN                 NaN                 NaN   \n",
       "1                 NaN                 NaN                 NaN   \n",
       "2                 NaN                 NaN                 NaN   \n",
       "3             843.747          886.004428          663.774500   \n",
       "4            5916.370         6243.000000         5385.579736   \n",
       "\n",
       "   generation_gwh_2018  generation_gwh_2019         generation_data_source  \\\n",
       "0                  NaN                  NaN                            NaN   \n",
       "1                  NaN                  NaN                            NaN   \n",
       "2                  NaN                  NaN                            NaN   \n",
       "3           626.239128                  NaN  Central Electricity Authority   \n",
       "4          7279.000000                  NaN  Central Electricity Authority   \n",
       "\n",
       "   estimated_generation_gwh  \n",
       "0                       NaN  \n",
       "1                       NaN  \n",
       "2                       NaN  \n",
       "3                       NaN  \n",
       "4                       NaN  \n",
       "\n",
       "[5 rows x 27 columns]"
      ]
     },
     "execution_count": 87,
     "metadata": {},
     "output_type": "execute_result"
    }
   ],
   "source": [
    "df=pd.read_csv('https://raw.githubusercontent.com/wri/global-power-plant-database/master/source_databases_csv/database_IND.csv')\n",
    "df.head()"
   ]
  },
  {
   "cell_type": "code",
   "execution_count": 88,
   "id": "8d3352c3",
   "metadata": {},
   "outputs": [
    {
     "name": "stdout",
     "output_type": "stream",
     "text": [
      "<class 'pandas.core.frame.DataFrame'>\n",
      "RangeIndex: 907 entries, 0 to 906\n",
      "Data columns (total 27 columns):\n",
      " #   Column                    Non-Null Count  Dtype  \n",
      "---  ------                    --------------  -----  \n",
      " 0   country                   907 non-null    object \n",
      " 1   country_long              907 non-null    object \n",
      " 2   name                      907 non-null    object \n",
      " 3   gppd_idnr                 907 non-null    object \n",
      " 4   capacity_mw               907 non-null    float64\n",
      " 5   latitude                  861 non-null    float64\n",
      " 6   longitude                 861 non-null    float64\n",
      " 7   primary_fuel              907 non-null    object \n",
      " 8   other_fuel1               198 non-null    object \n",
      " 9   other_fuel2               1 non-null      object \n",
      " 10  other_fuel3               0 non-null      float64\n",
      " 11  commissioning_year        527 non-null    float64\n",
      " 12  owner                     342 non-null    object \n",
      " 13  source                    907 non-null    object \n",
      " 14  url                       907 non-null    object \n",
      " 15  geolocation_source        888 non-null    object \n",
      " 16  wepp_id                   0 non-null      float64\n",
      " 17  year_of_capacity_data     519 non-null    float64\n",
      " 18  generation_gwh_2013       0 non-null      float64\n",
      " 19  generation_gwh_2014       398 non-null    float64\n",
      " 20  generation_gwh_2015       422 non-null    float64\n",
      " 21  generation_gwh_2016       434 non-null    float64\n",
      " 22  generation_gwh_2017       440 non-null    float64\n",
      " 23  generation_gwh_2018       448 non-null    float64\n",
      " 24  generation_gwh_2019       0 non-null      float64\n",
      " 25  generation_data_source    449 non-null    object \n",
      " 26  estimated_generation_gwh  0 non-null      float64\n",
      "dtypes: float64(15), object(12)\n",
      "memory usage: 191.4+ KB\n"
     ]
    }
   ],
   "source": [
    "df.info()"
   ]
  },
  {
   "cell_type": "code",
   "execution_count": 89,
   "id": "d4f61b5f",
   "metadata": {},
   "outputs": [
    {
     "data": {
      "text/plain": [
       "Index(['country', 'country_long', 'name', 'gppd_idnr', 'capacity_mw',\n",
       "       'latitude', 'longitude', 'primary_fuel', 'other_fuel1', 'other_fuel2',\n",
       "       'other_fuel3', 'commissioning_year', 'owner', 'source', 'url',\n",
       "       'geolocation_source', 'wepp_id', 'year_of_capacity_data',\n",
       "       'generation_gwh_2013', 'generation_gwh_2014', 'generation_gwh_2015',\n",
       "       'generation_gwh_2016', 'generation_gwh_2017', 'generation_gwh_2018',\n",
       "       'generation_gwh_2019', 'generation_data_source',\n",
       "       'estimated_generation_gwh'],\n",
       "      dtype='object')"
      ]
     },
     "execution_count": 89,
     "metadata": {},
     "output_type": "execute_result"
    }
   ],
   "source": [
    "df.columns"
   ]
  },
  {
   "cell_type": "code",
   "execution_count": 90,
   "id": "5b77c79d",
   "metadata": {},
   "outputs": [
    {
     "data": {
      "text/html": [
       "<div>\n",
       "<style scoped>\n",
       "    .dataframe tbody tr th:only-of-type {\n",
       "        vertical-align: middle;\n",
       "    }\n",
       "\n",
       "    .dataframe tbody tr th {\n",
       "        vertical-align: top;\n",
       "    }\n",
       "\n",
       "    .dataframe thead th {\n",
       "        text-align: right;\n",
       "    }\n",
       "</style>\n",
       "<table border=\"1\" class=\"dataframe\">\n",
       "  <thead>\n",
       "    <tr style=\"text-align: right;\">\n",
       "      <th></th>\n",
       "      <th>country_long</th>\n",
       "      <th>name</th>\n",
       "      <th>capacity_mw</th>\n",
       "      <th>primary_fuel</th>\n",
       "      <th>other_fuel1</th>\n",
       "      <th>commissioning_year</th>\n",
       "      <th>year_of_capacity_data</th>\n",
       "      <th>generation_gwh_2014</th>\n",
       "      <th>generation_gwh_2015</th>\n",
       "      <th>generation_gwh_2016</th>\n",
       "      <th>generation_gwh_2017</th>\n",
       "      <th>generation_gwh_2018</th>\n",
       "    </tr>\n",
       "  </thead>\n",
       "  <tbody>\n",
       "    <tr>\n",
       "      <th>0</th>\n",
       "      <td>India</td>\n",
       "      <td>ACME Solar Tower</td>\n",
       "      <td>2.5</td>\n",
       "      <td>Solar</td>\n",
       "      <td>NaN</td>\n",
       "      <td>2011.0</td>\n",
       "      <td>NaN</td>\n",
       "      <td>NaN</td>\n",
       "      <td>NaN</td>\n",
       "      <td>NaN</td>\n",
       "      <td>NaN</td>\n",
       "      <td>NaN</td>\n",
       "    </tr>\n",
       "    <tr>\n",
       "      <th>1</th>\n",
       "      <td>India</td>\n",
       "      <td>ADITYA CEMENT WORKS</td>\n",
       "      <td>98.0</td>\n",
       "      <td>Coal</td>\n",
       "      <td>NaN</td>\n",
       "      <td>NaN</td>\n",
       "      <td>NaN</td>\n",
       "      <td>NaN</td>\n",
       "      <td>NaN</td>\n",
       "      <td>NaN</td>\n",
       "      <td>NaN</td>\n",
       "      <td>NaN</td>\n",
       "    </tr>\n",
       "    <tr>\n",
       "      <th>2</th>\n",
       "      <td>India</td>\n",
       "      <td>AES Saurashtra Windfarms</td>\n",
       "      <td>39.2</td>\n",
       "      <td>Wind</td>\n",
       "      <td>NaN</td>\n",
       "      <td>NaN</td>\n",
       "      <td>NaN</td>\n",
       "      <td>NaN</td>\n",
       "      <td>NaN</td>\n",
       "      <td>NaN</td>\n",
       "      <td>NaN</td>\n",
       "      <td>NaN</td>\n",
       "    </tr>\n",
       "    <tr>\n",
       "      <th>3</th>\n",
       "      <td>India</td>\n",
       "      <td>AGARTALA GT</td>\n",
       "      <td>135.0</td>\n",
       "      <td>Gas</td>\n",
       "      <td>NaN</td>\n",
       "      <td>2004.0</td>\n",
       "      <td>2019.0</td>\n",
       "      <td>617.789264</td>\n",
       "      <td>843.747</td>\n",
       "      <td>886.004428</td>\n",
       "      <td>663.774500</td>\n",
       "      <td>626.239128</td>\n",
       "    </tr>\n",
       "    <tr>\n",
       "      <th>4</th>\n",
       "      <td>India</td>\n",
       "      <td>AKALTARA TPP</td>\n",
       "      <td>1800.0</td>\n",
       "      <td>Coal</td>\n",
       "      <td>Oil</td>\n",
       "      <td>2015.0</td>\n",
       "      <td>2019.0</td>\n",
       "      <td>3035.550000</td>\n",
       "      <td>5916.370</td>\n",
       "      <td>6243.000000</td>\n",
       "      <td>5385.579736</td>\n",
       "      <td>7279.000000</td>\n",
       "    </tr>\n",
       "  </tbody>\n",
       "</table>\n",
       "</div>"
      ],
      "text/plain": [
       "  country_long                      name  capacity_mw primary_fuel  \\\n",
       "0        India          ACME Solar Tower          2.5        Solar   \n",
       "1        India       ADITYA CEMENT WORKS         98.0         Coal   \n",
       "2        India  AES Saurashtra Windfarms         39.2         Wind   \n",
       "3        India               AGARTALA GT        135.0          Gas   \n",
       "4        India              AKALTARA TPP       1800.0         Coal   \n",
       "\n",
       "  other_fuel1  commissioning_year  year_of_capacity_data  generation_gwh_2014  \\\n",
       "0         NaN              2011.0                    NaN                  NaN   \n",
       "1         NaN                 NaN                    NaN                  NaN   \n",
       "2         NaN                 NaN                    NaN                  NaN   \n",
       "3         NaN              2004.0                 2019.0           617.789264   \n",
       "4         Oil              2015.0                 2019.0          3035.550000   \n",
       "\n",
       "   generation_gwh_2015  generation_gwh_2016  generation_gwh_2017  \\\n",
       "0                  NaN                  NaN                  NaN   \n",
       "1                  NaN                  NaN                  NaN   \n",
       "2                  NaN                  NaN                  NaN   \n",
       "3              843.747           886.004428           663.774500   \n",
       "4             5916.370          6243.000000          5385.579736   \n",
       "\n",
       "   generation_gwh_2018  \n",
       "0                  NaN  \n",
       "1                  NaN  \n",
       "2                  NaN  \n",
       "3           626.239128  \n",
       "4          7279.000000  "
      ]
     },
     "execution_count": 90,
     "metadata": {},
     "output_type": "execute_result"
    }
   ],
   "source": [
    "#somecolumns have 0 null values so we will drop them \n",
    "df.drop(['other_fuel3','other_fuel2','estimated_generation_gwh','wepp_id','generation_gwh_2013','generation_gwh_2019','country','gppd_idnr','owner','source','url','geolocation_source','latitude',\n",
    "'longitude','generation_data_source'],axis=1,inplace=True)\n",
    "df.head()"
   ]
  },
  {
   "cell_type": "code",
   "execution_count": 91,
   "id": "84dd6f4c",
   "metadata": {},
   "outputs": [
    {
     "data": {
      "text/plain": [
       "(907, 12)"
      ]
     },
     "execution_count": 91,
     "metadata": {},
     "output_type": "execute_result"
    }
   ],
   "source": [
    "# Loan_Id attribute is of no use in prediction .As we have year also ...so we can drop date also.....we will do ths later before scaling.\n",
    "\n",
    "df.shape"
   ]
  },
  {
   "cell_type": "code",
   "execution_count": 92,
   "id": "709e484d",
   "metadata": {},
   "outputs": [
    {
     "data": {
      "text/plain": [
       "3870"
      ]
     },
     "execution_count": 92,
     "metadata": {},
     "output_type": "execute_result"
    }
   ],
   "source": [
    "df.isnull().sum().sum()"
   ]
  },
  {
   "cell_type": "code",
   "execution_count": 93,
   "id": "5692abec",
   "metadata": {},
   "outputs": [],
   "source": [
    "#data has 3962 null values so we will handle them by fillna method by mean and mode \n",
    "df['commissioning_year'] = df['commissioning_year'].fillna(0)\n",
    "df['year_of_capacity_data'] = df['year_of_capacity_data'].fillna(0)\n",
    "df['other_fuel1']= df['other_fuel1'].fillna(df['other_fuel1'].mode()[0])\n",
    "df['generation_gwh_2016']= df['generation_gwh_2016'].fillna(df['generation_gwh_2016'].mean())\n",
    "df['generation_gwh_2014'] = df['generation_gwh_2014'].fillna(df['generation_gwh_2014'].mean())\n",
    "df['generation_gwh_2015'] = df['generation_gwh_2015'].fillna(df['generation_gwh_2015'].mean())\n",
    "df['generation_gwh_2017']= df['generation_gwh_2017'].fillna(df['generation_gwh_2017'].mean())\n",
    "df['generation_gwh_2018']= df['generation_gwh_2018'].fillna(df['generation_gwh_2018'].mean())                                        "
   ]
  },
  {
   "cell_type": "code",
   "execution_count": 94,
   "id": "6981f40f",
   "metadata": {},
   "outputs": [
    {
     "data": {
      "text/plain": [
       "country_long             0\n",
       "name                     0\n",
       "capacity_mw              0\n",
       "primary_fuel             0\n",
       "other_fuel1              0\n",
       "commissioning_year       0\n",
       "year_of_capacity_data    0\n",
       "generation_gwh_2014      0\n",
       "generation_gwh_2015      0\n",
       "generation_gwh_2016      0\n",
       "generation_gwh_2017      0\n",
       "generation_gwh_2018      0\n",
       "dtype: int64"
      ]
     },
     "execution_count": 94,
     "metadata": {},
     "output_type": "execute_result"
    }
   ],
   "source": [
    "df.isnull().sum()"
   ]
  },
  {
   "cell_type": "code",
   "execution_count": 207,
   "id": "ab5e4b6d",
   "metadata": {},
   "outputs": [],
   "source": [
    "#now we will perfom some encoding techniques to encode categorical features\n",
    "enc = OrdinalEncoder()\n",
    "df[[\"other_fuel1\"]] = enc.fit_transform(df[[\"other_fuel1\"]])"
   ]
  },
  {
   "cell_type": "code",
   "execution_count": 216,
   "id": "a3198b1d",
   "metadata": {},
   "outputs": [
    {
     "data": {
      "text/html": [
       "<div>\n",
       "<style scoped>\n",
       "    .dataframe tbody tr th:only-of-type {\n",
       "        vertical-align: middle;\n",
       "    }\n",
       "\n",
       "    .dataframe tbody tr th {\n",
       "        vertical-align: top;\n",
       "    }\n",
       "\n",
       "    .dataframe thead th {\n",
       "        text-align: right;\n",
       "    }\n",
       "</style>\n",
       "<table border=\"1\" class=\"dataframe\">\n",
       "  <thead>\n",
       "    <tr style=\"text-align: right;\">\n",
       "      <th></th>\n",
       "      <th>country_long</th>\n",
       "      <th>name</th>\n",
       "      <th>capacity_mw</th>\n",
       "      <th>primary_fuel</th>\n",
       "      <th>other_fuel1</th>\n",
       "      <th>commissioning_year</th>\n",
       "      <th>year_of_capacity_data</th>\n",
       "      <th>generation_gwh_2014</th>\n",
       "      <th>generation_gwh_2015</th>\n",
       "      <th>generation_gwh_2016</th>\n",
       "      <th>...</th>\n",
       "      <th>generation_gwh_2018</th>\n",
       "      <th>pf_new</th>\n",
       "      <th>0</th>\n",
       "      <th>1</th>\n",
       "      <th>2</th>\n",
       "      <th>3</th>\n",
       "      <th>4</th>\n",
       "      <th>5</th>\n",
       "      <th>6</th>\n",
       "      <th>7</th>\n",
       "    </tr>\n",
       "  </thead>\n",
       "  <tbody>\n",
       "    <tr>\n",
       "      <th>0</th>\n",
       "      <td>India</td>\n",
       "      <td>ACME Solar Tower</td>\n",
       "      <td>2.5</td>\n",
       "      <td>Solar</td>\n",
       "      <td>2.0</td>\n",
       "      <td>2011.0</td>\n",
       "      <td>0.0</td>\n",
       "      <td>2431.823590</td>\n",
       "      <td>2428.226946</td>\n",
       "      <td>2467.936859</td>\n",
       "      <td>...</td>\n",
       "      <td>2600.804099</td>\n",
       "      <td>6</td>\n",
       "      <td>0.0</td>\n",
       "      <td>0.0</td>\n",
       "      <td>0.0</td>\n",
       "      <td>0.0</td>\n",
       "      <td>0.0</td>\n",
       "      <td>0.0</td>\n",
       "      <td>1.0</td>\n",
       "      <td>0.0</td>\n",
       "    </tr>\n",
       "    <tr>\n",
       "      <th>1</th>\n",
       "      <td>India</td>\n",
       "      <td>ADITYA CEMENT WORKS</td>\n",
       "      <td>98.0</td>\n",
       "      <td>Coal</td>\n",
       "      <td>2.0</td>\n",
       "      <td>0.0</td>\n",
       "      <td>0.0</td>\n",
       "      <td>2431.823590</td>\n",
       "      <td>2428.226946</td>\n",
       "      <td>2467.936859</td>\n",
       "      <td>...</td>\n",
       "      <td>2600.804099</td>\n",
       "      <td>1</td>\n",
       "      <td>0.0</td>\n",
       "      <td>1.0</td>\n",
       "      <td>0.0</td>\n",
       "      <td>0.0</td>\n",
       "      <td>0.0</td>\n",
       "      <td>0.0</td>\n",
       "      <td>0.0</td>\n",
       "      <td>0.0</td>\n",
       "    </tr>\n",
       "    <tr>\n",
       "      <th>2</th>\n",
       "      <td>India</td>\n",
       "      <td>AES Saurashtra Windfarms</td>\n",
       "      <td>39.2</td>\n",
       "      <td>Wind</td>\n",
       "      <td>2.0</td>\n",
       "      <td>0.0</td>\n",
       "      <td>0.0</td>\n",
       "      <td>2431.823590</td>\n",
       "      <td>2428.226946</td>\n",
       "      <td>2467.936859</td>\n",
       "      <td>...</td>\n",
       "      <td>2600.804099</td>\n",
       "      <td>7</td>\n",
       "      <td>0.0</td>\n",
       "      <td>0.0</td>\n",
       "      <td>0.0</td>\n",
       "      <td>0.0</td>\n",
       "      <td>0.0</td>\n",
       "      <td>0.0</td>\n",
       "      <td>0.0</td>\n",
       "      <td>1.0</td>\n",
       "    </tr>\n",
       "    <tr>\n",
       "      <th>3</th>\n",
       "      <td>India</td>\n",
       "      <td>AGARTALA GT</td>\n",
       "      <td>135.0</td>\n",
       "      <td>Gas</td>\n",
       "      <td>2.0</td>\n",
       "      <td>2004.0</td>\n",
       "      <td>2019.0</td>\n",
       "      <td>617.789264</td>\n",
       "      <td>843.747000</td>\n",
       "      <td>886.004428</td>\n",
       "      <td>...</td>\n",
       "      <td>626.239128</td>\n",
       "      <td>2</td>\n",
       "      <td>0.0</td>\n",
       "      <td>0.0</td>\n",
       "      <td>1.0</td>\n",
       "      <td>0.0</td>\n",
       "      <td>0.0</td>\n",
       "      <td>0.0</td>\n",
       "      <td>0.0</td>\n",
       "      <td>0.0</td>\n",
       "    </tr>\n",
       "    <tr>\n",
       "      <th>4</th>\n",
       "      <td>India</td>\n",
       "      <td>AKALTARA TPP</td>\n",
       "      <td>1800.0</td>\n",
       "      <td>Coal</td>\n",
       "      <td>2.0</td>\n",
       "      <td>2015.0</td>\n",
       "      <td>2019.0</td>\n",
       "      <td>3035.550000</td>\n",
       "      <td>5916.370000</td>\n",
       "      <td>6243.000000</td>\n",
       "      <td>...</td>\n",
       "      <td>7279.000000</td>\n",
       "      <td>1</td>\n",
       "      <td>0.0</td>\n",
       "      <td>1.0</td>\n",
       "      <td>0.0</td>\n",
       "      <td>0.0</td>\n",
       "      <td>0.0</td>\n",
       "      <td>0.0</td>\n",
       "      <td>0.0</td>\n",
       "      <td>0.0</td>\n",
       "    </tr>\n",
       "    <tr>\n",
       "      <th>...</th>\n",
       "      <td>...</td>\n",
       "      <td>...</td>\n",
       "      <td>...</td>\n",
       "      <td>...</td>\n",
       "      <td>...</td>\n",
       "      <td>...</td>\n",
       "      <td>...</td>\n",
       "      <td>...</td>\n",
       "      <td>...</td>\n",
       "      <td>...</td>\n",
       "      <td>...</td>\n",
       "      <td>...</td>\n",
       "      <td>...</td>\n",
       "      <td>...</td>\n",
       "      <td>...</td>\n",
       "      <td>...</td>\n",
       "      <td>...</td>\n",
       "      <td>...</td>\n",
       "      <td>...</td>\n",
       "      <td>...</td>\n",
       "      <td>...</td>\n",
       "    </tr>\n",
       "    <tr>\n",
       "      <th>902</th>\n",
       "      <td>India</td>\n",
       "      <td>YERMARUS TPP</td>\n",
       "      <td>1600.0</td>\n",
       "      <td>Coal</td>\n",
       "      <td>2.0</td>\n",
       "      <td>2016.0</td>\n",
       "      <td>2019.0</td>\n",
       "      <td>2431.823590</td>\n",
       "      <td>0.994875</td>\n",
       "      <td>233.596650</td>\n",
       "      <td>...</td>\n",
       "      <td>686.500000</td>\n",
       "      <td>1</td>\n",
       "      <td>0.0</td>\n",
       "      <td>1.0</td>\n",
       "      <td>0.0</td>\n",
       "      <td>0.0</td>\n",
       "      <td>0.0</td>\n",
       "      <td>0.0</td>\n",
       "      <td>0.0</td>\n",
       "      <td>0.0</td>\n",
       "    </tr>\n",
       "    <tr>\n",
       "      <th>903</th>\n",
       "      <td>India</td>\n",
       "      <td>Yelesandra Solar Power Plant</td>\n",
       "      <td>3.0</td>\n",
       "      <td>Solar</td>\n",
       "      <td>2.0</td>\n",
       "      <td>0.0</td>\n",
       "      <td>0.0</td>\n",
       "      <td>2431.823590</td>\n",
       "      <td>2428.226946</td>\n",
       "      <td>2467.936859</td>\n",
       "      <td>...</td>\n",
       "      <td>2600.804099</td>\n",
       "      <td>6</td>\n",
       "      <td>0.0</td>\n",
       "      <td>0.0</td>\n",
       "      <td>0.0</td>\n",
       "      <td>0.0</td>\n",
       "      <td>0.0</td>\n",
       "      <td>0.0</td>\n",
       "      <td>1.0</td>\n",
       "      <td>0.0</td>\n",
       "    </tr>\n",
       "    <tr>\n",
       "      <th>904</th>\n",
       "      <td>India</td>\n",
       "      <td>Yelisirur wind power project</td>\n",
       "      <td>25.5</td>\n",
       "      <td>Wind</td>\n",
       "      <td>2.0</td>\n",
       "      <td>0.0</td>\n",
       "      <td>0.0</td>\n",
       "      <td>2431.823590</td>\n",
       "      <td>2428.226946</td>\n",
       "      <td>2467.936859</td>\n",
       "      <td>...</td>\n",
       "      <td>2600.804099</td>\n",
       "      <td>7</td>\n",
       "      <td>0.0</td>\n",
       "      <td>0.0</td>\n",
       "      <td>0.0</td>\n",
       "      <td>0.0</td>\n",
       "      <td>0.0</td>\n",
       "      <td>0.0</td>\n",
       "      <td>0.0</td>\n",
       "      <td>1.0</td>\n",
       "    </tr>\n",
       "    <tr>\n",
       "      <th>905</th>\n",
       "      <td>India</td>\n",
       "      <td>ZAWAR MINES</td>\n",
       "      <td>80.0</td>\n",
       "      <td>Coal</td>\n",
       "      <td>2.0</td>\n",
       "      <td>0.0</td>\n",
       "      <td>0.0</td>\n",
       "      <td>2431.823590</td>\n",
       "      <td>2428.226946</td>\n",
       "      <td>2467.936859</td>\n",
       "      <td>...</td>\n",
       "      <td>2600.804099</td>\n",
       "      <td>1</td>\n",
       "      <td>0.0</td>\n",
       "      <td>1.0</td>\n",
       "      <td>0.0</td>\n",
       "      <td>0.0</td>\n",
       "      <td>0.0</td>\n",
       "      <td>0.0</td>\n",
       "      <td>0.0</td>\n",
       "      <td>0.0</td>\n",
       "    </tr>\n",
       "    <tr>\n",
       "      <th>906</th>\n",
       "      <td>India</td>\n",
       "      <td>iEnergy Theni Wind Farm</td>\n",
       "      <td>16.5</td>\n",
       "      <td>Wind</td>\n",
       "      <td>2.0</td>\n",
       "      <td>0.0</td>\n",
       "      <td>0.0</td>\n",
       "      <td>2431.823590</td>\n",
       "      <td>2428.226946</td>\n",
       "      <td>2467.936859</td>\n",
       "      <td>...</td>\n",
       "      <td>2600.804099</td>\n",
       "      <td>7</td>\n",
       "      <td>0.0</td>\n",
       "      <td>0.0</td>\n",
       "      <td>0.0</td>\n",
       "      <td>0.0</td>\n",
       "      <td>0.0</td>\n",
       "      <td>0.0</td>\n",
       "      <td>0.0</td>\n",
       "      <td>1.0</td>\n",
       "    </tr>\n",
       "  </tbody>\n",
       "</table>\n",
       "<p>907 rows × 21 columns</p>\n",
       "</div>"
      ],
      "text/plain": [
       "    country_long                          name  capacity_mw primary_fuel  \\\n",
       "0          India              ACME Solar Tower          2.5        Solar   \n",
       "1          India           ADITYA CEMENT WORKS         98.0         Coal   \n",
       "2          India      AES Saurashtra Windfarms         39.2         Wind   \n",
       "3          India                   AGARTALA GT        135.0          Gas   \n",
       "4          India                  AKALTARA TPP       1800.0         Coal   \n",
       "..           ...                           ...          ...          ...   \n",
       "902        India                  YERMARUS TPP       1600.0         Coal   \n",
       "903        India  Yelesandra Solar Power Plant          3.0        Solar   \n",
       "904        India  Yelisirur wind power project         25.5         Wind   \n",
       "905        India                   ZAWAR MINES         80.0         Coal   \n",
       "906        India       iEnergy Theni Wind Farm         16.5         Wind   \n",
       "\n",
       "     other_fuel1  commissioning_year  year_of_capacity_data  \\\n",
       "0            2.0              2011.0                    0.0   \n",
       "1            2.0                 0.0                    0.0   \n",
       "2            2.0                 0.0                    0.0   \n",
       "3            2.0              2004.0                 2019.0   \n",
       "4            2.0              2015.0                 2019.0   \n",
       "..           ...                 ...                    ...   \n",
       "902          2.0              2016.0                 2019.0   \n",
       "903          2.0                 0.0                    0.0   \n",
       "904          2.0                 0.0                    0.0   \n",
       "905          2.0                 0.0                    0.0   \n",
       "906          2.0                 0.0                    0.0   \n",
       "\n",
       "     generation_gwh_2014  generation_gwh_2015  generation_gwh_2016  ...  \\\n",
       "0            2431.823590          2428.226946          2467.936859  ...   \n",
       "1            2431.823590          2428.226946          2467.936859  ...   \n",
       "2            2431.823590          2428.226946          2467.936859  ...   \n",
       "3             617.789264           843.747000           886.004428  ...   \n",
       "4            3035.550000          5916.370000          6243.000000  ...   \n",
       "..                   ...                  ...                  ...  ...   \n",
       "902          2431.823590             0.994875           233.596650  ...   \n",
       "903          2431.823590          2428.226946          2467.936859  ...   \n",
       "904          2431.823590          2428.226946          2467.936859  ...   \n",
       "905          2431.823590          2428.226946          2467.936859  ...   \n",
       "906          2431.823590          2428.226946          2467.936859  ...   \n",
       "\n",
       "     generation_gwh_2018  pf_new    0    1    2    3    4    5    6    7  \n",
       "0            2600.804099       6  0.0  0.0  0.0  0.0  0.0  0.0  1.0  0.0  \n",
       "1            2600.804099       1  0.0  1.0  0.0  0.0  0.0  0.0  0.0  0.0  \n",
       "2            2600.804099       7  0.0  0.0  0.0  0.0  0.0  0.0  0.0  1.0  \n",
       "3             626.239128       2  0.0  0.0  1.0  0.0  0.0  0.0  0.0  0.0  \n",
       "4            7279.000000       1  0.0  1.0  0.0  0.0  0.0  0.0  0.0  0.0  \n",
       "..                   ...     ...  ...  ...  ...  ...  ...  ...  ...  ...  \n",
       "902           686.500000       1  0.0  1.0  0.0  0.0  0.0  0.0  0.0  0.0  \n",
       "903          2600.804099       6  0.0  0.0  0.0  0.0  0.0  0.0  1.0  0.0  \n",
       "904          2600.804099       7  0.0  0.0  0.0  0.0  0.0  0.0  0.0  1.0  \n",
       "905          2600.804099       1  0.0  1.0  0.0  0.0  0.0  0.0  0.0  0.0  \n",
       "906          2600.804099       7  0.0  0.0  0.0  0.0  0.0  0.0  0.0  1.0  \n",
       "\n",
       "[907 rows x 21 columns]"
      ]
     },
     "execution_count": 216,
     "metadata": {},
     "output_type": "execute_result"
    }
   ],
   "source": [
    "ohe=OneHotEncoder()\n",
    "df['primary_fuel']=df['primary_fuel'].astype('category')\n",
    "df['pf_new']=df['primary_fuel'].cat.codes\n",
    "ohe_df=pd.DataFrame(ohe.fit_transform(df[['pf_new']]).toarray())\n",
    " \n",
    "#Merge with main\n",
    "df_new=df.join(ohe_df)\n",
    " \n",
    "df_new    \n"
   ]
  },
  {
   "cell_type": "code",
   "execution_count": 217,
   "id": "d903c47f",
   "metadata": {},
   "outputs": [
    {
     "data": {
      "text/html": [
       "<div>\n",
       "<style scoped>\n",
       "    .dataframe tbody tr th:only-of-type {\n",
       "        vertical-align: middle;\n",
       "    }\n",
       "\n",
       "    .dataframe tbody tr th {\n",
       "        vertical-align: top;\n",
       "    }\n",
       "\n",
       "    .dataframe thead th {\n",
       "        text-align: right;\n",
       "    }\n",
       "</style>\n",
       "<table border=\"1\" class=\"dataframe\">\n",
       "  <thead>\n",
       "    <tr style=\"text-align: right;\">\n",
       "      <th></th>\n",
       "      <th>capacity_mw</th>\n",
       "      <th>other_fuel1</th>\n",
       "      <th>commissioning_year</th>\n",
       "      <th>year_of_capacity_data</th>\n",
       "      <th>generation_gwh_2014</th>\n",
       "      <th>generation_gwh_2015</th>\n",
       "      <th>generation_gwh_2016</th>\n",
       "      <th>generation_gwh_2017</th>\n",
       "      <th>generation_gwh_2018</th>\n",
       "      <th>pf_new</th>\n",
       "    </tr>\n",
       "  </thead>\n",
       "  <tbody>\n",
       "    <tr>\n",
       "      <th>count</th>\n",
       "      <td>907.000000</td>\n",
       "      <td>907.000000</td>\n",
       "      <td>907.000000</td>\n",
       "      <td>907.000000</td>\n",
       "      <td>907.000000</td>\n",
       "      <td>907.000000</td>\n",
       "      <td>907.000000</td>\n",
       "      <td>907.000000</td>\n",
       "      <td>907.000000</td>\n",
       "      <td>907.000000</td>\n",
       "    </tr>\n",
       "    <tr>\n",
       "      <th>mean</th>\n",
       "      <td>326.223755</td>\n",
       "      <td>1.995590</td>\n",
       "      <td>1160.382580</td>\n",
       "      <td>1155.304300</td>\n",
       "      <td>2431.823590</td>\n",
       "      <td>2428.226946</td>\n",
       "      <td>2467.936859</td>\n",
       "      <td>2547.759305</td>\n",
       "      <td>2600.804099</td>\n",
       "      <td>3.206174</td>\n",
       "    </tr>\n",
       "    <tr>\n",
       "      <th>std</th>\n",
       "      <td>590.085456</td>\n",
       "      <td>0.081259</td>\n",
       "      <td>985.973139</td>\n",
       "      <td>999.466215</td>\n",
       "      <td>2665.338608</td>\n",
       "      <td>2859.349132</td>\n",
       "      <td>2877.890004</td>\n",
       "      <td>2921.502193</td>\n",
       "      <td>3030.808041</td>\n",
       "      <td>2.280652</td>\n",
       "    </tr>\n",
       "    <tr>\n",
       "      <th>min</th>\n",
       "      <td>0.000000</td>\n",
       "      <td>0.000000</td>\n",
       "      <td>0.000000</td>\n",
       "      <td>0.000000</td>\n",
       "      <td>0.000000</td>\n",
       "      <td>0.000000</td>\n",
       "      <td>0.000000</td>\n",
       "      <td>0.000000</td>\n",
       "      <td>0.000000</td>\n",
       "      <td>0.000000</td>\n",
       "    </tr>\n",
       "    <tr>\n",
       "      <th>25%</th>\n",
       "      <td>16.725000</td>\n",
       "      <td>2.000000</td>\n",
       "      <td>0.000000</td>\n",
       "      <td>0.000000</td>\n",
       "      <td>1211.362750</td>\n",
       "      <td>916.000000</td>\n",
       "      <td>896.500214</td>\n",
       "      <td>882.594850</td>\n",
       "      <td>824.842340</td>\n",
       "      <td>1.000000</td>\n",
       "    </tr>\n",
       "    <tr>\n",
       "      <th>50%</th>\n",
       "      <td>59.200000</td>\n",
       "      <td>2.000000</td>\n",
       "      <td>1978.000000</td>\n",
       "      <td>2019.000000</td>\n",
       "      <td>2431.823590</td>\n",
       "      <td>2428.226946</td>\n",
       "      <td>2467.936859</td>\n",
       "      <td>2547.759305</td>\n",
       "      <td>2600.804099</td>\n",
       "      <td>3.000000</td>\n",
       "    </tr>\n",
       "    <tr>\n",
       "      <th>75%</th>\n",
       "      <td>385.250000</td>\n",
       "      <td>2.000000</td>\n",
       "      <td>2003.000000</td>\n",
       "      <td>2019.000000</td>\n",
       "      <td>2431.823590</td>\n",
       "      <td>2428.226946</td>\n",
       "      <td>2467.936859</td>\n",
       "      <td>2547.759305</td>\n",
       "      <td>2600.804099</td>\n",
       "      <td>6.000000</td>\n",
       "    </tr>\n",
       "    <tr>\n",
       "      <th>max</th>\n",
       "      <td>4760.000000</td>\n",
       "      <td>2.000000</td>\n",
       "      <td>2018.000000</td>\n",
       "      <td>2019.000000</td>\n",
       "      <td>28127.000000</td>\n",
       "      <td>30539.000000</td>\n",
       "      <td>30015.000000</td>\n",
       "      <td>35116.000000</td>\n",
       "      <td>35136.000000</td>\n",
       "      <td>7.000000</td>\n",
       "    </tr>\n",
       "  </tbody>\n",
       "</table>\n",
       "</div>"
      ],
      "text/plain": [
       "       capacity_mw  other_fuel1  commissioning_year  year_of_capacity_data  \\\n",
       "count   907.000000   907.000000          907.000000             907.000000   \n",
       "mean    326.223755     1.995590         1160.382580            1155.304300   \n",
       "std     590.085456     0.081259          985.973139             999.466215   \n",
       "min       0.000000     0.000000            0.000000               0.000000   \n",
       "25%      16.725000     2.000000            0.000000               0.000000   \n",
       "50%      59.200000     2.000000         1978.000000            2019.000000   \n",
       "75%     385.250000     2.000000         2003.000000            2019.000000   \n",
       "max    4760.000000     2.000000         2018.000000            2019.000000   \n",
       "\n",
       "       generation_gwh_2014  generation_gwh_2015  generation_gwh_2016  \\\n",
       "count           907.000000           907.000000           907.000000   \n",
       "mean           2431.823590          2428.226946          2467.936859   \n",
       "std            2665.338608          2859.349132          2877.890004   \n",
       "min               0.000000             0.000000             0.000000   \n",
       "25%            1211.362750           916.000000           896.500214   \n",
       "50%            2431.823590          2428.226946          2467.936859   \n",
       "75%            2431.823590          2428.226946          2467.936859   \n",
       "max           28127.000000         30539.000000         30015.000000   \n",
       "\n",
       "       generation_gwh_2017  generation_gwh_2018      pf_new  \n",
       "count           907.000000           907.000000  907.000000  \n",
       "mean           2547.759305          2600.804099    3.206174  \n",
       "std            2921.502193          3030.808041    2.280652  \n",
       "min               0.000000             0.000000    0.000000  \n",
       "25%             882.594850           824.842340    1.000000  \n",
       "50%            2547.759305          2600.804099    3.000000  \n",
       "75%            2547.759305          2600.804099    6.000000  \n",
       "max           35116.000000         35136.000000    7.000000  "
      ]
     },
     "execution_count": 217,
     "metadata": {},
     "output_type": "execute_result"
    }
   ],
   "source": [
    "#we can clearly see that there are no null values.so we can continue with the data\n",
    "\n",
    "df.describe()"
   ]
  },
  {
   "cell_type": "code",
   "execution_count": 218,
   "id": "dfd7a613",
   "metadata": {},
   "outputs": [
    {
     "data": {
      "text/plain": [
       "country_long               object\n",
       "name                       object\n",
       "capacity_mw               float64\n",
       "primary_fuel             category\n",
       "other_fuel1               float64\n",
       "commissioning_year        float64\n",
       "year_of_capacity_data     float64\n",
       "generation_gwh_2014       float64\n",
       "generation_gwh_2015       float64\n",
       "generation_gwh_2016       float64\n",
       "generation_gwh_2017       float64\n",
       "generation_gwh_2018       float64\n",
       "pf_new                       int8\n",
       "dtype: object"
      ]
     },
     "execution_count": 218,
     "metadata": {},
     "output_type": "execute_result"
    }
   ],
   "source": [
    "df.dtypes"
   ]
  },
  {
   "cell_type": "code",
   "execution_count": 219,
   "id": "a6a296e9",
   "metadata": {},
   "outputs": [
    {
     "data": {
      "text/html": [
       "<div>\n",
       "<style scoped>\n",
       "    .dataframe tbody tr th:only-of-type {\n",
       "        vertical-align: middle;\n",
       "    }\n",
       "\n",
       "    .dataframe tbody tr th {\n",
       "        vertical-align: top;\n",
       "    }\n",
       "\n",
       "    .dataframe thead th {\n",
       "        text-align: right;\n",
       "    }\n",
       "</style>\n",
       "<table border=\"1\" class=\"dataframe\">\n",
       "  <thead>\n",
       "    <tr style=\"text-align: right;\">\n",
       "      <th></th>\n",
       "      <th>country_long</th>\n",
       "      <th>name</th>\n",
       "      <th>capacity_mw</th>\n",
       "      <th>primary_fuel</th>\n",
       "      <th>other_fuel1</th>\n",
       "      <th>commissioning_year</th>\n",
       "      <th>year_of_capacity_data</th>\n",
       "      <th>generation_gwh_2014</th>\n",
       "      <th>generation_gwh_2015</th>\n",
       "      <th>generation_gwh_2016</th>\n",
       "      <th>generation_gwh_2017</th>\n",
       "      <th>generation_gwh_2018</th>\n",
       "      <th>pf_new</th>\n",
       "    </tr>\n",
       "  </thead>\n",
       "  <tbody>\n",
       "    <tr>\n",
       "      <th>0</th>\n",
       "      <td>India</td>\n",
       "      <td>ACME Solar Tower</td>\n",
       "      <td>2.5</td>\n",
       "      <td>Solar</td>\n",
       "      <td>2.0</td>\n",
       "      <td>2011.0</td>\n",
       "      <td>0.0</td>\n",
       "      <td>2431.823590</td>\n",
       "      <td>2428.226946</td>\n",
       "      <td>2467.936859</td>\n",
       "      <td>2547.759305</td>\n",
       "      <td>2600.804099</td>\n",
       "      <td>6</td>\n",
       "    </tr>\n",
       "    <tr>\n",
       "      <th>1</th>\n",
       "      <td>India</td>\n",
       "      <td>ADITYA CEMENT WORKS</td>\n",
       "      <td>98.0</td>\n",
       "      <td>Coal</td>\n",
       "      <td>2.0</td>\n",
       "      <td>0.0</td>\n",
       "      <td>0.0</td>\n",
       "      <td>2431.823590</td>\n",
       "      <td>2428.226946</td>\n",
       "      <td>2467.936859</td>\n",
       "      <td>2547.759305</td>\n",
       "      <td>2600.804099</td>\n",
       "      <td>1</td>\n",
       "    </tr>\n",
       "    <tr>\n",
       "      <th>2</th>\n",
       "      <td>India</td>\n",
       "      <td>AES Saurashtra Windfarms</td>\n",
       "      <td>39.2</td>\n",
       "      <td>Wind</td>\n",
       "      <td>2.0</td>\n",
       "      <td>0.0</td>\n",
       "      <td>0.0</td>\n",
       "      <td>2431.823590</td>\n",
       "      <td>2428.226946</td>\n",
       "      <td>2467.936859</td>\n",
       "      <td>2547.759305</td>\n",
       "      <td>2600.804099</td>\n",
       "      <td>7</td>\n",
       "    </tr>\n",
       "    <tr>\n",
       "      <th>3</th>\n",
       "      <td>India</td>\n",
       "      <td>AGARTALA GT</td>\n",
       "      <td>135.0</td>\n",
       "      <td>Gas</td>\n",
       "      <td>2.0</td>\n",
       "      <td>2004.0</td>\n",
       "      <td>2019.0</td>\n",
       "      <td>617.789264</td>\n",
       "      <td>843.747000</td>\n",
       "      <td>886.004428</td>\n",
       "      <td>663.774500</td>\n",
       "      <td>626.239128</td>\n",
       "      <td>2</td>\n",
       "    </tr>\n",
       "    <tr>\n",
       "      <th>4</th>\n",
       "      <td>India</td>\n",
       "      <td>AKALTARA TPP</td>\n",
       "      <td>1800.0</td>\n",
       "      <td>Coal</td>\n",
       "      <td>2.0</td>\n",
       "      <td>2015.0</td>\n",
       "      <td>2019.0</td>\n",
       "      <td>3035.550000</td>\n",
       "      <td>5916.370000</td>\n",
       "      <td>6243.000000</td>\n",
       "      <td>5385.579736</td>\n",
       "      <td>7279.000000</td>\n",
       "      <td>1</td>\n",
       "    </tr>\n",
       "    <tr>\n",
       "      <th>...</th>\n",
       "      <td>...</td>\n",
       "      <td>...</td>\n",
       "      <td>...</td>\n",
       "      <td>...</td>\n",
       "      <td>...</td>\n",
       "      <td>...</td>\n",
       "      <td>...</td>\n",
       "      <td>...</td>\n",
       "      <td>...</td>\n",
       "      <td>...</td>\n",
       "      <td>...</td>\n",
       "      <td>...</td>\n",
       "      <td>...</td>\n",
       "    </tr>\n",
       "    <tr>\n",
       "      <th>902</th>\n",
       "      <td>India</td>\n",
       "      <td>YERMARUS TPP</td>\n",
       "      <td>1600.0</td>\n",
       "      <td>Coal</td>\n",
       "      <td>2.0</td>\n",
       "      <td>2016.0</td>\n",
       "      <td>2019.0</td>\n",
       "      <td>2431.823590</td>\n",
       "      <td>0.994875</td>\n",
       "      <td>233.596650</td>\n",
       "      <td>865.400000</td>\n",
       "      <td>686.500000</td>\n",
       "      <td>1</td>\n",
       "    </tr>\n",
       "    <tr>\n",
       "      <th>903</th>\n",
       "      <td>India</td>\n",
       "      <td>Yelesandra Solar Power Plant</td>\n",
       "      <td>3.0</td>\n",
       "      <td>Solar</td>\n",
       "      <td>2.0</td>\n",
       "      <td>0.0</td>\n",
       "      <td>0.0</td>\n",
       "      <td>2431.823590</td>\n",
       "      <td>2428.226946</td>\n",
       "      <td>2467.936859</td>\n",
       "      <td>2547.759305</td>\n",
       "      <td>2600.804099</td>\n",
       "      <td>6</td>\n",
       "    </tr>\n",
       "    <tr>\n",
       "      <th>904</th>\n",
       "      <td>India</td>\n",
       "      <td>Yelisirur wind power project</td>\n",
       "      <td>25.5</td>\n",
       "      <td>Wind</td>\n",
       "      <td>2.0</td>\n",
       "      <td>0.0</td>\n",
       "      <td>0.0</td>\n",
       "      <td>2431.823590</td>\n",
       "      <td>2428.226946</td>\n",
       "      <td>2467.936859</td>\n",
       "      <td>2547.759305</td>\n",
       "      <td>2600.804099</td>\n",
       "      <td>7</td>\n",
       "    </tr>\n",
       "    <tr>\n",
       "      <th>905</th>\n",
       "      <td>India</td>\n",
       "      <td>ZAWAR MINES</td>\n",
       "      <td>80.0</td>\n",
       "      <td>Coal</td>\n",
       "      <td>2.0</td>\n",
       "      <td>0.0</td>\n",
       "      <td>0.0</td>\n",
       "      <td>2431.823590</td>\n",
       "      <td>2428.226946</td>\n",
       "      <td>2467.936859</td>\n",
       "      <td>2547.759305</td>\n",
       "      <td>2600.804099</td>\n",
       "      <td>1</td>\n",
       "    </tr>\n",
       "    <tr>\n",
       "      <th>906</th>\n",
       "      <td>India</td>\n",
       "      <td>iEnergy Theni Wind Farm</td>\n",
       "      <td>16.5</td>\n",
       "      <td>Wind</td>\n",
       "      <td>2.0</td>\n",
       "      <td>0.0</td>\n",
       "      <td>0.0</td>\n",
       "      <td>2431.823590</td>\n",
       "      <td>2428.226946</td>\n",
       "      <td>2467.936859</td>\n",
       "      <td>2547.759305</td>\n",
       "      <td>2600.804099</td>\n",
       "      <td>7</td>\n",
       "    </tr>\n",
       "  </tbody>\n",
       "</table>\n",
       "<p>907 rows × 13 columns</p>\n",
       "</div>"
      ],
      "text/plain": [
       "    country_long                          name  capacity_mw primary_fuel  \\\n",
       "0          India              ACME Solar Tower          2.5        Solar   \n",
       "1          India           ADITYA CEMENT WORKS         98.0         Coal   \n",
       "2          India      AES Saurashtra Windfarms         39.2         Wind   \n",
       "3          India                   AGARTALA GT        135.0          Gas   \n",
       "4          India                  AKALTARA TPP       1800.0         Coal   \n",
       "..           ...                           ...          ...          ...   \n",
       "902        India                  YERMARUS TPP       1600.0         Coal   \n",
       "903        India  Yelesandra Solar Power Plant          3.0        Solar   \n",
       "904        India  Yelisirur wind power project         25.5         Wind   \n",
       "905        India                   ZAWAR MINES         80.0         Coal   \n",
       "906        India       iEnergy Theni Wind Farm         16.5         Wind   \n",
       "\n",
       "     other_fuel1  commissioning_year  year_of_capacity_data  \\\n",
       "0            2.0              2011.0                    0.0   \n",
       "1            2.0                 0.0                    0.0   \n",
       "2            2.0                 0.0                    0.0   \n",
       "3            2.0              2004.0                 2019.0   \n",
       "4            2.0              2015.0                 2019.0   \n",
       "..           ...                 ...                    ...   \n",
       "902          2.0              2016.0                 2019.0   \n",
       "903          2.0                 0.0                    0.0   \n",
       "904          2.0                 0.0                    0.0   \n",
       "905          2.0                 0.0                    0.0   \n",
       "906          2.0                 0.0                    0.0   \n",
       "\n",
       "     generation_gwh_2014  generation_gwh_2015  generation_gwh_2016  \\\n",
       "0            2431.823590          2428.226946          2467.936859   \n",
       "1            2431.823590          2428.226946          2467.936859   \n",
       "2            2431.823590          2428.226946          2467.936859   \n",
       "3             617.789264           843.747000           886.004428   \n",
       "4            3035.550000          5916.370000          6243.000000   \n",
       "..                   ...                  ...                  ...   \n",
       "902          2431.823590             0.994875           233.596650   \n",
       "903          2431.823590          2428.226946          2467.936859   \n",
       "904          2431.823590          2428.226946          2467.936859   \n",
       "905          2431.823590          2428.226946          2467.936859   \n",
       "906          2431.823590          2428.226946          2467.936859   \n",
       "\n",
       "     generation_gwh_2017  generation_gwh_2018  pf_new  \n",
       "0            2547.759305          2600.804099       6  \n",
       "1            2547.759305          2600.804099       1  \n",
       "2            2547.759305          2600.804099       7  \n",
       "3             663.774500           626.239128       2  \n",
       "4            5385.579736          7279.000000       1  \n",
       "..                   ...                  ...     ...  \n",
       "902           865.400000           686.500000       1  \n",
       "903          2547.759305          2600.804099       6  \n",
       "904          2547.759305          2600.804099       7  \n",
       "905          2547.759305          2600.804099       1  \n",
       "906          2547.759305          2600.804099       7  \n",
       "\n",
       "[907 rows x 13 columns]"
      ]
     },
     "execution_count": 219,
     "metadata": {},
     "output_type": "execute_result"
    }
   ],
   "source": [
    "df"
   ]
  },
  {
   "cell_type": "code",
   "execution_count": 220,
   "id": "115a67d0",
   "metadata": {},
   "outputs": [
    {
     "data": {
      "text/html": [
       "<div>\n",
       "<style scoped>\n",
       "    .dataframe tbody tr th:only-of-type {\n",
       "        vertical-align: middle;\n",
       "    }\n",
       "\n",
       "    .dataframe tbody tr th {\n",
       "        vertical-align: top;\n",
       "    }\n",
       "\n",
       "    .dataframe thead th {\n",
       "        text-align: right;\n",
       "    }\n",
       "</style>\n",
       "<table border=\"1\" class=\"dataframe\">\n",
       "  <thead>\n",
       "    <tr style=\"text-align: right;\">\n",
       "      <th></th>\n",
       "      <th>capacity_mw</th>\n",
       "      <th>other_fuel1</th>\n",
       "      <th>commissioning_year</th>\n",
       "      <th>year_of_capacity_data</th>\n",
       "      <th>generation_gwh_2014</th>\n",
       "      <th>generation_gwh_2015</th>\n",
       "      <th>generation_gwh_2016</th>\n",
       "      <th>generation_gwh_2017</th>\n",
       "      <th>generation_gwh_2018</th>\n",
       "      <th>pf_new</th>\n",
       "    </tr>\n",
       "  </thead>\n",
       "  <tbody>\n",
       "    <tr>\n",
       "      <th>capacity_mw</th>\n",
       "      <td>1.000000</td>\n",
       "      <td>0.003105</td>\n",
       "      <td>0.414667</td>\n",
       "      <td>4.178962e-01</td>\n",
       "      <td>6.943503e-01</td>\n",
       "      <td>7.111899e-01</td>\n",
       "      <td>7.422211e-01</td>\n",
       "      <td>7.575852e-01</td>\n",
       "      <td>7.734556e-01</td>\n",
       "      <td>-0.380395</td>\n",
       "    </tr>\n",
       "    <tr>\n",
       "      <th>other_fuel1</th>\n",
       "      <td>0.003105</td>\n",
       "      <td>1.000000</td>\n",
       "      <td>-0.045620</td>\n",
       "      <td>-4.695180e-02</td>\n",
       "      <td>2.450509e-02</td>\n",
       "      <td>2.679006e-02</td>\n",
       "      <td>3.157459e-02</td>\n",
       "      <td>2.111693e-02</td>\n",
       "      <td>3.567517e-02</td>\n",
       "      <td>0.004912</td>\n",
       "    </tr>\n",
       "    <tr>\n",
       "      <th>commissioning_year</th>\n",
       "      <td>0.414667</td>\n",
       "      <td>-0.045620</td>\n",
       "      <td>1.000000</td>\n",
       "      <td>9.817166e-01</td>\n",
       "      <td>1.756471e-03</td>\n",
       "      <td>1.945082e-03</td>\n",
       "      <td>2.252763e-03</td>\n",
       "      <td>2.255656e-03</td>\n",
       "      <td>2.302040e-03</td>\n",
       "      <td>-0.481665</td>\n",
       "    </tr>\n",
       "    <tr>\n",
       "      <th>year_of_capacity_data</th>\n",
       "      <td>0.417896</td>\n",
       "      <td>-0.046952</td>\n",
       "      <td>0.981717</td>\n",
       "      <td>1.000000e+00</td>\n",
       "      <td>-1.800374e-16</td>\n",
       "      <td>-6.590075e-17</td>\n",
       "      <td>-1.134680e-17</td>\n",
       "      <td>2.014619e-16</td>\n",
       "      <td>-5.989493e-17</td>\n",
       "      <td>-0.500558</td>\n",
       "    </tr>\n",
       "    <tr>\n",
       "      <th>generation_gwh_2014</th>\n",
       "      <td>0.694350</td>\n",
       "      <td>0.024505</td>\n",
       "      <td>0.001756</td>\n",
       "      <td>-1.800374e-16</td>\n",
       "      <td>1.000000e+00</td>\n",
       "      <td>9.535943e-01</td>\n",
       "      <td>9.258738e-01</td>\n",
       "      <td>8.916868e-01</td>\n",
       "      <td>8.849556e-01</td>\n",
       "      <td>-0.124769</td>\n",
       "    </tr>\n",
       "    <tr>\n",
       "      <th>generation_gwh_2015</th>\n",
       "      <td>0.711190</td>\n",
       "      <td>0.026790</td>\n",
       "      <td>0.001945</td>\n",
       "      <td>-6.590075e-17</td>\n",
       "      <td>9.535943e-01</td>\n",
       "      <td>1.000000e+00</td>\n",
       "      <td>9.688877e-01</td>\n",
       "      <td>9.282425e-01</td>\n",
       "      <td>9.234611e-01</td>\n",
       "      <td>-0.124828</td>\n",
       "    </tr>\n",
       "    <tr>\n",
       "      <th>generation_gwh_2016</th>\n",
       "      <td>0.742221</td>\n",
       "      <td>0.031575</td>\n",
       "      <td>0.002253</td>\n",
       "      <td>-1.134680e-17</td>\n",
       "      <td>9.258738e-01</td>\n",
       "      <td>9.688877e-01</td>\n",
       "      <td>1.000000e+00</td>\n",
       "      <td>9.646488e-01</td>\n",
       "      <td>9.571589e-01</td>\n",
       "      <td>-0.131051</td>\n",
       "    </tr>\n",
       "    <tr>\n",
       "      <th>generation_gwh_2017</th>\n",
       "      <td>0.757585</td>\n",
       "      <td>0.021117</td>\n",
       "      <td>0.002256</td>\n",
       "      <td>2.014619e-16</td>\n",
       "      <td>8.916868e-01</td>\n",
       "      <td>9.282425e-01</td>\n",
       "      <td>9.646488e-01</td>\n",
       "      <td>1.000000e+00</td>\n",
       "      <td>9.826888e-01</td>\n",
       "      <td>-0.132003</td>\n",
       "    </tr>\n",
       "    <tr>\n",
       "      <th>generation_gwh_2018</th>\n",
       "      <td>0.773456</td>\n",
       "      <td>0.035675</td>\n",
       "      <td>0.002302</td>\n",
       "      <td>-5.989493e-17</td>\n",
       "      <td>8.849556e-01</td>\n",
       "      <td>9.234611e-01</td>\n",
       "      <td>9.571589e-01</td>\n",
       "      <td>9.826888e-01</td>\n",
       "      <td>1.000000e+00</td>\n",
       "      <td>-0.136983</td>\n",
       "    </tr>\n",
       "    <tr>\n",
       "      <th>pf_new</th>\n",
       "      <td>-0.380395</td>\n",
       "      <td>0.004912</td>\n",
       "      <td>-0.481665</td>\n",
       "      <td>-5.005583e-01</td>\n",
       "      <td>-1.247688e-01</td>\n",
       "      <td>-1.248280e-01</td>\n",
       "      <td>-1.310514e-01</td>\n",
       "      <td>-1.320034e-01</td>\n",
       "      <td>-1.369831e-01</td>\n",
       "      <td>1.000000</td>\n",
       "    </tr>\n",
       "  </tbody>\n",
       "</table>\n",
       "</div>"
      ],
      "text/plain": [
       "                       capacity_mw  other_fuel1  commissioning_year  \\\n",
       "capacity_mw               1.000000     0.003105            0.414667   \n",
       "other_fuel1               0.003105     1.000000           -0.045620   \n",
       "commissioning_year        0.414667    -0.045620            1.000000   \n",
       "year_of_capacity_data     0.417896    -0.046952            0.981717   \n",
       "generation_gwh_2014       0.694350     0.024505            0.001756   \n",
       "generation_gwh_2015       0.711190     0.026790            0.001945   \n",
       "generation_gwh_2016       0.742221     0.031575            0.002253   \n",
       "generation_gwh_2017       0.757585     0.021117            0.002256   \n",
       "generation_gwh_2018       0.773456     0.035675            0.002302   \n",
       "pf_new                   -0.380395     0.004912           -0.481665   \n",
       "\n",
       "                       year_of_capacity_data  generation_gwh_2014  \\\n",
       "capacity_mw                     4.178962e-01         6.943503e-01   \n",
       "other_fuel1                    -4.695180e-02         2.450509e-02   \n",
       "commissioning_year              9.817166e-01         1.756471e-03   \n",
       "year_of_capacity_data           1.000000e+00        -1.800374e-16   \n",
       "generation_gwh_2014            -1.800374e-16         1.000000e+00   \n",
       "generation_gwh_2015            -6.590075e-17         9.535943e-01   \n",
       "generation_gwh_2016            -1.134680e-17         9.258738e-01   \n",
       "generation_gwh_2017             2.014619e-16         8.916868e-01   \n",
       "generation_gwh_2018            -5.989493e-17         8.849556e-01   \n",
       "pf_new                         -5.005583e-01        -1.247688e-01   \n",
       "\n",
       "                       generation_gwh_2015  generation_gwh_2016  \\\n",
       "capacity_mw                   7.111899e-01         7.422211e-01   \n",
       "other_fuel1                   2.679006e-02         3.157459e-02   \n",
       "commissioning_year            1.945082e-03         2.252763e-03   \n",
       "year_of_capacity_data        -6.590075e-17        -1.134680e-17   \n",
       "generation_gwh_2014           9.535943e-01         9.258738e-01   \n",
       "generation_gwh_2015           1.000000e+00         9.688877e-01   \n",
       "generation_gwh_2016           9.688877e-01         1.000000e+00   \n",
       "generation_gwh_2017           9.282425e-01         9.646488e-01   \n",
       "generation_gwh_2018           9.234611e-01         9.571589e-01   \n",
       "pf_new                       -1.248280e-01        -1.310514e-01   \n",
       "\n",
       "                       generation_gwh_2017  generation_gwh_2018    pf_new  \n",
       "capacity_mw                   7.575852e-01         7.734556e-01 -0.380395  \n",
       "other_fuel1                   2.111693e-02         3.567517e-02  0.004912  \n",
       "commissioning_year            2.255656e-03         2.302040e-03 -0.481665  \n",
       "year_of_capacity_data         2.014619e-16        -5.989493e-17 -0.500558  \n",
       "generation_gwh_2014           8.916868e-01         8.849556e-01 -0.124769  \n",
       "generation_gwh_2015           9.282425e-01         9.234611e-01 -0.124828  \n",
       "generation_gwh_2016           9.646488e-01         9.571589e-01 -0.131051  \n",
       "generation_gwh_2017           1.000000e+00         9.826888e-01 -0.132003  \n",
       "generation_gwh_2018           9.826888e-01         1.000000e+00 -0.136983  \n",
       "pf_new                       -1.320034e-01        -1.369831e-01  1.000000  "
      ]
     },
     "execution_count": 220,
     "metadata": {},
     "output_type": "execute_result"
    }
   ],
   "source": [
    "df.corr()"
   ]
  },
  {
   "cell_type": "code",
   "execution_count": 221,
   "id": "484f0e95",
   "metadata": {},
   "outputs": [
    {
     "data": {
      "image/png": "[encoded data removed]",
      "text/plain": [
       "<Figure size 720x576 with 2 Axes>"
      ]
     },
     "metadata": {
      "needs_background": "light"
     },
     "output_type": "display_data"
    }
   ],
   "source": [
    "plt.figure(figsize=(10, 8))\n",
    "sns.heatmap(df.corr(), annot = True)\n",
    "plt.title('Correlations between factors',fontsize=20)\n",
    "plt.savefig('correlation_between _factors.jpg')\n",
    "plt.show()"
   ]
  },
  {
   "cell_type": "code",
   "execution_count": 227,
   "id": "d97756f0",
   "metadata": {},
   "outputs": [
    {
     "data": {
      "text/plain": [
       "Coal       258\n",
       "Hydro      251\n",
       "Solar      127\n",
       "Wind       123\n",
       "Gas         69\n",
       "Biomass     50\n",
       "Oil         20\n",
       "Nuclear      9\n",
       "Name: primary_fuel, dtype: int64"
      ]
     },
     "execution_count": 227,
     "metadata": {},
     "output_type": "execute_result"
    },
    {
     "data": {
      "image/png": "[encoded data removed]",
      "text/plain": [
       "<Figure size 432x288 with 1 Axes>"
      ]
     },
     "metadata": {
      "needs_background": "light"
     },
     "output_type": "display_data"
    }
   ],
   "source": [
    "sns.countplot(df['primary_fuel'])\n",
    "df['primary_fuel'].value_counts()"
   ]
  },
  {
   "cell_type": "code",
   "execution_count": null,
   "id": "dac98ffd",
   "metadata": {},
   "outputs": [],
   "source": [
    "#it is clear by the plot that major fuel used by power plants in INDIA is coal and hydro power"
   ]
  },
  {
   "cell_type": "code",
   "execution_count": 353,
   "id": "889d5a37",
   "metadata": {},
   "outputs": [
    {
     "data": {
      "text/plain": [
       "<AxesSubplot:xlabel='primary_fuel', ylabel='generation_gwh_2014'>"
      ]
     },
     "execution_count": 353,
     "metadata": {},
     "output_type": "execute_result"
    },
    {
     "data": {
      "image/png": "[encoded data removed]",
      "text/plain": [
       "<Figure size 432x288 with 1 Axes>"
      ]
     },
     "metadata": {
      "needs_background": "light"
     },
     "output_type": "display_data"
    }
   ],
   "source": [
    "sns.scatterplot(x='primary_fuel',y='generation_gwh_2014',data=df)"
   ]
  },
  {
   "cell_type": "code",
   "execution_count": null,
   "id": "755888eb",
   "metadata": {},
   "outputs": [],
   "source": [
    "#primary fuel used in INDIA is coal and its peak generation is around 27000 gigawatts per hour with capacity of 4000 mw"
   ]
  },
  {
   "cell_type": "code",
   "execution_count": 229,
   "id": "2b1481f1",
   "metadata": {},
   "outputs": [
    {
     "data": {
      "text/plain": [
       "<AxesSubplot:xlabel='primary_fuel', ylabel='generation_gwh_2015'>"
      ]
     },
     "execution_count": 229,
     "metadata": {},
     "output_type": "execute_result"
    },
    {
     "data": {
      "image/png": "[encoded data removed]",
      "text/plain": [
       "<Figure size 432x288 with 1 Axes>"
      ]
     },
     "metadata": {
      "needs_background": "light"
     },
     "output_type": "display_data"
    }
   ],
   "source": [
    "sns.scatterplot(x='primary_fuel',y='generation_gwh_2015',hue='capacity_mw',data=df)"
   ]
  },
  {
   "cell_type": "code",
   "execution_count": null,
   "id": "99941042",
   "metadata": {},
   "outputs": [],
   "source": [
    "#primary fuel used in INDIA is coal and its peak generation  is around 31000 gigawatts per hour with capacity of 4000 mw"
   ]
  },
  {
   "cell_type": "code",
   "execution_count": 230,
   "id": "8ac56d8d",
   "metadata": {},
   "outputs": [
    {
     "data": {
      "text/plain": [
       "<AxesSubplot:xlabel='primary_fuel', ylabel='generation_gwh_2016'>"
      ]
     },
     "execution_count": 230,
     "metadata": {},
     "output_type": "execute_result"
    },
    {
     "data": {
      "image/png": "[encoded data removed]",
      "text/plain": [
       "<Figure size 432x288 with 1 Axes>"
      ]
     },
     "metadata": {
      "needs_background": "light"
     },
     "output_type": "display_data"
    }
   ],
   "source": [
    "sns.scatterplot(x='primary_fuel',y='generation_gwh_2016',hue='capacity_mw',data=df)"
   ]
  },
  {
   "cell_type": "code",
   "execution_count": null,
   "id": "31b28ebd",
   "metadata": {},
   "outputs": [],
   "source": [
    "#this year also primary fuel used in INDIA is coal and its peak generation  is around 30000 gigawatts per hour with capacity of 4000 mw"
   ]
  },
  {
   "cell_type": "code",
   "execution_count": 231,
   "id": "bd02e5e3",
   "metadata": {},
   "outputs": [
    {
     "data": {
      "text/plain": [
       "<AxesSubplot:xlabel='primary_fuel', ylabel='generation_gwh_2016'>"
      ]
     },
     "execution_count": 231,
     "metadata": {},
     "output_type": "execute_result"
    },
    {
     "data": {
      "image/png": "[encoded data removed]",
      "text/plain": [
       "<Figure size 432x288 with 1 Axes>"
      ]
     },
     "metadata": {
      "needs_background": "light"
     },
     "output_type": "display_data"
    }
   ],
   "source": [
    "sns.scatterplot(x='primary_fuel',y='generation_gwh_2016',hue='capacity_mw',data=df)"
   ]
  },
  {
   "cell_type": "code",
   "execution_count": null,
   "id": "765a54d6",
   "metadata": {},
   "outputs": [],
   "source": [
    "#In 2016 also coal is primary fuel used in INDIA  and its peak generation  is around 30000 gigawatts per hour with capacity of 4000 mw"
   ]
  },
  {
   "cell_type": "code",
   "execution_count": 232,
   "id": "d2a93172",
   "metadata": {},
   "outputs": [
    {
     "data": {
      "text/plain": [
       "<AxesSubplot:xlabel='primary_fuel', ylabel='generation_gwh_2017'>"
      ]
     },
     "execution_count": 232,
     "metadata": {},
     "output_type": "execute_result"
    },
    {
     "data": {
      "image/png": "[encoded data removed]",
      "text/plain": [
       "<Figure size 432x288 with 1 Axes>"
      ]
     },
     "metadata": {
      "needs_background": "light"
     },
     "output_type": "display_data"
    }
   ],
   "source": [
    "sns.scatterplot(x='primary_fuel',y='generation_gwh_2017',hue='capacity_mw',data=df)"
   ]
  },
  {
   "cell_type": "code",
   "execution_count": null,
   "id": "48759370",
   "metadata": {},
   "outputs": [],
   "source": [
    "#primary fuel used in INDIA is coal  with capacity of 4000 mw it generated 20000-35000 gigawatts per hour"
   ]
  },
  {
   "cell_type": "code",
   "execution_count": 233,
   "id": "07ff4043",
   "metadata": {},
   "outputs": [
    {
     "data": {
      "text/plain": [
       "<AxesSubplot:xlabel='primary_fuel', ylabel='generation_gwh_2014'>"
      ]
     },
     "execution_count": 233,
     "metadata": {},
     "output_type": "execute_result"
    },
    {
     "data": {
      "image/png": "[encoded data removed]",
      "text/plain": [
       "<Figure size 432x288 with 1 Axes>"
      ]
     },
     "metadata": {
      "needs_background": "light"
     },
     "output_type": "display_data"
    }
   ],
   "source": [
    "sns.swarmplot(x='primary_fuel',y='generation_gwh_2014',data=df)"
   ]
  },
  {
   "cell_type": "code",
   "execution_count": null,
   "id": "c2aa811b",
   "metadata": {},
   "outputs": [],
   "source": [
    "#by this plot we can see that major generation primary fuel is coal with 25000 gwh and rest lie around 4000-5000 gwh"
   ]
  },
  {
   "cell_type": "code",
   "execution_count": 234,
   "id": "e0587519",
   "metadata": {},
   "outputs": [
    {
     "data": {
      "text/plain": [
       "<AxesSubplot:xlabel='primary_fuel', ylabel='generation_gwh_2015'>"
      ]
     },
     "execution_count": 234,
     "metadata": {},
     "output_type": "execute_result"
    },
    {
     "data": {
      "image/png": "[encoded data removed]",
      "text/plain": [
       "<Figure size 432x288 with 1 Axes>"
      ]
     },
     "metadata": {
      "needs_background": "light"
     },
     "output_type": "display_data"
    }
   ],
   "source": [
    "sns.swarmplot(x='primary_fuel',y='generation_gwh_2015',data=df)"
   ]
  },
  {
   "cell_type": "code",
   "execution_count": 235,
   "id": "bc92afc6",
   "metadata": {},
   "outputs": [
    {
     "data": {
      "text/plain": [
       "<AxesSubplot:xlabel='primary_fuel', ylabel='generation_gwh_2016'>"
      ]
     },
     "execution_count": 235,
     "metadata": {},
     "output_type": "execute_result"
    },
    {
     "data": {
      "image/png": "[encoded data removed]",
      "text/plain": [
       "<Figure size 432x288 with 1 Axes>"
      ]
     },
     "metadata": {
      "needs_background": "light"
     },
     "output_type": "display_data"
    }
   ],
   "source": [
    "sns.swarmplot(x='primary_fuel',y='generation_gwh_2016',data=df)"
   ]
  },
  {
   "cell_type": "code",
   "execution_count": 236,
   "id": "7da62800",
   "metadata": {},
   "outputs": [
    {
     "data": {
      "text/plain": [
       "<AxesSubplot:xlabel='primary_fuel', ylabel='generation_gwh_2017'>"
      ]
     },
     "execution_count": 236,
     "metadata": {},
     "output_type": "execute_result"
    },
    {
     "data": {
      "image/png": "[encoded data removed]",
      "text/plain": [
       "<Figure size 432x288 with 1 Axes>"
      ]
     },
     "metadata": {
      "needs_background": "light"
     },
     "output_type": "display_data"
    }
   ],
   "source": [
    "sns.swarmplot(x='primary_fuel',y='generation_gwh_2017',data=df)"
   ]
  },
  {
   "cell_type": "code",
   "execution_count": 237,
   "id": "84f2c638",
   "metadata": {},
   "outputs": [
    {
     "data": {
      "text/plain": [
       "<AxesSubplot:xlabel='primary_fuel', ylabel='generation_gwh_2018'>"
      ]
     },
     "execution_count": 237,
     "metadata": {},
     "output_type": "execute_result"
    },
    {
     "data": {
      "image/png": "[encoded data removed]",
      "text/plain": [
       "<Figure size 432x288 with 1 Axes>"
      ]
     },
     "metadata": {
      "needs_background": "light"
     },
     "output_type": "display_data"
    }
   ],
   "source": [
    "sns.swarmplot(x='primary_fuel',y='generation_gwh_2018',data=df)"
   ]
  },
  {
   "cell_type": "code",
   "execution_count": null,
   "id": "5726f337",
   "metadata": {},
   "outputs": [],
   "source": [
    "#we can interpret by these plots that major primary fuel is coal...now we go ahead by building our model"
   ]
  },
  {
   "cell_type": "code",
   "execution_count": 238,
   "id": "382ef020",
   "metadata": {},
   "outputs": [
    {
     "data": {
      "text/plain": [
       "Coal       28.445424\n",
       "Hydro      27.673649\n",
       "Solar      14.002205\n",
       "Wind       13.561191\n",
       "Gas         7.607497\n",
       "Biomass     5.512679\n",
       "Oil         2.205072\n",
       "Nuclear     0.992282\n",
       "Name: primary_fuel, dtype: float64"
      ]
     },
     "execution_count": 238,
     "metadata": {},
     "output_type": "execute_result"
    }
   ],
   "source": [
    "main_primary_fuel = df.primary_fuel.value_counts() * 100 / df.primary_fuel.count()\n",
    "main_primary_fuel"
   ]
  },
  {
   "cell_type": "code",
   "execution_count": null,
   "id": "b5de5658",
   "metadata": {},
   "outputs": [],
   "source": [
    "#count of coal and hydro is almost same "
   ]
  },
  {
   "cell_type": "code",
   "execution_count": 239,
   "id": "1fdd0f7e",
   "metadata": {},
   "outputs": [],
   "source": [
    "y = df['primary_fuel']\n",
    "X = df.drop(columns=['primary_fuel','commissioning_year','year_of_capacity_data','country_long','name'])"
   ]
  },
  {
   "cell_type": "code",
   "execution_count": 240,
   "id": "edaa3eb1",
   "metadata": {},
   "outputs": [
    {
     "data": {
      "text/plain": [
       "capacity_mw               3.123576\n",
       "other_fuel1             -20.453120\n",
       "commissioning_year       -0.328505\n",
       "year_of_capacity_data    -0.292409\n",
       "generation_gwh_2014       5.035446\n",
       "generation_gwh_2015       5.364134\n",
       "generation_gwh_2016       5.068427\n",
       "generation_gwh_2017       5.110952\n",
       "generation_gwh_2018       4.937907\n",
       "pf_new                    0.472251\n",
       "dtype: float64"
      ]
     },
     "execution_count": 240,
     "metadata": {},
     "output_type": "execute_result"
    }
   ],
   "source": [
    "#NOW we check for skewness in data\n",
    "df.skew()"
   ]
  },
  {
   "cell_type": "code",
   "execution_count": 241,
   "id": "58231932",
   "metadata": {},
   "outputs": [],
   "source": [
    "x_new=power_transform(X)"
   ]
  },
  {
   "cell_type": "code",
   "execution_count": 242,
   "id": "6bc97513",
   "metadata": {},
   "outputs": [
    {
     "data": {
      "text/plain": [
       "1   -17.330022\n",
       "7    -0.047067\n",
       "6     0.000783\n",
       "5     0.018337\n",
       "0     0.022164\n",
       "4     0.041821\n",
       "3     0.074582\n",
       "2     0.123226\n",
       "dtype: float64"
      ]
     },
     "execution_count": 242,
     "metadata": {},
     "output_type": "execute_result"
    }
   ],
   "source": [
    "pd.DataFrame(x_new).skew().sort_values(ascending=True)"
   ]
  },
  {
   "cell_type": "code",
   "execution_count": 243,
   "id": "e2a4cb54",
   "metadata": {},
   "outputs": [],
   "source": [
    "#as we can see by the boxplot that there is no outliers present...so we are good to go ahead\n",
    "\n",
    "scaler = StandardScaler()\n",
    "X_scaled = scaler.fit_transform(X)"
   ]
  },
  {
   "cell_type": "code",
   "execution_count": 244,
   "id": "a696efc6",
   "metadata": {},
   "outputs": [
    {
     "data": {
      "text/plain": [
       "8"
      ]
     },
     "execution_count": 244,
     "metadata": {},
     "output_type": "execute_result"
    }
   ],
   "source": [
    "X_scaled.shape[1]"
   ]
  },
  {
   "cell_type": "code",
   "execution_count": 245,
   "id": "b8307a1d",
   "metadata": {},
   "outputs": [],
   "source": [
    "vif=pd.DataFrame()"
   ]
  },
  {
   "cell_type": "code",
   "execution_count": 246,
   "id": "046b0cae",
   "metadata": {},
   "outputs": [],
   "source": [
    "vif[\"vif\"]= [variance_inflation_factor(X_scaled,i) for i in range(X_scaled.shape[1])]"
   ]
  },
  {
   "cell_type": "code",
   "execution_count": 247,
   "id": "7e0316c7",
   "metadata": {},
   "outputs": [
    {
     "data": {
      "text/html": [
       "<div>\n",
       "<style scoped>\n",
       "    .dataframe tbody tr th:only-of-type {\n",
       "        vertical-align: middle;\n",
       "    }\n",
       "\n",
       "    .dataframe tbody tr th {\n",
       "        vertical-align: top;\n",
       "    }\n",
       "\n",
       "    .dataframe thead th {\n",
       "        text-align: right;\n",
       "    }\n",
       "</style>\n",
       "<table border=\"1\" class=\"dataframe\">\n",
       "  <thead>\n",
       "    <tr style=\"text-align: right;\">\n",
       "      <th></th>\n",
       "      <th>vif</th>\n",
       "      <th>Features</th>\n",
       "    </tr>\n",
       "  </thead>\n",
       "  <tbody>\n",
       "    <tr>\n",
       "      <th>0</th>\n",
       "      <td>3.102134</td>\n",
       "      <td>capacity_mw</td>\n",
       "    </tr>\n",
       "    <tr>\n",
       "      <th>1</th>\n",
       "      <td>1.010071</td>\n",
       "      <td>other_fuel1</td>\n",
       "    </tr>\n",
       "    <tr>\n",
       "      <th>2</th>\n",
       "      <td>11.135292</td>\n",
       "      <td>generation_gwh_2014</td>\n",
       "    </tr>\n",
       "    <tr>\n",
       "      <th>3</th>\n",
       "      <td>26.241106</td>\n",
       "      <td>generation_gwh_2015</td>\n",
       "    </tr>\n",
       "    <tr>\n",
       "      <th>4</th>\n",
       "      <td>33.292405</td>\n",
       "      <td>generation_gwh_2016</td>\n",
       "    </tr>\n",
       "    <tr>\n",
       "      <th>5</th>\n",
       "      <td>37.175723</td>\n",
       "      <td>generation_gwh_2017</td>\n",
       "    </tr>\n",
       "    <tr>\n",
       "      <th>6</th>\n",
       "      <td>32.428534</td>\n",
       "      <td>generation_gwh_2018</td>\n",
       "    </tr>\n",
       "    <tr>\n",
       "      <th>7</th>\n",
       "      <td>1.260249</td>\n",
       "      <td>pf_new</td>\n",
       "    </tr>\n",
       "  </tbody>\n",
       "</table>\n",
       "</div>"
      ],
      "text/plain": [
       "         vif             Features\n",
       "0   3.102134          capacity_mw\n",
       "1   1.010071          other_fuel1\n",
       "2  11.135292  generation_gwh_2014\n",
       "3  26.241106  generation_gwh_2015\n",
       "4  33.292405  generation_gwh_2016\n",
       "5  37.175723  generation_gwh_2017\n",
       "6  32.428534  generation_gwh_2018\n",
       "7   1.260249               pf_new"
      ]
     },
     "execution_count": 247,
     "metadata": {},
     "output_type": "execute_result"
    }
   ],
   "source": [
    "vif[\"Features\"]=X.columns\n",
    "vif"
   ]
  },
  {
   "cell_type": "code",
   "execution_count": 248,
   "id": "86cd8733",
   "metadata": {},
   "outputs": [
    {
     "data": {
      "text/plain": [
       "(907, 8)"
      ]
     },
     "execution_count": 248,
     "metadata": {},
     "output_type": "execute_result"
    }
   ],
   "source": [
    "X_scaled.shape"
   ]
  },
  {
   "cell_type": "code",
   "execution_count": null,
   "id": "4523906f",
   "metadata": {},
   "outputs": [],
   "source": [
    "##############    PREDICTION OF PRIMARY FUEL  #############################"
   ]
  },
  {
   "cell_type": "code",
   "execution_count": 249,
   "id": "2c5f7d91",
   "metadata": {},
   "outputs": [
    {
     "name": "stdout",
     "output_type": "stream",
     "text": [
      "At random state0,the training accuracy is:-0.8979310344827586\n",
      "At random state0,the testing accuracy is:-0.945054945054945\n",
      "\n",
      "\n",
      "At random state1,the training accuracy is:-0.9103448275862069\n",
      "At random state1,the testing accuracy is:-0.9010989010989011\n",
      "\n",
      "\n",
      "At random state2,the training accuracy is:-0.9172413793103448\n",
      "At random state2,the testing accuracy is:-0.8626373626373627\n",
      "\n",
      "\n",
      "At random state3,the training accuracy is:-0.9075862068965517\n",
      "At random state3,the testing accuracy is:-0.9175824175824175\n",
      "\n",
      "\n",
      "At random state4,the training accuracy is:-0.9089655172413793\n",
      "At random state4,the testing accuracy is:-0.9175824175824175\n",
      "\n",
      "\n",
      "At random state5,the training accuracy is:-0.9158620689655173\n",
      "At random state5,the testing accuracy is:-0.9175824175824175\n",
      "\n",
      "\n",
      "At random state6,the training accuracy is:-0.9158620689655173\n",
      "At random state6,the testing accuracy is:-0.9120879120879121\n",
      "\n",
      "\n",
      "At random state7,the training accuracy is:-0.9131034482758621\n",
      "At random state7,the testing accuracy is:-0.8901098901098901\n",
      "\n",
      "\n",
      "At random state8,the training accuracy is:-0.9089655172413793\n",
      "At random state8,the testing accuracy is:-0.9010989010989011\n",
      "\n",
      "\n",
      "At random state9,the training accuracy is:-0.9062068965517242\n",
      "At random state9,the testing accuracy is:-0.8956043956043956\n",
      "\n",
      "\n",
      "At random state10,the training accuracy is:-0.9186206896551724\n",
      "At random state10,the testing accuracy is:-0.8791208791208791\n",
      "\n",
      "\n",
      "At random state11,the training accuracy is:-0.9103448275862069\n",
      "At random state11,the testing accuracy is:-0.8956043956043956\n",
      "\n",
      "\n",
      "At random state12,the training accuracy is:-0.9103448275862069\n",
      "At random state12,the testing accuracy is:-0.9065934065934066\n",
      "\n",
      "\n",
      "At random state13,the training accuracy is:-0.9103448275862069\n",
      "At random state13,the testing accuracy is:-0.8956043956043956\n",
      "\n",
      "\n",
      "At random state14,the training accuracy is:-0.9117241379310345\n",
      "At random state14,the testing accuracy is:-0.8846153846153846\n",
      "\n",
      "\n",
      "At random state15,the training accuracy is:-0.9089655172413793\n",
      "At random state15,the testing accuracy is:-0.9175824175824175\n",
      "\n",
      "\n",
      "At random state16,the training accuracy is:-0.9089655172413793\n",
      "At random state16,the testing accuracy is:-0.8901098901098901\n",
      "\n",
      "\n",
      "At random state17,the training accuracy is:-0.9117241379310345\n",
      "At random state17,the testing accuracy is:-0.8846153846153846\n",
      "\n",
      "\n",
      "At random state18,the training accuracy is:-0.9062068965517242\n",
      "At random state18,the testing accuracy is:-0.9230769230769231\n",
      "\n",
      "\n",
      "At random state19,the training accuracy is:-0.9006896551724138\n",
      "At random state19,the testing accuracy is:-0.9230769230769231\n",
      "\n",
      "\n",
      "At random state20,the training accuracy is:-0.9103448275862069\n",
      "At random state20,the testing accuracy is:-0.8956043956043956\n",
      "\n",
      "\n",
      "At random state21,the training accuracy is:-0.9062068965517242\n",
      "At random state21,the testing accuracy is:-0.9340659340659341\n",
      "\n",
      "\n",
      "At random state22,the training accuracy is:-0.9131034482758621\n",
      "At random state22,the testing accuracy is:-0.8846153846153846\n",
      "\n",
      "\n",
      "At random state23,the training accuracy is:-0.9075862068965517\n",
      "At random state23,the testing accuracy is:-0.9010989010989011\n",
      "\n",
      "\n",
      "At random state24,the training accuracy is:-0.9089655172413793\n",
      "At random state24,the testing accuracy is:-0.8956043956043956\n",
      "\n",
      "\n",
      "At random state25,the training accuracy is:-0.9075862068965517\n",
      "At random state25,the testing accuracy is:-0.945054945054945\n",
      "\n",
      "\n",
      "At random state26,the training accuracy is:-0.9075862068965517\n",
      "At random state26,the testing accuracy is:-0.9175824175824175\n",
      "\n",
      "\n",
      "At random state27,the training accuracy is:-0.9131034482758621\n",
      "At random state27,the testing accuracy is:-0.8956043956043956\n",
      "\n",
      "\n",
      "At random state28,the training accuracy is:-0.9089655172413793\n",
      "At random state28,the testing accuracy is:-0.9340659340659341\n",
      "\n",
      "\n",
      "At random state29,the training accuracy is:-0.9075862068965517\n",
      "At random state29,the testing accuracy is:-0.9230769230769231\n",
      "\n",
      "\n",
      "At random state30,the training accuracy is:-0.9062068965517242\n",
      "At random state30,the testing accuracy is:-0.9010989010989011\n",
      "\n",
      "\n",
      "At random state31,the training accuracy is:-0.9144827586206896\n",
      "At random state31,the testing accuracy is:-0.8736263736263736\n",
      "\n",
      "\n",
      "At random state32,the training accuracy is:-0.9131034482758621\n",
      "At random state32,the testing accuracy is:-0.8846153846153846\n",
      "\n",
      "\n",
      "At random state33,the training accuracy is:-0.9048275862068965\n",
      "At random state33,the testing accuracy is:-0.8846153846153846\n",
      "\n",
      "\n",
      "At random state34,the training accuracy is:-0.9089655172413793\n",
      "At random state34,the testing accuracy is:-0.9175824175824175\n",
      "\n",
      "\n",
      "At random state35,the training accuracy is:-0.9089655172413793\n",
      "At random state35,the testing accuracy is:-0.8791208791208791\n",
      "\n",
      "\n",
      "At random state36,the training accuracy is:-0.9131034482758621\n",
      "At random state36,the testing accuracy is:-0.8681318681318682\n",
      "\n",
      "\n",
      "At random state37,the training accuracy is:-0.9075862068965517\n",
      "At random state37,the testing accuracy is:-0.9175824175824175\n",
      "\n",
      "\n",
      "At random state38,the training accuracy is:-0.9048275862068965\n",
      "At random state38,the testing accuracy is:-0.8736263736263736\n",
      "\n",
      "\n",
      "At random state39,the training accuracy is:-0.9103448275862069\n",
      "At random state39,the testing accuracy is:-0.8901098901098901\n",
      "\n",
      "\n",
      "At random state40,the training accuracy is:-0.9075862068965517\n",
      "At random state40,the testing accuracy is:-0.9175824175824175\n",
      "\n",
      "\n",
      "At random state41,the training accuracy is:-0.9131034482758621\n",
      "At random state41,the testing accuracy is:-0.9010989010989011\n",
      "\n",
      "\n",
      "At random state42,the training accuracy is:-0.9158620689655173\n",
      "At random state42,the testing accuracy is:-0.8681318681318682\n",
      "\n",
      "\n",
      "At random state43,the training accuracy is:-0.9158620689655173\n",
      "At random state43,the testing accuracy is:-0.8791208791208791\n",
      "\n",
      "\n",
      "At random state44,the training accuracy is:-0.9075862068965517\n",
      "At random state44,the testing accuracy is:-0.9065934065934066\n",
      "\n",
      "\n",
      "At random state45,the training accuracy is:-0.8855172413793103\n",
      "At random state45,the testing accuracy is:-0.8571428571428571\n",
      "\n",
      "\n",
      "At random state46,the training accuracy is:-0.9103448275862069\n",
      "At random state46,the testing accuracy is:-0.9065934065934066\n",
      "\n",
      "\n",
      "At random state47,the training accuracy is:-0.9075862068965517\n",
      "At random state47,the testing accuracy is:-0.8901098901098901\n",
      "\n",
      "\n",
      "At random state48,the training accuracy is:-0.9075862068965517\n",
      "At random state48,the testing accuracy is:-0.9175824175824175\n",
      "\n",
      "\n",
      "At random state49,the training accuracy is:-0.9089655172413793\n",
      "At random state49,the testing accuracy is:-0.8846153846153846\n",
      "\n",
      "\n",
      "At random state50,the training accuracy is:-0.9062068965517242\n",
      "At random state50,the testing accuracy is:-0.9120879120879121\n",
      "\n",
      "\n",
      "At random state51,the training accuracy is:-0.9172413793103448\n",
      "At random state51,the testing accuracy is:-0.8956043956043956\n",
      "\n",
      "\n",
      "At random state52,the training accuracy is:-0.9103448275862069\n",
      "At random state52,the testing accuracy is:-0.9010989010989011\n",
      "\n",
      "\n",
      "At random state53,the training accuracy is:-0.9075862068965517\n",
      "At random state53,the testing accuracy is:-0.8791208791208791\n",
      "\n",
      "\n",
      "At random state54,the training accuracy is:-0.9020689655172414\n",
      "At random state54,the testing accuracy is:-0.9340659340659341\n",
      "\n",
      "\n",
      "At random state55,the training accuracy is:-0.9117241379310345\n",
      "At random state55,the testing accuracy is:-0.8956043956043956\n",
      "\n",
      "\n",
      "At random state56,the training accuracy is:-0.9144827586206896\n",
      "At random state56,the testing accuracy is:-0.8736263736263736\n",
      "\n",
      "\n",
      "At random state57,the training accuracy is:-0.9103448275862069\n",
      "At random state57,the testing accuracy is:-0.8901098901098901\n",
      "\n",
      "\n",
      "At random state58,the training accuracy is:-0.9144827586206896\n",
      "At random state58,the testing accuracy is:-0.8956043956043956\n",
      "\n",
      "\n",
      "At random state59,the training accuracy is:-0.903448275862069\n",
      "At random state59,the testing accuracy is:-0.9010989010989011\n",
      "\n",
      "\n",
      "At random state60,the training accuracy is:-0.9144827586206896\n",
      "At random state60,the testing accuracy is:-0.8846153846153846\n",
      "\n",
      "\n",
      "At random state61,the training accuracy is:-0.9131034482758621\n",
      "At random state61,the testing accuracy is:-0.9120879120879121\n",
      "\n",
      "\n",
      "At random state62,the training accuracy is:-0.9075862068965517\n",
      "At random state62,the testing accuracy is:-0.9120879120879121\n",
      "\n",
      "\n",
      "At random state63,the training accuracy is:-0.9117241379310345\n",
      "At random state63,the testing accuracy is:-0.9175824175824175\n",
      "\n",
      "\n",
      "At random state64,the training accuracy is:-0.9089655172413793\n",
      "At random state64,the testing accuracy is:-0.9120879120879121\n",
      "\n",
      "\n",
      "At random state65,the training accuracy is:-0.9131034482758621\n",
      "At random state65,the testing accuracy is:-0.8736263736263736\n",
      "\n",
      "\n",
      "At random state66,the training accuracy is:-0.9103448275862069\n",
      "At random state66,the testing accuracy is:-0.9230769230769231\n",
      "\n",
      "\n",
      "At random state67,the training accuracy is:-0.9158620689655173\n",
      "At random state67,the testing accuracy is:-0.8736263736263736\n",
      "\n",
      "\n",
      "At random state68,the training accuracy is:-0.9117241379310345\n",
      "At random state68,the testing accuracy is:-0.8736263736263736\n",
      "\n",
      "\n",
      "At random state69,the training accuracy is:-0.9048275862068965\n",
      "At random state69,the testing accuracy is:-0.9175824175824175\n",
      "\n",
      "\n",
      "At random state70,the training accuracy is:-0.9103448275862069\n",
      "At random state70,the testing accuracy is:-0.8846153846153846\n",
      "\n",
      "\n",
      "At random state71,the training accuracy is:-0.9089655172413793\n",
      "At random state71,the testing accuracy is:-0.9010989010989011\n",
      "\n",
      "\n",
      "At random state72,the training accuracy is:-0.9075862068965517\n",
      "At random state72,the testing accuracy is:-0.9010989010989011\n",
      "\n",
      "\n",
      "At random state73,the training accuracy is:-0.9103448275862069\n",
      "At random state73,the testing accuracy is:-0.9065934065934066\n",
      "\n",
      "\n",
      "At random state74,the training accuracy is:-0.9131034482758621\n",
      "At random state74,the testing accuracy is:-0.8956043956043956\n",
      "\n",
      "\n",
      "At random state75,the training accuracy is:-0.9062068965517242\n",
      "At random state75,the testing accuracy is:-0.8956043956043956\n",
      "\n",
      "\n",
      "At random state76,the training accuracy is:-0.9158620689655173\n",
      "At random state76,the testing accuracy is:-0.8626373626373627\n",
      "\n",
      "\n",
      "At random state77,the training accuracy is:-0.9089655172413793\n",
      "At random state77,the testing accuracy is:-0.9285714285714286\n",
      "\n",
      "\n",
      "At random state78,the training accuracy is:-0.9048275862068965\n",
      "At random state78,the testing accuracy is:-0.9340659340659341\n",
      "\n",
      "\n",
      "At random state79,the training accuracy is:-0.9103448275862069\n",
      "At random state79,the testing accuracy is:-0.8956043956043956\n",
      "\n",
      "\n",
      "At random state80,the training accuracy is:-0.9075862068965517\n",
      "At random state80,the testing accuracy is:-0.9175824175824175\n",
      "\n",
      "\n",
      "At random state81,the training accuracy is:-0.9131034482758621\n",
      "At random state81,the testing accuracy is:-0.8791208791208791\n",
      "\n",
      "\n",
      "At random state82,the training accuracy is:-0.9172413793103448\n",
      "At random state82,the testing accuracy is:-0.8681318681318682\n",
      "\n",
      "\n",
      "At random state83,the training accuracy is:-0.9103448275862069\n",
      "At random state83,the testing accuracy is:-0.9175824175824175\n",
      "\n",
      "\n",
      "At random state84,the training accuracy is:-0.9089655172413793\n",
      "At random state84,the testing accuracy is:-0.8736263736263736\n",
      "\n",
      "\n",
      "At random state85,the training accuracy is:-0.9131034482758621\n",
      "At random state85,the testing accuracy is:-0.9065934065934066\n",
      "\n",
      "\n",
      "At random state86,the training accuracy is:-0.9186206896551724\n",
      "At random state86,the testing accuracy is:-0.8681318681318682\n",
      "\n",
      "\n",
      "At random state87,the training accuracy is:-0.9062068965517242\n",
      "At random state87,the testing accuracy is:-0.9230769230769231\n",
      "\n",
      "\n",
      "At random state88,the training accuracy is:-0.9062068965517242\n",
      "At random state88,the testing accuracy is:-0.9340659340659341\n",
      "\n",
      "\n",
      "At random state89,the training accuracy is:-0.9103448275862069\n",
      "At random state89,the testing accuracy is:-0.9010989010989011\n",
      "\n",
      "\n",
      "At random state90,the training accuracy is:-0.9158620689655173\n",
      "At random state90,the testing accuracy is:-0.8736263736263736\n",
      "\n",
      "\n",
      "At random state91,the training accuracy is:-0.9048275862068965\n",
      "At random state91,the testing accuracy is:-0.9065934065934066\n",
      "\n",
      "\n",
      "At random state92,the training accuracy is:-0.9117241379310345\n",
      "At random state92,the testing accuracy is:-0.8901098901098901\n",
      "\n",
      "\n",
      "At random state93,the training accuracy is:-0.9117241379310345\n",
      "At random state93,the testing accuracy is:-0.9010989010989011\n",
      "\n",
      "\n",
      "At random state94,the training accuracy is:-0.9006896551724138\n",
      "At random state94,the testing accuracy is:-0.9065934065934066\n",
      "\n",
      "\n",
      "At random state95,the training accuracy is:-0.9117241379310345\n",
      "At random state95,the testing accuracy is:-0.8956043956043956\n",
      "\n",
      "\n",
      "At random state96,the training accuracy is:-0.9006896551724138\n",
      "At random state96,the testing accuracy is:-0.9340659340659341\n",
      "\n",
      "\n",
      "At random state97,the training accuracy is:-0.903448275862069\n",
      "At random state97,the testing accuracy is:-0.9230769230769231\n",
      "\n",
      "\n",
      "At random state98,the training accuracy is:-0.9020689655172414\n",
      "At random state98,the testing accuracy is:-0.8956043956043956\n",
      "\n",
      "\n",
      "At random state99,the training accuracy is:-0.9117241379310345\n",
      "At random state99,the testing accuracy is:-0.8956043956043956\n",
      "\n",
      "\n"
     ]
    }
   ],
   "source": [
    "for i in range(0,100):\n",
    "    X_train,X_test,y_train,y_test =train_test_split(X_scaled,y,test_size=0.2,random_state=i)\n",
    "    reg=LogisticRegression()\n",
    "    reg.fit(X_train,y_train)\n",
    "    pred_train = reg.predict(X_train)\n",
    "    y_pred= reg.predict(X_test)\n",
    "    print(f\"At random state{i},the training accuracy is:-{accuracy_score(y_train,pred_train)}\")\n",
    "    print(f\"At random state{i},the testing accuracy is:-{accuracy_score(y_test,y_pred)}\")\n",
    "    print(\"\\n\")"
   ]
  },
  {
   "cell_type": "code",
   "execution_count": 250,
   "id": "156108a6",
   "metadata": {},
   "outputs": [],
   "source": [
    "X_train,X_test,y_train,y_test = train_test_split(X,y,test_size=0.2,random_state=25)"
   ]
  },
  {
   "cell_type": "code",
   "execution_count": 251,
   "id": "0d5977d9",
   "metadata": {},
   "outputs": [
    {
     "data": {
      "text/plain": [
       "(725, 8)"
      ]
     },
     "execution_count": 251,
     "metadata": {},
     "output_type": "execute_result"
    }
   ],
   "source": [
    "X_train.shape"
   ]
  },
  {
   "cell_type": "code",
   "execution_count": 252,
   "id": "f642a3b8",
   "metadata": {},
   "outputs": [
    {
     "data": {
      "text/plain": [
       "(725,)"
      ]
     },
     "execution_count": 252,
     "metadata": {},
     "output_type": "execute_result"
    }
   ],
   "source": [
    "y_train.shape"
   ]
  },
  {
   "cell_type": "code",
   "execution_count": 253,
   "id": "61b93638",
   "metadata": {},
   "outputs": [
    {
     "data": {
      "text/plain": [
       "(182, 8)"
      ]
     },
     "execution_count": 253,
     "metadata": {},
     "output_type": "execute_result"
    }
   ],
   "source": [
    "X_test.shape"
   ]
  },
  {
   "cell_type": "code",
   "execution_count": 254,
   "id": "e7db47ea",
   "metadata": {},
   "outputs": [
    {
     "data": {
      "text/plain": [
       "(182,)"
      ]
     },
     "execution_count": 254,
     "metadata": {},
     "output_type": "execute_result"
    }
   ],
   "source": [
    "y_test.shape"
   ]
  },
  {
   "cell_type": "code",
   "execution_count": null,
   "id": "c46daf7f",
   "metadata": {},
   "outputs": [],
   "source": [
    "#now as we have train test  split our data ,we will train our machine learning models and fit our model into it"
   ]
  },
  {
   "cell_type": "code",
   "execution_count": 255,
   "id": "77d46c66",
   "metadata": {},
   "outputs": [
    {
     "name": "stdout",
     "output_type": "stream",
     "text": [
      "accuracy score: 75.82417582417582\n",
      "cross val score: 76.6304413818226\n"
     ]
    }
   ],
   "source": [
    "knc= KNeighborsClassifier()  \n",
    "knc.fit(X_train, y_train)  \n",
    "knc.score(X_train,y_train)\n",
    "y_pred=knc.predict(X_test)\n",
    "knc_score=accuracy_score(y_test,y_pred)\n",
    "print('accuracy score:',knc_score*100)\n",
    "\n",
    "kncscore=cross_val_score(knc,X,y,cv=5)\n",
    "kn=kncscore.mean()\n",
    "print('cross val score:',kn*100)"
   ]
  },
  {
   "cell_type": "code",
   "execution_count": 256,
   "id": "e03b251c",
   "metadata": {},
   "outputs": [
    {
     "name": "stdout",
     "output_type": "stream",
     "text": [
      "accuracy score: 100.0\n",
      "cross val score: 100.0\n"
     ]
    }
   ],
   "source": [
    "dt= DecisionTreeClassifier()\n",
    "dt.fit(X_train,y_train)\n",
    "dt.score(X_train,y_train)\n",
    "y_pred=dt.predict(X_test)\n",
    "dts=accuracy_score(y_test,y_pred)\n",
    "print('accuracy score:',dts*100)\n",
    "\n",
    "dtscore=cross_val_score(dt,X,y,cv=5)\n",
    "dtc=dtscore.mean()\n",
    "print('cross val score:',dtc*100)"
   ]
  },
  {
   "cell_type": "code",
   "execution_count": 282,
   "id": "d9885242",
   "metadata": {},
   "outputs": [
    {
     "name": "stdout",
     "output_type": "stream",
     "text": [
      "accuracy score: 97.25274725274726\n",
      "cross val score: 96.1459534940198\n"
     ]
    }
   ],
   "source": [
    "from sklearn.naive_bayes import GaussianNB\n",
    "gnb= GaussianNB()\n",
    "gnb.fit(X_train,y_train)\n",
    "gnb.score(X_train,y_train)\n",
    "y_pred=gnb.predict(X_test)\n",
    "gnb_score=accuracy_score(y_test,y_pred)\n",
    "print('accuracy score:',gnb_score*100)\n",
    "\n",
    "score=cross_val_score(gnb,X,y,cv=5)\n",
    "cvs=score.mean()\n",
    "print('cross val score:',cvs*100)"
   ]
  },
  {
   "cell_type": "code",
   "execution_count": 258,
   "id": "dc0964c6",
   "metadata": {},
   "outputs": [
    {
     "name": "stdout",
     "output_type": "stream",
     "text": [
      "accuracy score: 100.0\n",
      "cross val score: 99.00734624491531\n"
     ]
    }
   ],
   "source": [
    "rf = RandomForestClassifier()\n",
    "rf.fit(X_train, y_train)\n",
    "rf.score(X_train,y_train)\n",
    "y_pred=rf.predict(X_test)\n",
    "rfs=accuracy_score(y_test,y_pred)\n",
    "print('accuracy score:',rfs*100)\n",
    "\n",
    "rfscore=cross_val_score(rf,X,y,cv=5)\n",
    "rfc=rfscore.mean()\n",
    "print('cross val score:',rfc*100)"
   ]
  },
  {
   "cell_type": "code",
   "execution_count": 259,
   "id": "381b904c",
   "metadata": {},
   "outputs": [],
   "source": [
    "#so according to dataset  DecisionTreeclassifier is getting best accuracy of 100%,which is best among all and \n",
    "#now we do gridsearcv hyperparametertuning on this algorithm"
   ]
  },
  {
   "cell_type": "code",
   "execution_count": 290,
   "id": "bb454f38",
   "metadata": {},
   "outputs": [
    {
     "data": {
      "text/plain": [
       "GridSearchCV(estimator=DecisionTreeClassifier(criterion='entropy',\n",
       "                                              max_features='log2',\n",
       "                                              splitter='random'),\n",
       "             param_grid={'criterion': ['gini', 'entropy'], 'max_depth': [None],\n",
       "                         'max_features': ['auto', 'sqrt', 'log2'],\n",
       "                         'min_samples_leaf': [1],\n",
       "                         'splitter': ['best', 'random']})"
      ]
     },
     "execution_count": 290,
     "metadata": {},
     "output_type": "execute_result"
    }
   ],
   "source": [
    "grid_parameters ={'criterion':['gini','entropy'],'max_features':[\"auto\",\"sqrt\",\"log2\"],'max_depth':[None],\n",
    " 'min_samples_leaf':[1],'splitter':['best','random']}\n",
    "clf=GridSearchCV(dt,grid_parameters)\n",
    "clf.fit(X_train,y_train)"
   ]
  },
  {
   "cell_type": "code",
   "execution_count": 291,
   "id": "0eb358dc",
   "metadata": {},
   "outputs": [
    {
     "name": "stdout",
     "output_type": "stream",
     "text": [
      "{'criterion': 'gini', 'max_depth': None, 'max_features': 'auto', 'min_samples_leaf': 1, 'splitter': 'random'}\n"
     ]
    }
   ],
   "source": [
    "print(clf.best_params_)"
   ]
  },
  {
   "cell_type": "code",
   "execution_count": 292,
   "id": "533e37a5",
   "metadata": {},
   "outputs": [
    {
     "name": "stdout",
     "output_type": "stream",
     "text": [
      "accuracy score: 96.7032967032967\n",
      "cross val score: 99.22834072005344\n"
     ]
    }
   ],
   "source": [
    "dt=DecisionTreeClassifier(criterion= 'entropy',max_features='log2',max_depth=None, max_leaf_nodes=None, min_samples_leaf= 1,splitter='random')\n",
    "dt.fit(X_train,y_train)\n",
    "dt.score(X_train,y_train)\n",
    "y_pred=dt.predict(X_test)\n",
    "dts=accuracy_score(y_test,y_pred)\n",
    "print('accuracy score:',dts*100)\n",
    "\n",
    "dtscore=cross_val_score(dt,X,y,cv=5)\n",
    "dtc=rfscore.mean()\n",
    "print('cross val score:',dtc*100)"
   ]
  },
  {
   "cell_type": "code",
   "execution_count": 293,
   "id": "0ab29316",
   "metadata": {},
   "outputs": [
    {
     "data": {
      "text/plain": [
       "sklearn.model_selection._search.GridSearchCV"
      ]
     },
     "execution_count": 293,
     "metadata": {},
     "output_type": "execute_result"
    }
   ],
   "source": [
    "type(clf)"
   ]
  },
  {
   "cell_type": "code",
   "execution_count": 294,
   "id": "5c28716e",
   "metadata": {},
   "outputs": [
    {
     "data": {
      "text/plain": [
       "DecisionTreeClassifier(max_features='auto', splitter='random')"
      ]
     },
     "execution_count": 294,
     "metadata": {},
     "output_type": "execute_result"
    }
   ],
   "source": [
    "clf.best_estimator_"
   ]
  },
  {
   "cell_type": "code",
   "execution_count": 295,
   "id": "68bb183d",
   "metadata": {},
   "outputs": [
    {
     "data": {
      "text/plain": [
       "0.967032967032967"
      ]
     },
     "execution_count": 295,
     "metadata": {},
     "output_type": "execute_result"
    }
   ],
   "source": [
    "#model accuracy\n",
    "accuracy=accuracy_score(y_pred,y_test)\n",
    "accuracy"
   ]
  },
  {
   "cell_type": "code",
   "execution_count": 296,
   "id": "bec9fdee",
   "metadata": {},
   "outputs": [
    {
     "data": {
      "text/plain": [
       "array([[ 8,  0,  0,  0,  0,  0,  0],\n",
       "       [ 0, 58,  0,  0,  0,  0,  0],\n",
       "       [ 0,  0,  6,  2,  0,  0,  0],\n",
       "       [ 0,  1,  3, 49,  0,  0,  0],\n",
       "       [ 0,  0,  0,  0,  5,  0,  0],\n",
       "       [ 0,  0,  0,  0,  0, 25,  0],\n",
       "       [ 0,  0,  0,  0,  0,  0, 25]], dtype=int64)"
      ]
     },
     "execution_count": 296,
     "metadata": {},
     "output_type": "execute_result"
    }
   ],
   "source": [
    "#confusion matrix\n",
    "conf_mat=confusion_matrix(y_test,y_pred)\n",
    "conf_mat"
   ]
  },
  {
   "cell_type": "code",
   "execution_count": 298,
   "id": "071c80b7",
   "metadata": {},
   "outputs": [
    {
     "name": "stdout",
     "output_type": "stream",
     "text": [
      "              precision    recall  f1-score   support\n",
      "\n",
      "     Biomass       1.00      1.00      1.00         8\n",
      "        Coal       0.98      1.00      0.99        58\n",
      "         Gas       0.67      0.75      0.71         8\n",
      "       Hydro       0.96      0.92      0.94        53\n",
      "         Oil       1.00      1.00      1.00         5\n",
      "       Solar       1.00      1.00      1.00        25\n",
      "        Wind       1.00      1.00      1.00        25\n",
      "\n",
      "    accuracy                           0.97       182\n",
      "   macro avg       0.94      0.95      0.95       182\n",
      "weighted avg       0.97      0.97      0.97       182\n",
      "\n"
     ]
    },
    {
     "data": {
      "image/png": "[encoded data removed]",
      "text/plain": [
       "<Figure size 432x288 with 1 Axes>"
      ]
     },
     "metadata": {
      "needs_background": "light"
     },
     "output_type": "display_data"
    }
   ],
   "source": [
    "print(classification_report(y_test,y_pred))\n",
    "\n",
    "plt.scatter(y_test,y_pred)\n",
    "plt.title(\"Prediction Using Decision tree classifier\")\n",
    "plt.xlabel(\"Real Quality\")\n",
    "plt.ylabel(\"Predicted\")\n",
    "plt.show()"
   ]
  },
  {
   "cell_type": "code",
   "execution_count": null,
   "id": "90ab0c99",
   "metadata": {},
   "outputs": [],
   "source": [
    "#so according to  dataset  after hyperparameter tuning ,we have fitted our best model ofDecision tree classifier   which is getting accuracy of 96% and cross validation score of 99.2%\n",
    "\n"
   ]
  },
  {
   "cell_type": "code",
   "execution_count": 301,
   "id": "b6643bd4",
   "metadata": {},
   "outputs": [],
   "source": [
    "#saving the model to local file system\n",
    "filename='global power plant_model.pickle'\n",
    "pickle.dump(dt,open(filename,'wb'))"
   ]
  },
  {
   "cell_type": "code",
   "execution_count": 302,
   "id": "d0dfeea3",
   "metadata": {},
   "outputs": [],
   "source": [
    "############################ PREDICTION OF CAPACITY_MW ##################################################"
   ]
  },
  {
   "cell_type": "code",
   "execution_count": 312,
   "id": "a98867ea",
   "metadata": {},
   "outputs": [],
   "source": [
    "y = df['capacity_mw']\n",
    "X = df.drop(columns=['capacity_mw','commissioning_year','year_of_capacity_data','country_long','name'])"
   ]
  },
  {
   "cell_type": "code",
   "execution_count": 313,
   "id": "66c6ff9a",
   "metadata": {},
   "outputs": [],
   "source": [
    "enc = OrdinalEncoder()\n",
    "df[[\"primary_fuel\"]] = enc.fit_transform(df[[\"primary_fuel\"]])"
   ]
  },
  {
   "cell_type": "code",
   "execution_count": 314,
   "id": "10aa129a",
   "metadata": {},
   "outputs": [],
   "source": [
    "#Data scaling Z=(X-mean)/std\n",
    "\n",
    "scaler=StandardScaler()\n",
    "X_scaled=scaler.fit_transform(X)"
   ]
  },
  {
   "cell_type": "code",
   "execution_count": 315,
   "id": "2acb3c99",
   "metadata": {},
   "outputs": [
    {
     "data": {
      "text/plain": [
       "8"
      ]
     },
     "execution_count": 315,
     "metadata": {},
     "output_type": "execute_result"
    }
   ],
   "source": [
    "X_scaled.shape[1]"
   ]
  },
  {
   "cell_type": "code",
   "execution_count": 316,
   "id": "77180eff",
   "metadata": {},
   "outputs": [
    {
     "name": "stdout",
     "output_type": "stream",
     "text": [
      "At random state0,the training accuracy is:-0.9703065528721044\n",
      "At random state0,the testing accuracy is:-0.9210713413479329\n",
      "\n",
      "\n",
      "At random state1,the training accuracy is:-0.978236453846646\n",
      "At random state1,the testing accuracy is:-0.8554241038791807\n",
      "\n",
      "\n",
      "At random state2,the training accuracy is:-0.9755123395419244\n",
      "At random state2,the testing accuracy is:-0.8174248385176117\n",
      "\n",
      "\n",
      "At random state3,the training accuracy is:-0.9734605198875799\n",
      "At random state3,the testing accuracy is:-0.8719246386816351\n",
      "\n",
      "\n",
      "At random state4,the training accuracy is:-0.9742580009094944\n",
      "At random state4,the testing accuracy is:-0.91580983851184\n",
      "\n",
      "\n",
      "At random state5,the training accuracy is:-0.9726224282906398\n",
      "At random state5,the testing accuracy is:-0.9021838700488287\n",
      "\n",
      "\n",
      "At random state6,the training accuracy is:-0.9808120464342501\n",
      "At random state6,the testing accuracy is:-0.849823581576501\n",
      "\n",
      "\n",
      "At random state7,the training accuracy is:-0.9778254465560262\n",
      "At random state7,the testing accuracy is:-0.7925624409270707\n",
      "\n",
      "\n",
      "At random state8,the training accuracy is:-0.9752209888273653\n",
      "At random state8,the testing accuracy is:-0.8691735544386598\n",
      "\n",
      "\n",
      "At random state9,the training accuracy is:-0.9711154219215322\n",
      "At random state9,the testing accuracy is:-0.8656973217740304\n",
      "\n",
      "\n",
      "At random state10,the training accuracy is:-0.976170059149264\n",
      "At random state10,the testing accuracy is:-0.8986451203200764\n",
      "\n",
      "\n",
      "At random state11,the training accuracy is:-0.9695938843051646\n",
      "At random state11,the testing accuracy is:-0.9094708296775088\n",
      "\n",
      "\n",
      "At random state12,the training accuracy is:-0.9723660529481848\n",
      "At random state12,the testing accuracy is:-0.9028571610687065\n",
      "\n",
      "\n",
      "At random state13,the training accuracy is:-0.9741636674433026\n",
      "At random state13,the testing accuracy is:-0.8358986649617487\n",
      "\n",
      "\n",
      "At random state14,the training accuracy is:-0.9722328436296377\n",
      "At random state14,the testing accuracy is:-0.8552597807526587\n",
      "\n",
      "\n",
      "At random state15,the training accuracy is:-0.9681483806148631\n",
      "At random state15,the testing accuracy is:-0.9276981088800557\n",
      "\n",
      "\n",
      "At random state16,the training accuracy is:-0.9773076507825803\n",
      "At random state16,the testing accuracy is:-0.856670375969311\n",
      "\n",
      "\n",
      "At random state17,the training accuracy is:-0.9791185504526221\n",
      "At random state17,the testing accuracy is:-0.7828635443362901\n",
      "\n",
      "\n",
      "At random state18,the training accuracy is:-0.9739612373589328\n",
      "At random state18,the testing accuracy is:-0.7987987564979051\n",
      "\n",
      "\n",
      "At random state19,the training accuracy is:-0.9723722688679145\n",
      "At random state19,the testing accuracy is:-0.8658634303668196\n",
      "\n",
      "\n",
      "At random state20,the training accuracy is:-0.9761202714673776\n",
      "At random state20,the testing accuracy is:-0.7632683082085044\n",
      "\n",
      "\n",
      "At random state21,the training accuracy is:-0.9785002473597754\n",
      "At random state21,the testing accuracy is:-0.8095447870302026\n",
      "\n",
      "\n",
      "At random state22,the training accuracy is:-0.9735155511941846\n",
      "At random state22,the testing accuracy is:-0.8394130347884401\n",
      "\n",
      "\n",
      "At random state23,the training accuracy is:-0.9721517402503431\n",
      "At random state23,the testing accuracy is:-0.8694410562204438\n",
      "\n",
      "\n",
      "At random state24,the training accuracy is:-0.9722056476144931\n",
      "At random state24,the testing accuracy is:-0.8760961432724749\n",
      "\n",
      "\n",
      "At random state25,the training accuracy is:-0.9713058354526277\n",
      "At random state25,the testing accuracy is:-0.8594367905168503\n",
      "\n",
      "\n",
      "At random state26,the training accuracy is:-0.9789499511066357\n",
      "At random state26,the testing accuracy is:-0.7828026847664783\n",
      "\n",
      "\n",
      "At random state27,the training accuracy is:-0.9718157466842101\n",
      "At random state27,the testing accuracy is:-0.8772723297821362\n",
      "\n",
      "\n",
      "At random state28,the training accuracy is:-0.969344389585804\n",
      "At random state28,the testing accuracy is:-0.9101566349294129\n",
      "\n",
      "\n",
      "At random state29,the training accuracy is:-0.971420742969751\n",
      "At random state29,the testing accuracy is:-0.8411097110941992\n",
      "\n",
      "\n",
      "At random state30,the training accuracy is:-0.9732615773312617\n",
      "At random state30,the testing accuracy is:-0.8795807810164629\n",
      "\n",
      "\n",
      "At random state31,the training accuracy is:-0.9707476587290619\n",
      "At random state31,the testing accuracy is:-0.9100826355954612\n",
      "\n",
      "\n",
      "At random state32,the training accuracy is:-0.9784863581785372\n",
      "At random state32,the testing accuracy is:-0.8877533057602505\n",
      "\n",
      "\n",
      "At random state33,the training accuracy is:-0.972900192328764\n",
      "At random state33,the testing accuracy is:-0.8767225248056503\n",
      "\n",
      "\n",
      "At random state34,the training accuracy is:-0.9702811401317879\n",
      "At random state34,the testing accuracy is:-0.9014411507829299\n",
      "\n",
      "\n",
      "At random state35,the training accuracy is:-0.9771977522633206\n",
      "At random state35,the testing accuracy is:-0.8427820445529838\n",
      "\n",
      "\n",
      "At random state36,the training accuracy is:-0.9735511165760662\n",
      "At random state36,the testing accuracy is:-0.8641628543994266\n",
      "\n",
      "\n",
      "At random state37,the training accuracy is:-0.9759260772518519\n",
      "At random state37,the testing accuracy is:-0.8636586132708286\n",
      "\n",
      "\n",
      "At random state38,the training accuracy is:-0.9742288429015332\n",
      "At random state38,the testing accuracy is:-0.8755560433806532\n",
      "\n",
      "\n",
      "At random state39,the training accuracy is:-0.9771659021260362\n",
      "At random state39,the testing accuracy is:-0.8008614242516442\n",
      "\n",
      "\n",
      "At random state40,the training accuracy is:-0.9725592904843215\n",
      "At random state40,the testing accuracy is:-0.9061371956075696\n",
      "\n",
      "\n",
      "At random state41,the training accuracy is:-0.9763692802558466\n",
      "At random state41,the testing accuracy is:-0.7900415653644822\n",
      "\n",
      "\n",
      "At random state42,the training accuracy is:-0.9736432834012516\n",
      "At random state42,the testing accuracy is:-0.874175036041537\n",
      "\n",
      "\n",
      "At random state43,the training accuracy is:-0.9782636730207176\n",
      "At random state43,the testing accuracy is:-0.8219070734664107\n",
      "\n",
      "\n",
      "At random state44,the training accuracy is:-0.9703029084859488\n",
      "At random state44,the testing accuracy is:-0.9104251524418424\n",
      "\n",
      "\n",
      "At random state45,the training accuracy is:-0.9796683652730667\n",
      "At random state45,the testing accuracy is:-0.8219326944484777\n",
      "\n",
      "\n",
      "At random state46,the training accuracy is:-0.9781051701880932\n",
      "At random state46,the testing accuracy is:-0.7981553712144572\n",
      "\n",
      "\n",
      "At random state47,the training accuracy is:-0.9767021932609778\n",
      "At random state47,the testing accuracy is:-0.855883806696376\n",
      "\n",
      "\n",
      "At random state48,the training accuracy is:-0.981507563183428\n",
      "At random state48,the testing accuracy is:-0.8220254874632471\n",
      "\n",
      "\n",
      "At random state49,the training accuracy is:-0.9732252417424815\n",
      "At random state49,the testing accuracy is:-0.8826807461075392\n",
      "\n",
      "\n",
      "At random state50,the training accuracy is:-0.9698498946579625\n",
      "At random state50,the testing accuracy is:-0.9128955790998583\n",
      "\n",
      "\n",
      "At random state51,the training accuracy is:-0.9753398748390927\n",
      "At random state51,the testing accuracy is:-0.8905015507260913\n",
      "\n",
      "\n",
      "At random state52,the training accuracy is:-0.9721186890015499\n",
      "At random state52,the testing accuracy is:-0.8917219387789332\n",
      "\n",
      "\n",
      "At random state53,the training accuracy is:-0.9730434967047066\n",
      "At random state53,the testing accuracy is:-0.9050511239811908\n",
      "\n",
      "\n",
      "At random state54,the training accuracy is:-0.9728288949949975\n",
      "At random state54,the testing accuracy is:-0.847569839394871\n",
      "\n",
      "\n",
      "At random state55,the training accuracy is:-0.9723900863929551\n",
      "At random state55,the testing accuracy is:-0.8973835219570828\n",
      "\n",
      "\n",
      "At random state56,the training accuracy is:-0.9724143847970055\n",
      "At random state56,the testing accuracy is:-0.8593902223120908\n",
      "\n",
      "\n",
      "At random state57,the training accuracy is:-0.9746655577740555\n",
      "At random state57,the testing accuracy is:-0.8186882272515024\n",
      "\n",
      "\n",
      "At random state58,the training accuracy is:-0.9748007896098365\n",
      "At random state58,the testing accuracy is:-0.8143315917457635\n",
      "\n",
      "\n",
      "At random state59,the training accuracy is:-0.9729902004686956\n",
      "At random state59,the testing accuracy is:-0.8674252710783603\n",
      "\n",
      "\n",
      "At random state60,the training accuracy is:-0.9743442244971857\n",
      "At random state60,the testing accuracy is:-0.798678525273911\n",
      "\n",
      "\n",
      "At random state61,the training accuracy is:-0.9730018685233336\n",
      "At random state61,the testing accuracy is:-0.9047780909623413\n",
      "\n",
      "\n",
      "At random state62,the training accuracy is:-0.973462332924587\n",
      "At random state62,the testing accuracy is:-0.9153237337919418\n",
      "\n",
      "\n",
      "At random state63,the training accuracy is:-0.9716015222353227\n",
      "At random state63,the testing accuracy is:-0.9031979301041404\n",
      "\n",
      "\n",
      "At random state64,the training accuracy is:-0.9724336885252911\n",
      "At random state64,the testing accuracy is:-0.8898606327042666\n",
      "\n",
      "\n",
      "At random state65,the training accuracy is:-0.9746025372623163\n",
      "At random state65,the testing accuracy is:-0.8357885441762307\n",
      "\n",
      "\n",
      "At random state66,the training accuracy is:-0.9738002344409495\n",
      "At random state66,the testing accuracy is:-0.8465178148594745\n",
      "\n",
      "\n",
      "At random state67,the training accuracy is:-0.9746788906942206\n",
      "At random state67,the testing accuracy is:-0.8333201157025205\n",
      "\n",
      "\n",
      "At random state68,the training accuracy is:-0.9750543634292735\n",
      "At random state68,the testing accuracy is:-0.7292220511861902\n",
      "\n",
      "\n",
      "At random state69,the training accuracy is:-0.9748979271362105\n",
      "At random state69,the testing accuracy is:-0.8315579582437278\n",
      "\n",
      "\n",
      "At random state70,the training accuracy is:-0.9732583213734497\n",
      "At random state70,the testing accuracy is:-0.8836269186759645\n",
      "\n",
      "\n",
      "At random state71,the training accuracy is:-0.9763684350358911\n",
      "At random state71,the testing accuracy is:-0.857435526777297\n",
      "\n",
      "\n",
      "At random state72,the training accuracy is:-0.9729346645751614\n",
      "At random state72,the testing accuracy is:-0.8595225828383364\n",
      "\n",
      "\n",
      "At random state73,the training accuracy is:-0.9774422614910141\n",
      "At random state73,the testing accuracy is:-0.8206795646925464\n",
      "\n",
      "\n",
      "At random state74,the training accuracy is:-0.9723921565030055\n",
      "At random state74,the testing accuracy is:-0.8873244319240595\n",
      "\n",
      "\n",
      "At random state75,the training accuracy is:-0.9731826104169129\n",
      "At random state75,the testing accuracy is:-0.8714590043886443\n",
      "\n",
      "\n",
      "At random state76,the training accuracy is:-0.9721908544209182\n",
      "At random state76,the testing accuracy is:-0.8734900336991569\n",
      "\n",
      "\n",
      "At random state77,the training accuracy is:-0.9760289426190615\n",
      "At random state77,the testing accuracy is:-0.8595327165861526\n",
      "\n",
      "\n",
      "At random state78,the training accuracy is:-0.9726520859568178\n",
      "At random state78,the testing accuracy is:-0.8615645291638034\n",
      "\n",
      "\n",
      "At random state79,the training accuracy is:-0.9736437080842618\n",
      "At random state79,the testing accuracy is:-0.843018601142249\n",
      "\n",
      "\n",
      "At random state80,the training accuracy is:-0.9741867524267784\n",
      "At random state80,the testing accuracy is:-0.9111485640565598\n",
      "\n",
      "\n",
      "At random state81,the training accuracy is:-0.971043621183936\n",
      "At random state81,the testing accuracy is:-0.9172568146642741\n",
      "\n",
      "\n",
      "At random state82,the training accuracy is:-0.9760059499587769\n",
      "At random state82,the testing accuracy is:-0.8585214339035885\n",
      "\n",
      "\n",
      "At random state83,the training accuracy is:-0.9718282758025876\n",
      "At random state83,the testing accuracy is:-0.8761810779052654\n",
      "\n",
      "\n",
      "At random state84,the training accuracy is:-0.9731414253394882\n",
      "At random state84,the testing accuracy is:-0.8109635653490546\n",
      "\n",
      "\n",
      "At random state85,the training accuracy is:-0.9754730232058646\n",
      "At random state85,the testing accuracy is:-0.8696020288589968\n",
      "\n",
      "\n",
      "At random state86,the training accuracy is:-0.9731377063543529\n",
      "At random state86,the testing accuracy is:-0.8574589534881554\n",
      "\n",
      "\n",
      "At random state87,the training accuracy is:-0.9699497933524799\n",
      "At random state87,the testing accuracy is:-0.9315008121545914\n",
      "\n",
      "\n",
      "At random state88,the training accuracy is:-0.9724040094974371\n",
      "At random state88,the testing accuracy is:-0.8802945242989273\n",
      "\n",
      "\n",
      "At random state89,the training accuracy is:-0.9725644978807273\n",
      "At random state89,the testing accuracy is:-0.8671184058448169\n",
      "\n",
      "\n",
      "At random state90,the training accuracy is:-0.9750141739783601\n",
      "At random state90,the testing accuracy is:-0.8835756099991015\n",
      "\n",
      "\n",
      "At random state91,the training accuracy is:-0.9778000335507331\n",
      "At random state91,the testing accuracy is:-0.8302090715497978\n",
      "\n",
      "\n",
      "At random state92,the training accuracy is:-0.9652470014714757\n",
      "At random state92,the testing accuracy is:-0.9160110295939329\n",
      "\n",
      "\n",
      "At random state93,the training accuracy is:-0.9723014659733652\n",
      "At random state93,the testing accuracy is:-0.8880473905189464\n",
      "\n",
      "\n",
      "At random state94,the training accuracy is:-0.9738890206745255\n",
      "At random state94,the testing accuracy is:-0.8380424808278143\n",
      "\n",
      "\n",
      "At random state95,the training accuracy is:-0.9737182301088275\n",
      "At random state95,the testing accuracy is:-0.8548370033732269\n",
      "\n",
      "\n",
      "At random state96,the training accuracy is:-0.9679302591008543\n",
      "At random state96,the testing accuracy is:-0.9377781747572856\n",
      "\n",
      "\n",
      "At random state97,the training accuracy is:-0.9802271455756709\n",
      "At random state97,the testing accuracy is:-0.8303637667797087\n",
      "\n",
      "\n",
      "At random state98,the training accuracy is:-0.9738894948964044\n",
      "At random state98,the testing accuracy is:-0.8782437902288461\n",
      "\n",
      "\n",
      "At random state99,the training accuracy is:-0.9773975819448099\n",
      "At random state99,the testing accuracy is:-0.7906984746430292\n",
      "\n",
      "\n"
     ]
    }
   ],
   "source": [
    "for i in range(0,100):\n",
    "    X_train,X_test,y_train,y_test =train_test_split(X_scaled,y,test_size=0.2,random_state=i)\n",
    "    rf=RandomForestRegressor()\n",
    "    rf.fit(X_train,y_train)\n",
    "    pred_train = rf.predict(X_train)\n",
    "    pred_test= rf.predict(X_test)\n",
    "    print(f\"At random state{i},the training accuracy is:-{r2_score(y_train,pred_train)}\")\n",
    "    print(f\"At random state{i},the testing accuracy is:-{r2_score(y_test,pred_test)}\")\n",
    "    print(\"\\n\")"
   ]
  },
  {
   "cell_type": "code",
   "execution_count": 317,
   "id": "02a5150c",
   "metadata": {},
   "outputs": [
    {
     "data": {
      "text/plain": [
       "(725, 8)"
      ]
     },
     "execution_count": 317,
     "metadata": {},
     "output_type": "execute_result"
    }
   ],
   "source": [
    "X_train.shape"
   ]
  },
  {
   "cell_type": "code",
   "execution_count": 318,
   "id": "b4990b33",
   "metadata": {},
   "outputs": [
    {
     "data": {
      "text/plain": [
       "(725,)"
      ]
     },
     "execution_count": 318,
     "metadata": {},
     "output_type": "execute_result"
    }
   ],
   "source": [
    "y_train.shape"
   ]
  },
  {
   "cell_type": "code",
   "execution_count": 319,
   "id": "65ade413",
   "metadata": {},
   "outputs": [
    {
     "data": {
      "text/plain": [
       "(182, 8)"
      ]
     },
     "execution_count": 319,
     "metadata": {},
     "output_type": "execute_result"
    }
   ],
   "source": [
    "X_test.shape"
   ]
  },
  {
   "cell_type": "code",
   "execution_count": 320,
   "id": "c781701f",
   "metadata": {},
   "outputs": [
    {
     "data": {
      "text/plain": [
       "(182,)"
      ]
     },
     "execution_count": 320,
     "metadata": {},
     "output_type": "execute_result"
    }
   ],
   "source": [
    "y_test.shape"
   ]
  },
  {
   "cell_type": "code",
   "execution_count": 321,
   "id": "2f4c3156",
   "metadata": {},
   "outputs": [],
   "source": [
    "X_train,X_test,y_train,y_test =train_test_split(X,y,test_size=0.2,random_state=87)"
   ]
  },
  {
   "cell_type": "code",
   "execution_count": 322,
   "id": "434515ba",
   "metadata": {},
   "outputs": [
    {
     "name": "stdout",
     "output_type": "stream",
     "text": [
      "R2 score: 93.84512802256573\n",
      "cross val score: 84.9825429019824\n"
     ]
    }
   ],
   "source": [
    "rf=RandomForestRegressor()\n",
    "rf.fit(X_train,y_train)\n",
    "rf.score(X_train,y_train)\n",
    "y_pred=rf.predict(X_test)\n",
    "rfs=r2_score(y_test,y_pred)\n",
    "print('R2 score:',rfs*100)\n",
    "rfscore=cross_val_score(rf,X,y,cv=5)\n",
    "rfr=rfscore.mean()\n",
    "print('cross val score:',rfr*100)"
   ]
  },
  {
   "cell_type": "code",
   "execution_count": 323,
   "id": "a53a2619",
   "metadata": {},
   "outputs": [
    {
     "data": {
      "text/plain": [
       "array([  18.51088358,  304.436     ,   20.26892002,   34.02635391,\n",
       "        464.35971   ,   18.51088358,   80.082004  ,   20.26892002,\n",
       "         34.02635391,   18.51088358,   69.27142   ,  473.41732   ,\n",
       "        704.39      ,   11.4478203 ,  609.65      , 1087.4       ,\n",
       "        983.80340366,   11.4478203 ,   80.082004  ,   20.26892002,\n",
       "         80.082004  ,  110.77581   ,   80.082004  ,   34.02635391,\n",
       "         11.4478203 ,  200.6526119 , 2525.5       ,   20.26892002,\n",
       "         34.02635391, 1340.7       ,   20.26892002,  643.5       ,\n",
       "       1470.5832    ,   18.51088358,   18.51088358,   18.51088358,\n",
       "         18.51088358,  474.1228    ,  104.2474    ,   18.51088358,\n",
       "         20.26892002, 1339.4       ,   34.02635391,   20.26892002,\n",
       "         34.02635391,   18.51088358, 1336.4       ,  798.632     ,\n",
       "       1424.9       ,  104.2474    ,  144.3403    ,  214.60848   ,\n",
       "        364.3773    ,   18.51088358,  293.746     ,   18.51088358,\n",
       "         34.02635391,   20.26892002,   18.51088358,   34.02635391,\n",
       "         11.4478203 ,  106.6018    ,   37.6015    ,   11.4478203 ,\n",
       "        523.25      , 1070.3124    ,   18.51088358,   18.51088358,\n",
       "         11.4478203 ,  106.6948    , 1246.1368    ,  997.9396    ,\n",
       "       3314.6       ,   52.02      ,   80.082004  ,   56.43633016,\n",
       "        466.3272    , 1476.1       ,   80.082004  , 1046.0744    ,\n",
       "         20.26892002,  637.65723   ,   34.02635391,   73.594     ,\n",
       "        238.39404   ,   18.51088358,   34.02635391,  410.8004    ,\n",
       "         18.51088358,  327.585     ,  819.9078    ,   18.51088358,\n",
       "       1441.6       ,  608.17951904,   18.51088358, 1035.12232335,\n",
       "       1040.9864    ,   18.51088358,   18.51088358,  694.26120655,\n",
       "        173.54833333,  240.38      ,  406.845     ,  568.92293285,\n",
       "         18.51088358,   80.082004  ,   18.51088358,  839.514     ,\n",
       "       1439.5       ,  654.786     ,  345.82284   ,   46.013     ,\n",
       "        295.71614   ,  947.6074203 ,  396.0678    ,   34.02635391,\n",
       "         18.51088358,  168.9532    , 1405.7       ,  513.01      ,\n",
       "       1376.9       ,   18.51088358,  628.4312    ,   34.02635391,\n",
       "         34.02635391,   49.464     , 1198.41858715,   18.51088358,\n",
       "         34.02635391,  392.38397857, 4128.8       ,   18.51088358,\n",
       "         34.02635391,   34.02635391,  417.60641   ,   18.51088358,\n",
       "         11.4478203 ,   18.51088358,   34.02635391,  274.8635    ,\n",
       "         20.26892002,   80.082004  ,   34.02635391,   80.082004  ,\n",
       "       1198.0036    ,  107.48091   ,  110.59914318,   80.082004  ,\n",
       "         11.4478203 ,   45.573     ,  347.99342857,   34.02635391,\n",
       "        134.1557    ,   20.26892002,   80.082004  ,  341.98903   ,\n",
       "        138.30821   ,   34.02635391,  410.5399    ,   34.02635391,\n",
       "         34.02635391,   80.082004  ,  450.15374   ,  654.38      ,\n",
       "         11.4478203 ,   34.02635391,   76.609     ,   34.02635391,\n",
       "         56.43633016,   34.02635391,  128.70411   ,  117.7177    ,\n",
       "         18.51088358,   34.02635391,  665.9534    ,   11.4478203 ,\n",
       "         45.11583219,   11.4478203 ,   20.26892002,   34.02635391,\n",
       "         18.51088358,   34.02635391])"
      ]
     },
     "execution_count": 323,
     "metadata": {},
     "output_type": "execute_result"
    }
   ],
   "source": [
    "#lets plot and visualize\n",
    "y_pred=rf.predict(X_test)\n",
    "y_pred"
   ]
  },
  {
   "cell_type": "code",
   "execution_count": 324,
   "id": "3ca71e83",
   "metadata": {},
   "outputs": [
    {
     "data": {
      "image/png": "[encoded data removed]",
      "text/plain": [
       "<Figure size 432x288 with 1 Axes>"
      ]
     },
     "metadata": {
      "needs_background": "light"
     },
     "output_type": "display_data"
    }
   ],
   "source": [
    "plt.scatter(y_test,y_pred,color='r')\n",
    "plt.xlabel='actual average price'\n",
    "plt.ylabel='Predicted average price'\n",
    "plt.title='Actual vs model predicted '\n",
    "plt.show()"
   ]
  },
  {
   "cell_type": "code",
   "execution_count": 325,
   "id": "634b620e",
   "metadata": {},
   "outputs": [
    {
     "data": {
      "text/plain": [
       "21201.755339440275"
      ]
     },
     "execution_count": 325,
     "metadata": {},
     "output_type": "execute_result"
    }
   ],
   "source": [
    " mean_squared_error(y_test,y_pred)"
   ]
  },
  {
   "cell_type": "code",
   "execution_count": 326,
   "id": "7fa675e3",
   "metadata": {},
   "outputs": [
    {
     "data": {
      "text/plain": [
       "82.90097244648406"
      ]
     },
     "execution_count": 326,
     "metadata": {},
     "output_type": "execute_result"
    }
   ],
   "source": [
    "mean_absolute_error(y_test,y_pred)"
   ]
  },
  {
   "cell_type": "code",
   "execution_count": 327,
   "id": "7e25f4c3",
   "metadata": {},
   "outputs": [
    {
     "data": {
      "text/plain": [
       "145.60822552122622"
      ]
     },
     "execution_count": 327,
     "metadata": {},
     "output_type": "execute_result"
    }
   ],
   "source": [
    "np.sqrt(mean_squared_error(y_test,y_pred))"
   ]
  },
  {
   "cell_type": "code",
   "execution_count": 328,
   "id": "70bf70a9",
   "metadata": {},
   "outputs": [],
   "source": [
    "from sklearn.tree import DecisionTreeRegressor\n",
    "dt=DecisionTreeRegressor()"
   ]
  },
  {
   "cell_type": "code",
   "execution_count": 329,
   "id": "f1c53b4c",
   "metadata": {},
   "outputs": [
    {
     "name": "stdout",
     "output_type": "stream",
     "text": [
      "R2 score: 87.97384498390932\n",
      "cross val score: 76.33612512156587\n"
     ]
    }
   ],
   "source": [
    "dt=DecisionTreeRegressor()\n",
    "dt.fit(X_train,y_train)\n",
    "dt.score(X_train,y_train)\n",
    "y_pred=dt.predict(X_test)\n",
    "dtr=r2_score(y_test,y_pred)\n",
    "print('R2 score:',dtr*100)\n",
    "dtscore=cross_val_score(dt,X,y,cv=5)\n",
    "dtr=dtscore.mean()\n",
    "print('cross val score:',dtr*100)"
   ]
  },
  {
   "cell_type": "code",
   "execution_count": 330,
   "id": "a0240344",
   "metadata": {},
   "outputs": [
    {
     "data": {
      "text/plain": [
       "41426.62873576558"
      ]
     },
     "execution_count": 330,
     "metadata": {},
     "output_type": "execute_result"
    }
   ],
   "source": [
    "mean_squared_error(y_test,y_pred)"
   ]
  },
  {
   "cell_type": "code",
   "execution_count": 331,
   "id": "284d590f",
   "metadata": {},
   "outputs": [
    {
     "data": {
      "text/plain": [
       "107.28935828121058"
      ]
     },
     "execution_count": 331,
     "metadata": {},
     "output_type": "execute_result"
    }
   ],
   "source": [
    "mean_absolute_error(y_test,y_pred)"
   ]
  },
  {
   "cell_type": "code",
   "execution_count": 332,
   "id": "0c59833e",
   "metadata": {},
   "outputs": [
    {
     "data": {
      "text/plain": [
       "203.53532552302948"
      ]
     },
     "execution_count": 332,
     "metadata": {},
     "output_type": "execute_result"
    }
   ],
   "source": [
    "np.sqrt(mean_squared_error(y_test,y_pred))"
   ]
  },
  {
   "cell_type": "code",
   "execution_count": 333,
   "id": "496141aa",
   "metadata": {},
   "outputs": [],
   "source": [
    "import xgboost as xgb\n",
    "from xgboost import XGBRegressor\n",
    "xg=XGBRegressor()"
   ]
  },
  {
   "cell_type": "code",
   "execution_count": 334,
   "id": "92a9e284",
   "metadata": {},
   "outputs": [
    {
     "name": "stdout",
     "output_type": "stream",
     "text": [
      "R2 score: 84.01546978512022\n",
      "cross val score: 76.33612512156587\n"
     ]
    }
   ],
   "source": [
    "xg.fit(X_train,y_train)\n",
    "xg.score(X_train,y_train)\n",
    "y_pred=xg.predict(X_test)\n",
    "xg_score=r2_score(y_test,y_pred)\n",
    "print('R2 score:',xg_score*100)\n",
    "xgscore=cross_val_score(xg,X,y,cv=5)\n",
    "xgr=dtscore.mean()\n",
    "print('cross val score:',xgr*100)"
   ]
  },
  {
   "cell_type": "code",
   "execution_count": 335,
   "id": "8d597f93",
   "metadata": {},
   "outputs": [
    {
     "data": {
      "text/plain": [
       "55062.08741210016"
      ]
     },
     "execution_count": 335,
     "metadata": {},
     "output_type": "execute_result"
    }
   ],
   "source": [
    " mean_squared_error(y_test,y_pred)"
   ]
  },
  {
   "cell_type": "code",
   "execution_count": 336,
   "id": "64207cd9",
   "metadata": {},
   "outputs": [
    {
     "data": {
      "text/plain": [
       "112.79563789619195"
      ]
     },
     "execution_count": 336,
     "metadata": {},
     "output_type": "execute_result"
    }
   ],
   "source": [
    "mean_absolute_error(y_test,y_pred)"
   ]
  },
  {
   "cell_type": "code",
   "execution_count": 337,
   "id": "4de36f4d",
   "metadata": {},
   "outputs": [
    {
     "data": {
      "text/plain": [
       "234.65312146251148"
      ]
     },
     "execution_count": 337,
     "metadata": {},
     "output_type": "execute_result"
    }
   ],
   "source": [
    "np.sqrt(mean_squared_error(y_test,y_pred))"
   ]
  },
  {
   "cell_type": "code",
   "execution_count": 338,
   "id": "0b0bf4cc",
   "metadata": {},
   "outputs": [
    {
     "name": "stdout",
     "output_type": "stream",
     "text": [
      "R2 score: 75.14412306281075\n",
      "cross val score: 73.44997819510809\n"
     ]
    }
   ],
   "source": [
    "from sklearn.ensemble import AdaBoostRegressor\n",
    "ada=AdaBoostRegressor()\n",
    "ada.fit(X_train,y_train)\n",
    "ada.score(X_train,y_train)\n",
    "y_pred=ada.predict(X_test)\n",
    "ada_score=r2_score(y_test,y_pred)\n",
    "print('R2 score:',ada_score*100)\n",
    "\n",
    "adascore=cross_val_score(ada,X,y,cv=5)\n",
    "adab=adascore.mean()\n",
    "print('cross val score:',adab*100)"
   ]
  },
  {
   "cell_type": "code",
   "execution_count": 339,
   "id": "0596b0ee",
   "metadata": {},
   "outputs": [
    {
     "data": {
      "text/plain": [
       "85621.3132460967"
      ]
     },
     "execution_count": 339,
     "metadata": {},
     "output_type": "execute_result"
    }
   ],
   "source": [
    " mean_squared_error(y_test,y_pred)"
   ]
  },
  {
   "cell_type": "code",
   "execution_count": 340,
   "id": "97b0a103",
   "metadata": {},
   "outputs": [
    {
     "data": {
      "text/plain": [
       "220.30718274814396"
      ]
     },
     "execution_count": 340,
     "metadata": {},
     "output_type": "execute_result"
    }
   ],
   "source": [
    "mean_absolute_error(y_test,y_pred)"
   ]
  },
  {
   "cell_type": "code",
   "execution_count": 341,
   "id": "9bfa6841",
   "metadata": {},
   "outputs": [
    {
     "data": {
      "text/plain": [
       "292.6111980873198"
      ]
     },
     "execution_count": 341,
     "metadata": {},
     "output_type": "execute_result"
    }
   ],
   "source": [
    "np.sqrt(mean_squared_error(y_test,y_pred))"
   ]
  },
  {
   "cell_type": "code",
   "execution_count": 342,
   "id": "a5a7fe2d",
   "metadata": {},
   "outputs": [],
   "source": [
    "#as observed the random forest regressor works well with this dataset...so we hypertune parameters of final model RandomForestRegressor using gridsearchCV\n",
    "\n",
    "parameters ={'criterion':['mse','mae'],'max_features':[\"auto\",\"sqrt\",\"log2\"],'min_samples_split':[2], \n",
    "             'min_samples_leaf':[1], 'bootstrap':[True]}"
   ]
  },
  {
   "cell_type": "code",
   "execution_count": 343,
   "id": "0b079efa",
   "metadata": {},
   "outputs": [
    {
     "name": "stdout",
     "output_type": "stream",
     "text": [
      "{'bootstrap': True, 'criterion': 'mae', 'max_features': 'sqrt', 'min_samples_leaf': 1, 'min_samples_split': 2}\n"
     ]
    }
   ],
   "source": [
    "rf=RandomForestRegressor()\n",
    "gcv=GridSearchCV(rf,parameters)\n",
    "gcv.fit(X_train,y_train)\n",
    "print(gcv.best_params_)"
   ]
  },
  {
   "cell_type": "code",
   "execution_count": 347,
   "id": "0e147143",
   "metadata": {},
   "outputs": [
    {
     "name": "stdout",
     "output_type": "stream",
     "text": [
      "R2 score: 93.53234686305251\n",
      "cross val score: 85.90473004756485\n"
     ]
    }
   ],
   "source": [
    "rf=RandomForestRegressor(criterion='mae',max_features='sqrt',min_samples_split=2, \n",
    "             min_samples_leaf=1, bootstrap=True)\n",
    "rf.fit(X_train,y_train)\n",
    "rf.score(X_train,y_train)\n",
    "y_pred=rf.predict(X_test)\n",
    "rfs=r2_score(y_test,y_pred)\n",
    "print('R2 score:',rfs*100)\n",
    "rfscore=cross_val_score(rf,X,y,cv=5)\n",
    "rfr=rfscore.mean()\n",
    "print('cross val score:',rfr*100)"
   ]
  },
  {
   "cell_type": "code",
   "execution_count": 349,
   "id": "57e2cb67",
   "metadata": {
    "scrolled": true
   },
   "outputs": [
    {
     "data": {
      "text/plain": [
       "22279.19604707789"
      ]
     },
     "execution_count": 349,
     "metadata": {},
     "output_type": "execute_result"
    }
   ],
   "source": [
    " mean_squared_error(y_test,y_pred)"
   ]
  },
  {
   "cell_type": "code",
   "execution_count": 350,
   "id": "f139147e",
   "metadata": {},
   "outputs": [
    {
     "data": {
      "text/plain": [
       "84.6113721978022"
      ]
     },
     "execution_count": 350,
     "metadata": {},
     "output_type": "execute_result"
    }
   ],
   "source": [
    "mean_absolute_error(y_test,y_pred)\n"
   ]
  },
  {
   "cell_type": "code",
   "execution_count": 351,
   "id": "439e4ff9",
   "metadata": {
    "scrolled": true
   },
   "outputs": [
    {
     "data": {
      "text/plain": [
       "149.26217219067223"
      ]
     },
     "execution_count": 351,
     "metadata": {},
     "output_type": "execute_result"
    }
   ],
   "source": [
    "np.sqrt(mean_squared_error(y_test,y_pred))\n"
   ]
  },
  {
   "cell_type": "code",
   "execution_count": 352,
   "id": "a771a5e0",
   "metadata": {},
   "outputs": [],
   "source": [
    "#the best model is RandomForestRegressor with 93% accuracy and 85% cross validation score \n",
    "\n",
    "#saving the model to local file system\n",
    "filename='globalpowerplant_model.pickle'\n",
    "pickle.dump(rf,open(filename,'wb'))"
   ]
  },
  {
   "cell_type": "code",
   "execution_count": null,
   "id": "23983727",
   "metadata": {},
   "outputs": [],
   "source": []
  }
 ],
 "metadata": {
  "kernelspec": {
   "display_name": "Python 3 (ipykernel)",
   "language": "python",
   "name": "python3"
  },
  "language_info": {
   "codemirror_mode": {
    "name": "ipython",
    "version": 3
   },
   "file_extension": ".py",
   "mimetype": "text/x-python",
   "name": "python",
   "nbconvert_exporter": "python",
   "pygments_lexer": "ipython3",
   "version": "3.9.7"
  }
 },
 "nbformat": 4,
 "nbformat_minor": 5
}
