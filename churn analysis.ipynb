{
 "cells": [
  {
   "cell_type": "code",
   "execution_count": 31,
   "id": "1277d2ff",
   "metadata": {},
   "outputs": [],
   "source": [
    "import pandas as pd\n",
    "import numpy as np\n",
    "from numpy import array\n",
    "from sklearn.preprocessing import StandardScaler\n",
    "from sklearn.model_selection import GridSearchCV\n",
    "from sklearn.preprocessing import LabelEncoder,OrdinalEncoder\n",
    "from sklearn.model_selection import  train_test_split, cross_val_score\n",
    "from sklearn.linear_model import LogisticRegression \n",
    "from sklearn.neighbors import KNeighborsClassifier\n",
    "from sklearn.ensemble import RandomForestClassifier\n",
    "from sklearn.tree import DecisionTreeClassifier\n",
    "from sklearn.svm import SVC \n",
    "from sklearn.model_selection import GridSearchCV\n",
    "from sklearn.preprocessing import OrdinalEncoder,power_transform\n",
    "from sklearn.model_selection import  train_test_split, cross_val_score\n",
    "from sklearn.metrics import accuracy_score,confusion_matrix,roc_curve,roc_auc_score,classification_report\n",
    "from sklearn.metrics import plot_roc_curve\n",
    "import matplotlib.pyplot as plt\n",
    "import seaborn as sns\n",
    "import pickle\n",
    "import warnings\n",
    "warnings.filterwarnings('ignore')"
   ]
  },
  {
   "cell_type": "code",
   "execution_count": 32,
   "id": "9e88e3b2",
   "metadata": {},
   "outputs": [
    {
     "data": {
      "text/html": [
       "<div>\n",
       "<style scoped>\n",
       "    .dataframe tbody tr th:only-of-type {\n",
       "        vertical-align: middle;\n",
       "    }\n",
       "\n",
       "    .dataframe tbody tr th {\n",
       "        vertical-align: top;\n",
       "    }\n",
       "\n",
       "    .dataframe thead th {\n",
       "        text-align: right;\n",
       "    }\n",
       "</style>\n",
       "<table border=\"1\" class=\"dataframe\">\n",
       "  <thead>\n",
       "    <tr style=\"text-align: right;\">\n",
       "      <th></th>\n",
       "      <th>customerID</th>\n",
       "      <th>gender</th>\n",
       "      <th>SeniorCitizen</th>\n",
       "      <th>Partner</th>\n",
       "      <th>Dependents</th>\n",
       "      <th>tenure</th>\n",
       "      <th>PhoneService</th>\n",
       "      <th>MultipleLines</th>\n",
       "      <th>InternetService</th>\n",
       "      <th>OnlineSecurity</th>\n",
       "      <th>...</th>\n",
       "      <th>DeviceProtection</th>\n",
       "      <th>TechSupport</th>\n",
       "      <th>StreamingTV</th>\n",
       "      <th>StreamingMovies</th>\n",
       "      <th>Contract</th>\n",
       "      <th>PaperlessBilling</th>\n",
       "      <th>PaymentMethod</th>\n",
       "      <th>MonthlyCharges</th>\n",
       "      <th>TotalCharges</th>\n",
       "      <th>Churn</th>\n",
       "    </tr>\n",
       "  </thead>\n",
       "  <tbody>\n",
       "    <tr>\n",
       "      <th>0</th>\n",
       "      <td>7590-VHVEG</td>\n",
       "      <td>Female</td>\n",
       "      <td>0</td>\n",
       "      <td>Yes</td>\n",
       "      <td>No</td>\n",
       "      <td>1</td>\n",
       "      <td>No</td>\n",
       "      <td>No phone service</td>\n",
       "      <td>DSL</td>\n",
       "      <td>No</td>\n",
       "      <td>...</td>\n",
       "      <td>No</td>\n",
       "      <td>No</td>\n",
       "      <td>No</td>\n",
       "      <td>No</td>\n",
       "      <td>Month-to-month</td>\n",
       "      <td>Yes</td>\n",
       "      <td>Electronic check</td>\n",
       "      <td>29.85</td>\n",
       "      <td>29.85</td>\n",
       "      <td>No</td>\n",
       "    </tr>\n",
       "    <tr>\n",
       "      <th>1</th>\n",
       "      <td>5575-GNVDE</td>\n",
       "      <td>Male</td>\n",
       "      <td>0</td>\n",
       "      <td>No</td>\n",
       "      <td>No</td>\n",
       "      <td>34</td>\n",
       "      <td>Yes</td>\n",
       "      <td>No</td>\n",
       "      <td>DSL</td>\n",
       "      <td>Yes</td>\n",
       "      <td>...</td>\n",
       "      <td>Yes</td>\n",
       "      <td>No</td>\n",
       "      <td>No</td>\n",
       "      <td>No</td>\n",
       "      <td>One year</td>\n",
       "      <td>No</td>\n",
       "      <td>Mailed check</td>\n",
       "      <td>56.95</td>\n",
       "      <td>1889.5</td>\n",
       "      <td>No</td>\n",
       "    </tr>\n",
       "    <tr>\n",
       "      <th>2</th>\n",
       "      <td>3668-QPYBK</td>\n",
       "      <td>Male</td>\n",
       "      <td>0</td>\n",
       "      <td>No</td>\n",
       "      <td>No</td>\n",
       "      <td>2</td>\n",
       "      <td>Yes</td>\n",
       "      <td>No</td>\n",
       "      <td>DSL</td>\n",
       "      <td>Yes</td>\n",
       "      <td>...</td>\n",
       "      <td>No</td>\n",
       "      <td>No</td>\n",
       "      <td>No</td>\n",
       "      <td>No</td>\n",
       "      <td>Month-to-month</td>\n",
       "      <td>Yes</td>\n",
       "      <td>Mailed check</td>\n",
       "      <td>53.85</td>\n",
       "      <td>108.15</td>\n",
       "      <td>Yes</td>\n",
       "    </tr>\n",
       "    <tr>\n",
       "      <th>3</th>\n",
       "      <td>7795-CFOCW</td>\n",
       "      <td>Male</td>\n",
       "      <td>0</td>\n",
       "      <td>No</td>\n",
       "      <td>No</td>\n",
       "      <td>45</td>\n",
       "      <td>No</td>\n",
       "      <td>No phone service</td>\n",
       "      <td>DSL</td>\n",
       "      <td>Yes</td>\n",
       "      <td>...</td>\n",
       "      <td>Yes</td>\n",
       "      <td>Yes</td>\n",
       "      <td>No</td>\n",
       "      <td>No</td>\n",
       "      <td>One year</td>\n",
       "      <td>No</td>\n",
       "      <td>Bank transfer (automatic)</td>\n",
       "      <td>42.30</td>\n",
       "      <td>1840.75</td>\n",
       "      <td>No</td>\n",
       "    </tr>\n",
       "    <tr>\n",
       "      <th>4</th>\n",
       "      <td>9237-HQITU</td>\n",
       "      <td>Female</td>\n",
       "      <td>0</td>\n",
       "      <td>No</td>\n",
       "      <td>No</td>\n",
       "      <td>2</td>\n",
       "      <td>Yes</td>\n",
       "      <td>No</td>\n",
       "      <td>Fiber optic</td>\n",
       "      <td>No</td>\n",
       "      <td>...</td>\n",
       "      <td>No</td>\n",
       "      <td>No</td>\n",
       "      <td>No</td>\n",
       "      <td>No</td>\n",
       "      <td>Month-to-month</td>\n",
       "      <td>Yes</td>\n",
       "      <td>Electronic check</td>\n",
       "      <td>70.70</td>\n",
       "      <td>151.65</td>\n",
       "      <td>Yes</td>\n",
       "    </tr>\n",
       "    <tr>\n",
       "      <th>...</th>\n",
       "      <td>...</td>\n",
       "      <td>...</td>\n",
       "      <td>...</td>\n",
       "      <td>...</td>\n",
       "      <td>...</td>\n",
       "      <td>...</td>\n",
       "      <td>...</td>\n",
       "      <td>...</td>\n",
       "      <td>...</td>\n",
       "      <td>...</td>\n",
       "      <td>...</td>\n",
       "      <td>...</td>\n",
       "      <td>...</td>\n",
       "      <td>...</td>\n",
       "      <td>...</td>\n",
       "      <td>...</td>\n",
       "      <td>...</td>\n",
       "      <td>...</td>\n",
       "      <td>...</td>\n",
       "      <td>...</td>\n",
       "      <td>...</td>\n",
       "    </tr>\n",
       "    <tr>\n",
       "      <th>7038</th>\n",
       "      <td>6840-RESVB</td>\n",
       "      <td>Male</td>\n",
       "      <td>0</td>\n",
       "      <td>Yes</td>\n",
       "      <td>Yes</td>\n",
       "      <td>24</td>\n",
       "      <td>Yes</td>\n",
       "      <td>Yes</td>\n",
       "      <td>DSL</td>\n",
       "      <td>Yes</td>\n",
       "      <td>...</td>\n",
       "      <td>Yes</td>\n",
       "      <td>Yes</td>\n",
       "      <td>Yes</td>\n",
       "      <td>Yes</td>\n",
       "      <td>One year</td>\n",
       "      <td>Yes</td>\n",
       "      <td>Mailed check</td>\n",
       "      <td>84.80</td>\n",
       "      <td>1990.5</td>\n",
       "      <td>No</td>\n",
       "    </tr>\n",
       "    <tr>\n",
       "      <th>7039</th>\n",
       "      <td>2234-XADUH</td>\n",
       "      <td>Female</td>\n",
       "      <td>0</td>\n",
       "      <td>Yes</td>\n",
       "      <td>Yes</td>\n",
       "      <td>72</td>\n",
       "      <td>Yes</td>\n",
       "      <td>Yes</td>\n",
       "      <td>Fiber optic</td>\n",
       "      <td>No</td>\n",
       "      <td>...</td>\n",
       "      <td>Yes</td>\n",
       "      <td>No</td>\n",
       "      <td>Yes</td>\n",
       "      <td>Yes</td>\n",
       "      <td>One year</td>\n",
       "      <td>Yes</td>\n",
       "      <td>Credit card (automatic)</td>\n",
       "      <td>103.20</td>\n",
       "      <td>7362.9</td>\n",
       "      <td>No</td>\n",
       "    </tr>\n",
       "    <tr>\n",
       "      <th>7040</th>\n",
       "      <td>4801-JZAZL</td>\n",
       "      <td>Female</td>\n",
       "      <td>0</td>\n",
       "      <td>Yes</td>\n",
       "      <td>Yes</td>\n",
       "      <td>11</td>\n",
       "      <td>No</td>\n",
       "      <td>No phone service</td>\n",
       "      <td>DSL</td>\n",
       "      <td>Yes</td>\n",
       "      <td>...</td>\n",
       "      <td>No</td>\n",
       "      <td>No</td>\n",
       "      <td>No</td>\n",
       "      <td>No</td>\n",
       "      <td>Month-to-month</td>\n",
       "      <td>Yes</td>\n",
       "      <td>Electronic check</td>\n",
       "      <td>29.60</td>\n",
       "      <td>346.45</td>\n",
       "      <td>No</td>\n",
       "    </tr>\n",
       "    <tr>\n",
       "      <th>7041</th>\n",
       "      <td>8361-LTMKD</td>\n",
       "      <td>Male</td>\n",
       "      <td>1</td>\n",
       "      <td>Yes</td>\n",
       "      <td>No</td>\n",
       "      <td>4</td>\n",
       "      <td>Yes</td>\n",
       "      <td>Yes</td>\n",
       "      <td>Fiber optic</td>\n",
       "      <td>No</td>\n",
       "      <td>...</td>\n",
       "      <td>No</td>\n",
       "      <td>No</td>\n",
       "      <td>No</td>\n",
       "      <td>No</td>\n",
       "      <td>Month-to-month</td>\n",
       "      <td>Yes</td>\n",
       "      <td>Mailed check</td>\n",
       "      <td>74.40</td>\n",
       "      <td>306.6</td>\n",
       "      <td>Yes</td>\n",
       "    </tr>\n",
       "    <tr>\n",
       "      <th>7042</th>\n",
       "      <td>3186-AJIEK</td>\n",
       "      <td>Male</td>\n",
       "      <td>0</td>\n",
       "      <td>No</td>\n",
       "      <td>No</td>\n",
       "      <td>66</td>\n",
       "      <td>Yes</td>\n",
       "      <td>No</td>\n",
       "      <td>Fiber optic</td>\n",
       "      <td>Yes</td>\n",
       "      <td>...</td>\n",
       "      <td>Yes</td>\n",
       "      <td>Yes</td>\n",
       "      <td>Yes</td>\n",
       "      <td>Yes</td>\n",
       "      <td>Two year</td>\n",
       "      <td>Yes</td>\n",
       "      <td>Bank transfer (automatic)</td>\n",
       "      <td>105.65</td>\n",
       "      <td>6844.5</td>\n",
       "      <td>No</td>\n",
       "    </tr>\n",
       "  </tbody>\n",
       "</table>\n",
       "<p>7043 rows × 21 columns</p>\n",
       "</div>"
      ],
      "text/plain": [
       "      customerID  gender  SeniorCitizen Partner Dependents  tenure  \\\n",
       "0     7590-VHVEG  Female              0     Yes         No       1   \n",
       "1     5575-GNVDE    Male              0      No         No      34   \n",
       "2     3668-QPYBK    Male              0      No         No       2   \n",
       "3     7795-CFOCW    Male              0      No         No      45   \n",
       "4     9237-HQITU  Female              0      No         No       2   \n",
       "...          ...     ...            ...     ...        ...     ...   \n",
       "7038  6840-RESVB    Male              0     Yes        Yes      24   \n",
       "7039  2234-XADUH  Female              0     Yes        Yes      72   \n",
       "7040  4801-JZAZL  Female              0     Yes        Yes      11   \n",
       "7041  8361-LTMKD    Male              1     Yes         No       4   \n",
       "7042  3186-AJIEK    Male              0      No         No      66   \n",
       "\n",
       "     PhoneService     MultipleLines InternetService OnlineSecurity  ...  \\\n",
       "0              No  No phone service             DSL             No  ...   \n",
       "1             Yes                No             DSL            Yes  ...   \n",
       "2             Yes                No             DSL            Yes  ...   \n",
       "3              No  No phone service             DSL            Yes  ...   \n",
       "4             Yes                No     Fiber optic             No  ...   \n",
       "...           ...               ...             ...            ...  ...   \n",
       "7038          Yes               Yes             DSL            Yes  ...   \n",
       "7039          Yes               Yes     Fiber optic             No  ...   \n",
       "7040           No  No phone service             DSL            Yes  ...   \n",
       "7041          Yes               Yes     Fiber optic             No  ...   \n",
       "7042          Yes                No     Fiber optic            Yes  ...   \n",
       "\n",
       "     DeviceProtection TechSupport StreamingTV StreamingMovies        Contract  \\\n",
       "0                  No          No          No              No  Month-to-month   \n",
       "1                 Yes          No          No              No        One year   \n",
       "2                  No          No          No              No  Month-to-month   \n",
       "3                 Yes         Yes          No              No        One year   \n",
       "4                  No          No          No              No  Month-to-month   \n",
       "...               ...         ...         ...             ...             ...   \n",
       "7038              Yes         Yes         Yes             Yes        One year   \n",
       "7039              Yes          No         Yes             Yes        One year   \n",
       "7040               No          No          No              No  Month-to-month   \n",
       "7041               No          No          No              No  Month-to-month   \n",
       "7042              Yes         Yes         Yes             Yes        Two year   \n",
       "\n",
       "     PaperlessBilling              PaymentMethod MonthlyCharges  TotalCharges  \\\n",
       "0                 Yes           Electronic check          29.85         29.85   \n",
       "1                  No               Mailed check          56.95        1889.5   \n",
       "2                 Yes               Mailed check          53.85        108.15   \n",
       "3                  No  Bank transfer (automatic)          42.30       1840.75   \n",
       "4                 Yes           Electronic check          70.70        151.65   \n",
       "...               ...                        ...            ...           ...   \n",
       "7038              Yes               Mailed check          84.80        1990.5   \n",
       "7039              Yes    Credit card (automatic)         103.20        7362.9   \n",
       "7040              Yes           Electronic check          29.60        346.45   \n",
       "7041              Yes               Mailed check          74.40         306.6   \n",
       "7042              Yes  Bank transfer (automatic)         105.65        6844.5   \n",
       "\n",
       "     Churn  \n",
       "0       No  \n",
       "1       No  \n",
       "2      Yes  \n",
       "3       No  \n",
       "4      Yes  \n",
       "...    ...  \n",
       "7038    No  \n",
       "7039    No  \n",
       "7040    No  \n",
       "7041   Yes  \n",
       "7042    No  \n",
       "\n",
       "[7043 rows x 21 columns]"
      ]
     },
     "execution_count": 32,
     "metadata": {},
     "output_type": "execute_result"
    }
   ],
   "source": [
    "df=pd.read_csv('https://raw.githubusercontent.com/dsrscientist/DSData/master/Telecom_customer_churn.csv')\n",
    "df"
   ]
  },
  {
   "cell_type": "code",
   "execution_count": 33,
   "id": "d226f377",
   "metadata": {},
   "outputs": [
    {
     "name": "stdout",
     "output_type": "stream",
     "text": [
      "<class 'pandas.core.frame.DataFrame'>\n",
      "RangeIndex: 7043 entries, 0 to 7042\n",
      "Data columns (total 21 columns):\n",
      " #   Column            Non-Null Count  Dtype  \n",
      "---  ------            --------------  -----  \n",
      " 0   customerID        7043 non-null   object \n",
      " 1   gender            7043 non-null   object \n",
      " 2   SeniorCitizen     7043 non-null   int64  \n",
      " 3   Partner           7043 non-null   object \n",
      " 4   Dependents        7043 non-null   object \n",
      " 5   tenure            7043 non-null   int64  \n",
      " 6   PhoneService      7043 non-null   object \n",
      " 7   MultipleLines     7043 non-null   object \n",
      " 8   InternetService   7043 non-null   object \n",
      " 9   OnlineSecurity    7043 non-null   object \n",
      " 10  OnlineBackup      7043 non-null   object \n",
      " 11  DeviceProtection  7043 non-null   object \n",
      " 12  TechSupport       7043 non-null   object \n",
      " 13  StreamingTV       7043 non-null   object \n",
      " 14  StreamingMovies   7043 non-null   object \n",
      " 15  Contract          7043 non-null   object \n",
      " 16  PaperlessBilling  7043 non-null   object \n",
      " 17  PaymentMethod     7043 non-null   object \n",
      " 18  MonthlyCharges    7043 non-null   float64\n",
      " 19  TotalCharges      7043 non-null   object \n",
      " 20  Churn             7043 non-null   object \n",
      "dtypes: float64(1), int64(2), object(18)\n",
      "memory usage: 1.1+ MB\n"
     ]
    }
   ],
   "source": [
    "df.info()"
   ]
  },
  {
   "cell_type": "code",
   "execution_count": 34,
   "id": "b437c90f",
   "metadata": {},
   "outputs": [
    {
     "data": {
      "text/plain": [
       "(7043, 21)"
      ]
     },
     "execution_count": 34,
     "metadata": {},
     "output_type": "execute_result"
    }
   ],
   "source": [
    "df.shape"
   ]
  },
  {
   "cell_type": "code",
   "execution_count": 35,
   "id": "141f4226",
   "metadata": {},
   "outputs": [
    {
     "data": {
      "text/plain": [
       "customerID          0\n",
       "gender              0\n",
       "SeniorCitizen       0\n",
       "Partner             0\n",
       "Dependents          0\n",
       "tenure              0\n",
       "PhoneService        0\n",
       "MultipleLines       0\n",
       "InternetService     0\n",
       "OnlineSecurity      0\n",
       "OnlineBackup        0\n",
       "DeviceProtection    0\n",
       "TechSupport         0\n",
       "StreamingTV         0\n",
       "StreamingMovies     0\n",
       "Contract            0\n",
       "PaperlessBilling    0\n",
       "PaymentMethod       0\n",
       "MonthlyCharges      0\n",
       "TotalCharges        0\n",
       "Churn               0\n",
       "dtype: int64"
      ]
     },
     "execution_count": 35,
     "metadata": {},
     "output_type": "execute_result"
    }
   ],
   "source": [
    "df.isnull().sum()"
   ]
  },
  {
   "cell_type": "code",
   "execution_count": 36,
   "id": "bfc8ba3a",
   "metadata": {},
   "outputs": [
    {
     "data": {
      "text/plain": [
       "0"
      ]
     },
     "execution_count": 36,
     "metadata": {},
     "output_type": "execute_result"
    }
   ],
   "source": [
    "df.isnull().sum().sum()"
   ]
  },
  {
   "cell_type": "code",
   "execution_count": 37,
   "id": "24777a57",
   "metadata": {},
   "outputs": [
    {
     "data": {
      "text/plain": [
       "customerID          0\n",
       "gender              0\n",
       "SeniorCitizen       0\n",
       "Partner             0\n",
       "Dependents          0\n",
       "tenure              0\n",
       "PhoneService        0\n",
       "MultipleLines       0\n",
       "InternetService     0\n",
       "OnlineSecurity      0\n",
       "OnlineBackup        0\n",
       "DeviceProtection    0\n",
       "TechSupport         0\n",
       "StreamingTV         0\n",
       "StreamingMovies     0\n",
       "Contract            0\n",
       "PaperlessBilling    0\n",
       "PaymentMethod       0\n",
       "MonthlyCharges      0\n",
       "TotalCharges        0\n",
       "Churn               0\n",
       "dtype: int64"
      ]
     },
     "execution_count": 37,
     "metadata": {},
     "output_type": "execute_result"
    }
   ],
   "source": [
    "df.isnull().sum()"
   ]
  },
  {
   "cell_type": "code",
   "execution_count": 38,
   "id": "d61ba503",
   "metadata": {},
   "outputs": [
    {
     "data": {
      "text/html": [
       "<div>\n",
       "<style scoped>\n",
       "    .dataframe tbody tr th:only-of-type {\n",
       "        vertical-align: middle;\n",
       "    }\n",
       "\n",
       "    .dataframe tbody tr th {\n",
       "        vertical-align: top;\n",
       "    }\n",
       "\n",
       "    .dataframe thead th {\n",
       "        text-align: right;\n",
       "    }\n",
       "</style>\n",
       "<table border=\"1\" class=\"dataframe\">\n",
       "  <thead>\n",
       "    <tr style=\"text-align: right;\">\n",
       "      <th></th>\n",
       "      <th>SeniorCitizen</th>\n",
       "      <th>tenure</th>\n",
       "      <th>MonthlyCharges</th>\n",
       "    </tr>\n",
       "  </thead>\n",
       "  <tbody>\n",
       "    <tr>\n",
       "      <th>count</th>\n",
       "      <td>7043.000000</td>\n",
       "      <td>7043.000000</td>\n",
       "      <td>7043.000000</td>\n",
       "    </tr>\n",
       "    <tr>\n",
       "      <th>mean</th>\n",
       "      <td>0.162147</td>\n",
       "      <td>32.371149</td>\n",
       "      <td>64.761692</td>\n",
       "    </tr>\n",
       "    <tr>\n",
       "      <th>std</th>\n",
       "      <td>0.368612</td>\n",
       "      <td>24.559481</td>\n",
       "      <td>30.090047</td>\n",
       "    </tr>\n",
       "    <tr>\n",
       "      <th>min</th>\n",
       "      <td>0.000000</td>\n",
       "      <td>0.000000</td>\n",
       "      <td>18.250000</td>\n",
       "    </tr>\n",
       "    <tr>\n",
       "      <th>25%</th>\n",
       "      <td>0.000000</td>\n",
       "      <td>9.000000</td>\n",
       "      <td>35.500000</td>\n",
       "    </tr>\n",
       "    <tr>\n",
       "      <th>50%</th>\n",
       "      <td>0.000000</td>\n",
       "      <td>29.000000</td>\n",
       "      <td>70.350000</td>\n",
       "    </tr>\n",
       "    <tr>\n",
       "      <th>75%</th>\n",
       "      <td>0.000000</td>\n",
       "      <td>55.000000</td>\n",
       "      <td>89.850000</td>\n",
       "    </tr>\n",
       "    <tr>\n",
       "      <th>max</th>\n",
       "      <td>1.000000</td>\n",
       "      <td>72.000000</td>\n",
       "      <td>118.750000</td>\n",
       "    </tr>\n",
       "  </tbody>\n",
       "</table>\n",
       "</div>"
      ],
      "text/plain": [
       "       SeniorCitizen       tenure  MonthlyCharges\n",
       "count    7043.000000  7043.000000     7043.000000\n",
       "mean        0.162147    32.371149       64.761692\n",
       "std         0.368612    24.559481       30.090047\n",
       "min         0.000000     0.000000       18.250000\n",
       "25%         0.000000     9.000000       35.500000\n",
       "50%         0.000000    29.000000       70.350000\n",
       "75%         0.000000    55.000000       89.850000\n",
       "max         1.000000    72.000000      118.750000"
      ]
     },
     "execution_count": 38,
     "metadata": {},
     "output_type": "execute_result"
    }
   ],
   "source": [
    "#we can clearly see that there are no null values.so we can continue with the data\n",
    "\n",
    "df.describe()"
   ]
  },
  {
   "cell_type": "code",
   "execution_count": 39,
   "id": "6ba6f42f",
   "metadata": {
    "scrolled": true
   },
   "outputs": [
    {
     "data": {
      "text/plain": [
       "customerID           object\n",
       "gender               object\n",
       "SeniorCitizen         int64\n",
       "Partner              object\n",
       "Dependents           object\n",
       "tenure                int64\n",
       "PhoneService         object\n",
       "MultipleLines        object\n",
       "InternetService      object\n",
       "OnlineSecurity       object\n",
       "OnlineBackup         object\n",
       "DeviceProtection     object\n",
       "TechSupport          object\n",
       "StreamingTV          object\n",
       "StreamingMovies      object\n",
       "Contract             object\n",
       "PaperlessBilling     object\n",
       "PaymentMethod        object\n",
       "MonthlyCharges      float64\n",
       "TotalCharges         object\n",
       "Churn                object\n",
       "dtype: object"
      ]
     },
     "execution_count": 39,
     "metadata": {},
     "output_type": "execute_result"
    }
   ],
   "source": [
    "df.dtypes"
   ]
  },
  {
   "cell_type": "code",
   "execution_count": 40,
   "id": "de8beb2a",
   "metadata": {},
   "outputs": [
    {
     "data": {
      "text/html": [
       "<div>\n",
       "<style scoped>\n",
       "    .dataframe tbody tr th:only-of-type {\n",
       "        vertical-align: middle;\n",
       "    }\n",
       "\n",
       "    .dataframe tbody tr th {\n",
       "        vertical-align: top;\n",
       "    }\n",
       "\n",
       "    .dataframe thead th {\n",
       "        text-align: right;\n",
       "    }\n",
       "</style>\n",
       "<table border=\"1\" class=\"dataframe\">\n",
       "  <thead>\n",
       "    <tr style=\"text-align: right;\">\n",
       "      <th></th>\n",
       "      <th>SeniorCitizen</th>\n",
       "      <th>tenure</th>\n",
       "      <th>MonthlyCharges</th>\n",
       "    </tr>\n",
       "  </thead>\n",
       "  <tbody>\n",
       "    <tr>\n",
       "      <th>SeniorCitizen</th>\n",
       "      <td>1.000000</td>\n",
       "      <td>0.016567</td>\n",
       "      <td>0.220173</td>\n",
       "    </tr>\n",
       "    <tr>\n",
       "      <th>tenure</th>\n",
       "      <td>0.016567</td>\n",
       "      <td>1.000000</td>\n",
       "      <td>0.247900</td>\n",
       "    </tr>\n",
       "    <tr>\n",
       "      <th>MonthlyCharges</th>\n",
       "      <td>0.220173</td>\n",
       "      <td>0.247900</td>\n",
       "      <td>1.000000</td>\n",
       "    </tr>\n",
       "  </tbody>\n",
       "</table>\n",
       "</div>"
      ],
      "text/plain": [
       "                SeniorCitizen    tenure  MonthlyCharges\n",
       "SeniorCitizen        1.000000  0.016567        0.220173\n",
       "tenure               0.016567  1.000000        0.247900\n",
       "MonthlyCharges       0.220173  0.247900        1.000000"
      ]
     },
     "execution_count": 40,
     "metadata": {},
     "output_type": "execute_result"
    }
   ],
   "source": [
    "df.corr()"
   ]
  },
  {
   "cell_type": "code",
   "execution_count": 41,
   "id": "c95de70d",
   "metadata": {},
   "outputs": [
    {
     "data": {
      "image/png": "[encoded data removed]",
      "text/plain": [
       "<Figure size 720x576 with 2 Axes>"
      ]
     },
     "metadata": {
      "needs_background": "light"
     },
     "output_type": "display_data"
    }
   ],
   "source": [
    "plt.figure(figsize=(10, 8))\n",
    "sns.heatmap(df.corr(), annot = True)\n",
    "plt.title('Correlations between factors',fontsize=20)\n",
    "plt.savefig('correlation_between _factors.jpg')\n",
    "plt.show()"
   ]
  },
  {
   "cell_type": "code",
   "execution_count": 42,
   "id": "3f05901b",
   "metadata": {},
   "outputs": [
    {
     "data": {
      "text/plain": [
       "SeniorCitizen     1.833633\n",
       "tenure            0.239540\n",
       "MonthlyCharges   -0.220524\n",
       "dtype: float64"
      ]
     },
     "execution_count": 42,
     "metadata": {},
     "output_type": "execute_result"
    }
   ],
   "source": [
    "#NOW we check for skewness in data\n",
    "\n",
    "df.skew()"
   ]
  },
  {
   "cell_type": "code",
   "execution_count": 43,
   "id": "27ff5e7e",
   "metadata": {},
   "outputs": [],
   "source": [
    "#using label encoder for categorical target (churn) for encoding \n",
    "le=LabelEncoder()\n",
    "df['Churn']=le.fit_transform(df['Churn'])"
   ]
  },
  {
   "cell_type": "code",
   "execution_count": 44,
   "id": "4bbdac6b",
   "metadata": {},
   "outputs": [
    {
     "data": {
      "text/plain": [
       "array(['No', 'Yes'], dtype=object)"
      ]
     },
     "execution_count": 44,
     "metadata": {},
     "output_type": "execute_result"
    }
   ],
   "source": [
    "le.inverse_transform([0,1])"
   ]
  },
  {
   "cell_type": "code",
   "execution_count": 45,
   "id": "9391b7c4",
   "metadata": {},
   "outputs": [
    {
     "data": {
      "text/html": [
       "<div>\n",
       "<style scoped>\n",
       "    .dataframe tbody tr th:only-of-type {\n",
       "        vertical-align: middle;\n",
       "    }\n",
       "\n",
       "    .dataframe tbody tr th {\n",
       "        vertical-align: top;\n",
       "    }\n",
       "\n",
       "    .dataframe thead th {\n",
       "        text-align: right;\n",
       "    }\n",
       "</style>\n",
       "<table border=\"1\" class=\"dataframe\">\n",
       "  <thead>\n",
       "    <tr style=\"text-align: right;\">\n",
       "      <th></th>\n",
       "      <th>customerID</th>\n",
       "      <th>gender</th>\n",
       "      <th>SeniorCitizen</th>\n",
       "      <th>Partner</th>\n",
       "      <th>Dependents</th>\n",
       "      <th>tenure</th>\n",
       "      <th>PhoneService</th>\n",
       "      <th>MultipleLines</th>\n",
       "      <th>InternetService</th>\n",
       "      <th>OnlineSecurity</th>\n",
       "      <th>...</th>\n",
       "      <th>DeviceProtection</th>\n",
       "      <th>TechSupport</th>\n",
       "      <th>StreamingTV</th>\n",
       "      <th>StreamingMovies</th>\n",
       "      <th>Contract</th>\n",
       "      <th>PaperlessBilling</th>\n",
       "      <th>PaymentMethod</th>\n",
       "      <th>MonthlyCharges</th>\n",
       "      <th>TotalCharges</th>\n",
       "      <th>Churn</th>\n",
       "    </tr>\n",
       "  </thead>\n",
       "  <tbody>\n",
       "    <tr>\n",
       "      <th>0</th>\n",
       "      <td>5375.0</td>\n",
       "      <td>0.0</td>\n",
       "      <td>0</td>\n",
       "      <td>1.0</td>\n",
       "      <td>0.0</td>\n",
       "      <td>1</td>\n",
       "      <td>0.0</td>\n",
       "      <td>1.0</td>\n",
       "      <td>0.0</td>\n",
       "      <td>0.0</td>\n",
       "      <td>...</td>\n",
       "      <td>0.0</td>\n",
       "      <td>0.0</td>\n",
       "      <td>0.0</td>\n",
       "      <td>0.0</td>\n",
       "      <td>0.0</td>\n",
       "      <td>1.0</td>\n",
       "      <td>2.0</td>\n",
       "      <td>29.85</td>\n",
       "      <td>2505.0</td>\n",
       "      <td>0</td>\n",
       "    </tr>\n",
       "    <tr>\n",
       "      <th>1</th>\n",
       "      <td>3962.0</td>\n",
       "      <td>1.0</td>\n",
       "      <td>0</td>\n",
       "      <td>0.0</td>\n",
       "      <td>0.0</td>\n",
       "      <td>34</td>\n",
       "      <td>1.0</td>\n",
       "      <td>0.0</td>\n",
       "      <td>0.0</td>\n",
       "      <td>2.0</td>\n",
       "      <td>...</td>\n",
       "      <td>2.0</td>\n",
       "      <td>0.0</td>\n",
       "      <td>0.0</td>\n",
       "      <td>0.0</td>\n",
       "      <td>1.0</td>\n",
       "      <td>0.0</td>\n",
       "      <td>3.0</td>\n",
       "      <td>56.95</td>\n",
       "      <td>1466.0</td>\n",
       "      <td>0</td>\n",
       "    </tr>\n",
       "    <tr>\n",
       "      <th>2</th>\n",
       "      <td>2564.0</td>\n",
       "      <td>1.0</td>\n",
       "      <td>0</td>\n",
       "      <td>0.0</td>\n",
       "      <td>0.0</td>\n",
       "      <td>2</td>\n",
       "      <td>1.0</td>\n",
       "      <td>0.0</td>\n",
       "      <td>0.0</td>\n",
       "      <td>2.0</td>\n",
       "      <td>...</td>\n",
       "      <td>0.0</td>\n",
       "      <td>0.0</td>\n",
       "      <td>0.0</td>\n",
       "      <td>0.0</td>\n",
       "      <td>0.0</td>\n",
       "      <td>1.0</td>\n",
       "      <td>3.0</td>\n",
       "      <td>53.85</td>\n",
       "      <td>157.0</td>\n",
       "      <td>1</td>\n",
       "    </tr>\n",
       "    <tr>\n",
       "      <th>3</th>\n",
       "      <td>5535.0</td>\n",
       "      <td>1.0</td>\n",
       "      <td>0</td>\n",
       "      <td>0.0</td>\n",
       "      <td>0.0</td>\n",
       "      <td>45</td>\n",
       "      <td>0.0</td>\n",
       "      <td>1.0</td>\n",
       "      <td>0.0</td>\n",
       "      <td>2.0</td>\n",
       "      <td>...</td>\n",
       "      <td>2.0</td>\n",
       "      <td>2.0</td>\n",
       "      <td>0.0</td>\n",
       "      <td>0.0</td>\n",
       "      <td>1.0</td>\n",
       "      <td>0.0</td>\n",
       "      <td>0.0</td>\n",
       "      <td>42.30</td>\n",
       "      <td>1400.0</td>\n",
       "      <td>0</td>\n",
       "    </tr>\n",
       "    <tr>\n",
       "      <th>4</th>\n",
       "      <td>6511.0</td>\n",
       "      <td>0.0</td>\n",
       "      <td>0</td>\n",
       "      <td>0.0</td>\n",
       "      <td>0.0</td>\n",
       "      <td>2</td>\n",
       "      <td>1.0</td>\n",
       "      <td>0.0</td>\n",
       "      <td>1.0</td>\n",
       "      <td>0.0</td>\n",
       "      <td>...</td>\n",
       "      <td>0.0</td>\n",
       "      <td>0.0</td>\n",
       "      <td>0.0</td>\n",
       "      <td>0.0</td>\n",
       "      <td>0.0</td>\n",
       "      <td>1.0</td>\n",
       "      <td>2.0</td>\n",
       "      <td>70.70</td>\n",
       "      <td>925.0</td>\n",
       "      <td>1</td>\n",
       "    </tr>\n",
       "    <tr>\n",
       "      <th>...</th>\n",
       "      <td>...</td>\n",
       "      <td>...</td>\n",
       "      <td>...</td>\n",
       "      <td>...</td>\n",
       "      <td>...</td>\n",
       "      <td>...</td>\n",
       "      <td>...</td>\n",
       "      <td>...</td>\n",
       "      <td>...</td>\n",
       "      <td>...</td>\n",
       "      <td>...</td>\n",
       "      <td>...</td>\n",
       "      <td>...</td>\n",
       "      <td>...</td>\n",
       "      <td>...</td>\n",
       "      <td>...</td>\n",
       "      <td>...</td>\n",
       "      <td>...</td>\n",
       "      <td>...</td>\n",
       "      <td>...</td>\n",
       "      <td>...</td>\n",
       "    </tr>\n",
       "    <tr>\n",
       "      <th>7038</th>\n",
       "      <td>4853.0</td>\n",
       "      <td>1.0</td>\n",
       "      <td>0</td>\n",
       "      <td>1.0</td>\n",
       "      <td>1.0</td>\n",
       "      <td>24</td>\n",
       "      <td>1.0</td>\n",
       "      <td>2.0</td>\n",
       "      <td>0.0</td>\n",
       "      <td>2.0</td>\n",
       "      <td>...</td>\n",
       "      <td>2.0</td>\n",
       "      <td>2.0</td>\n",
       "      <td>2.0</td>\n",
       "      <td>2.0</td>\n",
       "      <td>1.0</td>\n",
       "      <td>1.0</td>\n",
       "      <td>3.0</td>\n",
       "      <td>84.80</td>\n",
       "      <td>1597.0</td>\n",
       "      <td>0</td>\n",
       "    </tr>\n",
       "    <tr>\n",
       "      <th>7039</th>\n",
       "      <td>1525.0</td>\n",
       "      <td>0.0</td>\n",
       "      <td>0</td>\n",
       "      <td>1.0</td>\n",
       "      <td>1.0</td>\n",
       "      <td>72</td>\n",
       "      <td>1.0</td>\n",
       "      <td>2.0</td>\n",
       "      <td>1.0</td>\n",
       "      <td>0.0</td>\n",
       "      <td>...</td>\n",
       "      <td>2.0</td>\n",
       "      <td>0.0</td>\n",
       "      <td>2.0</td>\n",
       "      <td>2.0</td>\n",
       "      <td>1.0</td>\n",
       "      <td>1.0</td>\n",
       "      <td>1.0</td>\n",
       "      <td>103.20</td>\n",
       "      <td>5698.0</td>\n",
       "      <td>0</td>\n",
       "    </tr>\n",
       "    <tr>\n",
       "      <th>7040</th>\n",
       "      <td>3367.0</td>\n",
       "      <td>0.0</td>\n",
       "      <td>0</td>\n",
       "      <td>1.0</td>\n",
       "      <td>1.0</td>\n",
       "      <td>11</td>\n",
       "      <td>0.0</td>\n",
       "      <td>1.0</td>\n",
       "      <td>0.0</td>\n",
       "      <td>2.0</td>\n",
       "      <td>...</td>\n",
       "      <td>0.0</td>\n",
       "      <td>0.0</td>\n",
       "      <td>0.0</td>\n",
       "      <td>0.0</td>\n",
       "      <td>0.0</td>\n",
       "      <td>1.0</td>\n",
       "      <td>2.0</td>\n",
       "      <td>29.60</td>\n",
       "      <td>2994.0</td>\n",
       "      <td>0</td>\n",
       "    </tr>\n",
       "    <tr>\n",
       "      <th>7041</th>\n",
       "      <td>5934.0</td>\n",
       "      <td>1.0</td>\n",
       "      <td>1</td>\n",
       "      <td>1.0</td>\n",
       "      <td>0.0</td>\n",
       "      <td>4</td>\n",
       "      <td>1.0</td>\n",
       "      <td>2.0</td>\n",
       "      <td>1.0</td>\n",
       "      <td>0.0</td>\n",
       "      <td>...</td>\n",
       "      <td>0.0</td>\n",
       "      <td>0.0</td>\n",
       "      <td>0.0</td>\n",
       "      <td>0.0</td>\n",
       "      <td>0.0</td>\n",
       "      <td>1.0</td>\n",
       "      <td>3.0</td>\n",
       "      <td>74.40</td>\n",
       "      <td>2660.0</td>\n",
       "      <td>1</td>\n",
       "    </tr>\n",
       "    <tr>\n",
       "      <th>7042</th>\n",
       "      <td>2226.0</td>\n",
       "      <td>1.0</td>\n",
       "      <td>0</td>\n",
       "      <td>0.0</td>\n",
       "      <td>0.0</td>\n",
       "      <td>66</td>\n",
       "      <td>1.0</td>\n",
       "      <td>0.0</td>\n",
       "      <td>1.0</td>\n",
       "      <td>2.0</td>\n",
       "      <td>...</td>\n",
       "      <td>2.0</td>\n",
       "      <td>2.0</td>\n",
       "      <td>2.0</td>\n",
       "      <td>2.0</td>\n",
       "      <td>2.0</td>\n",
       "      <td>1.0</td>\n",
       "      <td>0.0</td>\n",
       "      <td>105.65</td>\n",
       "      <td>5407.0</td>\n",
       "      <td>0</td>\n",
       "    </tr>\n",
       "  </tbody>\n",
       "</table>\n",
       "<p>7043 rows × 21 columns</p>\n",
       "</div>"
      ],
      "text/plain": [
       "      customerID  gender  SeniorCitizen  Partner  Dependents  tenure  \\\n",
       "0         5375.0     0.0              0      1.0         0.0       1   \n",
       "1         3962.0     1.0              0      0.0         0.0      34   \n",
       "2         2564.0     1.0              0      0.0         0.0       2   \n",
       "3         5535.0     1.0              0      0.0         0.0      45   \n",
       "4         6511.0     0.0              0      0.0         0.0       2   \n",
       "...          ...     ...            ...      ...         ...     ...   \n",
       "7038      4853.0     1.0              0      1.0         1.0      24   \n",
       "7039      1525.0     0.0              0      1.0         1.0      72   \n",
       "7040      3367.0     0.0              0      1.0         1.0      11   \n",
       "7041      5934.0     1.0              1      1.0         0.0       4   \n",
       "7042      2226.0     1.0              0      0.0         0.0      66   \n",
       "\n",
       "      PhoneService  MultipleLines  InternetService  OnlineSecurity  ...  \\\n",
       "0              0.0            1.0              0.0             0.0  ...   \n",
       "1              1.0            0.0              0.0             2.0  ...   \n",
       "2              1.0            0.0              0.0             2.0  ...   \n",
       "3              0.0            1.0              0.0             2.0  ...   \n",
       "4              1.0            0.0              1.0             0.0  ...   \n",
       "...            ...            ...              ...             ...  ...   \n",
       "7038           1.0            2.0              0.0             2.0  ...   \n",
       "7039           1.0            2.0              1.0             0.0  ...   \n",
       "7040           0.0            1.0              0.0             2.0  ...   \n",
       "7041           1.0            2.0              1.0             0.0  ...   \n",
       "7042           1.0            0.0              1.0             2.0  ...   \n",
       "\n",
       "      DeviceProtection  TechSupport  StreamingTV  StreamingMovies  Contract  \\\n",
       "0                  0.0          0.0          0.0              0.0       0.0   \n",
       "1                  2.0          0.0          0.0              0.0       1.0   \n",
       "2                  0.0          0.0          0.0              0.0       0.0   \n",
       "3                  2.0          2.0          0.0              0.0       1.0   \n",
       "4                  0.0          0.0          0.0              0.0       0.0   \n",
       "...                ...          ...          ...              ...       ...   \n",
       "7038               2.0          2.0          2.0              2.0       1.0   \n",
       "7039               2.0          0.0          2.0              2.0       1.0   \n",
       "7040               0.0          0.0          0.0              0.0       0.0   \n",
       "7041               0.0          0.0          0.0              0.0       0.0   \n",
       "7042               2.0          2.0          2.0              2.0       2.0   \n",
       "\n",
       "      PaperlessBilling  PaymentMethod  MonthlyCharges  TotalCharges  Churn  \n",
       "0                  1.0            2.0           29.85        2505.0      0  \n",
       "1                  0.0            3.0           56.95        1466.0      0  \n",
       "2                  1.0            3.0           53.85         157.0      1  \n",
       "3                  0.0            0.0           42.30        1400.0      0  \n",
       "4                  1.0            2.0           70.70         925.0      1  \n",
       "...                ...            ...             ...           ...    ...  \n",
       "7038               1.0            3.0           84.80        1597.0      0  \n",
       "7039               1.0            1.0          103.20        5698.0      0  \n",
       "7040               1.0            2.0           29.60        2994.0      0  \n",
       "7041               1.0            3.0           74.40        2660.0      1  \n",
       "7042               1.0            0.0          105.65        5407.0      0  \n",
       "\n",
       "[7043 rows x 21 columns]"
      ]
     },
     "execution_count": 45,
     "metadata": {},
     "output_type": "execute_result"
    }
   ],
   "source": [
    "enc=OrdinalEncoder()\n",
    "for i in df.columns:\n",
    "    if df[i].dtypes==\"object\":\n",
    "        df[i]=enc.fit_transform(df[i].values.reshape(-1,1))\n",
    "df"
   ]
  },
  {
   "cell_type": "code",
   "execution_count": 119,
   "id": "584d0204",
   "metadata": {},
   "outputs": [
    {
     "data": {
      "text/plain": [
       "Index(['customerID', 'gender', 'SeniorCitizen', 'Partner', 'Dependents',\n",
       "       'tenure', 'PhoneService', 'MultipleLines', 'InternetService',\n",
       "       'OnlineSecurity', 'OnlineBackup', 'DeviceProtection', 'TechSupport',\n",
       "       'StreamingTV', 'StreamingMovies', 'Contract', 'PaperlessBilling',\n",
       "       'PaymentMethod', 'MonthlyCharges', 'TotalCharges', 'Churn'],\n",
       "      dtype='object')"
      ]
     },
     "execution_count": 119,
     "metadata": {},
     "output_type": "execute_result"
    }
   ],
   "source": [
    "df.columns"
   ]
  },
  {
   "cell_type": "code",
   "execution_count": 47,
   "id": "d573469c",
   "metadata": {},
   "outputs": [
    {
     "data": {
      "text/plain": [
       "0    5174\n",
       "1    1869\n",
       "Name: Churn, dtype: int64"
      ]
     },
     "execution_count": 47,
     "metadata": {},
     "output_type": "execute_result"
    },
    {
     "data": {
      "image/png": "[encoded data removed]",
      "text/plain": [
       "<Figure size 432x288 with 1 Axes>"
      ]
     },
     "metadata": {
      "needs_background": "light"
     },
     "output_type": "display_data"
    }
   ],
   "source": [
    "#now we see the count of loan status\n",
    "sns.countplot(df['Churn'])\n",
    "df['Churn'].value_counts()"
   ]
  },
  {
   "cell_type": "code",
   "execution_count": null,
   "id": "94acfe0a",
   "metadata": {},
   "outputs": [],
   "source": [
    "#their is a imbalance in the dataset,so we will deal with it later"
   ]
  },
  {
   "cell_type": "code",
   "execution_count": 48,
   "id": "667e5330",
   "metadata": {},
   "outputs": [
    {
     "name": "stdout",
     "output_type": "stream",
     "text": [
      "Churn               1.000000\n",
      "MonthlyCharges      0.193356\n",
      "PaperlessBilling    0.191825\n",
      "SeniorCitizen       0.150889\n",
      "PaymentMethod       0.107062\n",
      "MultipleLines       0.038037\n",
      "TotalCharges        0.014479\n",
      "PhoneService        0.011942\n",
      "gender             -0.008612\n",
      "customerID         -0.017447\n",
      "StreamingTV        -0.036581\n",
      "StreamingMovies    -0.038492\n",
      "InternetService    -0.047291\n",
      "Partner            -0.150448\n",
      "Dependents         -0.164221\n",
      "DeviceProtection   -0.178134\n",
      "OnlineBackup       -0.195525\n",
      "TechSupport        -0.282492\n",
      "OnlineSecurity     -0.289309\n",
      "tenure             -0.352229\n",
      "Contract           -0.396713\n",
      "Name: Churn, dtype: float64\n"
     ]
    }
   ],
   "source": [
    "#loan application approved more no of times than it is rejected.....\n",
    "\n",
    "correlations = df.corr()['Churn'].sort_values(ascending=False)\n",
    "print(correlations)"
   ]
  },
  {
   "cell_type": "code",
   "execution_count": 49,
   "id": "9366938a",
   "metadata": {},
   "outputs": [
    {
     "data": {
      "text/plain": [
       "<AxesSubplot:>"
      ]
     },
     "execution_count": 49,
     "metadata": {},
     "output_type": "execute_result"
    },
    {
     "data": {
      "image/png": "[encoded data removed]",
      "text/plain": [
       "<Figure size 432x288 with 1 Axes>"
      ]
     },
     "metadata": {
      "needs_background": "light"
     },
     "output_type": "display_data"
    }
   ],
   "source": [
    "#the attributes share positive as well as negaative correlation with the target\n",
    "\n",
    "correlations.plot(kind='bar')"
   ]
  },
  {
   "cell_type": "code",
   "execution_count": 50,
   "id": "1d5e55b5",
   "metadata": {},
   "outputs": [
    {
     "data": {
      "text/plain": [
       "<AxesSubplot:xlabel='Churn', ylabel='MonthlyCharges'>"
      ]
     },
     "execution_count": 50,
     "metadata": {},
     "output_type": "execute_result"
    },
    {
     "data": {
      "image/png": "[encoded data removed]",
      "text/plain": [
       "<Figure size 432x288 with 1 Axes>"
      ]
     },
     "metadata": {
      "needs_background": "light"
     },
     "output_type": "display_data"
    }
   ],
   "source": [
    "sns.stripplot(x='Churn',y='MonthlyCharges', data=df)"
   ]
  },
  {
   "cell_type": "code",
   "execution_count": null,
   "id": "3e40d03a",
   "metadata": {},
   "outputs": [],
   "source": [
    "#monthly charges does not affect churn rate"
   ]
  },
  {
   "cell_type": "code",
   "execution_count": 51,
   "id": "e477740d",
   "metadata": {},
   "outputs": [
    {
     "data": {
      "text/plain": [
       "<AxesSubplot:xlabel='Churn', ylabel='TotalCharges'>"
      ]
     },
     "execution_count": 51,
     "metadata": {},
     "output_type": "execute_result"
    },
    {
     "data": {
      "image/png": "[encoded data removed]",
      "text/plain": [
       "<Figure size 432x288 with 1 Axes>"
      ]
     },
     "metadata": {
      "needs_background": "light"
     },
     "output_type": "display_data"
    }
   ],
   "source": [
    "sns.stripplot(x='Churn',y='TotalCharges', data=df)"
   ]
  },
  {
   "cell_type": "code",
   "execution_count": null,
   "id": "1e693fb3",
   "metadata": {},
   "outputs": [],
   "source": [
    "#total charges are same for churn value 0 or 1"
   ]
  },
  {
   "cell_type": "code",
   "execution_count": 52,
   "id": "21500c4e",
   "metadata": {},
   "outputs": [
    {
     "data": {
      "text/plain": [
       "<AxesSubplot:xlabel='Churn', ylabel='tenure'>"
      ]
     },
     "execution_count": 52,
     "metadata": {},
     "output_type": "execute_result"
    },
    {
     "data": {
      "image/png": "[encoded data removed]",
      "text/plain": [
       "<Figure size 432x288 with 1 Axes>"
      ]
     },
     "metadata": {
      "needs_background": "light"
     },
     "output_type": "display_data"
    }
   ],
   "source": [
    "sns.stripplot(x='Churn',y='tenure', data=df)"
   ]
  },
  {
   "cell_type": "code",
   "execution_count": 53,
   "id": "c132e232",
   "metadata": {},
   "outputs": [
    {
     "data": {
      "text/plain": [
       "<AxesSubplot:xlabel='tenure', ylabel='MonthlyCharges'>"
      ]
     },
     "execution_count": 53,
     "metadata": {},
     "output_type": "execute_result"
    },
    {
     "data": {
      "image/png": "[encoded data removed]",
      "text/plain": [
       "<Figure size 432x288 with 1 Axes>"
      ]
     },
     "metadata": {
      "needs_background": "light"
     },
     "output_type": "display_data"
    }
   ],
   "source": [
    "sns.lineplot(y='MonthlyCharges',x='tenure', data=df)"
   ]
  },
  {
   "cell_type": "code",
   "execution_count": null,
   "id": "b3c7125b",
   "metadata": {},
   "outputs": [],
   "source": [
    "#tenure and monthly charges are linearly correlated"
   ]
  },
  {
   "cell_type": "code",
   "execution_count": 54,
   "id": "bae02037",
   "metadata": {},
   "outputs": [
    {
     "data": {
      "text/plain": [
       "<AxesSubplot:xlabel='tenure', ylabel='TotalCharges'>"
      ]
     },
     "execution_count": 54,
     "metadata": {},
     "output_type": "execute_result"
    },
    {
     "data": {
      "image/png": "[encoded data removed]",
      "text/plain": [
       "<Figure size 432x288 with 1 Axes>"
      ]
     },
     "metadata": {
      "needs_background": "light"
     },
     "output_type": "display_data"
    }
   ],
   "source": [
    "sns.lineplot(y='TotalCharges',x='tenure', data=df)"
   ]
  },
  {
   "cell_type": "code",
   "execution_count": null,
   "id": "54136e32",
   "metadata": {},
   "outputs": [],
   "source": [
    "#TOTal charges are almost same for long tenureperiod"
   ]
  },
  {
   "cell_type": "code",
   "execution_count": 55,
   "id": "b3a84c7d",
   "metadata": {},
   "outputs": [
    {
     "data": {
      "text/plain": [
       "<AxesSubplot:xlabel='Churn', ylabel='MonthlyCharges'>"
      ]
     },
     "execution_count": 55,
     "metadata": {},
     "output_type": "execute_result"
    },
    {
     "data": {
      "image/png": "[encoded data removed]",
      "text/plain": [
       "<Figure size 432x288 with 1 Axes>"
      ]
     },
     "metadata": {
      "needs_background": "light"
     },
     "output_type": "display_data"
    }
   ],
   "source": [
    "sns.scatterplot(x=\"Churn\", y=\"MonthlyCharges\", hue=\"gender\", data=df)"
   ]
  },
  {
   "cell_type": "code",
   "execution_count": null,
   "id": "c4a48a6e",
   "metadata": {},
   "outputs": [],
   "source": [
    "#all gendder pay same monthly charges "
   ]
  },
  {
   "cell_type": "code",
   "execution_count": 56,
   "id": "b9016843",
   "metadata": {},
   "outputs": [
    {
     "data": {
      "image/png": "[encoded data removed]",
      "text/plain": [
       "<Figure size 432x288 with 1 Axes>"
      ]
     },
     "metadata": {
      "needs_background": "light"
     },
     "output_type": "display_data"
    }
   ],
   "source": [
    "sns.countplot(df['MonthlyCharges'])\n",
    "plt.title('Distribution of Monthly Charges')\n",
    "plt.xlabel('monthly charge')\n",
    "plt.ylabel('Number of customers')\n",
    "plt.show()"
   ]
  },
  {
   "cell_type": "code",
   "execution_count": 121,
   "id": "06bf4910",
   "metadata": {},
   "outputs": [
    {
     "data": {
      "text/plain": [
       "<AxesSubplot:xlabel='MonthlyCharges'>"
      ]
     },
     "execution_count": 121,
     "metadata": {},
     "output_type": "execute_result"
    },
    {
     "data": {
      "image/png": "[encoded data removed]",
      "text/plain": [
       "<Figure size 432x288 with 1 Axes>"
      ]
     },
     "metadata": {
      "needs_background": "light"
     },
     "output_type": "display_data"
    }
   ],
   "source": [
    "sns.boxplot(df['MonthlyCharges'])"
   ]
  },
  {
   "cell_type": "code",
   "execution_count": 1,
   "id": "ec6636db",
   "metadata": {},
   "outputs": [
    {
     "ename": "NameError",
     "evalue": "name 'plt' is not defined",
     "output_type": "error",
     "traceback": [
      "\u001b[1;31m---------------------------------------------------------------------------\u001b[0m",
      "\u001b[1;31mNameError\u001b[0m                                 Traceback (most recent call last)",
      "\u001b[1;32mC:\\Users\\DEEPAK~1.MUK\\AppData\\Local\\Temp/ipykernel_21020/3876689504.py\u001b[0m in \u001b[0;36m<module>\u001b[1;34m\u001b[0m\n\u001b[1;32m----> 1\u001b[1;33m \u001b[0mplt\u001b[0m\u001b[1;33m.\u001b[0m\u001b[0mfigure\u001b[0m\u001b[1;33m(\u001b[0m\u001b[0mfigsize\u001b[0m\u001b[1;33m=\u001b[0m\u001b[1;33m(\u001b[0m\u001b[1;36m18\u001b[0m\u001b[1;33m,\u001b[0m \u001b[1;36m5\u001b[0m\u001b[1;33m)\u001b[0m\u001b[1;33m)\u001b[0m\u001b[1;33m\u001b[0m\u001b[1;33m\u001b[0m\u001b[0m\n\u001b[0m\u001b[0;32m      2\u001b[0m \u001b[0msns\u001b[0m\u001b[1;33m.\u001b[0m\u001b[0mcountplot\u001b[0m\u001b[1;33m(\u001b[0m\u001b[0mdf\u001b[0m\u001b[1;33m[\u001b[0m\u001b[1;34m'TotalCharges'\u001b[0m\u001b[1;33m]\u001b[0m\u001b[1;33m)\u001b[0m\u001b[1;33m\u001b[0m\u001b[1;33m\u001b[0m\u001b[0m\n\u001b[0;32m      3\u001b[0m \u001b[0mplt\u001b[0m\u001b[1;33m.\u001b[0m\u001b[0mtitle\u001b[0m\u001b[1;33m(\u001b[0m\u001b[1;34m'Distribution of TotalCharges'\u001b[0m\u001b[1;33m)\u001b[0m\u001b[1;33m\u001b[0m\u001b[1;33m\u001b[0m\u001b[0m\n\u001b[0;32m      4\u001b[0m \u001b[0mplt\u001b[0m\u001b[1;33m.\u001b[0m\u001b[0mxlabel\u001b[0m\u001b[1;33m(\u001b[0m\u001b[1;34m'TotalCharges'\u001b[0m\u001b[1;33m)\u001b[0m\u001b[1;33m\u001b[0m\u001b[1;33m\u001b[0m\u001b[0m\n\u001b[0;32m      5\u001b[0m \u001b[0mplt\u001b[0m\u001b[1;33m.\u001b[0m\u001b[0mylabel\u001b[0m\u001b[1;33m(\u001b[0m\u001b[1;34m'Number of customers'\u001b[0m\u001b[1;33m)\u001b[0m\u001b[1;33m\u001b[0m\u001b[1;33m\u001b[0m\u001b[0m\n",
      "\u001b[1;31mNameError\u001b[0m: name 'plt' is not defined"
     ]
    }
   ],
   "source": [
    "plt.figure(figsize=(18, 5))\n",
    "sns.countplot(df['TotalCharges'])\n",
    "plt.title('Distribution of TotalCharges')\n",
    "plt.xlabel('TotalCharges')\n",
    "plt.ylabel('Number of customers')\n",
    "plt.show()"
   ]
  },
  {
   "cell_type": "code",
   "execution_count": 123,
   "id": "84788e67",
   "metadata": {},
   "outputs": [
    {
     "data": {
      "text/plain": [
       "<AxesSubplot:xlabel='TotalCharges'>"
      ]
     },
     "execution_count": 123,
     "metadata": {},
     "output_type": "execute_result"
    },
    {
     "data": {
      "image/png": "[encoded data removed]",
      "text/plain": [
       "<Figure size 432x288 with 1 Axes>"
      ]
     },
     "metadata": {
      "needs_background": "light"
     },
     "output_type": "display_data"
    }
   ],
   "source": [
    "sns.boxplot(df['TotalCharges'])"
   ]
  },
  {
   "cell_type": "code",
   "execution_count": 59,
   "id": "4fb227a8",
   "metadata": {},
   "outputs": [
    {
     "data": {
      "image/png": "[encoded data removed]",
      "text/plain": [
       "<Figure size 1080x360 with 1 Axes>"
      ]
     },
     "metadata": {
      "needs_background": "light"
     },
     "output_type": "display_data"
    }
   ],
   "source": [
    "plt.figure(figsize=(15, 5))\n",
    "sns.countplot(df['tenure'])\n",
    "plt.title('Distribution of tenure')\n",
    "plt.xlabel('tenure')\n",
    "plt.ylabel('Number of customers')\n",
    "plt.show()"
   ]
  },
  {
   "cell_type": "code",
   "execution_count": 60,
   "id": "036e12f1",
   "metadata": {},
   "outputs": [
    {
     "data": {
      "image/png": "[encoded data removed]",
      "text/plain": [
       "<Figure size 432x288 with 1 Axes>"
      ]
     },
     "metadata": {
      "needs_background": "light"
     },
     "output_type": "display_data"
    }
   ],
   "source": [
    "sns.countplot(df['PaperlessBilling'])\n",
    "plt.title('Distribution of paperless billing')\n",
    "plt.xlabel('Paper less billing')\n",
    "plt.ylabel('Number of customers')\n",
    "plt.show()"
   ]
  },
  {
   "cell_type": "code",
   "execution_count": 61,
   "id": "8abd7414",
   "metadata": {},
   "outputs": [
    {
     "data": {
      "image/png": "[encoded data removed]",
      "text/plain": [
       "<Figure size 432x288 with 1 Axes>"
      ]
     },
     "metadata": {
      "needs_background": "light"
     },
     "output_type": "display_data"
    }
   ],
   "source": [
    "sns.countplot(df['DeviceProtection'])\n",
    "plt.title('Distribution of DeviceProtection')\n",
    "plt.xlabel('DeviceProtection')\n",
    "plt.ylabel('Number of customers')\n",
    "plt.show()"
   ]
  },
  {
   "cell_type": "code",
   "execution_count": 62,
   "id": "4dc3f58b",
   "metadata": {},
   "outputs": [
    {
     "data": {
      "image/png": "[encoded data removed]",
      "text/plain": [
       "<Figure size 432x288 with 1 Axes>"
      ]
     },
     "metadata": {
      "needs_background": "light"
     },
     "output_type": "display_data"
    }
   ],
   "source": [
    "sns.countplot(df['TechSupport'])\n",
    "plt.title('Distribution of TechSupport')\n",
    "plt.xlabel('TechSupport')\n",
    "plt.ylabel('Number of customers')\n",
    "plt.show()"
   ]
  },
  {
   "cell_type": "code",
   "execution_count": 63,
   "id": "8c0bd8b6",
   "metadata": {},
   "outputs": [
    {
     "data": {
      "image/png": "[encoded data removed]",
      "text/plain": [
       "<Figure size 432x288 with 1 Axes>"
      ]
     },
     "metadata": {
      "needs_background": "light"
     },
     "output_type": "display_data"
    }
   ],
   "source": [
    "sns.countplot(df['StreamingTV'])\n",
    "plt.title('Distribution of StreamingTV')\n",
    "plt.xlabel('StreamingTV')\n",
    "plt.ylabel('Number of customers')\n",
    "plt.show()"
   ]
  },
  {
   "cell_type": "code",
   "execution_count": 64,
   "id": "dc2691f4",
   "metadata": {},
   "outputs": [
    {
     "data": {
      "image/png": "[encoded data removed]",
      "text/plain": [
       "<Figure size 432x288 with 1 Axes>"
      ]
     },
     "metadata": {
      "needs_background": "light"
     },
     "output_type": "display_data"
    }
   ],
   "source": [
    "sns.countplot(df['StreamingMovies'])\n",
    "plt.title('Distribution of StreamingMovies')\n",
    "plt.xlabel('StreamingMovies')\n",
    "plt.ylabel('Number of customers')\n",
    "plt.show()"
   ]
  },
  {
   "cell_type": "code",
   "execution_count": 65,
   "id": "0f9c106d",
   "metadata": {},
   "outputs": [
    {
     "data": {
      "image/png": "[encoded data removed]",
      "text/plain": [
       "<Figure size 432x288 with 1 Axes>"
      ]
     },
     "metadata": {
      "needs_background": "light"
     },
     "output_type": "display_data"
    }
   ],
   "source": [
    "sns.countplot(df['tenure'])\n",
    "plt.title('Distribution of tenure')\n",
    "plt.xlabel('tenure')\n",
    "plt.ylabel('Number of customers')\n",
    "plt.show()"
   ]
  },
  {
   "cell_type": "code",
   "execution_count": 120,
   "id": "84f0ad2a",
   "metadata": {},
   "outputs": [
    {
     "data": {
      "text/plain": [
       "<AxesSubplot:xlabel='tenure'>"
      ]
     },
     "execution_count": 120,
     "metadata": {},
     "output_type": "execute_result"
    },
    {
     "data": {
      "image/png": "[encoded data removed]",
      "text/plain": [
       "<Figure size 432x288 with 1 Axes>"
      ]
     },
     "metadata": {
      "needs_background": "light"
     },
     "output_type": "display_data"
    }
   ],
   "source": [
    "sns.boxplot(df['tenure'])"
   ]
  },
  {
   "cell_type": "code",
   "execution_count": 66,
   "id": "93a236cd",
   "metadata": {},
   "outputs": [
    {
     "data": {
      "image/png": "[encoded data removed]",
      "text/plain": [
       "<Figure size 432x288 with 1 Axes>"
      ]
     },
     "metadata": {
      "needs_background": "light"
     },
     "output_type": "display_data"
    }
   ],
   "source": [
    "sns.countplot(df['PhoneService'])\n",
    "plt.title('Distribution of PhoneService')\n",
    "plt.xlabel('PhoneService')\n",
    "plt.ylabel('Number of customers')\n",
    "plt.show()"
   ]
  },
  {
   "cell_type": "code",
   "execution_count": 67,
   "id": "3e466ca1",
   "metadata": {},
   "outputs": [
    {
     "data": {
      "image/png": "[encoded data removed]",
      "text/plain": [
       "<Figure size 432x288 with 1 Axes>"
      ]
     },
     "metadata": {
      "needs_background": "light"
     },
     "output_type": "display_data"
    }
   ],
   "source": [
    "sns.countplot(df['MultipleLines'])\n",
    "plt.title('Distribution of MultipleLines')\n",
    "plt.xlabel('MultipleLines')\n",
    "plt.ylabel('Number of customers')\n",
    "plt.show()"
   ]
  },
  {
   "cell_type": "code",
   "execution_count": 68,
   "id": "a2381893",
   "metadata": {},
   "outputs": [
    {
     "data": {
      "image/png": "[encoded data removed]",
      "text/plain": [
       "<Figure size 432x288 with 1 Axes>"
      ]
     },
     "metadata": {
      "needs_background": "light"
     },
     "output_type": "display_data"
    }
   ],
   "source": [
    "sns.countplot(df['InternetService'])\n",
    "plt.title('Distribution of InternetService')\n",
    "plt.xlabel('InternetService')\n",
    "plt.ylabel('Number of customers')\n",
    "plt.show()"
   ]
  },
  {
   "cell_type": "code",
   "execution_count": 69,
   "id": "5801d559",
   "metadata": {},
   "outputs": [
    {
     "data": {
      "image/png": "[encoded data removed]",
      "text/plain": [
       "<Figure size 432x288 with 1 Axes>"
      ]
     },
     "metadata": {
      "needs_background": "light"
     },
     "output_type": "display_data"
    }
   ],
   "source": [
    "sns.countplot(df['Contract'])\n",
    "plt.title('Distribution of Contract')\n",
    "plt.xlabel('Contract')\n",
    "plt.ylabel('Number of customers')\n",
    "plt.show()"
   ]
  },
  {
   "cell_type": "code",
   "execution_count": 70,
   "id": "8c466ddc",
   "metadata": {},
   "outputs": [
    {
     "data": {
      "image/png": "[encoded data removed]",
      "text/plain": [
       "<Figure size 432x288 with 1 Axes>"
      ]
     },
     "metadata": {
      "needs_background": "light"
     },
     "output_type": "display_data"
    }
   ],
   "source": [
    "sns.countplot(df['PaymentMethod'])\n",
    "plt.title('Distribution of PaymentMethod')\n",
    "plt.xlabel('PaymentMethod')\n",
    "plt.ylabel('Number of customers')\n",
    "plt.show()"
   ]
  },
  {
   "cell_type": "code",
   "execution_count": 71,
   "id": "f2ee752a",
   "metadata": {},
   "outputs": [
    {
     "data": {
      "image/png": "[encoded data removed]",
      "text/plain": [
       "<Figure size 432x288 with 1 Axes>"
      ]
     },
     "metadata": {
      "needs_background": "light"
     },
     "output_type": "display_data"
    }
   ],
   "source": [
    "sns.countplot(df['gender'])\n",
    "plt.title('Distribution of gender')\n",
    "plt.xlabel('gender')\n",
    "plt.ylabel('Number of customers')\n",
    "plt.show()"
   ]
  },
  {
   "cell_type": "code",
   "execution_count": 72,
   "id": "31d812ae",
   "metadata": {},
   "outputs": [
    {
     "data": {
      "image/png": "[encoded data removed]",
      "text/plain": [
       "<Figure size 432x288 with 1 Axes>"
      ]
     },
     "metadata": {
      "needs_background": "light"
     },
     "output_type": "display_data"
    }
   ],
   "source": [
    "sns.countplot(df['SeniorCitizen'])\n",
    "plt.title('Distribution of SeniorCitizen')\n",
    "plt.xlabel('SeniorCitizen')\n",
    "plt.ylabel('Number of customers')\n",
    "plt.show()"
   ]
  },
  {
   "cell_type": "code",
   "execution_count": 73,
   "id": "5271072d",
   "metadata": {},
   "outputs": [
    {
     "data": {
      "image/png": "[encoded data removed]",
      "text/plain": [
       "<Figure size 432x288 with 1 Axes>"
      ]
     },
     "metadata": {
      "needs_background": "light"
     },
     "output_type": "display_data"
    }
   ],
   "source": [
    "sns.countplot(df['Partner'])\n",
    "plt.title('Distribution of Partner')\n",
    "plt.xlabel('Partner')\n",
    "plt.ylabel('Number of customers')\n",
    "plt.show()"
   ]
  },
  {
   "cell_type": "code",
   "execution_count": 74,
   "id": "3cf00646",
   "metadata": {},
   "outputs": [
    {
     "data": {
      "image/png": "[encoded data removed]",
      "text/plain": [
       "<Figure size 432x288 with 1 Axes>"
      ]
     },
     "metadata": {
      "needs_background": "light"
     },
     "output_type": "display_data"
    }
   ],
   "source": [
    "sns.countplot(df['Dependents'])\n",
    "plt.title('Distribution of Dependents')\n",
    "plt.xlabel('Dependents')\n",
    "plt.ylabel('Number of customers')\n",
    "plt.show()"
   ]
  },
  {
   "cell_type": "code",
   "execution_count": 75,
   "id": "f6623506",
   "metadata": {},
   "outputs": [
    {
     "data": {
      "image/png": "[encoded data removed]",
      "text/plain": [
       "<Figure size 432x288 with 1 Axes>"
      ]
     },
     "metadata": {
      "needs_background": "light"
     },
     "output_type": "display_data"
    }
   ],
   "source": [
    "sns.countplot(df['OnlineSecurity'])\n",
    "plt.title('Distribution of OnlineSecurity')\n",
    "plt.xlabel('OnlineSecurity')\n",
    "plt.ylabel('Number of customers')\n",
    "plt.show()"
   ]
  },
  {
   "cell_type": "code",
   "execution_count": 76,
   "id": "2589cf7d",
   "metadata": {},
   "outputs": [],
   "source": [
    "#dropping target column and unwanted columns:\n",
    "X = df.drop(columns=['customerID','Churn'])\n",
    "y = df['Churn']"
   ]
  },
  {
   "cell_type": "code",
   "execution_count": 77,
   "id": "7743e376",
   "metadata": {},
   "outputs": [],
   "source": [
    "#Data scaling Z=(X-mean)/std:\n",
    "\n",
    "scaler=StandardScaler()\n",
    "X_scaled=scaler.fit_transform(X)"
   ]
  },
  {
   "cell_type": "code",
   "execution_count": 78,
   "id": "23235fa5",
   "metadata": {},
   "outputs": [
    {
     "data": {
      "text/plain": [
       "19"
      ]
     },
     "execution_count": 78,
     "metadata": {},
     "output_type": "execute_result"
    }
   ],
   "source": [
    "X_scaled.shape[1]"
   ]
  },
  {
   "cell_type": "code",
   "execution_count": 79,
   "id": "7743a95a",
   "metadata": {},
   "outputs": [
    {
     "data": {
      "text/plain": [
       "0    73.46 %\n",
       "1    26.54 %\n",
       "Name: Churn, dtype: object"
      ]
     },
     "execution_count": 79,
     "metadata": {},
     "output_type": "execute_result"
    }
   ],
   "source": [
    "round(y.value_counts(normalize=True) * 100, 2).astype('str') + ' %'"
   ]
  },
  {
   "cell_type": "code",
   "execution_count": 80,
   "id": "58e32227",
   "metadata": {},
   "outputs": [],
   "source": [
    "from imblearn.over_sampling import RandomOverSampler\n",
    "ros = RandomOverSampler(random_state=42)"
   ]
  },
  {
   "cell_type": "code",
   "execution_count": 81,
   "id": "a60cf835",
   "metadata": {},
   "outputs": [
    {
     "data": {
      "text/plain": [
       "RandomOverSampler(random_state=42)"
      ]
     },
     "execution_count": 81,
     "metadata": {},
     "output_type": "execute_result"
    }
   ],
   "source": [
    "ros.fit(X, y)"
   ]
  },
  {
   "cell_type": "code",
   "execution_count": 82,
   "id": "356589e9",
   "metadata": {},
   "outputs": [],
   "source": [
    "RandomOverSampler(random_state=42)\n",
    "X_resampled, y_resampled = ros.fit_resample(X, y)"
   ]
  },
  {
   "cell_type": "code",
   "execution_count": 83,
   "id": "0d437d37",
   "metadata": {},
   "outputs": [
    {
     "data": {
      "text/plain": [
       "0    50.0 %\n",
       "1    50.0 %\n",
       "Name: Churn, dtype: object"
      ]
     },
     "execution_count": 83,
     "metadata": {},
     "output_type": "execute_result"
    }
   ],
   "source": [
    "round(y_resampled.value_counts(normalize=True) * 100, 2).astype('str') + ' %'"
   ]
  },
  {
   "cell_type": "code",
   "execution_count": 84,
   "id": "070741d6",
   "metadata": {},
   "outputs": [
    {
     "name": "stdout",
     "output_type": "stream",
     "text": [
      "At random state0,the training accuracy is:-0.807596734114306\n",
      "At random state0,the testing accuracy is:-0.7963094393186657\n",
      "\n",
      "\n",
      "At random state1,the training accuracy is:-0.8033368832090877\n",
      "At random state1,the testing accuracy is:-0.8069552874378992\n",
      "\n",
      "\n",
      "At random state2,the training accuracy is:-0.80386936457224\n",
      "At random state2,the testing accuracy is:-0.8055358410220014\n",
      "\n",
      "\n",
      "At random state3,the training accuracy is:-0.8028044018459354\n",
      "At random state3,the testing accuracy is:-0.8168914123491838\n",
      "\n",
      "\n",
      "At random state4,the training accuracy is:-0.8095491657791978\n",
      "At random state4,the testing accuracy is:-0.7856635911994322\n",
      "\n",
      "\n",
      "At random state5,the training accuracy is:-0.8070642527511537\n",
      "At random state5,the testing accuracy is:-0.7970191625266146\n",
      "\n",
      "\n",
      "At random state6,the training accuracy is:-0.8058217962371317\n",
      "At random state6,the testing accuracy is:-0.8019872249822569\n",
      "\n",
      "\n",
      "At random state7,the training accuracy is:-0.8031593894213702\n",
      "At random state7,the testing accuracy is:-0.8140525195173882\n",
      "\n",
      "\n",
      "At random state8,the training accuracy is:-0.8106141285055023\n",
      "At random state8,the testing accuracy is:-0.7828246983676366\n",
      "\n",
      "\n",
      "At random state9,the training accuracy is:-0.8058217962371317\n",
      "At random state9,the testing accuracy is:-0.794889992902768\n",
      "\n",
      "\n",
      "At random state10,the training accuracy is:-0.80386936457224\n",
      "At random state10,the testing accuracy is:-0.8069552874378992\n",
      "\n",
      "\n",
      "At random state11,the training accuracy is:-0.8067092651757188\n",
      "At random state11,the testing accuracy is:-0.7998580553584103\n",
      "\n",
      "\n",
      "At random state12,the training accuracy is:-0.806354277600284\n",
      "At random state12,the testing accuracy is:-0.7977288857345636\n",
      "\n",
      "\n",
      "At random state13,the training accuracy is:-0.8044018459353922\n",
      "At random state13,the testing accuracy is:-0.8076650106458482\n",
      "\n",
      "\n",
      "At random state14,the training accuracy is:-0.7974795882144124\n",
      "At random state14,the testing accuracy is:-0.8211497515968772\n",
      "\n",
      "\n",
      "At random state15,the training accuracy is:-0.8061767838125665\n",
      "At random state15,the testing accuracy is:-0.7984386089425124\n",
      "\n",
      "\n",
      "At random state16,the training accuracy is:-0.80386936457224\n",
      "At random state16,the testing accuracy is:-0.8105039034776437\n",
      "\n",
      "\n",
      "At random state17,the training accuracy is:-0.807596734114306\n",
      "At random state17,the testing accuracy is:-0.7977288857345636\n",
      "\n",
      "\n",
      "At random state18,the training accuracy is:-0.7996095136670217\n",
      "At random state18,the testing accuracy is:-0.8225691980127751\n",
      "\n",
      "\n",
      "At random state19,the training accuracy is:-0.805111821086262\n",
      "At random state19,the testing accuracy is:-0.8069552874378992\n",
      "\n",
      "\n",
      "At random state20,the training accuracy is:-0.8004969826056088\n",
      "At random state20,the testing accuracy is:-0.8197303051809794\n",
      "\n",
      "\n",
      "At random state21,the training accuracy is:-0.8072417465388712\n",
      "At random state21,the testing accuracy is:-0.7963094393186657\n",
      "\n",
      "\n",
      "At random state22,the training accuracy is:-0.8120340788072418\n",
      "At random state22,the testing accuracy is:-0.7814052519517388\n",
      "\n",
      "\n",
      "At random state23,the training accuracy is:-0.8036918707845225\n",
      "At random state23,the testing accuracy is:-0.8062455642299503\n",
      "\n",
      "\n",
      "At random state24,the training accuracy is:-0.8010294639687611\n",
      "At random state24,the testing accuracy is:-0.8225691980127751\n",
      "\n",
      "\n",
      "At random state25,the training accuracy is:-0.8040468583599574\n",
      "At random state25,the testing accuracy is:-0.8119233498935415\n",
      "\n",
      "\n",
      "At random state26,the training accuracy is:-0.8052893148739794\n",
      "At random state26,the testing accuracy is:-0.808374733853797\n",
      "\n",
      "\n",
      "At random state27,the training accuracy is:-0.8049343272985445\n",
      "At random state27,the testing accuracy is:-0.8048261178140526\n",
      "\n",
      "\n",
      "At random state28,the training accuracy is:-0.8042243521476748\n",
      "At random state28,the testing accuracy is:-0.8041163946061036\n",
      "\n",
      "\n",
      "At random state29,the training accuracy is:-0.8107916222932198\n",
      "At random state29,the testing accuracy is:-0.7863733144073811\n",
      "\n",
      "\n",
      "At random state30,the training accuracy is:-0.8079517216897408\n",
      "At random state30,the testing accuracy is:-0.794889992902768\n",
      "\n",
      "\n",
      "At random state31,the training accuracy is:-0.8006744763933262\n",
      "At random state31,the testing accuracy is:-0.8112136266855926\n",
      "\n",
      "\n",
      "At random state32,the training accuracy is:-0.8072417465388712\n",
      "At random state32,the testing accuracy is:-0.7920511000709723\n",
      "\n",
      "\n",
      "At random state33,the training accuracy is:-0.8035143769968051\n",
      "At random state33,the testing accuracy is:-0.8005677785663591\n",
      "\n",
      "\n",
      "At random state34,the training accuracy is:-0.8084842030528931\n",
      "At random state34,the testing accuracy is:-0.7821149751596878\n",
      "\n",
      "\n",
      "At random state35,the training accuracy is:-0.8003194888178914\n",
      "At random state35,the testing accuracy is:-0.8197303051809794\n",
      "\n",
      "\n",
      "At random state36,the training accuracy is:-0.807596734114306\n",
      "At random state36,the testing accuracy is:-0.7955997161107168\n",
      "\n",
      "\n",
      "At random state37,the training accuracy is:-0.8061767838125665\n",
      "At random state37,the testing accuracy is:-0.8019872249822569\n",
      "\n",
      "\n",
      "At random state38,the training accuracy is:-0.8052893148739794\n",
      "At random state38,the testing accuracy is:-0.8034066713981547\n",
      "\n",
      "\n",
      "At random state39,the training accuracy is:-0.802626908058218\n",
      "At random state39,the testing accuracy is:-0.8069552874378992\n",
      "\n",
      "\n",
      "At random state40,the training accuracy is:-0.8083067092651757\n",
      "At random state40,the testing accuracy is:-0.7920511000709723\n",
      "\n",
      "\n",
      "At random state41,the training accuracy is:-0.8068867589634363\n",
      "At random state41,the testing accuracy is:-0.7892122072391767\n",
      "\n",
      "\n",
      "At random state42,the training accuracy is:-0.8042243521476748\n",
      "At random state42,the testing accuracy is:-0.8161816891412349\n",
      "\n",
      "\n",
      "At random state43,the training accuracy is:-0.8035143769968051\n",
      "At random state43,the testing accuracy is:-0.8090844570617459\n",
      "\n",
      "\n",
      "At random state44,the training accuracy is:-0.806354277600284\n",
      "At random state44,the testing accuracy is:-0.8034066713981547\n",
      "\n",
      "\n",
      "At random state45,the training accuracy is:-0.802626908058218\n",
      "At random state45,the testing accuracy is:-0.8112136266855926\n",
      "\n",
      "\n",
      "At random state46,the training accuracy is:-0.805111821086262\n",
      "At random state46,the testing accuracy is:-0.8055358410220014\n",
      "\n",
      "\n",
      "At random state47,the training accuracy is:-0.8081292154774583\n",
      "At random state47,the testing accuracy is:-0.794889992902768\n",
      "\n",
      "\n",
      "At random state48,the training accuracy is:-0.8036918707845225\n",
      "At random state48,the testing accuracy is:-0.8034066713981547\n",
      "\n",
      "\n",
      "At random state49,the training accuracy is:-0.8042243521476748\n",
      "At random state49,the testing accuracy is:-0.8097941802696949\n",
      "\n",
      "\n",
      "At random state50,the training accuracy is:-0.80386936457224\n",
      "At random state50,the testing accuracy is:-0.8019872249822569\n",
      "\n",
      "\n",
      "At random state51,the training accuracy is:-0.80386936457224\n",
      "At random state51,the testing accuracy is:-0.8090844570617459\n",
      "\n",
      "\n",
      "At random state52,the training accuracy is:-0.802626908058218\n",
      "At random state52,the testing accuracy is:-0.8133427963094393\n",
      "\n",
      "\n",
      "At random state53,the training accuracy is:-0.8031593894213702\n",
      "At random state53,the testing accuracy is:-0.8090844570617459\n",
      "\n",
      "\n",
      "At random state54,the training accuracy is:-0.8074192403265885\n",
      "At random state54,the testing accuracy is:-0.7970191625266146\n",
      "\n",
      "\n",
      "At random state55,the training accuracy is:-0.8056443024494143\n",
      "At random state55,the testing accuracy is:-0.8005677785663591\n",
      "\n",
      "\n",
      "At random state56,the training accuracy is:-0.802626908058218\n",
      "At random state56,the testing accuracy is:-0.8147622427253371\n",
      "\n",
      "\n",
      "At random state57,the training accuracy is:-0.8029818956336529\n",
      "At random state57,the testing accuracy is:-0.8161816891412349\n",
      "\n",
      "\n",
      "At random state58,the training accuracy is:-0.806354277600284\n",
      "At random state58,the testing accuracy is:-0.8055358410220014\n",
      "\n",
      "\n",
      "At random state59,the training accuracy is:-0.7999645012424565\n",
      "At random state59,the testing accuracy is:-0.8176011355571328\n",
      "\n",
      "\n",
      "At random state60,the training accuracy is:-0.808839190628328\n",
      "At random state60,the testing accuracy is:-0.7906316536550745\n",
      "\n",
      "\n",
      "At random state61,the training accuracy is:-0.8058217962371317\n",
      "At random state61,the testing accuracy is:-0.8041163946061036\n",
      "\n",
      "\n",
      "At random state62,the training accuracy is:-0.802626908058218\n",
      "At random state62,the testing accuracy is:-0.8076650106458482\n",
      "\n",
      "\n",
      "At random state63,the training accuracy is:-0.8074192403265885\n",
      "At random state63,the testing accuracy is:-0.7927608232789212\n",
      "\n",
      "\n",
      "At random state64,the training accuracy is:-0.805111821086262\n",
      "At random state64,the testing accuracy is:-0.8019872249822569\n",
      "\n",
      "\n",
      "At random state65,the training accuracy is:-0.8074192403265885\n",
      "At random state65,the testing accuracy is:-0.7984386089425124\n",
      "\n",
      "\n",
      "At random state66,the training accuracy is:-0.8031593894213702\n",
      "At random state66,the testing accuracy is:-0.8034066713981547\n",
      "\n",
      "\n",
      "At random state67,the training accuracy is:-0.8031593894213702\n",
      "At random state67,the testing accuracy is:-0.815471965933286\n",
      "\n",
      "\n",
      "At random state68,the training accuracy is:-0.8035143769968051\n",
      "At random state68,the testing accuracy is:-0.808374733853797\n",
      "\n",
      "\n",
      "At random state69,the training accuracy is:-0.80386936457224\n",
      "At random state69,the testing accuracy is:-0.8090844570617459\n",
      "\n",
      "\n",
      "At random state70,the training accuracy is:-0.8083067092651757\n",
      "At random state70,the testing accuracy is:-0.794180269694819\n",
      "\n",
      "\n",
      "At random state71,the training accuracy is:-0.8054668086616968\n",
      "At random state71,the testing accuracy is:-0.7991483321504613\n",
      "\n",
      "\n",
      "At random state72,the training accuracy is:-0.8068867589634363\n",
      "At random state72,the testing accuracy is:-0.801277501774308\n",
      "\n",
      "\n",
      "At random state73,the training accuracy is:-0.8012069577564785\n",
      "At random state73,the testing accuracy is:-0.8147622427253371\n",
      "\n",
      "\n",
      "At random state74,the training accuracy is:-0.8084842030528931\n",
      "At random state74,the testing accuracy is:-0.8005677785663591\n",
      "\n",
      "\n",
      "At random state75,the training accuracy is:-0.8059992900248492\n",
      "At random state75,the testing accuracy is:-0.7970191625266146\n",
      "\n",
      "\n",
      "At random state76,the training accuracy is:-0.7992545260915868\n",
      "At random state76,the testing accuracy is:-0.8183108587650816\n",
      "\n",
      "\n",
      "At random state77,the training accuracy is:-0.8049343272985445\n",
      "At random state77,the testing accuracy is:-0.7934705464868701\n",
      "\n",
      "\n",
      "At random state78,the training accuracy is:-0.8065317713880015\n",
      "At random state78,the testing accuracy is:-0.7906316536550745\n",
      "\n",
      "\n",
      "At random state79,the training accuracy is:-0.8086616968406106\n",
      "At random state79,the testing accuracy is:-0.7892122072391767\n",
      "\n",
      "\n",
      "At random state80,the training accuracy is:-0.8033368832090877\n",
      "At random state80,the testing accuracy is:-0.8119233498935415\n",
      "\n",
      "\n",
      "At random state81,the training accuracy is:-0.8120340788072418\n",
      "At random state81,the testing accuracy is:-0.7877927608232789\n",
      "\n",
      "\n",
      "At random state82,the training accuracy is:-0.806354277600284\n",
      "At random state82,the testing accuracy is:-0.8041163946061036\n",
      "\n",
      "\n",
      "At random state83,the training accuracy is:-0.8065317713880015\n",
      "At random state83,the testing accuracy is:-0.7984386089425124\n",
      "\n",
      "\n",
      "At random state84,the training accuracy is:-0.81008164714235\n",
      "At random state84,the testing accuracy is:-0.7863733144073811\n",
      "\n",
      "\n",
      "At random state85,the training accuracy is:-0.807596734114306\n",
      "At random state85,the testing accuracy is:-0.7927608232789212\n",
      "\n",
      "\n",
      "At random state86,the training accuracy is:-0.8070642527511537\n",
      "At random state86,the testing accuracy is:-0.7934705464868701\n",
      "\n",
      "\n",
      "At random state87,the training accuracy is:-0.8116790912318069\n",
      "At random state87,the testing accuracy is:-0.7892122072391767\n",
      "\n",
      "\n",
      "At random state88,the training accuracy is:-0.8067092651757188\n",
      "At random state88,the testing accuracy is:-0.8055358410220014\n",
      "\n",
      "\n",
      "At random state89,the training accuracy is:-0.8010294639687611\n",
      "At random state89,the testing accuracy is:-0.8183108587650816\n",
      "\n",
      "\n",
      "At random state90,the training accuracy is:-0.80386936457224\n",
      "At random state90,the testing accuracy is:-0.8048261178140526\n",
      "\n",
      "\n",
      "At random state91,the training accuracy is:-0.8047568335108272\n",
      "At random state91,the testing accuracy is:-0.8041163946061036\n",
      "\n",
      "\n",
      "At random state92,the training accuracy is:-0.8004969826056088\n",
      "At random state92,the testing accuracy is:-0.8261178140525195\n",
      "\n",
      "\n",
      "At random state93,the training accuracy is:-0.808839190628328\n",
      "At random state93,the testing accuracy is:-0.7814052519517388\n",
      "\n",
      "\n",
      "At random state94,the training accuracy is:-0.8059992900248492\n",
      "At random state94,the testing accuracy is:-0.7991483321504613\n",
      "\n",
      "\n",
      "At random state95,the training accuracy is:-0.8093716719914803\n",
      "At random state95,the testing accuracy is:-0.7828246983676366\n",
      "\n",
      "\n",
      "At random state96,the training accuracy is:-0.807596734114306\n",
      "At random state96,the testing accuracy is:-0.7927608232789212\n",
      "\n",
      "\n",
      "At random state97,the training accuracy is:-0.8047568335108272\n",
      "At random state97,the testing accuracy is:-0.7984386089425124\n",
      "\n",
      "\n",
      "At random state98,the training accuracy is:-0.8042243521476748\n",
      "At random state98,the testing accuracy is:-0.8090844570617459\n",
      "\n",
      "\n",
      "At random state99,the training accuracy is:-0.8061767838125665\n",
      "At random state99,the testing accuracy is:-0.8041163946061036\n",
      "\n",
      "\n"
     ]
    }
   ],
   "source": [
    "#now train and test split  and training and fitting test model at random state 0 so that we can find best random state:\n",
    "for i in range(0,100):\n",
    "    X_train,X_test,y_train,y_test =train_test_split(X_scaled,y,test_size=0.2,random_state=i)\n",
    "    reg=LogisticRegression()\n",
    "    reg.fit(X_train,y_train)\n",
    "    pred_train = reg.predict(X_train)\n",
    "    y_pred= reg.predict(X_test)\n",
    "    print(f\"At random state{i},the training accuracy is:-{accuracy_score(y_train,pred_train)}\")\n",
    "    print(f\"At random state{i},the testing accuracy is:-{accuracy_score(y_test,y_pred)}\")\n",
    "    print(\"\\n\")"
   ]
  },
  {
   "cell_type": "code",
   "execution_count": 85,
   "id": "5405a226",
   "metadata": {},
   "outputs": [],
   "source": [
    "#so as we can interpret random state 8 is giving best train and test accuracy,so we train our model at random state 8:\n",
    "\n",
    "X_train,X_test,y_train,y_test = train_test_split(X,y,test_size=0.2,random_state=45)"
   ]
  },
  {
   "cell_type": "code",
   "execution_count": 86,
   "id": "cad4c342",
   "metadata": {},
   "outputs": [
    {
     "data": {
      "text/plain": [
       "(5634, 19)"
      ]
     },
     "execution_count": 86,
     "metadata": {},
     "output_type": "execute_result"
    }
   ],
   "source": [
    "X_train.shape"
   ]
  },
  {
   "cell_type": "code",
   "execution_count": 87,
   "id": "afdbf8c5",
   "metadata": {},
   "outputs": [
    {
     "data": {
      "text/plain": [
       "(5634,)"
      ]
     },
     "execution_count": 87,
     "metadata": {},
     "output_type": "execute_result"
    }
   ],
   "source": [
    "y_train.shape"
   ]
  },
  {
   "cell_type": "code",
   "execution_count": 88,
   "id": "35f755e8",
   "metadata": {},
   "outputs": [
    {
     "data": {
      "text/plain": [
       "(1409, 19)"
      ]
     },
     "execution_count": 88,
     "metadata": {},
     "output_type": "execute_result"
    }
   ],
   "source": [
    "X_test.shape"
   ]
  },
  {
   "cell_type": "code",
   "execution_count": 89,
   "id": "e3099ce6",
   "metadata": {},
   "outputs": [
    {
     "data": {
      "text/plain": [
       "(1409,)"
      ]
     },
     "execution_count": 89,
     "metadata": {},
     "output_type": "execute_result"
    }
   ],
   "source": [
    "y_test.shape"
   ]
  },
  {
   "cell_type": "code",
   "execution_count": 91,
   "id": "023a838e",
   "metadata": {},
   "outputs": [
    {
     "name": "stdout",
     "output_type": "stream",
     "text": [
      "accuracy score: 81.90205819730305\n",
      "cross val score: 79.95184165107425\n",
      "              precision    recall  f1-score   support\n",
      "\n",
      "           0       0.86      0.90      0.88      1056\n",
      "           1       0.66      0.57      0.61       353\n",
      "\n",
      "    accuracy                           0.82      1409\n",
      "   macro avg       0.76      0.74      0.75      1409\n",
      "weighted avg       0.81      0.82      0.81      1409\n",
      "\n"
     ]
    }
   ],
   "source": [
    "#now fitting our data to Machine learning models :\n",
    "\n",
    "reg=LogisticRegression()\n",
    "reg.fit(X_train,y_train)\n",
    "y_pred= reg.predict(X_test)   \n",
    "reg.score(X_train,y_train)\n",
    "reg_score=accuracy_score(y_test,y_pred)\n",
    "print('accuracy score:',reg_score*100)\n",
    "\n",
    "regscore=cross_val_score(reg,X,y,cv=5)\n",
    "lr=regscore.mean()\n",
    "print('cross val score:',lr*100)\n",
    "print(classification_report(y_test,y_pred))"
   ]
  },
  {
   "cell_type": "code",
   "execution_count": 93,
   "id": "cedf4649",
   "metadata": {},
   "outputs": [
    {
     "name": "stdout",
     "output_type": "stream",
     "text": [
      "accuracy score: 74.94677075940383\n",
      "cross val score: 73.46301575908123\n",
      "              precision    recall  f1-score   support\n",
      "\n",
      "           0       0.75      1.00      0.86      1056\n",
      "           1       0.00      0.00      0.00       353\n",
      "\n",
      "    accuracy                           0.75      1409\n",
      "   macro avg       0.37      0.50      0.43      1409\n",
      "weighted avg       0.56      0.75      0.64      1409\n",
      "\n"
     ]
    }
   ],
   "source": [
    "svm= SVC()  \n",
    "svm.fit(X_train, y_train)  \n",
    "svm.score(X_train,y_train)\n",
    "y_pred=svm.predict(X_test)\n",
    "svm_score=accuracy_score(y_test,y_pred)\n",
    "print('accuracy score:',svm_score*100)\n",
    "\n",
    "svmscore=cross_val_score(svm,X,y,cv=5)\n",
    "sv=svmscore.mean()\n",
    "print('cross val score:',sv*100)\n",
    "print(classification_report(y_test,y_pred))"
   ]
  },
  {
   "cell_type": "code",
   "execution_count": 95,
   "id": "2390ccad",
   "metadata": {},
   "outputs": [
    {
     "name": "stdout",
     "output_type": "stream",
     "text": [
      "accuracy score: 75.72746628814762\n",
      "cross val score: 74.72663558939287\n",
      "              precision    recall  f1-score   support\n",
      "\n",
      "           0       0.81      0.88      0.84      1056\n",
      "           1       0.52      0.40      0.45       353\n",
      "\n",
      "    accuracy                           0.76      1409\n",
      "   macro avg       0.67      0.64      0.65      1409\n",
      "weighted avg       0.74      0.76      0.75      1409\n",
      "\n"
     ]
    }
   ],
   "source": [
    "knc= KNeighborsClassifier()  \n",
    "knc.fit(X_train, y_train)  \n",
    "knc.score(X_train,y_train)\n",
    "y_pred=knc.predict(X_test)\n",
    "knc_score=accuracy_score(y_test,y_pred)\n",
    "print('accuracy score:',knc_score*100)\n",
    "\n",
    "kncscore=cross_val_score(knc,X,y,cv=5)\n",
    "kn=kncscore.mean()\n",
    "print('cross val score:',kn*100)\n",
    "print(classification_report(y_test,y_pred))"
   ]
  },
  {
   "cell_type": "code",
   "execution_count": 96,
   "id": "e0647794",
   "metadata": {},
   "outputs": [
    {
     "name": "stdout",
     "output_type": "stream",
     "text": [
      "accuracy score: 74.23704755145494\n",
      "cross val score: 72.44063125040326\n",
      "              precision    recall  f1-score   support\n",
      "\n",
      "           0       0.84      0.81      0.82      1056\n",
      "           1       0.49      0.54      0.51       353\n",
      "\n",
      "    accuracy                           0.74      1409\n",
      "   macro avg       0.66      0.68      0.67      1409\n",
      "weighted avg       0.75      0.74      0.75      1409\n",
      "\n"
     ]
    }
   ],
   "source": [
    "dt= DecisionTreeClassifier()\n",
    "dt.fit(X_train,y_train)\n",
    "dt.score(X_train,y_train)\n",
    "y_pred=dt.predict(X_test)\n",
    "dts=accuracy_score(y_test,y_pred)\n",
    "print('accuracy score:',dts*100)\n",
    "\n",
    "dtscore=cross_val_score(dt,X,y,cv=5)\n",
    "dtc=dtscore.mean()\n",
    "print('cross val score:',dtc*100)\n",
    "print(classification_report(y_test,y_pred))"
   ]
  },
  {
   "cell_type": "code",
   "execution_count": 97,
   "id": "6e09e7af",
   "metadata": {},
   "outputs": [
    {
     "name": "stdout",
     "output_type": "stream",
     "text": [
      "accuracy score: 80.19872249822569\n",
      "cross val score: 78.90113878314729\n",
      "              precision    recall  f1-score   support\n",
      "\n",
      "           0       0.85      0.90      0.87      1056\n",
      "           1       0.63      0.52      0.57       353\n",
      "\n",
      "    accuracy                           0.80      1409\n",
      "   macro avg       0.74      0.71      0.72      1409\n",
      "weighted avg       0.79      0.80      0.80      1409\n",
      "\n"
     ]
    }
   ],
   "source": [
    "rf = RandomForestClassifier()\n",
    "rf.fit(X_train, y_train)\n",
    "rf.score(X_train,y_train)\n",
    "y_pred=rf.predict(X_test)\n",
    "rfs=accuracy_score(y_test,y_pred)\n",
    "print('accuracy score:',rfs*100)\n",
    "\n",
    "rfscore=cross_val_score(rf,X,y,cv=5)\n",
    "rfc=rfscore.mean()\n",
    "print('cross val score:',rfc*100)\n",
    "print(classification_report(y_test,y_pred))"
   ]
  },
  {
   "cell_type": "code",
   "execution_count": 107,
   "id": "13564bc5",
   "metadata": {},
   "outputs": [
    {
     "name": "stdout",
     "output_type": "stream",
     "text": [
      "{'C': 1.0, 'dual': False, 'fit_intercept': True, 'intercept_scaling': 1, 'max_iter': 100, 'tol': 0.0001, 'verbose': 0, 'warm_start': False}\n"
     ]
    }
   ],
   "source": [
    "#so according to dataset  LogisticRegression and Randomforestclassifier is getting best accuracy of 88%\n",
    "#we will go ahead with RandomForestClassifier\n",
    "#now we do gridsearcv hyperparametertuning on this algorithm\n",
    "\n",
    "grid_parameters ={ 'dual':[False], 'tol':[0.0001], 'C':[1.0], 'fit_intercept':[True],\n",
    "                  'intercept_scaling':[1], \n",
    "                  'max_iter':[100], 'verbose':[0], 'warm_start':[False]}\n",
    "clf=GridSearchCV(reg,grid_parameters)\n",
    "clf.fit(X_train,y_train)\n",
    "print(clf.best_params_)"
   ]
  },
  {
   "cell_type": "code",
   "execution_count": 110,
   "id": "fb5a8847",
   "metadata": {},
   "outputs": [
    {
     "name": "stdout",
     "output_type": "stream",
     "text": [
      "accuracy score: 81.90205819730305\n",
      "cross val score: 79.95184165107425\n"
     ]
    }
   ],
   "source": [
    "reg=LogisticRegression(C=1.0,dual=False,fit_intercept= True, intercept_scaling=1, max_iter=100, tol= 0.0001, verbose= 0, warm_start= False)\n",
    "reg.fit(X_train,y_train)\n",
    "reg.score(X_train,y_train)\n",
    "y_pred=reg.predict(X_test)\n",
    "regs=accuracy_score(y_test,y_pred)\n",
    "print('accuracy score:',regs*100)\n",
    "\n",
    "regscore=cross_val_score(reg,X,y,cv=5)\n",
    "regc=regscore.mean()\n",
    "print('cross val score:',regc*100)"
   ]
  },
  {
   "cell_type": "code",
   "execution_count": 111,
   "id": "5b4bee6b",
   "metadata": {},
   "outputs": [
    {
     "data": {
      "text/plain": [
       "0.8190205819730305"
      ]
     },
     "execution_count": 111,
     "metadata": {},
     "output_type": "execute_result"
    }
   ],
   "source": [
    "#model accuracy\n",
    "accuracy=accuracy_score(y_pred,y_test)\n",
    "accuracy"
   ]
  },
  {
   "cell_type": "code",
   "execution_count": 112,
   "id": "14d8e98c",
   "metadata": {},
   "outputs": [
    {
     "data": {
      "text/plain": [
       "array([[953, 103],\n",
       "       [152, 201]], dtype=int64)"
      ]
     },
     "execution_count": 112,
     "metadata": {},
     "output_type": "execute_result"
    }
   ],
   "source": [
    "#confusion matrix\n",
    "conf_mat=confusion_matrix(y_test,y_pred)\n",
    "conf_mat"
   ]
  },
  {
   "cell_type": "code",
   "execution_count": 113,
   "id": "a0126476",
   "metadata": {},
   "outputs": [
    {
     "name": "stdout",
     "output_type": "stream",
     "text": [
      "              precision    recall  f1-score   support\n",
      "\n",
      "           0       0.86      0.90      0.88      1056\n",
      "           1       0.66      0.57      0.61       353\n",
      "\n",
      "    accuracy                           0.82      1409\n",
      "   macro avg       0.76      0.74      0.75      1409\n",
      "weighted avg       0.81      0.82      0.81      1409\n",
      "\n"
     ]
    }
   ],
   "source": [
    "print(classification_report(y_test,y_pred))"
   ]
  },
  {
   "cell_type": "code",
   "execution_count": 114,
   "id": "a9f46ae2",
   "metadata": {},
   "outputs": [
    {
     "data": {
      "image/png": "[encoded data removed]",
      "text/plain": [
       "<Figure size 432x288 with 1 Axes>"
      ]
     },
     "metadata": {
      "needs_background": "light"
     },
     "output_type": "display_data"
    }
   ],
   "source": [
    "plt.scatter(y_test,y_pred)\n",
    "plt.title(\"Prediction Using logistic regression\")\n",
    "plt.xlabel(\"Real Quality\")\n",
    "plt.ylabel(\"Predicted\")\n",
    "plt.show()"
   ]
  },
  {
   "cell_type": "code",
   "execution_count": 115,
   "id": "1a8f8e5e",
   "metadata": {},
   "outputs": [
    {
     "data": {
      "text/plain": [
       "sklearn.model_selection._search.GridSearchCV"
      ]
     },
     "execution_count": 115,
     "metadata": {},
     "output_type": "execute_result"
    }
   ],
   "source": [
    "type(clf)"
   ]
  },
  {
   "cell_type": "code",
   "execution_count": 116,
   "id": "d5fd4552",
   "metadata": {},
   "outputs": [
    {
     "data": {
      "text/plain": [
       "LogisticRegression()"
      ]
     },
     "execution_count": 116,
     "metadata": {},
     "output_type": "execute_result"
    }
   ],
   "source": [
    "clf.best_estimator_"
   ]
  },
  {
   "cell_type": "code",
   "execution_count": 117,
   "id": "1164c76b",
   "metadata": {},
   "outputs": [
    {
     "data": {
      "image/png": "[encoded data removed]",
      "text/plain": [
       "<Figure size 432x288 with 1 Axes>"
      ]
     },
     "metadata": {
      "needs_background": "light"
     },
     "output_type": "display_data"
    }
   ],
   "source": [
    "from sklearn.metrics import plot_roc_curve\n",
    "plot_roc_curve(clf.best_estimator_,X_test,y_test)\n",
    "plt.title(\"ROC_AUC PLOT\")\n",
    "plt.show()   "
   ]
  },
  {
   "cell_type": "code",
   "execution_count": 124,
   "id": "12b40988",
   "metadata": {},
   "outputs": [],
   "source": [
    "#CONCLUSION\n",
    "#In this project, we build various models like logistic regression, knn classifier, support vector classifier, decision tree classifier, random forest classifier.\n",
    "\n",
    "#A hyperparameter tuned Random Forest classifier gives the highest accuracy score of 86% and cross val score of 86%.and f1 score of 91%\n",
    "#and auc value is 84%\n",
    "#saving the model to local file system"
   ]
  },
  {
   "cell_type": "code",
   "execution_count": 125,
   "id": "edf480ac",
   "metadata": {},
   "outputs": [],
   "source": [
    "filename='churn analysis_model.pickle'\n",
    "pickle.dump(reg,open(filename,'wb'))"
   ]
  },
  {
   "cell_type": "code",
   "execution_count": null,
   "id": "2e9ace1a",
   "metadata": {},
   "outputs": [],
   "source": []
  }
 ],
 "metadata": {
  "kernelspec": {
   "display_name": "Python 3 (ipykernel)",
   "language": "python",
   "name": "python3"
  },
  "language_info": {
   "codemirror_mode": {
    "name": "ipython",
    "version": 3
   },
   "file_extension": ".py",
   "mimetype": "text/x-python",
   "name": "python",
   "nbconvert_exporter": "python",
   "pygments_lexer": "ipython3",
   "version": "3.9.7"
  }
 },
 "nbformat": 4,
 "nbformat_minor": 5
}
